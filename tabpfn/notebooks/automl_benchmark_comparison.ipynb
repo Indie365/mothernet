{
 "cells": [
  {
   "cell_type": "code",
   "execution_count": 1,
   "id": "3f8fe895-c50a-4995-a367-b8062167ebe8",
   "metadata": {},
   "outputs": [],
   "source": [
    "import pmlb"
   ]
  },
  {
   "cell_type": "code",
   "execution_count": 2,
   "id": "4bc16ec6-0e2a-4a16-869d-49c0d1269303",
   "metadata": {},
   "outputs": [],
   "source": [
    "df_summary = pmlb.dataset_lists.df_summary\n"
   ]
  },
  {
   "cell_type": "code",
   "execution_count": 3,
   "id": "3d4cf6db-be8e-45e1-9449-d8ce61a6239c",
   "metadata": {},
   "outputs": [],
   "source": [
    "datasets = [\"satimage\", \"waveform_40\", \"mfeat_fourier\", \"yeast\", \"german\", \"horse_colic\", \"cleve\", \"prnn_synth\"]"
   ]
  },
  {
   "cell_type": "code",
   "execution_count": 5,
   "id": "8d9b6b9f-f2fb-4daf-870e-c57e9a05218a",
   "metadata": {},
   "outputs": [
    {
     "name": "stdout",
     "output_type": "stream",
     "text": [
      "satimage\n",
      "9.522706747055054 0.8321939092604101\n",
      "waveform_40\n",
      "5.707837104797363 0.856\n",
      "mfeat_fourier\n",
      "2.6449332237243652 0.586\n",
      "yeast\n",
      "2.2343761920928955 0.4945945945945946\n",
      "german\n",
      "Using a Transformer with 29.21 M parameters\n",
      "Using cpu device\n",
      "0.9185810089111328 0.736\n",
      "horse_colic\n",
      "0.15068721771240234 0.7608695652173914\n",
      "cleve\n",
      "0.18027186393737793 0.8289473684210527\n",
      "prnn_synth\n",
      "0.12409162521362305 0.8095238095238095\n"
     ]
    }
   ],
   "source": [
    "from time import time\n",
    "import torch\n",
    "\n",
    "torch.set_num_threads(2)\n",
    "\n",
    "from sklearn.model_selection import train_test_split\n",
    "\n",
    "from tabpfn.transformer_make_model import ShiftClassifier, EnsembleMeta, ForwardMLPModel\n",
    "device = \"cpu\"\n",
    "#mothernet_21_46_25_e3140_ensemble3 = EnsembleMeta(ForwardMLPModel(path=\"models_diff/mn_d2048_H4096_L2_W32_P512_1_gpu_warm_08_25_2023_21_46_25_epoch_3140.cpkt\", device=device), n_estimators=3, n_jobs=-1)\n",
    "mothernet_00_57_17_e660_ensemble3 = EnsembleMeta(ForwardMLPModel(path=\"models_diff/mn_e256_L2_W32_tTrue_1_gpu_10_06_2023_00_57_17_epoch_660.cpkt\", device=device), n_estimators=3)\n",
    "\n",
    "results = {}\n",
    "for dataset in datasets:\n",
    "    print(dataset)\n",
    "    X, y = pmlb.fetch_data(dataset, return_X_y=True)\n",
    "    \n",
    "    X_train, X_test, y_train, y_test = train_test_split(X, y, test_size=0.25, random_state=7654321)\n",
    "    tick = time()\n",
    "    score = mothernet_00_57_17_e660_ensemble3.fit(X_train, y_train).score(X_test, y_test)\n",
    "    tock = time() - tick\n",
    "    print(tock, score)\n",
    "    tick = time()\n",
    "    # score32 = mothernet_21_46_25_e3140_ensemble32.fit(X_train, y_train).score(X_test, y_test)\n",
    "    # tock32 = time() - tick\n",
    "    # print(tock32, score32)\n",
    "    results[dataset] = {'score': score, 'time(s)': tock}\n",
    "        "
   ]
  },
  {
   "cell_type": "code",
   "execution_count": 6,
   "id": "d9dbe5fb-a338-489f-a39d-8f2a205f13fc",
   "metadata": {},
   "outputs": [
    {
     "data": {
      "text/html": [
       "<div>\n",
       "<style scoped>\n",
       "    .dataframe tbody tr th:only-of-type {\n",
       "        vertical-align: middle;\n",
       "    }\n",
       "\n",
       "    .dataframe tbody tr th {\n",
       "        vertical-align: top;\n",
       "    }\n",
       "\n",
       "    .dataframe thead th {\n",
       "        text-align: right;\n",
       "    }\n",
       "</style>\n",
       "<table border=\"1\" class=\"dataframe\">\n",
       "  <thead>\n",
       "    <tr style=\"text-align: right;\">\n",
       "      <th></th>\n",
       "      <th>satimage</th>\n",
       "      <th>waveform_40</th>\n",
       "      <th>mfeat_fourier</th>\n",
       "      <th>yeast</th>\n",
       "      <th>german</th>\n",
       "      <th>horse_colic</th>\n",
       "      <th>cleve</th>\n",
       "      <th>prnn_synth</th>\n",
       "    </tr>\n",
       "  </thead>\n",
       "  <tbody>\n",
       "    <tr>\n",
       "      <th>score</th>\n",
       "      <td>0.83</td>\n",
       "      <td>0.86</td>\n",
       "      <td>0.59</td>\n",
       "      <td>0.49</td>\n",
       "      <td>0.74</td>\n",
       "      <td>0.76</td>\n",
       "      <td>0.83</td>\n",
       "      <td>0.81</td>\n",
       "    </tr>\n",
       "    <tr>\n",
       "      <th>time(s)</th>\n",
       "      <td>9.52</td>\n",
       "      <td>5.71</td>\n",
       "      <td>2.64</td>\n",
       "      <td>2.23</td>\n",
       "      <td>0.92</td>\n",
       "      <td>0.15</td>\n",
       "      <td>0.18</td>\n",
       "      <td>0.12</td>\n",
       "    </tr>\n",
       "  </tbody>\n",
       "</table>\n",
       "</div>"
      ],
      "text/plain": [
       "         satimage  waveform_40  mfeat_fourier  yeast  german  horse_colic  \\\n",
       "score        0.83         0.86           0.59   0.49    0.74         0.76   \n",
       "time(s)      9.52         5.71           2.64   2.23    0.92         0.15   \n",
       "\n",
       "         cleve  prnn_synth  \n",
       "score     0.83        0.81  \n",
       "time(s)   0.18        0.12  "
      ]
     },
     "metadata": {},
     "output_type": "display_data"
    },
    {
     "name": "stdout",
     "output_type": "stream",
     "text": [
      "Using a Transformer with 29.21 M parameters\n",
      "Using cpu device\n",
      "Using a Transformer with 29.21 M parameters\n",
      "Using cpu device\n",
      "Using a Transformer with 29.21 M parameters\n",
      "Using cpu device\n",
      "Using a Transformer with 29.21 M parameters\n",
      "Using cpu device\n",
      "Using a Transformer with 29.21 M parameters\n",
      "Using cpu device\n",
      "Using a Transformer with 29.21 M parameters\n",
      "Using cpu device\n",
      "Using a Transformer with 29.21 M parameters\n",
      "Using cpu device\n",
      "Using a Transformer with 29.21 M parameters\n",
      "Using cpu device\n",
      "Using a Transformer with 29.21 M parameters\n",
      "Using cpu device\n",
      "Using a Transformer with 29.21 M parameters\n",
      "Using cpu device\n",
      "Using a Transformer with 29.21 M parameters\n",
      "Using cpu device\n",
      "Using a Transformer with 29.21 M parameters\n",
      "Using cpu device\n"
     ]
    },
    {
     "name": "stderr",
     "output_type": "stream",
     "text": [
      "Bad pipe message: %s [b'\\xc0\\xfe\\xd11\\x04\\x854\\xe8\\xd9\\x06c/\\x1f\\xe6)i\\x98\\x18 ;\\x7f\\xc3\\xfeKs\\xa1\\x87ld\\rD\\xc8S\\xf1\\xe6\\x0c\\x92j[\\xc2\\n2\\xc1']\n",
      "Bad pipe message: %s [b'?\\xc3\\xa5\\xb4\\xe0\\xca\\x00\\x08\\x13\\x02\\x13\\x03\\x13\\x01\\x00\\xff\\x01\\x00\\x00\\x8f\\x00\\x00\\x00\\x0e\\x00\\x0c\\x00\\x00\\t127.0.0.1\\x00\\x0b\\x00\\x04\\x03\\x00\\x01\\x02\\x00\\n\\x00\\x0c\\x00\\n\\x00\\x1d\\x00\\x17\\x00\\x1e\\x00\\x19\\x00\\x18\\x00#\\x00\\x00\\x00\\x16\\x00\\x00\\x00\\x17\\x00\\x00\\x00\\r\\x00\\x1e\\x00\\x1c\\x04\\x03\\x05\\x03\\x06\\x03\\x08\\x07\\x08\\x08\\x08\\t\\x08\\n\\x08\\x0b\\x08\\x04\\x08\\x05\\x08\\x06\\x04\\x01\\x05\\x01\\x06\\x01\\x00+\\x00\\x03\\x02\\x03\\x04\\x00']\n",
      "Bad pipe message: %s [b']b\\xbf\\x10\\xd0\\xbb\\xaa\\xe8865\\x81=\\xb5\\xee~\\xb4\\xc0 \\x85\\x7fa\\x923\\xce\\x92\\x7f\\x904\\x88\\xcfG\\xa9\\xb6\\xb9F-\\xc2\\x99\\x8c\\xea\\x0eFW\\xa3V5\\x0b<5\\xa5\\x00\\x08\\x13\\x02\\x13\\x03\\x13\\x01\\x00\\xff\\x01\\x00\\x00\\x8f\\x00\\x00\\x00\\x0e\\x00\\x0c\\x00\\x00\\t127.0.0.1\\x00\\x0b\\x00\\x04\\x03\\x00\\x01\\x02\\x00\\n\\x00\\x0c\\x00\\n\\x00\\x1d\\x00\\x17\\x00\\x1e\\x00\\x19\\x00\\x18\\x00#\\x00\\x00\\x00\\x16\\x00\\x00\\x00\\x17\\x00\\x00\\x00\\r\\x00\\x1e\\x00\\x1c\\x04\\x03\\x05\\x03\\x06\\x03\\x08\\x07\\x08\\x08\\x08\\t\\x08\\n\\x08\\x0b\\x08\\x04\\x08\\x05\\x08\\x06\\x04\\x01\\x05\\x01\\x06\\x01\\x00+\\x00']\n",
      "Bad pipe message: %s [b'\\x02\\x01\\x01\\x003\\x00&\\x00$\\x00\\x1d\\x00 ]\\x03F7\\x81\\xf6l\\x1aQ\\xf4\\x0eX\\xf1\\x19\\xaa}@\\xe3jB\\xfbfI\\x92g\\x85\\x8cv\\xc2V\\xcd']\n",
      "Bad pipe message: %s [b'\\x03\\x04']\n",
      "Bad pipe message: %s [b'\\xf0.\\xe1\\xcc\\xedh\\x16\\xbaWk\\x8c$\\xc8\\x94\\xaf\\xa3\\x81\\xe7\\x00\\x00|\\xc0,\\xc00\\x00\\xa3\\x00\\x9f\\xcc\\xa9\\xcc\\xa8\\xcc\\xaa\\xc0\\xaf\\xc0\\xad\\xc0\\xa3\\xc0\\x9f\\xc0]\\xc0a\\xc0W\\xc0S\\xc0+\\xc0/\\x00\\xa2\\x00\\x9e\\xc0\\xae\\xc0\\xac\\xc0\\xa2\\xc0']\n",
      "Bad pipe message: %s [b\"\\\\\\xc0`\\xc0V\\xc0R\\xc0$\\xc0(\\x00k\\x00j\\xc0#\\xc0'\\x00g\\x00@\\xc0\\n\\xc0\\x14\\x009\\x008\\xc0\\t\\xc0\\x13\\x003\\x002\\x00\\x9d\\xc0\\xa1\\xc0\\x9d\\xc0Q\\x00\\x9c\\xc0\\xa0\\xc0\\x9c\\xc0P\\x00=\\x00<\\x005\\x00/\\x00\\x9a\\x00\\x99\\xc0\\x07\\xc0\\x11\\x00\\x96\\x00\\x05\\x00\\xff\\x01\\x00\\x00j\\x00\\x00\\x00\\x0e\\x00\\x0c\\x00\\x00\\t127.0.0.1\\x00\\x0b\\x00\\x04\\x03\\x00\\x01\\x02\\x00\\n\\x00\\x0c\\x00\\n\\x00\\x1d\\x00\\x17\\x00\\x1e\\x00\\x19\\x00\\x18\\x00#\\x00\\x00\\x00\\x16\\x00\\x00\\x00\\x17\\x00\\x00\\x00\\r\\x000\\x00.\\x04\\x03\\x05\\x03\\x06\\x03\\x08\\x07\\x08\\x08\\x08\\t\\x08\\n\\x08\\x0b\"]\n",
      "Bad pipe message: %s [b'\\x08\\x05\\x08\\x06\\x04\\x01\\x05']\n",
      "Bad pipe message: %s [b'']\n",
      "Bad pipe message: %s [b\"G\\x87\\x12\\xe6d\\xd2\\x01\\xf3x\\xa3'PCXq\\xe2\\xa2t\\x00\\x00\\xa6\\xc0,\\xc00\\x00\\xa3\\x00\\x9f\\xcc\\xa9\\xcc\\xa8\\xcc\\xaa\\xc0\\xaf\\xc0\\xad\\xc0\\xa3\\xc0\\x9f\\xc0]\\xc0a\\xc0W\\xc0S\\xc0+\\xc0/\\x00\\xa2\\x00\\x9e\\xc0\\xae\\xc0\\xac\\xc0\\xa2\\xc0\\x9e\\xc0\\\\\\xc0`\\xc0V\\xc0R\\xc0$\\xc0(\\x00k\\x00j\\xc0s\\xc0w\\x00\\xc4\\x00\\xc3\\xc0#\\xc0'\\x00g\\x00@\\xc0r\\xc0v\\x00\\xbe\\x00\\xbd\\xc0\\n\\xc0\\x14\\x009\\x008\\x00\\x88\\x00\\x87\\xc0\\t\\xc0\\x13\\x003\\x002\\x00\\x9a\\x00\\x99\\x00E\\x00D\\xc0\\x07\\xc0\\x11\\xc0\\x08\\xc0\\x12\\x00\\x16\\x00\\x13\\x00\\x9d\\xc0\\xa1\\xc0\\x9d\\xc0Q\\x00\\x9c\\xc0\\xa0\\xc0\\x9c\\xc0P\\x00=\\x00\\xc0\\x00<\\x00\\xba\\x005\\x00\\x84\\x00/\\x00\\x96\\x00A\\x00\\x05\\x00\\n\\x00\\xff\\x01\\x00\\x00j\"]\n",
      "Bad pipe message: %s [b'', b'\\x03\\x03']\n",
      "Bad pipe message: %s [b'']\n",
      "Bad pipe message: %s [b'', b'\\x02']\n",
      "Bad pipe message: %s [b'\\x05\\x02\\x06']\n",
      "Bad pipe message: %s [b'\\xb1\\xc8\\xc6\\x06}\\xf8#\\x93Q#K\\xf07\\xf1%\\x1bb\\xaa\\x00\\x00>\\xc0\\x14\\xc0\\n\\x009\\x008\\x007\\x006\\xc0\\x0f\\xc0\\x05\\x005\\xc0\\x13\\xc0\\t\\x003\\x002\\x001\\x000\\xc0\\x0e\\xc0\\x04\\x00/\\x00\\x9a\\x00\\x99\\x00\\x98\\x00\\x97\\x00\\x96\\x00\\x07\\xc0', b'\\x07\\xc0\\x0c\\xc0\\x02\\x00\\x05\\x00\\x04\\x00\\xff\\x02\\x01\\x00\\x00C']\n",
      "Bad pipe message: %s [b'']\n",
      "Bad pipe message: %s [b'4y$^\\x7fleYf\\xb0\\x01T^\\xec\\xc0\\xf6\\x00\\x00\\xa2\\xc0\\x14\\xc0\\n\\x009\\x008\\x007\\x006\\x00\\x88\\x00\\x87\\x00\\x86\\x00\\x85\\xc0\\x19\\x00:\\x00\\x89\\xc0\\x0f\\xc0\\x05\\x005\\x00\\x84\\xc0\\x13\\xc0\\t\\x003\\x002\\x001\\x000\\x00\\x9a\\x00\\x99\\x00\\x98\\x00\\x97\\x00E\\x00D\\x00C\\x00B\\xc0\\x18\\x004\\x00\\x9b\\x00F\\xc0\\x0e\\xc0\\x04\\x00/\\x00\\x96\\x00A\\x00\\x07\\xc0\\x11\\xc0\\x07\\xc0\\x16\\x00\\x18\\xc0\\x0c\\xc0\\x02\\x00\\x05\\x00\\x04\\xc0\\x12\\xc0\\x08\\x00\\x16\\x00\\x13\\x00\\x10\\x00\\r\\xc0\\x17\\x00\\x1b\\xc0\\r\\xc0\\x03\\x00\\n\\x00\\x15\\x00\\x12\\x00\\x0f\\x00\\x0c\\x00\\x1a\\x00\\t\\x00\\x14\\x00\\x11\\x00\\x19\\x00\\x08\\x00\\x06\\x00\\x17\\x00\\x03\\xc0\\x10\\xc0\\x06\\xc0\\x15\\xc0\\x0b\\xc0\\x01\\x00\\x02\\x00\\x01\\x00\\xff\\x02\\x01\\x00\\x00C\\x00\\x00\\x00\\x0e\\x00\\x0c\\x00\\x00\\t127.0.0.1\\x00\\x0b\\x00\\x04\\x03\\x00\\x01\\x02\\x00\\n\\x00\\x1c\\x00\\x1a\\x00\\x17\\x00\\x19\\x00\\x1c\\x00\\x1b\\x00\\x18\\x00\\x1a\\x00\\x16\\x00\\x0e\\x00\\r\\x00\\x0b\\x00']\n",
      "Bad pipe message: %s [b'\\t\\x00\\n\\x00#\\x00\\x00\\x00\\x0f\\x00\\x01']\n",
      "Bad pipe message: %s [b'\\xad\\xe2Y\\x86B\\xcc`U\\xd8\\xbf\\xb49\\xd9\\x8b\\xf8V\\x13l\\x00\\x00\\xa2\\xc0\\x14\\xc0\\n\\x009\\x008\\x007\\x006\\x00\\x88\\x00\\x87\\x00\\x86\\x00\\x85\\xc0\\x19\\x00:\\x00\\x89\\xc0\\x0f\\xc0\\x05\\x005\\x00\\x84\\xc0\\x13\\xc0\\t\\x003\\x002\\x001\\x000\\x00\\x9a\\x00\\x99\\x00\\x98\\x00\\x97\\x00E\\x00D\\x00C\\x00B\\xc0\\x18\\x004\\x00\\x9b\\x00F\\xc0\\x0e\\xc0\\x04\\x00/\\x00\\x96\\x00A\\x00\\x07\\xc0\\x11\\xc0\\x07\\xc0\\x16\\x00\\x18\\xc0\\x0c\\xc0\\x02\\x00\\x05\\x00\\x04\\xc0\\x12\\xc0\\x08\\x00\\x16\\x00\\x13\\x00\\x10\\x00\\r\\xc0\\x17\\x00\\x1b\\xc0\\r\\xc0\\x03\\x00\\n\\x00\\x15\\x00\\x12']\n",
      "Bad pipe message: %s [b\"\\x97\\xbdr\\xecN8\\xe8M\\xa1\\x80\\xdc\\x8dl\\xe1\\xde7\\x00\\xbb\\x00\\x00\\xf4\\xc00\\xc0,\\xc0(\\xc0$\\xc0\\x14\\xc0\\n\\x00\\xa5\\x00\\xa3\\x00\\xa1\\x00\\x9f\\x00k\\x00j\\x00i\\x00h\\x009\\x008\\x007\\x006\\x00\\x88\\x00\\x87\\x00\\x86\\x00\\x85\\xc0\\x19\\x00\\xa7\\x00m\\x00:\\x00\\x89\\xc02\\xc0.\\xc0*\\xc0&\\xc0\\x0f\\xc0\\x05\\x00\\x9d\\x00=\\x005\\x00\\x84\\xc0/\\xc0+\\xc0'\\xc0#\\xc0\\x13\\xc0\\t\\x00\\xa4\\x00\\xa2\\x00\\xa0\\x00\\x9e\\x00g\\x00@\\x00?\\x00>\\x003\\x002\\x001\\x000\"]\n"
     ]
    }
   ],
   "source": [
    "import pandas as pd\n",
    "with pd.option_context('display.float_format', '{:0.2f}'.format):\n",
    "    display(pd.DataFrame(results).iloc[:2])"
   ]
  },
  {
   "cell_type": "code",
   "execution_count": 6,
   "id": "7ca85dc0-0562-4b03-b4c5-5e796e61f0ab",
   "metadata": {},
   "outputs": [
    {
     "data": {
      "text/html": [
       "<div>\n",
       "<style scoped>\n",
       "    .dataframe tbody tr th:only-of-type {\n",
       "        vertical-align: middle;\n",
       "    }\n",
       "\n",
       "    .dataframe tbody tr th {\n",
       "        vertical-align: top;\n",
       "    }\n",
       "\n",
       "    .dataframe thead th {\n",
       "        text-align: right;\n",
       "    }\n",
       "</style>\n",
       "<table border=\"1\" class=\"dataframe\">\n",
       "  <thead>\n",
       "    <tr style=\"text-align: right;\">\n",
       "      <th></th>\n",
       "      <th>satimage</th>\n",
       "      <th>waveform_40</th>\n",
       "      <th>mfeat_fourier</th>\n",
       "      <th>yeast</th>\n",
       "      <th>german</th>\n",
       "      <th>horse_colic</th>\n",
       "      <th>cleve</th>\n",
       "      <th>prnn_synth</th>\n",
       "    </tr>\n",
       "  </thead>\n",
       "  <tbody>\n",
       "    <tr>\n",
       "      <th>score</th>\n",
       "      <td>0.84</td>\n",
       "      <td>0.84</td>\n",
       "      <td>0.69</td>\n",
       "      <td>0.55</td>\n",
       "      <td>0.74</td>\n",
       "      <td>0.78</td>\n",
       "      <td>0.87</td>\n",
       "      <td>0.81</td>\n",
       "    </tr>\n",
       "    <tr>\n",
       "      <th>time(s)</th>\n",
       "      <td>18.42</td>\n",
       "      <td>11.48</td>\n",
       "      <td>4.99</td>\n",
       "      <td>4.19</td>\n",
       "      <td>2.20</td>\n",
       "      <td>0.74</td>\n",
       "      <td>0.64</td>\n",
       "      <td>0.53</td>\n",
       "    </tr>\n",
       "  </tbody>\n",
       "</table>\n",
       "</div>"
      ],
      "text/plain": [
       "         satimage  waveform_40  mfeat_fourier  yeast  german  horse_colic  \\\n",
       "score        0.84         0.84           0.69   0.55    0.74         0.78   \n",
       "time(s)     18.42        11.48           4.99   4.19    2.20         0.74   \n",
       "\n",
       "         cleve  prnn_synth  \n",
       "score     0.87        0.81  \n",
       "time(s)   0.64        0.53  "
      ]
     },
     "metadata": {},
     "output_type": "display_data"
    }
   ],
   "source": [
    "import pandas as pd\n",
    "with pd.option_context('display.float_format', '{:0.2f}'.format):\n",
    "    display(pd.DataFrame(results).iloc[:2])"
   ]
  },
  {
   "cell_type": "code",
   "execution_count": 7,
   "id": "ad3cc69b-074c-4e30-b164-9df5a7d6e3ba",
   "metadata": {},
   "outputs": [
    {
     "data": {
      "text/html": [
       "<div>\n",
       "<style scoped>\n",
       "    .dataframe tbody tr th:only-of-type {\n",
       "        vertical-align: middle;\n",
       "    }\n",
       "\n",
       "    .dataframe tbody tr th {\n",
       "        vertical-align: top;\n",
       "    }\n",
       "\n",
       "    .dataframe thead th {\n",
       "        text-align: right;\n",
       "    }\n",
       "</style>\n",
       "<table border=\"1\" class=\"dataframe\">\n",
       "  <thead>\n",
       "    <tr style=\"text-align: right;\">\n",
       "      <th></th>\n",
       "      <th>satimage</th>\n",
       "      <th>waveform_40</th>\n",
       "      <th>mfeat_fourier</th>\n",
       "      <th>yeast</th>\n",
       "      <th>german</th>\n",
       "      <th>horse_colic</th>\n",
       "      <th>cleve</th>\n",
       "      <th>prnn_synth</th>\n",
       "    </tr>\n",
       "  </thead>\n",
       "  <tbody>\n",
       "    <tr>\n",
       "      <th>score</th>\n",
       "      <td>0.84</td>\n",
       "      <td>0.84</td>\n",
       "      <td>0.69</td>\n",
       "      <td>0.55</td>\n",
       "      <td>0.74</td>\n",
       "      <td>0.78</td>\n",
       "      <td>0.87</td>\n",
       "      <td>0.81</td>\n",
       "    </tr>\n",
       "    <tr>\n",
       "      <th>time(s)</th>\n",
       "      <td>16.09</td>\n",
       "      <td>11.66</td>\n",
       "      <td>4.95</td>\n",
       "      <td>4.10</td>\n",
       "      <td>1.21</td>\n",
       "      <td>0.44</td>\n",
       "      <td>0.46</td>\n",
       "      <td>0.35</td>\n",
       "    </tr>\n",
       "  </tbody>\n",
       "</table>\n",
       "</div>"
      ],
      "text/plain": [
       "         satimage  waveform_40  mfeat_fourier  yeast  german  horse_colic  \\\n",
       "score        0.84         0.84           0.69   0.55    0.74         0.78   \n",
       "time(s)     16.09        11.66           4.95   4.10    1.21         0.44   \n",
       "\n",
       "         cleve  prnn_synth  \n",
       "score     0.87        0.81  \n",
       "time(s)   0.46        0.35  "
      ]
     },
     "metadata": {},
     "output_type": "display_data"
    }
   ],
   "source": [
    "import pandas as pd\n",
    "with pd.option_context('display.float_format', '{:0.2f}'.format):\n",
    "    display(pd.DataFrame(results).iloc[:2])"
   ]
  },
  {
   "cell_type": "code",
   "execution_count": null,
   "id": "341dc4be-8df0-48c5-b062-5eaedce6d45f",
   "metadata": {},
   "outputs": [],
   "source": [
    "datasets = [\"satimage\", \"waveform_40\", \"mfeat_fourier\", \"yeast\", \"german\", \"horse_colic\", \"cleve\", \"prnn_synth\"]\n",
    "[pmlb.fetch_data(dataset, return_X_y=True)[0].shape for dataset in datasets]"
   ]
  },
  {
   "cell_type": "code",
   "execution_count": 9,
   "id": "a2a8814f-a2bb-4e01-85b0-f3adc09930a2",
   "metadata": {},
   "outputs": [
    {
     "data": {
      "text/html": [
       "<div>\n",
       "<style scoped>\n",
       "    .dataframe tbody tr th:only-of-type {\n",
       "        vertical-align: middle;\n",
       "    }\n",
       "\n",
       "    .dataframe tbody tr th {\n",
       "        vertical-align: top;\n",
       "    }\n",
       "\n",
       "    .dataframe thead th {\n",
       "        text-align: right;\n",
       "    }\n",
       "</style>\n",
       "<table border=\"1\" class=\"dataframe\">\n",
       "  <thead>\n",
       "    <tr style=\"text-align: right;\">\n",
       "      <th></th>\n",
       "      <th>dataset</th>\n",
       "      <th>n_instances</th>\n",
       "      <th>n_features</th>\n",
       "      <th>n_binary_features</th>\n",
       "      <th>n_categorical_features</th>\n",
       "      <th>n_continuous_features</th>\n",
       "      <th>endpoint_type</th>\n",
       "      <th>n_classes</th>\n",
       "      <th>imbalance</th>\n",
       "      <th>task</th>\n",
       "    </tr>\n",
       "  </thead>\n",
       "  <tbody>\n",
       "    <tr>\n",
       "      <th>194</th>\n",
       "      <td>german</td>\n",
       "      <td>1000</td>\n",
       "      <td>20</td>\n",
       "      <td>2</td>\n",
       "      <td>11</td>\n",
       "      <td>7</td>\n",
       "      <td>categorical</td>\n",
       "      <td>2.0</td>\n",
       "      <td>0.16</td>\n",
       "      <td>classification</td>\n",
       "    </tr>\n",
       "  </tbody>\n",
       "</table>\n",
       "</div>"
      ],
      "text/plain": [
       "    dataset  n_instances  n_features  n_binary_features  \\\n",
       "194  german         1000          20                  2   \n",
       "\n",
       "     n_categorical_features  n_continuous_features endpoint_type  n_classes  \\\n",
       "194                      11                      7   categorical        2.0   \n",
       "\n",
       "     imbalance            task  \n",
       "194       0.16  classification  "
      ]
     },
     "execution_count": 9,
     "metadata": {},
     "output_type": "execute_result"
    }
   ],
   "source": [
    "df_summary[df_summary.dataset == \"german\"]"
   ]
  },
  {
   "cell_type": "code",
   "execution_count": 8,
   "id": "1dff4f98-43ce-41c5-9501-196f0fbdcd7e",
   "metadata": {},
   "outputs": [],
   "source": [
    "X, y = pmlb.fetch_data(\"satimage\", return_X_y=True)\n",
    "    \n",
    "X_train, X_test, y_train, y_test = train_test_split(X, y, test_size=0.25, random_state=7654321)\n"
   ]
  },
  {
   "cell_type": "code",
   "execution_count": 16,
   "id": "8dc7f3e9-c8b7-49fb-af0b-280136b1d956",
   "metadata": {},
   "outputs": [
    {
     "name": "stdout",
     "output_type": "stream",
     "text": [
      "satimage\n",
      "45.83626461029053 0.9011808576755749\n",
      "waveform_40\n",
      "30.337615728378296 0.872\n",
      "mfeat_fourier\n",
      "4.198237180709839 0.824\n",
      "yeast\n",
      "2.4384617805480957 0.5918918918918918\n",
      "german\n",
      "1.5138816833496094 0.744\n",
      "horse_colic\n",
      "0.5286481380462646 0.7934782608695652\n",
      "cleve\n",
      "0.4279022216796875 0.8421052631578947\n",
      "prnn_synth\n",
      "0.30613231658935547 0.8095238095238095\n"
     ]
    }
   ],
   "source": [
    "from scripts.transformer_prediction_interface import TabPFNClassifier\n",
    "#new_tabpfn_long_e1650_ensemble32 = TabPFNClassifier(device=device, model_string=\"tabpfn__emsize_512_nlayers_12_steps_2048_bs_32ada_lr_0.0001_1_gpu_07_24_2023_01_43_33\", epoch=\"1650\", N_ensemble_configurations=32)\n",
    "new_tabpfn_long_e1650_ensemble3 = TabPFNClassifier(device=device, model_string=\"tabpfn__emsize_512_nlayers_12_steps_2048_bs_32ada_lr_0.0001_1_gpu_07_24_2023_01_43_33\", epoch=\"1650\", N_ensemble_configurations=3)\n",
    "results_tabpfn = {}\n",
    "for dataset in datasets:\n",
    "    print(dataset)\n",
    "    X, y = pmlb.fetch_data(dataset, return_X_y=True)\n",
    "    \n",
    "    X_train, X_test, y_train, y_test = train_test_split(X, y, test_size=0.25, random_state=7654321)\n",
    "    tick = time()\n",
    "    score3 = new_tabpfn_long_e1650_ensemble3.fit(X_train, y_train, overwrite_warning=True).score(X_test, y_test)\n",
    "    tock3 = time() - tick\n",
    "    print(tock3, score3)\n",
    "    tick = time()\n",
    "    # score32 = mothernet_21_46_25_e3140_ensemble32.fit(X_train, y_train).score(X_test, y_test)\n",
    "    # tock32 = time() - tick\n",
    "    # print(tock32, score32)\n",
    "    results_tabpfn[dataset] = {'score': score3, 'time(s)': tock3}"
   ]
  },
  {
   "cell_type": "code",
   "execution_count": 17,
   "id": "4126d747-9fdb-415f-8076-092ac8ddcaca",
   "metadata": {
    "tags": []
   },
   "outputs": [
    {
     "data": {
      "text/html": [
       "<div>\n",
       "<style scoped>\n",
       "    .dataframe tbody tr th:only-of-type {\n",
       "        vertical-align: middle;\n",
       "    }\n",
       "\n",
       "    .dataframe tbody tr th {\n",
       "        vertical-align: top;\n",
       "    }\n",
       "\n",
       "    .dataframe thead th {\n",
       "        text-align: right;\n",
       "    }\n",
       "</style>\n",
       "<table border=\"1\" class=\"dataframe\">\n",
       "  <thead>\n",
       "    <tr style=\"text-align: right;\">\n",
       "      <th></th>\n",
       "      <th>satimage</th>\n",
       "      <th>waveform_40</th>\n",
       "      <th>mfeat_fourier</th>\n",
       "      <th>yeast</th>\n",
       "      <th>german</th>\n",
       "      <th>horse_colic</th>\n",
       "      <th>cleve</th>\n",
       "      <th>prnn_synth</th>\n",
       "    </tr>\n",
       "  </thead>\n",
       "  <tbody>\n",
       "    <tr>\n",
       "      <th>score</th>\n",
       "      <td>0.90</td>\n",
       "      <td>0.87</td>\n",
       "      <td>0.82</td>\n",
       "      <td>0.59</td>\n",
       "      <td>0.74</td>\n",
       "      <td>0.79</td>\n",
       "      <td>0.84</td>\n",
       "      <td>0.81</td>\n",
       "    </tr>\n",
       "    <tr>\n",
       "      <th>time(s)</th>\n",
       "      <td>45.84</td>\n",
       "      <td>30.34</td>\n",
       "      <td>4.20</td>\n",
       "      <td>2.44</td>\n",
       "      <td>1.51</td>\n",
       "      <td>0.53</td>\n",
       "      <td>0.43</td>\n",
       "      <td>0.31</td>\n",
       "    </tr>\n",
       "  </tbody>\n",
       "</table>\n",
       "</div>"
      ],
      "text/plain": [
       "         satimage  waveform_40  mfeat_fourier  yeast  german  horse_colic  \\\n",
       "score        0.90         0.87           0.82   0.59    0.74         0.79   \n",
       "time(s)     45.84        30.34           4.20   2.44    1.51         0.53   \n",
       "\n",
       "         cleve  prnn_synth  \n",
       "score     0.84        0.81  \n",
       "time(s)   0.43        0.31  "
      ]
     },
     "metadata": {},
     "output_type": "display_data"
    },
    {
     "name": "stderr",
     "output_type": "stream",
     "text": [
      "Bad pipe message: %s [b'\\xc7\\x19G\\x8c\\x86?B\\x11\\xf3\\xc5U)-\\xe0\\xf2\\xe5\\xd9\\xa7 \\xd234\\xeapx\\xe9\\x86\\x07\\xed\\x908\\x8c\\xb6J\\xa9\\x8d\\xcd\\x1d\\x03\\x004\\xa3\\x9b\"6DW\\xf6\\xf5#\\x9f\\x00\\x08\\x13\\x02\\x13\\x03\\x13\\x01\\x00\\xff\\x01\\x00\\x00\\x8f\\x00\\x00\\x00\\x0e\\x00\\x0c\\x00\\x00\\t127.0.0.1\\x00\\x0b\\x00\\x04\\x03\\x00\\x01\\x02\\x00\\n\\x00\\x0c\\x00\\n\\x00\\x1d\\x00\\x17\\x00\\x1e\\x00\\x19\\x00\\x18\\x00#\\x00\\x00\\x00\\x16\\x00\\x00\\x00\\x17\\x00\\x00\\x00\\r\\x00\\x1e\\x00\\x1c\\x04\\x03\\x05\\x03\\x06\\x03\\x08\\x07\\x08\\x08\\x08\\t\\x08\\n\\x08\\x0b\\x08\\x04\\x08\\x05\\x08\\x06\\x04\\x01\\x05\\x01\\x06', b'']\n",
      "Bad pipe message: %s [b'\\x03\\x02\\x03\\x04\\x00-\\x00\\x02\\x01\\x01\\x003\\x00&\\x00$\\x00\\x1d\\x00 _\\xbfl\\x0ex\\xb6\\xe0h\\xd7\\x19v\\xb6\\x90\\xe9|*z\\x8a\\xa4_$\\x9e']\n",
      "Bad pipe message: %s [b'Z\\xfb\\x84\\x08 Q\\x1d\\x96\\x8e\\xef\\xb3\\x9f{U\\xec\\x8c\\x14! \\xf8\\x136\\x14/\\xe7\\x0b\\x14\\x91QPr\\xf01\\xad\\xfb\\r\\xc6,\\xff\\xa3\\xc9+]\\xc1\\r\\x19\\x83m\\x00~\\xf7\\x00\\x08\\x13\\x02\\x13\\x03\\x13\\x01\\x00\\xff\\x01\\x00\\x00\\x8f\\x00\\x00\\x00\\x0e\\x00\\x0c\\x00\\x00\\t']\n",
      "Bad pipe message: %s [b\"\\x82\\xe0\\xac\\x05\\xf6\\x17\\x8c\\xb9\\xe7\\xed<\\x14q}o>F\\xc0\\x00\\x00|\\xc0,\\xc00\\x00\\xa3\\x00\\x9f\\xcc\\xa9\\xcc\\xa8\\xcc\\xaa\\xc0\\xaf\\xc0\\xad\\xc0\\xa3\\xc0\\x9f\\xc0]\\xc0a\\xc0W\\xc0S\\xc0+\\xc0/\\x00\\xa2\\x00\\x9e\\xc0\\xae\\xc0\\xac\\xc0\\xa2\\xc0\\x9e\\xc0\\\\\\xc0`\\xc0V\\xc0R\\xc0$\\xc0(\\x00k\\x00j\\xc0#\\xc0'\\x00g\\x00@\\xc0\\n\\xc0\\x14\\x009\\x008\\xc0\\t\\xc0\\x13\\x003\\x002\\x00\\x9d\\xc0\\xa1\\xc0\\x9d\\xc0Q\\x00\\x9c\\xc0\\xa0\\xc0\\x9c\\xc0P\\x00=\\x00<\\x005\\x00/\\x00\\x9a\\x00\\x99\\xc0\\x07\\xc0\\x11\\x00\\x96\\x00\\x05\\x00\\xff\\x01\\x00\\x00j\\x00\\x00\\x00\\x0e\\x00\\x0c\\x00\\x00\\t127.0.0.1\\x00\\x0b\\x00\\x04\\x03\\x00\\x01\\x02\\x00\\n\\x00\\x0c\\x00\\n\\x00\\x1d\\x00\\x17\\x00\\x1e\\x00\\x19\\x00\\x18\\x00#\\x00\\x00\\x00\\x16\\x00\\x00\\x00\\x17\\x00\\x00\\x00\\r\\x000\\x00.\\x04\\x03\\x05\\x03\\x06\\x03\\x08\\x07\\x08\\x08\\x08\\t\\x08\\n\\x08\\x0b\\x08\\x04\\x08\\x05\\x08\\x06\\x04\\x01\\x05\\x01\"]\n",
      "Bad pipe message: %s [b'7.0.0.1\\x00\\x0b\\x00\\x04\\x03\\x00\\x01\\x02\\x00\\n\\x00\\x0c\\x00\\n\\x00\\x1d\\x00\\x17\\x00\\x1e\\x00\\x19\\x00\\x18\\x00#\\x00\\x00\\x00\\x16\\x00\\x00\\x00\\x17\\x00\\x00\\x00\\r\\x00\\x1e\\x00']\n",
      "Bad pipe message: %s [b'\\x03\\x03\\x02\\x03\\x03', b'']\n",
      "Bad pipe message: %s [b'\\x03\\x05\\x03\\x06\\x03\\x08\\x07\\x08\\x08\\x08\\t\\x08\\n\\x08\\x0b\\x08\\x04\\x08\\x05\\x08\\x06\\x04\\x01\\x05\\x01\\x06\\x01']\n",
      "Bad pipe message: %s [b'', b'\\x02']\n",
      "Bad pipe message: %s [b'\\x05\\x02\\x06']\n",
      "Bad pipe message: %s [b\"\\xcc\\xfc,KR\\xbe\\x98U\\x96\\x0cL\\x93\\x9c\\x8e\\xf23\\x91\\xf8\\x00\\x00\\xa6\\xc0,\\xc00\\x00\\xa3\\x00\\x9f\\xcc\\xa9\\xcc\\xa8\\xcc\\xaa\\xc0\\xaf\\xc0\\xad\\xc0\\xa3\\xc0\\x9f\\xc0]\\xc0a\\xc0W\\xc0S\\xc0+\\xc0/\\x00\\xa2\\x00\\x9e\\xc0\\xae\\xc0\\xac\\xc0\\xa2\\xc0\\x9e\\xc0\\\\\\xc0`\\xc0V\\xc0R\\xc0$\\xc0(\\x00k\\x00j\\xc0s\\xc0w\\x00\\xc4\\x00\\xc3\\xc0#\\xc0'\\x00g\\x00@\\xc0\"]\n",
      "Bad pipe message: %s [b'v\\x00\\xbe\\x00\\xbd\\xc0\\n\\xc0\\x14\\x009\\x008\\x00\\x88\\x00\\x87\\xc0\\t\\xc0\\x13\\x003\\x002\\x00\\x9a\\x00\\x99\\x00E\\x00D\\xc0\\x07\\xc0\\x11\\xc0\\x08\\xc0\\x12\\x00\\x16\\x00\\x13\\x00\\x9d\\xc0\\xa1\\xc0\\x9d\\xc0Q\\x00\\x9c\\xc0\\xa0\\xc0\\x9c\\xc0P\\x00=\\x00\\xc0\\x00<\\x00\\xba\\x005\\x00\\x84\\x00/\\x00\\x96\\x00A\\x00\\x05\\x00\\n\\x00\\xff\\x01\\x00\\x00j\\x00\\x00\\x00\\x0e\\x00\\x0c\\x00\\x00\\t127.0.0.1\\x00\\x0b\\x00\\x04\\x03\\x00']\n",
      "Bad pipe message: %s [b'']\n",
      "Bad pipe message: %s [b'\\x01\\xe0C\\xa71\\xf4\\x80\\xf6H\\xf4\\xb4z\\x16t^\\xf3\\x9f\\x9d\\x00\\x00>\\xc0\\x14\\xc0\\n\\x009\\x008\\x007\\x006\\xc0\\x0f\\xc0\\x05\\x005\\xc0\\x13\\xc0\\t\\x003\\x002\\x001\\x000\\xc0\\x0e\\xc0\\x04\\x00/\\x00\\x9a\\x00\\x99\\x00\\x98\\x00\\x97\\x00\\x96\\x00\\x07\\xc0\\x11\\xc0\\x07\\xc0\\x0c\\xc0\\x02\\x00\\x05\\x00\\x04\\x00\\xff\\x02\\x01\\x00\\x00C\\x00\\x00\\x00\\x0e\\x00\\x0c\\x00\\x00\\t12', b'0.0.1\\x00\\x0b\\x00\\x04\\x03\\x00\\x01\\x02\\x00\\n\\x00\\x1c\\x00\\x1a\\x00\\x17\\x00\\x19\\x00\\x1c\\x00\\x1b\\x00\\x18\\x00\\x1a\\x00\\x16\\x00\\x0e\\x00\\r\\x00\\x0b\\x00\\x0c\\x00\\t\\x00\\n\\x00#\\x00\\x00\\x00\\x0f\\x00\\x01\\x01']\n",
      "Bad pipe message: %s [b'\\x18\\xbc\\xe6\\xcb\\xe7K\\x14\\x13^\\xc3\\xd2\\xa1\\xd8\\xbf\\x06%\\xc3\\xac\\x00\\x00\\xa2\\xc0\\x14\\xc0\\n\\x009\\x008\\x007\\x006\\x00\\x88\\x00\\x87\\x00\\x86\\x00\\x85\\xc0\\x19\\x00:\\x00\\x89\\xc0\\x0f\\xc0\\x05\\x005\\x00\\x84\\xc0\\x13\\xc0\\t\\x003\\x002\\x001\\x00']\n",
      "Bad pipe message: %s [b'\\x9a\\x00\\x99\\x00\\x98\\x00\\x97\\x00E\\x00D\\x00C\\x00B\\xc0\\x18\\x004\\x00\\x9b\\x00F\\xc0\\x0e\\xc0\\x04\\x00/\\x00\\x96\\x00A\\x00\\x07\\xc0\\x11\\xc0\\x07\\xc0\\x16\\x00\\x18\\xc0\\x0c\\xc0\\x02']\n",
      "Bad pipe message: %s [b'@\\x1f;B3/(F\\xe4\\xe0\\xad\\x05V\\xee\\x13\\x9c\\xa3\\xf3\\x00\\x00\\xa2\\xc0\\x14\\xc0\\n\\x009\\x008\\x007\\x006\\x00\\x88\\x00\\x87\\x00\\x86\\x00\\x85\\xc0\\x19\\x00:\\x00\\x89\\xc0\\x0f\\xc0\\x05\\x005\\x00\\x84\\xc0\\x13\\xc0\\t\\x003\\x002\\x001\\x000\\x00\\x9a\\x00\\x99\\x00\\x98\\x00\\x97\\x00E\\x00D\\x00C\\x00B\\xc0\\x18\\x004\\x00\\x9b\\x00F\\xc0\\x0e\\xc0\\x04\\x00/\\x00\\x96\\x00A\\x00\\x07\\xc0\\x11\\xc0\\x07\\xc0']\n",
      "Bad pipe message: %s [b'\\x18\\xc0\\x0c\\xc0\\x02\\x00\\x05\\x00\\x04\\xc0\\x12\\xc0\\x08\\x00\\x16\\x00\\x13\\x00\\x10\\x00\\r']\n",
      "Bad pipe message: %s [b\"\\xee5n>\\xdb\\x05\\xc3]6\\x00\\xb3\\x07\\xe3$\\xc5E\\xdfB\\x00\\x00\\x86\\xc00\\xc0,\\xc0(\\xc0$\\xc0\\x14\\xc0\\n\\x00\\xa5\\x00\\xa3\\x00\\xa1\\x00\\x9f\\x00k\\x00j\\x00i\\x00h\\x009\\x008\\x007\\x006\\xc02\\xc0.\\xc0*\\xc0&\\xc0\\x0f\\xc0\\x05\\x00\\x9d\\x00=\\x005\\xc0/\\xc0+\\xc0'\\xc0#\\xc0\\x13\\xc0\\t\\x00\\xa4\\x00\\xa2\\x00\\xa0\\x00\\x9e\\x00g\\x00@\\x00?\\x00>\\x003\\x002\\x001\\x000\\xc01\\xc0-\\xc0)\\xc0%\\xc0\\x0e\\xc0\\x04\\x00\\x9c\\x00<\\x00/\\x00\\x9a\\x00\\x99\\x00\\x98\\x00\\x97\\x00\\x96\\x00\\x07\\xc0\\x11\\xc0\\x07\\xc0\\x0c\\xc0\\x02\\x00\\x05\\x00\\x04\\x00\"]\n",
      "Bad pipe message: %s [b\"\\x84\\xaf8\\x1d\\x89\\xa0\\xbbN\\xb6\\xac_Q\\xae\\xb4u\\x88\\xcaD\\x00\\x00\\xf4\\xc00\\xc0,\\xc0(\\xc0$\\xc0\\x14\\xc0\\n\\x00\\xa5\\x00\\xa3\\x00\\xa1\\x00\\x9f\\x00k\\x00j\\x00i\\x00h\\x009\\x008\\x007\\x006\\x00\\x88\\x00\\x87\\x00\\x86\\x00\\x85\\xc0\\x19\\x00\\xa7\\x00m\\x00:\\x00\\x89\\xc02\\xc0.\\xc0*\\xc0&\\xc0\\x0f\\xc0\\x05\\x00\\x9d\\x00=\\x005\\x00\\x84\\xc0/\\xc0+\\xc0'\\xc0#\\xc0\\x13\\xc0\\t\\x00\\xa4\\x00\\xa2\\x00\\xa0\\x00\\x9e\\x00g\\x00@\\x00?\\x00>\\x003\\x002\\x001\\x000\\x00\\x9a\\x00\\x99\\x00\\x98\\x00\\x97\\x00E\\x00D\\x00C\\x00B\\xc0\\x18\\x00\\xa6\\x00l\\x004\\x00\\x9b\\x00F\\xc01\\xc0-\\xc0)\\xc0%\\xc0\\x0e\\xc0\\x04\\x00\\x9c\\x00<\\x00/\"]\n"
     ]
    }
   ],
   "source": [
    "with pd.option_context('display.float_format', '{:0.2f}'.format):\n",
    "    display(pd.DataFrame(results_tabpfn).iloc[:2])"
   ]
  },
  {
   "cell_type": "code",
   "execution_count": 9,
   "id": "9ecab5a6-af7f-40a4-ad41-04716aeffd99",
   "metadata": {},
   "outputs": [
    {
     "name": "stdout",
     "output_type": "stream",
     "text": [
      "satimage\n",
      "1.6898300647735596 0.9167184586699814\n",
      "waveform_40\n",
      "0.9577386379241943 0.864\n",
      "mfeat_fourier\n",
      "1.0488815307617188 0.836\n",
      "yeast\n",
      "0.8002278804779053 0.5972972972972973\n",
      "german\n",
      "0.5198338031768799 0.744\n",
      "horse_colic\n",
      "0.2130260467529297 0.8260869565217391\n",
      "cleve\n",
      "0.16532135009765625 0.8289473684210527\n",
      "prnn_synth\n",
      "0.09266066551208496 0.8253968253968254\n"
     ]
    }
   ],
   "source": [
    "from flaml.default import LGBMClassifier\n",
    "results_flaml = {}\n",
    "for dataset in datasets:\n",
    "    print(dataset)\n",
    "    X, y = pmlb.fetch_data(dataset, return_X_y=True)\n",
    "    \n",
    "    X_train, X_test, y_train, y_test = train_test_split(X, y, test_size=0.25, random_state=7654321)\n",
    "    tick = time()\n",
    "    lgbm = LGBMClassifier()\n",
    "    score3 = lgbm.fit(X_train, y_train).score(X_test, y_test)\n",
    "    tock3 = time() - tick\n",
    "    print(tock3, score3)\n",
    "    tick = time()\n",
    "    # score32 = mothernet_21_46_25_e3140_ensemble32.fit(X_train, y_train).score(X_test, y_test)\n",
    "    # tock32 = time() - tick\n",
    "    # print(tock32, score32)\n",
    "    results_flaml[dataset] = {'score': score3, 'time(s)': tock3}"
   ]
  },
  {
   "cell_type": "code",
   "execution_count": 1,
   "id": "d4633892-eb1d-4b02-998e-48204bb46270",
   "metadata": {},
   "outputs": [],
   "source": [
    "from flaml.default import LGBMClassifier\n",
    "from sklearn.datasets import load_iris\n",
    "from sklearn.model_selection import train_test_split"
   ]
  },
  {
   "cell_type": "code",
   "execution_count": 6,
   "id": "5e87d86e-914f-4bdf-af62-e5e057d15567",
   "metadata": {},
   "outputs": [],
   "source": [
    "iris = load_iris()\n",
    "X_train, X_test, y_train, y_test = train_test_split(iris.data, iris.target, test_size=0.50)\n",
    "\n"
   ]
  },
  {
   "cell_type": "code",
   "execution_count": 7,
   "id": "6a67d90b-2161-4aec-93f5-4f8a275f96d7",
   "metadata": {},
   "outputs": [
    {
     "data": {
      "text/plain": [
       "0.96"
      ]
     },
     "execution_count": 7,
     "metadata": {},
     "output_type": "execute_result"
    }
   ],
   "source": [
    "LGBMClassifier().fit(X_train, y_train).score(X_test, y_test)"
   ]
  },
  {
   "cell_type": "code",
   "execution_count": null,
   "id": "3f4f9a54-89c7-40a9-85f3-d4c77245a3e6",
   "metadata": {},
   "outputs": [],
   "source": []
  }
 ],
 "metadata": {
  "kernelspec": {
   "display_name": "Python [conda env:tabpfn] *",
   "language": "python",
   "name": "conda-env-tabpfn-py"
  },
  "language_info": {
   "codemirror_mode": {
    "name": "ipython",
    "version": 3
   },
   "file_extension": ".py",
   "mimetype": "text/x-python",
   "name": "python",
   "nbconvert_exporter": "python",
   "pygments_lexer": "ipython3",
   "version": "3.7.16"
  }
 },
 "nbformat": 4,
 "nbformat_minor": 5
}
