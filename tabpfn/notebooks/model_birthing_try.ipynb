{
 "cells": [
  {
   "cell_type": "code",
   "execution_count": 1,
   "id": "42fd7c1a-9d2e-4219-85d1-8803ccf6241b",
   "metadata": {},
   "outputs": [
    {
     "name": "stderr",
     "output_type": "stream",
     "text": [
      "/anaconda/envs/tabpfn/lib/python3.7/site-packages/tqdm/auto.py:22: TqdmWarning: IProgress not found. Please update jupyter and ipywidgets. See https://ipywidgets.readthedocs.io/en/stable/user_install.html\n",
      "  from .autonotebook import tqdm as notebook_tqdm\n"
     ]
    }
   ],
   "source": [
    "import torch"
   ]
  },
  {
   "cell_type": "code",
   "execution_count": 2,
   "id": "46408d27-bbc0-4040-963c-e0a761ed7b0e",
   "metadata": {},
   "outputs": [],
   "source": [
    "from tabpfn.transformer_make_model import TransformerModelMaker, load_model_maker, extract_linear_model, predict_with_linear_model, ForwardLinearModel\n"
   ]
  },
  {
   "cell_type": "code",
   "execution_count": 3,
   "id": "6e2d6e95-cc01-40cf-a2ac-6480a57fcb00",
   "metadata": {},
   "outputs": [],
   "source": [
    "from sklearn.datasets import load_iris\n",
    "iris = load_iris()"
   ]
  },
  {
   "cell_type": "code",
   "execution_count": 4,
   "id": "8942fac7-0aed-4b78-be57-2e9864b85f9c",
   "metadata": {},
   "outputs": [],
   "source": [
    "from sklearn.model_selection import train_test_split\n",
    "X_train, X_test, y_train, y_test = train_test_split(iris.data, iris.target, random_state=3)"
   ]
  },
  {
   "cell_type": "code",
   "execution_count": 5,
   "id": "20d7ea5b-78ef-4361-8d16-a7ba8ac1e9a3",
   "metadata": {},
   "outputs": [],
   "source": [
    "from sklearn.base import BaseEstimator, ClassifierMixin\n",
    "import numpy as np\n",
    "\n",
    "class ForwardLinearModelASDF(ClassifierMixin, BaseEstimator):\n",
    "    def __init__(self, path=None, n_permutations=1, device=\"cpu\"):\n",
    "        self.n_permutations = n_permutations\n",
    "        self.device = device\n",
    "        self.path = path or \"models_diff/prior_diff_real_checkpoint_predict_linear_coefficients_nlayer_6_multiclass_04_11_2023_01_26_19_n_0_epoch_94.cpkt\"\n",
    "        \n",
    "    def fit(self, X, y):\n",
    "        self.X_train_ = X\n",
    "        model = load_model_maker(self.path).to(self.device)\n",
    "        n_classes = len(np.unique(y))\n",
    "        weight_list = []\n",
    "        bias_list = []\n",
    "        n_features = X.shape[1]\n",
    "        for j in range(self.n_permutations):\n",
    "            if j > 0:\n",
    "                perm = np.random.permutation(n_features)\n",
    "                inv = np.zeros(n_features, dtype=int)\n",
    "                inv[perm] = np.arange(n_features)\n",
    "            else:\n",
    "                # always include original order\n",
    "                perm = np.arange(n_features)\n",
    "                inv = perm\n",
    "            for i in range(n_classes):\n",
    "                if i > 0:\n",
    "                    continue\n",
    "                indices = np.mod(np.arange(n_classes) + i, n_classes)\n",
    "                weights, biases = extract_linear_model(model, X[:, perm], np.mod(y + i, n_classes), device=self.device)\n",
    "                weight_list.append(weights[:, indices][inv, :])\n",
    "                bias_list.append(biases[indices])\n",
    "        self.weights_ = np.mean(weight_list, axis=0)\n",
    "        self.biases_ = np.mean(bias_list, axis=0)\n",
    "        return self\n",
    "        \n",
    "    def predict_proba(self, X):\n",
    "        return predict_with_linear_model(self.X_train_, X, self.weights_, self.biases_)\n",
    "    \n",
    "    def predict(self, X):\n",
    "        return self.predict_proba(X).argmax(axis=1)"
   ]
  },
  {
   "cell_type": "code",
   "execution_count": 6,
   "id": "26fae60c-0cb5-4675-8592-e950a28ec568",
   "metadata": {},
   "outputs": [
    {
     "data": {
      "text/plain": [
       "0.9473684210526315"
      ]
     },
     "execution_count": 6,
     "metadata": {},
     "output_type": "execute_result"
    }
   ],
   "source": [
    "\n",
    "bla = ForwardLinearModel(path=\"models_diff/prior_diff_real_checkpoint_predict_linear_coefficients_nlayer_12_multiclass_04_11_2023_23_25_22_n_0_epoch_75.cpkt\", device=\"cuda\").fit(X_train, y_train)\n",
    "bla.score(X_test, y_test)"
   ]
  },
  {
   "cell_type": "code",
   "execution_count": 7,
   "id": "3452cbeb-3afd-4b36-8dcf-de2b8b289f87",
   "metadata": {},
   "outputs": [
    {
     "data": {
      "text/plain": [
       "fit_time      2.732323\n",
       "score_time    0.000868\n",
       "test_score    0.920000\n",
       "dtype: float64"
      ]
     },
     "execution_count": 7,
     "metadata": {},
     "output_type": "execute_result"
    }
   ],
   "source": [
    "from sklearn.model_selection import cross_validate\n",
    "import pandas as pd\n",
    "pd.DataFrame(cross_validate(ForwardLinearModel(), iris.data, iris.target)).mean()"
   ]
  },
  {
   "cell_type": "code",
   "execution_count": 8,
   "id": "3a23cf30-cd9e-4114-880f-fae81593b741",
   "metadata": {},
   "outputs": [
    {
     "data": {
      "text/plain": [
       "fit_time      5.277533\n",
       "score_time    0.000983\n",
       "test_score    0.966667\n",
       "dtype: float64"
      ]
     },
     "execution_count": 8,
     "metadata": {},
     "output_type": "execute_result"
    }
   ],
   "source": [
    "from sklearn.model_selection import cross_validate\n",
    "pd.DataFrame(cross_validate(ForwardLinearModel(path=\"models_diff/prior_diff_real_checkpoint_predict_linear_coefficients_nlayer_12_multiclass_04_11_2023_23_25_22_n_0_epoch_75.cpkt\"), iris.data, iris.target)).mean()"
   ]
  },
  {
   "cell_type": "code",
   "execution_count": 12,
   "id": "407210a9-2812-4223-a70b-b0faa5b57142",
   "metadata": {},
   "outputs": [
    {
     "data": {
      "text/plain": [
       "fit_time      0.915291\n",
       "score_time    0.000622\n",
       "test_score    0.966667\n",
       "dtype: float64"
      ]
     },
     "execution_count": 12,
     "metadata": {},
     "output_type": "execute_result"
    }
   ],
   "source": [
    "from sklearn.model_selection import cross_validate\n",
    "pd.DataFrame(cross_validate(ForwardLinearModel(path=\"models_diff/prior_diff_real_checkpoint_predict_linear_coefficients_nlayer_12_multiclass_04_11_2023_23_25_22_n_0_epoch_80.cpkt\", device=\"cuda\"), iris.data, iris.target)).mean()"
   ]
  },
  {
   "cell_type": "code",
   "execution_count": 77,
   "id": "da2413bc-56f1-4bdf-a8a9-9ee82cbe7ba0",
   "metadata": {},
   "outputs": [],
   "source": [
    "inv = np.zeros(4, dtype=int)\n",
    "inv[bla] = np.arange(4)"
   ]
  },
  {
   "cell_type": "code",
   "execution_count": 78,
   "id": "8b1b314c-7e65-43be-84a5-1377fb1b31f8",
   "metadata": {},
   "outputs": [
    {
     "data": {
      "text/plain": [
       "array([0, 1, 2, 3])"
      ]
     },
     "execution_count": 78,
     "metadata": {},
     "output_type": "execute_result"
    }
   ],
   "source": [
    "bla[inv]"
   ]
  },
  {
   "cell_type": "code",
   "execution_count": 10,
   "id": "d86a8976-d783-4418-8f6d-3d769ed77b99",
   "metadata": {},
   "outputs": [
    {
     "data": {
      "text/plain": [
       "fit_time      2.720631\n",
       "score_time    0.000746\n",
       "test_score    0.920000\n",
       "dtype: float64"
      ]
     },
     "execution_count": 10,
     "metadata": {},
     "output_type": "execute_result"
    }
   ],
   "source": [
    "from sklearn.model_selection import cross_validate\n",
    "pd.DataFrame(cross_validate(ForwardLinearModel(), iris.data, iris.target)).mean()"
   ]
  },
  {
   "cell_type": "code",
   "execution_count": 11,
   "id": "fc5aa7d2-1527-4c61-a1fe-950fa7e23764",
   "metadata": {},
   "outputs": [
    {
     "name": "stderr",
     "output_type": "stream",
     "text": [
      "/anaconda/envs/tabpfn/lib/python3.7/site-packages/sklearn/linear_model/_logistic.py:765: ConvergenceWarning: lbfgs failed to converge (status=1):\n",
      "STOP: TOTAL NO. of ITERATIONS REACHED LIMIT.\n",
      "\n",
      "Increase the number of iterations (max_iter) or scale the data as shown in:\n",
      "    https://scikit-learn.org/stable/modules/preprocessing.html\n",
      "Please also refer to the documentation for alternative solver options:\n",
      "    https://scikit-learn.org/stable/modules/linear_model.html#logistic-regression\n",
      "  extra_warning_msg=_LOGISTIC_SOLVER_CONVERGENCE_MSG)\n"
     ]
    },
    {
     "data": {
      "text/plain": [
       "fit_time      6.662136\n",
       "score_time    0.000401\n",
       "test_score    0.973333\n",
       "dtype: float64"
      ]
     },
     "execution_count": 11,
     "metadata": {},
     "output_type": "execute_result"
    }
   ],
   "source": [
    "from sklearn.linear_model import LogisticRegression\n",
    "from time import time\n",
    "import pandas as pd\n",
    "pd.DataFrame(cross_validate(LogisticRegression(), iris.data, iris.target)).mean()"
   ]
  },
  {
   "cell_type": "code",
   "execution_count": 35,
   "id": "5ab08bf0-42e6-47dc-9056-8fc8a6502deb",
   "metadata": {},
   "outputs": [],
   "source": [
    "pred1 = res.numpy().argmax(axis=2).ravel()"
   ]
  },
  {
   "cell_type": "code",
   "execution_count": 105,
   "id": "4adf40f2-dc6e-498d-aa06-c3c1d44a4c35",
   "metadata": {},
   "outputs": [],
   "source": [
    "from tabpfn.utils import normalize_by_used_features_f\n",
    "\n",
    "\n",
    "def extract_linear_model(model, X_train, y_train):\n",
    "    max_features = 100\n",
    "    eval_position = X_train.shape[0]\n",
    "    n_classes = len(np.unique(y_train))\n",
    "    n_features = X_train.shape[1]\n",
    "\n",
    "    ys = torch.Tensor(y_train)\n",
    "    xs = torch.Tensor(X_train)\n",
    "\n",
    "    eval_xs_ = normalize_data(xs, eval_position)\n",
    "\n",
    "    eval_xs = normalize_by_used_features_f(eval_xs_, X_train.shape[-1], max_features,\n",
    "                                                   normalize_with_sqrt=False)\n",
    "    x_all_torch = torch.Tensor(np.hstack([eval_xs, np.zeros((X_train.shape[0], 100 - X_train.shape[1]))]))\n",
    "    \n",
    "    x_src = model.encoder(x_all_torch.unsqueeze(1)[:len(X_train)])\n",
    "    y_src = model.y_encoder(ys.unsqueeze(1).unsqueeze(-1))\n",
    "    train_x = x_src + y_src\n",
    "    # src = torch.cat([global_src, style_src, train_x, x_src[single_eval_pos:]], 0)\n",
    "    output = model.transformer_encoder(train_x)\n",
    "    linear_model_coefs = model.decoder(output)\n",
    "    encoder_weight = model.encoder.get_parameter(\"weight\")\n",
    "    encoder_bias = model.encoder.get_parameter(\"bias\")\n",
    "\n",
    "    total_weights = torch.matmul(encoder_weight[:, :n_features].T, linear_model_coefs[0, :-1, :n_classes])\n",
    "    total_biases = torch.matmul(encoder_bias, linear_model_coefs[0, :-1, :n_classes]) + linear_model_coefs[0, -1, :n_classes]\n",
    "    return total_weights.detach().numpy() / (n_features / max_features), total_biases.detach().numpy()\n",
    "\n",
    "def predict_with_linear_model(model, X_train, y_train, X_test):\n",
    "    max_features = 100\n",
    "    eval_position = X_train.shape[0]\n",
    "    n_classes = len(np.unique(y_train))\n",
    "    n_features = X_train.shape[1]\n",
    "\n",
    "    ys = torch.Tensor(y_train)\n",
    "    xs = torch.Tensor(np.vstack([X_train, X_test]))\n",
    "\n",
    "    eval_xs_ = normalize_data(xs, eval_position)\n",
    "\n",
    "    eval_xs = normalize_by_used_features_f(eval_xs_, X_train.shape[-1], max_features,\n",
    "                                                   normalize_with_sqrt=False)\n",
    "    x_all_torch = torch.Tensor(np.hstack([eval_xs, np.zeros((eval_xs.shape[0], 100 - eval_xs.shape[1]))]))\n",
    "    \n",
    "    x_src = model.encoder(x_all_torch.unsqueeze(1)[:len(X_train)])\n",
    "    y_src = model.y_encoder(ys.unsqueeze(1).unsqueeze(-1))\n",
    "    train_x = x_src + y_src\n",
    "    # src = torch.cat([global_src, style_src, train_x, x_src[single_eval_pos:]], 0)\n",
    "    output = model.transformer_encoder(train_x)\n",
    "    linear_model_coefs = model.decoder(output)\n",
    "    encoder_weight = model.encoder.get_parameter(\"weight\")\n",
    "    encoder_bias = model.encoder.get_parameter(\"bias\")\n",
    "\n",
    "    total_weights = torch.matmul(encoder_weight[:, :n_features].T, linear_model_coefs[0, :-1, :n_classes])\n",
    "    total_biases = torch.matmul(encoder_bias, linear_model_coefs[0, :-1, :n_classes]) + linear_model_coefs[0, -1, :n_classes]\n",
    "                      \n",
    "    pred_simple = torch.matmul(model.encoder(x_all_torch),  linear_model_coefs[0, :-1, :n_classes]) + linear_model_coefs[0, -1, :n_classes]\n",
    "    probs =  torch.nn.functional.softmax(pred_simple/ 0.8, dim=1)\n",
    "    return total_weights.detach().numpy() / (n_features / max_features), total_biases.detach().numpy(), probs[eval_position:]\n"
   ]
  },
  {
   "cell_type": "code",
   "execution_count": 102,
   "id": "19544ec4-de8c-427a-b853-8f63eb5ca3e9",
   "metadata": {},
   "outputs": [],
   "source": [
    "weights, biases = extract_linear_model(model, X_train, np.mod(y_train + 2, 3) )\n",
    "weights, biases, probs = predict_with_linear_model(model, X_train, np.mod(y_train + 2, 3), X_test)\n"
   ]
  },
  {
   "cell_type": "code",
   "execution_count": 106,
   "id": "6c5a17a7-877a-463c-bfa2-6ee2c154a8b4",
   "metadata": {},
   "outputs": [
    {
     "data": {
      "text/plain": [
       "tensor([[3.8660e-02, 2.6740e-12, 9.6134e-01],\n",
       "        [7.1888e-02, 1.0708e-11, 9.2811e-01],\n",
       "        [3.9089e-02, 1.2088e-11, 9.6091e-01],\n",
       "        [1.3291e-01, 4.6124e-11, 8.6709e-01],\n",
       "        [6.4584e-04, 1.0191e-15, 9.9935e-01],\n",
       "        [1.0291e-07, 1.0000e+00, 1.0170e-15],\n",
       "        [8.1023e-01, 1.8967e-01, 9.9063e-05],\n",
       "        [2.2517e-02, 1.5885e-12, 9.7748e-01],\n",
       "        [3.1979e-03, 9.9680e-01, 1.0756e-08],\n",
       "        [9.1629e-01, 8.3342e-02, 3.6608e-04],\n",
       "        [9.7878e-01, 2.0469e-02, 7.4996e-04],\n",
       "        [6.6996e-02, 1.0258e-11, 9.3300e-01],\n",
       "        [9.5299e-01, 4.6785e-02, 2.2798e-04],\n",
       "        [5.9498e-01, 4.0499e-01, 3.1640e-05],\n",
       "        [1.2667e-05, 9.9999e-01, 1.8275e-11],\n",
       "        [1.2139e-02, 4.3015e-13, 9.8786e-01],\n",
       "        [4.8299e-02, 9.5170e-01, 3.7459e-07],\n",
       "        [5.6333e-06, 9.9999e-01, 1.9947e-12],\n",
       "        [1.9692e-04, 9.9980e-01, 3.1611e-10],\n",
       "        [3.0287e-02, 1.5947e-12, 9.6971e-01],\n",
       "        [1.2270e-02, 9.8773e-01, 1.8575e-07],\n",
       "        [2.3998e-04, 9.9976e-01, 6.5801e-10],\n",
       "        [1.1607e-04, 9.9988e-01, 7.1957e-10],\n",
       "        [4.6075e-01, 5.3923e-01, 2.0145e-05],\n",
       "        [8.1231e-03, 2.7793e-13, 9.9188e-01],\n",
       "        [1.7368e-05, 9.9998e-01, 4.4578e-11],\n",
       "        [4.9501e-02, 9.5050e-01, 1.4561e-07],\n",
       "        [9.9539e-01, 4.1143e-03, 4.9298e-04],\n",
       "        [9.9634e-01, 2.6429e-03, 1.0198e-03],\n",
       "        [6.4782e-01, 3.5209e-01, 9.5887e-05],\n",
       "        [9.6657e-04, 7.4208e-16, 9.9903e-01],\n",
       "        [5.5388e-02, 4.4036e-12, 9.4461e-01],\n",
       "        [5.0664e-04, 9.9949e-01, 2.6576e-09],\n",
       "        [8.7749e-01, 1.2239e-01, 1.2530e-04],\n",
       "        [1.2150e-01, 4.0063e-11, 8.7850e-01],\n",
       "        [1.5032e-02, 2.9795e-13, 9.8497e-01],\n",
       "        [5.7387e-02, 9.4261e-01, 1.5759e-06],\n",
       "        [6.3694e-01, 1.2367e-08, 3.6306e-01]], grad_fn=<SliceBackward0>)"
      ]
     },
     "execution_count": 106,
     "metadata": {},
     "output_type": "execute_result"
    }
   ],
   "source": [
    "probs"
   ]
  },
  {
   "cell_type": "code",
   "execution_count": 119,
   "id": "1b073df4-18f6-4b56-9518-36f90dc2f66c",
   "metadata": {},
   "outputs": [
    {
     "data": {
      "text/plain": [
       "tensor([[-1.6016,  0.3172, -1.3934, -1.3621],\n",
       "        [-1.6016,  0.0835, -1.3359, -1.3621],\n",
       "        [-0.5795,  0.7847, -1.3359, -1.0961],\n",
       "        [-1.0906, -0.1503, -1.2784, -1.3621],\n",
       "        [-0.1962,  3.1221, -1.3359, -1.0961],\n",
       "        [ 2.3591, -1.0852,  1.7680,  1.4310],\n",
       "        [-0.4517, -1.3189,  0.1011,  0.1009],\n",
       "        [-1.6016,  0.7847, -1.3934, -1.2291],\n",
       "        [ 0.5704, -0.3840,  1.0208,  0.7660],\n",
       "        [ 1.0814,  0.0835,  0.3310,  0.2339],\n",
       "        [-0.3240, -0.1503,  0.1586,  0.1009],\n",
       "        [-1.8572, -0.1503, -1.4508, -1.3621],\n",
       "        [-0.0684, -1.0852,  0.1011, -0.0321],\n",
       "        [-0.4517, -1.7864,  0.1011,  0.1009],\n",
       "        [ 1.0814,  0.0835,  1.0208,  1.5640],\n",
       "        [-1.0906,  1.0184, -1.4508, -1.2291],\n",
       "        [ 0.5704, -1.3189,  0.6184,  0.3670],\n",
       "        [ 2.3591, -0.1503,  1.3082,  1.4310],\n",
       "        [-0.1962, -1.3189,  0.6759,  1.0320],\n",
       "        [-1.8572,  0.3172, -1.4508, -1.3621],\n",
       "        [ 0.4426, -0.6177,  0.5609,  0.7660],\n",
       "        [ 1.2092, -0.1503,  0.9633,  1.1650],\n",
       "        [ 1.3370,  0.0835,  0.7334,  1.4310],\n",
       "        [ 1.2092, -0.6177,  0.5609,  0.2339],\n",
       "        [-0.5795,  1.9534, -1.2209, -1.0961],\n",
       "        [ 1.7203,  1.2522,  1.3082,  1.6970],\n",
       "        [ 0.3148, -1.0852,  1.0208,  0.2339],\n",
       "        [-0.0684, -0.8515,  0.1586, -0.2981],\n",
       "        [-1.2183, -1.5527, -0.3013, -0.2981],\n",
       "        [ 1.0814,  0.0835,  0.5035,  0.3670],\n",
       "        [-0.0684,  2.1871, -1.5083, -1.3621],\n",
       "        [-1.3461,  0.7847, -1.1060, -1.3621],\n",
       "        [ 1.3370,  0.0835,  0.9058,  1.1650],\n",
       "        [ 0.9537, -0.3840,  0.4460,  0.1009],\n",
       "        [-1.8572, -0.3840, -1.3934, -1.3621],\n",
       "        [-0.8350,  1.0184, -1.3359, -1.3621],\n",
       "        [ 1.0814, -0.1503,  0.6759,  0.6330],\n",
       "        [-1.7294, -1.7864, -1.4508, -1.2291]])"
      ]
     },
     "execution_count": 119,
     "metadata": {},
     "output_type": "execute_result"
    }
   ],
   "source": [
    "eval_xs_[len(X_train):]"
   ]
  },
  {
   "cell_type": "code",
   "execution_count": 128,
   "id": "769fc572-3af7-46c1-a012-ab8328131f63",
   "metadata": {},
   "outputs": [
    {
     "data": {
      "text/plain": [
       "array([[-1.60162237,  0.31721574, -1.39336883, -1.36212528],\n",
       "       [-1.60162237,  0.08347783, -1.33588916, -1.36212528],\n",
       "       [-0.57950439,  0.78469156, -1.33588916, -1.09611302],\n",
       "       [-1.09056338, -0.15026009, -1.27840949, -1.36212528],\n",
       "       [-0.19621015,  3.12207066, -1.33588916, -1.09611302],\n",
       "       [ 2.3590848 , -1.08521173,  1.76801312,  1.43100346],\n",
       "       [-0.45173964, -1.31894964,  0.10110264,  0.10094215],\n",
       "       [-1.60162237,  0.78469156, -1.39336883, -1.22911915],\n",
       "       [ 0.57037834, -0.383998  ,  1.02077739,  0.76597281],\n",
       "       [ 1.08143732,  0.08347783,  0.33102132,  0.23394828],\n",
       "       [-0.32397489, -0.15026009,  0.15858231,  0.10094215],\n",
       "       [-1.85715186, -0.15026009, -1.4508485 , -1.36212528],\n",
       "       [-0.0684454 , -1.08521173,  0.10110264, -0.03206398],\n",
       "       [-0.45173964, -1.78642546,  0.10110264,  0.10094215],\n",
       "       [ 1.08143732,  0.08347783,  1.02077739,  1.56400959],\n",
       "       [-1.09056338,  1.01842947, -1.4508485 , -1.22911915],\n",
       "       [ 0.57037834, -1.31894964,  0.61841968,  0.36695441],\n",
       "       [ 2.3590848 , -0.15026009,  1.30817574,  1.43100346],\n",
       "       [-0.19621015, -1.31894964,  0.67589935,  1.03198507],\n",
       "       [-1.85715186,  0.31721574, -1.4508485 , -1.36212528],\n",
       "       [ 0.44261359, -0.61773591,  0.56094001,  0.76597281],\n",
       "       [ 1.20920207, -0.15026009,  0.96329771,  1.1649912 ],\n",
       "       [ 1.33696682,  0.08347783,  0.73337903,  1.43100346],\n",
       "       [ 1.20920207, -0.61773591,  0.56094001,  0.23394828],\n",
       "       [-0.57950439,  1.95338111, -1.22092981, -1.09611302],\n",
       "       [ 1.72026106,  1.25216738,  1.30817574,  1.69701572],\n",
       "       [ 0.31484884, -1.08521173,  1.02077739,  0.23394828],\n",
       "       [-0.0684454 , -0.85147382,  0.15858231, -0.29807624],\n",
       "       [-1.21832813, -1.55268755, -0.30125507, -0.29807624],\n",
       "       [ 1.08143732,  0.08347783,  0.50346034,  0.36695441],\n",
       "       [-0.0684454 ,  2.18711902, -1.50832817, -1.36212528],\n",
       "       [-1.34609287,  0.78469156, -1.10597047, -1.36212528],\n",
       "       [ 1.33696682,  0.08347783,  0.90581804,  1.1649912 ],\n",
       "       [ 0.95367258, -0.383998  ,  0.44598067,  0.10094215],\n",
       "       [-1.85715186, -0.383998  , -1.39336883, -1.36212528],\n",
       "       [-0.83503388,  1.01842947, -1.33588916, -1.36212528],\n",
       "       [ 1.08143732, -0.15026009,  0.67589935,  0.63296667],\n",
       "       [-1.72938711, -1.78642546, -1.4508485 , -1.22911915]])"
      ]
     },
     "execution_count": 128,
     "metadata": {},
     "output_type": "execute_result"
    }
   ],
   "source": [
    "X_test_scaled"
   ]
  },
  {
   "cell_type": "code",
   "execution_count": 117,
   "id": "eab88348-2da0-41a3-9c38-ad014605585e",
   "metadata": {},
   "outputs": [],
   "source": [
    "xs = torch.Tensor(np.vstack([X_train, X_test]))\n",
    "\n",
    "eval_xs_ = normalize_data(xs, len(X_train))"
   ]
  },
  {
   "cell_type": "code",
   "execution_count": 127,
   "id": "643e2418-a6da-45be-bbfa-1d2c7c6e5700",
   "metadata": {},
   "outputs": [],
   "source": [
    "mean = X_train.mean(axis=0)\n",
    "std = X_train.std(axis=0, ddof=1) + .000001\n",
    "X_test_scaled = (X_test - mean) / std\n",
    "X_test_scaled = np.clip(X_test_scaled, a_min=-100, a_max=100)\n",
    "res2 = np.dot(X_test_scaled , weights) + biases\n",
    "from scipy.special import softmax\n",
    "probs2 = softmax(res2 / .8, axis=1)\n"
   ]
  },
  {
   "cell_type": "code",
   "execution_count": 124,
   "id": "a6cf5a9d-4a50-4670-9ff6-06a9bb07fcc1",
   "metadata": {},
   "outputs": [
    {
     "data": {
      "text/plain": [
       "tensor([[3.8660e-02, 2.6740e-12, 9.6134e-01],\n",
       "        [7.1888e-02, 1.0708e-11, 9.2811e-01],\n",
       "        [3.9089e-02, 1.2088e-11, 9.6091e-01],\n",
       "        [1.3291e-01, 4.6124e-11, 8.6709e-01],\n",
       "        [6.4584e-04, 1.0191e-15, 9.9935e-01],\n",
       "        [1.0291e-07, 1.0000e+00, 1.0170e-15],\n",
       "        [8.1023e-01, 1.8967e-01, 9.9063e-05],\n",
       "        [2.2517e-02, 1.5885e-12, 9.7748e-01],\n",
       "        [3.1979e-03, 9.9680e-01, 1.0756e-08],\n",
       "        [9.1629e-01, 8.3342e-02, 3.6608e-04],\n",
       "        [9.7878e-01, 2.0469e-02, 7.4996e-04],\n",
       "        [6.6996e-02, 1.0258e-11, 9.3300e-01],\n",
       "        [9.5299e-01, 4.6785e-02, 2.2798e-04],\n",
       "        [5.9498e-01, 4.0499e-01, 3.1640e-05],\n",
       "        [1.2667e-05, 9.9999e-01, 1.8275e-11],\n",
       "        [1.2139e-02, 4.3015e-13, 9.8786e-01],\n",
       "        [4.8299e-02, 9.5170e-01, 3.7459e-07],\n",
       "        [5.6333e-06, 9.9999e-01, 1.9947e-12],\n",
       "        [1.9692e-04, 9.9980e-01, 3.1611e-10],\n",
       "        [3.0287e-02, 1.5947e-12, 9.6971e-01],\n",
       "        [1.2270e-02, 9.8773e-01, 1.8575e-07],\n",
       "        [2.3998e-04, 9.9976e-01, 6.5801e-10],\n",
       "        [1.1607e-04, 9.9988e-01, 7.1957e-10],\n",
       "        [4.6075e-01, 5.3923e-01, 2.0145e-05],\n",
       "        [8.1231e-03, 2.7793e-13, 9.9188e-01],\n",
       "        [1.7368e-05, 9.9998e-01, 4.4578e-11],\n",
       "        [4.9501e-02, 9.5050e-01, 1.4561e-07],\n",
       "        [9.9539e-01, 4.1143e-03, 4.9298e-04],\n",
       "        [9.9634e-01, 2.6429e-03, 1.0198e-03],\n",
       "        [6.4782e-01, 3.5209e-01, 9.5887e-05],\n",
       "        [9.6657e-04, 7.4208e-16, 9.9903e-01],\n",
       "        [5.5388e-02, 4.4036e-12, 9.4461e-01],\n",
       "        [5.0664e-04, 9.9949e-01, 2.6576e-09],\n",
       "        [8.7749e-01, 1.2239e-01, 1.2530e-04],\n",
       "        [1.2150e-01, 4.0063e-11, 8.7850e-01],\n",
       "        [1.5032e-02, 2.9795e-13, 9.8497e-01],\n",
       "        [5.7387e-02, 9.4261e-01, 1.5759e-06],\n",
       "        [6.3694e-01, 1.2367e-08, 3.6306e-01]], grad_fn=<SliceBackward0>)"
      ]
     },
     "execution_count": 124,
     "metadata": {},
     "output_type": "execute_result"
    }
   ],
   "source": [
    "probs"
   ]
  },
  {
   "cell_type": "code",
   "execution_count": 129,
   "id": "6010c14a-0f81-45d5-a7cf-f9fb1982ba92",
   "metadata": {},
   "outputs": [
    {
     "data": {
      "text/plain": [
       "array([[3.86596546e-02, 2.67393133e-12, 9.61340345e-01],\n",
       "       [7.18872965e-02, 1.07083961e-11, 9.28112703e-01],\n",
       "       [3.90886567e-02, 1.20883877e-11, 9.60911343e-01],\n",
       "       [1.32907184e-01, 4.61238117e-11, 8.67092816e-01],\n",
       "       [6.45841319e-04, 1.01912324e-15, 9.99354159e-01],\n",
       "       [1.02907803e-07, 9.99999897e-01, 1.01698184e-15],\n",
       "       [8.10234363e-01, 1.89666575e-01, 9.90621714e-05],\n",
       "       [2.25163715e-02, 1.58854090e-12, 9.77483628e-01],\n",
       "       [3.19794815e-03, 9.96802041e-01, 1.07561765e-08],\n",
       "       [9.16291372e-01, 8.33425423e-02, 3.66085924e-04],\n",
       "       [9.78781307e-01, 2.04687284e-02, 7.49964994e-04],\n",
       "       [6.69958395e-02, 1.02574856e-11, 9.33004160e-01],\n",
       "       [9.52986698e-01, 4.67853176e-02, 2.27984869e-04],\n",
       "       [5.94978896e-01, 4.04989463e-01, 3.16404333e-05],\n",
       "       [1.26670696e-05, 9.99987333e-01, 1.82755961e-11],\n",
       "       [1.21387794e-02, 4.30149550e-13, 9.87861221e-01],\n",
       "       [4.82992958e-02, 9.51700330e-01, 3.74589210e-07],\n",
       "       [5.63328661e-06, 9.99994367e-01, 1.99470722e-12],\n",
       "       [1.96921928e-04, 9.99803078e-01, 3.16107706e-10],\n",
       "       [3.02866544e-02, 1.59471237e-12, 9.69713346e-01],\n",
       "       [1.22699473e-02, 9.87729867e-01, 1.85750933e-07],\n",
       "       [2.39979138e-04, 9.99760020e-01, 6.58015777e-10],\n",
       "       [1.16073663e-04, 9.99883926e-01, 7.19574025e-10],\n",
       "       [4.60753056e-01, 5.39226799e-01, 2.01452697e-05],\n",
       "       [8.12305422e-03, 2.77926471e-13, 9.91876946e-01],\n",
       "       [1.73683641e-05, 9.99982632e-01, 4.45776660e-11],\n",
       "       [4.95008115e-02, 9.50499043e-01, 1.45613783e-07],\n",
       "       [9.95392724e-01, 4.11429773e-03, 4.92978768e-04],\n",
       "       [9.96337330e-01, 2.64288794e-03, 1.01978176e-03],\n",
       "       [6.47815920e-01, 3.52088193e-01, 9.58868822e-05],\n",
       "       [9.66569268e-04, 7.42083174e-16, 9.99033431e-01],\n",
       "       [5.53886032e-02, 4.40359981e-12, 9.44611397e-01],\n",
       "       [5.06648212e-04, 9.99493349e-01, 2.65766212e-09],\n",
       "       [8.77488183e-01, 1.22386516e-01, 1.25300869e-04],\n",
       "       [1.21500092e-01, 4.00635738e-11, 8.78499908e-01],\n",
       "       [1.50315002e-02, 2.97945791e-13, 9.84968500e-01],\n",
       "       [5.73872354e-02, 9.42611189e-01, 1.57593547e-06],\n",
       "       [6.36937814e-01, 1.23668197e-08, 3.63062174e-01]])"
      ]
     },
     "execution_count": 129,
     "metadata": {},
     "output_type": "execute_result"
    }
   ],
   "source": [
    "probs2"
   ]
  },
  {
   "cell_type": "code",
   "execution_count": 103,
   "id": "d1d266e9-88bd-4cc5-b815-bd442cc56879",
   "metadata": {},
   "outputs": [
    {
     "data": {
      "text/plain": [
       "array([2, 0, 1])"
      ]
     },
     "execution_count": 103,
     "metadata": {},
     "output_type": "execute_result"
    }
   ],
   "source": [
    "bla = np.mod(np.arange(3) + 2, 3)\n",
    "bla"
   ]
  },
  {
   "cell_type": "code",
   "execution_count": 104,
   "id": "8f8769f9-3948-4126-ae3a-68d316c5598b",
   "metadata": {},
   "outputs": [
    {
     "data": {
      "text/plain": [
       "tensor([[[ 0.0000e+00,  3.3528e-08,  2.5370e-17],\n",
       "         [-2.9802e-07,  3.2037e-07, -4.4235e-17],\n",
       "         [ 1.1921e-07, -1.7881e-07, -2.1684e-17],\n",
       "         [ 6.5565e-07, -5.3644e-07,  3.4694e-17],\n",
       "         [ 0.0000e+00, -4.3074e-09, -3.9175e-21],\n",
       "         [-3.9175e-21, -1.5703e-12,  0.0000e+00],\n",
       "         [ 1.8917e-10,  0.0000e+00, -4.4703e-08],\n",
       "         [-2.3842e-07,  2.1048e-07,  8.6736e-18],\n",
       "         [-4.1744e-14,  0.0000e+00,  0.0000e+00],\n",
       "         [-2.4738e-09,  7.1526e-07, -6.1840e-07],\n",
       "         [ 0.0000e+00,  0.0000e+00,  9.3132e-09],\n",
       "         [-1.7881e-07,  2.4587e-07,  3.8164e-17],\n",
       "         [-1.6880e-09,  1.7881e-07, -2.1607e-07],\n",
       "         [-4.7294e-11, -2.9802e-07,  3.5763e-07],\n",
       "         [-1.7521e-16, -9.6406e-11,  0.0000e+00],\n",
       "         [ 0.0000e+00,  0.0000e+00,  2.4666e-18],\n",
       "         [-1.0516e-12, -1.1176e-08,  0.0000e+00],\n",
       "         [ 1.5179e-17,  3.1832e-11,  0.0000e+00],\n",
       "         [ 1.1935e-15,  5.5297e-10,  0.0000e+00],\n",
       "         [ 0.0000e+00,  0.0000e+00, -1.8323e-17],\n",
       "         [-1.0942e-12, -6.5193e-09, -1.1921e-07],\n",
       "         [-2.4980e-15, -1.1496e-09,  0.0000e+00],\n",
       "         [ 0.0000e+00,  3.2742e-10,  0.0000e+00],\n",
       "         [ 3.6380e-12, -2.9802e-08,  5.9605e-08],\n",
       "         [-1.1921e-07,  1.4901e-08, -2.7105e-20],\n",
       "         [ 5.9328e-16,  2.0009e-10,  0.0000e+00],\n",
       "         [-5.6843e-14,  3.1665e-07, -3.5763e-07],\n",
       "         [-6.9849e-10,  0.0000e+00, -1.2107e-08],\n",
       "         [ 2.9104e-09,  0.0000e+00,  5.1223e-09],\n",
       "         [ 3.3469e-10,  4.1723e-07, -3.8743e-07],\n",
       "         [ 0.0000e+00, -2.7940e-09, -5.6645e-21],\n",
       "         [ 4.1723e-07, -5.0291e-07, -6.5052e-18],\n",
       "         [-5.3291e-15, -1.9209e-09,  0.0000e+00],\n",
       "         [ 8.7311e-11, -1.7881e-07,  1.7136e-07],\n",
       "         [-1.2517e-06,  1.2293e-06, -5.5511e-17],\n",
       "         [ 0.0000e+00,  1.3970e-08,  1.7076e-18],\n",
       "         [-1.7053e-12,  7.0781e-08, -1.1921e-07],\n",
       "         [-2.3842e-07,  1.7881e-07,  9.6811e-14]]], grad_fn=<SubBackward0>)"
      ]
     },
     "execution_count": 104,
     "metadata": {},
     "output_type": "execute_result"
    }
   ],
   "source": [
    "probs[:, bla] - res"
   ]
  },
  {
   "cell_type": "code",
   "execution_count": 29,
   "id": "88f656b6-f4b2-45f6-a401-2e2b620defef",
   "metadata": {},
   "outputs": [],
   "source": [
    "ss = StandardScaler()\n",
    "ss.fit(X_train)\n",
    "X_test_scaled = ss.transform(X_test)\n",
    "bla = np.dot(X_test_scaled , weights) + biases"
   ]
  },
  {
   "cell_type": "code",
   "execution_count": 40,
   "id": "1ac1103f-1de5-4906-b4b3-cb3db6537d7c",
   "metadata": {},
   "outputs": [],
   "source": [
    "from scipy.special import softmax\n",
    "probs = softmax(bla / np.exp(.8), axis=1)\n",
    "pred = np.mod(np.argmax(probs, 1) - 2, 3)"
   ]
  },
  {
   "cell_type": "code",
   "execution_count": 51,
   "id": "0eaed2e5-37f2-41c3-a103-c5d6a4769781",
   "metadata": {},
   "outputs": [
    {
     "data": {
      "text/plain": [
       "array([2, 0, 1])"
      ]
     },
     "execution_count": 51,
     "metadata": {},
     "output_type": "execute_result"
    }
   ],
   "source": [
    "bla = np.mod(np.arange(3) + 2, 3)\n",
    "bla"
   ]
  },
  {
   "cell_type": "code",
   "execution_count": 52,
   "id": "ee1f0098-49ec-4fe6-876b-101e7c845cc0",
   "metadata": {},
   "outputs": [
    {
     "data": {
      "text/plain": [
       "array([ True,  True,  True,  True,  True,  True,  True,  True,  True,\n",
       "        True,  True,  True,  True,  True,  True,  True, False,  True,\n",
       "        True,  True,  True,  True,  True, False,  True,  True,  True,\n",
       "        True,  True,  True,  True,  True,  True,  True,  True,  True,\n",
       "       False, False])"
      ]
     },
     "execution_count": 52,
     "metadata": {},
     "output_type": "execute_result"
    }
   ],
   "source": [
    "np.argmax(probs[:, bla], 1) == y_test"
   ]
  },
  {
   "cell_type": "code",
   "execution_count": 53,
   "id": "24311d9f-9b10-41df-b53c-b25bd1a07645",
   "metadata": {},
   "outputs": [
    {
     "data": {
      "text/plain": [
       "array([[2.36820625e-01, 5.12587027e-05, 7.63128117e-01],\n",
       "       [2.82203939e-01, 8.05778346e-05, 7.17715483e-01],\n",
       "       [2.37561888e-01, 8.83038710e-05, 7.62349808e-01],\n",
       "       [3.34660613e-01, 1.29683041e-04, 6.65209704e-01],\n",
       "       [6.52735482e-02, 3.60800810e-06, 9.34722844e-01],\n",
       "       [2.96277778e-03, 9.97033372e-01, 3.85000330e-06],\n",
       "       [6.11093308e-01, 3.65052707e-01, 2.38539850e-02],\n",
       "       [2.02397883e-01, 4.41226870e-05, 7.97557994e-01],\n",
       "       [1.10685490e-01, 8.88133981e-01, 1.18052947e-03],\n",
       "       [6.73633270e-01, 2.86042763e-01, 4.03239672e-02],\n",
       "       [7.54451829e-01, 1.88415251e-01, 5.71329201e-02],\n",
       "       [2.76698799e-01, 7.97929074e-05, 7.23221408e-01],\n",
       "       [7.19628046e-01, 2.44576811e-01, 3.57951427e-02],\n",
       "       [5.24335470e-01, 4.60511062e-01, 1.51534682e-02],\n",
       "       [1.66110448e-02, 9.83258442e-01, 1.30512982e-04],\n",
       "       [1.68225637e-01, 2.85999563e-05, 8.31745763e-01],\n",
       "       [2.51566554e-01, 7.44805606e-01, 3.62784080e-03],\n",
       "       [1.24506542e-02, 9.87490439e-01, 5.89064011e-05],\n",
       "       [4.35057823e-02, 9.56138965e-01, 3.55252887e-04],\n",
       "       [2.20725191e-01, 4.32938425e-05, 7.79231515e-01],\n",
       "       [1.68355102e-01, 8.28553849e-01, 3.09104866e-03],\n",
       "       [4.65715241e-02, 9.52967084e-01, 4.61392310e-04],\n",
       "       [3.62149116e-02, 9.63303407e-01, 4.81681603e-04],\n",
       "       [4.77319397e-01, 5.09827508e-01, 1.28530948e-02],\n",
       "       [1.48709226e-01, 2.49637606e-05, 8.51265811e-01],\n",
       "       [1.85782349e-02, 9.81242048e-01, 1.79717493e-04],\n",
       "       [2.53592138e-01, 7.43830899e-01, 2.57696336e-03],\n",
       "       [8.30728794e-01, 1.15533185e-01, 5.37380211e-02],\n",
       "       [8.31554763e-01, 9.85336381e-02, 6.99115985e-02],\n",
       "       [5.40088444e-01, 4.37322804e-01, 2.25887512e-02],\n",
       "       [7.47466567e-02, 3.18527949e-06, 9.25250158e-01],\n",
       "       [2.62303571e-01, 5.97029137e-05, 7.37636726e-01],\n",
       "       [6.01163611e-02, 9.39130856e-01, 7.52782700e-04],\n",
       "       [6.50708202e-01, 3.22427066e-01, 2.68647317e-02],\n",
       "       [3.26448874e-01, 1.24187139e-04, 6.73426939e-01],\n",
       "       [1.79459461e-01, 2.47363583e-05, 8.20515803e-01],\n",
       "       [2.63496159e-01, 7.30505354e-01, 5.99848666e-03],\n",
       "       [5.47647901e-01, 9.07547308e-04, 4.51444551e-01]])"
      ]
     },
     "execution_count": 53,
     "metadata": {},
     "output_type": "execute_result"
    }
   ],
   "source": [
    "probs"
   ]
  },
  {
   "cell_type": "code",
   "execution_count": 54,
   "id": "9276f40b-e4b2-4590-b51d-9127a2205c9f",
   "metadata": {},
   "outputs": [
    {
     "data": {
      "text/plain": [
       "tensor([[[9.6134e-01, 3.8660e-02, 2.6739e-12],\n",
       "         [9.2811e-01, 7.1888e-02, 1.0708e-11],\n",
       "         [9.6091e-01, 3.9089e-02, 1.2088e-11],\n",
       "         [8.6709e-01, 1.3291e-01, 4.6124e-11],\n",
       "         [9.9935e-01, 6.4584e-04, 1.0191e-15],\n",
       "         [1.0170e-15, 1.0291e-07, 1.0000e+00],\n",
       "         [9.9062e-05, 8.1023e-01, 1.8967e-01],\n",
       "         [9.7748e-01, 2.2516e-02, 1.5885e-12],\n",
       "         [1.0756e-08, 3.1979e-03, 9.9680e-01],\n",
       "         [3.6609e-04, 9.1629e-01, 8.3343e-02],\n",
       "         [7.4996e-04, 9.7878e-01, 2.0469e-02],\n",
       "         [9.3300e-01, 6.6996e-02, 1.0257e-11],\n",
       "         [2.2799e-04, 9.5299e-01, 4.6785e-02],\n",
       "         [3.1640e-05, 5.9498e-01, 4.0499e-01],\n",
       "         [1.8275e-11, 1.2667e-05, 9.9999e-01],\n",
       "         [9.8786e-01, 1.2139e-02, 4.3015e-13],\n",
       "         [3.7459e-07, 4.8299e-02, 9.5170e-01],\n",
       "         [1.9947e-12, 5.6332e-06, 9.9999e-01],\n",
       "         [3.1611e-10, 1.9692e-04, 9.9980e-01],\n",
       "         [9.6971e-01, 3.0287e-02, 1.5947e-12],\n",
       "         [1.8575e-07, 1.2270e-02, 9.8773e-01],\n",
       "         [6.5801e-10, 2.3998e-04, 9.9976e-01],\n",
       "         [7.1957e-10, 1.1607e-04, 9.9988e-01],\n",
       "         [2.0145e-05, 4.6075e-01, 5.3923e-01],\n",
       "         [9.9188e-01, 8.1231e-03, 2.7793e-13],\n",
       "         [4.4577e-11, 1.7368e-05, 9.9998e-01],\n",
       "         [1.4561e-07, 4.9501e-02, 9.5050e-01],\n",
       "         [4.9298e-04, 9.9539e-01, 4.1143e-03],\n",
       "         [1.0198e-03, 9.9634e-01, 2.6429e-03],\n",
       "         [9.5887e-05, 6.4781e-01, 3.5209e-01],\n",
       "         [9.9903e-01, 9.6658e-04, 7.4209e-16],\n",
       "         [9.4461e-01, 5.5389e-02, 4.4036e-12],\n",
       "         [2.6577e-09, 5.0664e-04, 9.9949e-01],\n",
       "         [1.2530e-04, 8.7749e-01, 1.2239e-01],\n",
       "         [8.7850e-01, 1.2150e-01, 4.0063e-11],\n",
       "         [9.8497e-01, 1.5032e-02, 2.9795e-13],\n",
       "         [1.5759e-06, 5.7387e-02, 9.4261e-01],\n",
       "         [3.6306e-01, 6.3694e-01, 1.2367e-08]]])"
      ]
     },
     "execution_count": 54,
     "metadata": {},
     "output_type": "execute_result"
    }
   ],
   "source": [
    "res"
   ]
  },
  {
   "cell_type": "code",
   "execution_count": 19,
   "id": "178d816c-7ea5-4b5a-9ff3-96fdf6e7bb40",
   "metadata": {},
   "outputs": [],
   "source": [
    "from tabpfn.utils import normalize_by_used_features_f\n",
    "X_all = np.vstack([X_train, X_test])\n",
    "max_features = 100\n",
    "eval_xs = normalize_by_used_features_f(X_all, X_all.shape[-1], max_features,\n",
    "                                               normalize_with_sqrt=False)\n",
    "x_all_torch = torch.Tensor(np.hstack([eval_xs, np.zeros((X_all.shape[0], 100 - X_all.shape[1]))]))"
   ]
  },
  {
   "cell_type": "code",
   "execution_count": 20,
   "id": "6a1eb192-306b-4b49-aded-6695a7190ba3",
   "metadata": {},
   "outputs": [],
   "source": [
    "eval_position = len(X_train)\n",
    "eval_xs_ = normalize_data(xs, eval_position)\n",
    "max_features = 100\n",
    "eval_xs_ = normalize_by_used_features_f(eval_xs_, eval_xs_.shape[-1], max_features,\n",
    "                                               normalize_with_sqrt=False)"
   ]
  },
  {
   "cell_type": "code",
   "execution_count": 21,
   "id": "2f64be1f-6940-4fac-b680-bb38471370ff",
   "metadata": {},
   "outputs": [
    {
     "data": {
      "text/plain": [
       "torch.Size([150, 4])"
      ]
     },
     "execution_count": 21,
     "metadata": {},
     "output_type": "execute_result"
    }
   ],
   "source": [
    "eval_xs_.shape"
   ]
  },
  {
   "cell_type": "code",
   "execution_count": 22,
   "id": "2b641223-87cc-4c70-a0b0-359703ca3669",
   "metadata": {},
   "outputs": [
    {
     "data": {
      "text/plain": [
       "tensor([25.0000, 24.9999, 25.0000, 25.0000])"
      ]
     },
     "execution_count": 22,
     "metadata": {},
     "output_type": "execute_result"
    }
   ],
   "source": [
    "eval_xs_[:112].std(0)"
   ]
  },
  {
   "cell_type": "code",
   "execution_count": 23,
   "id": "4645ad63-e163-466b-948a-433ca45699c2",
   "metadata": {},
   "outputs": [
    {
     "data": {
      "text/plain": [
       "tensor([-3.0177e-05, -1.6349e-06,  2.4779e-06,  3.0654e-07])"
      ]
     },
     "execution_count": 23,
     "metadata": {},
     "output_type": "execute_result"
    }
   ],
   "source": [
    "eval_xs_[:112].mean(0)"
   ]
  },
  {
   "cell_type": "code",
   "execution_count": 24,
   "id": "b32c048d-2500-41b3-8493-81f0c44ad487",
   "metadata": {},
   "outputs": [
    {
     "data": {
      "text/plain": [
       "torch.Size([150, 100])"
      ]
     },
     "execution_count": 24,
     "metadata": {},
     "output_type": "execute_result"
    }
   ],
   "source": [
    "x_all_torch = torch.concat([eval_xs_, torch.zeros((eval_xs.shape[0], 100 - eval_xs.shape[1]))], dim=1)\n",
    "x_all_torch.shape"
   ]
  },
  {
   "cell_type": "code",
   "execution_count": 25,
   "id": "6c15bbc7-9031-4c59-97a7-e35f01313a3d",
   "metadata": {},
   "outputs": [],
   "source": [
    "ys = torch.Tensor(y_train)\n",
    "res = model((x_all_torch.unsqueeze(1), ys.unsqueeze(1)), single_eval_pos=len(X_train))"
   ]
  },
  {
   "cell_type": "code",
   "execution_count": 38,
   "id": "c2b341b6-9aa6-448f-803a-646d8853eece",
   "metadata": {},
   "outputs": [],
   "source": [
    "x_src = model.encoder(x_all_torch.unsqueeze(1)[:len(X_train)])\n",
    "y_src = model.y_encoder(ys.unsqueeze(1).unsqueeze(-1))\n",
    "train_x = x_src + y_src\n",
    "# src = torch.cat([global_src, style_src, train_x, x_src[single_eval_pos:]], 0)\n",
    "output = model.transformer_encoder(train_x)\n",
    "linear_model_coefs = model.decoder(output)\n"
   ]
  },
  {
   "cell_type": "code",
   "execution_count": 41,
   "id": "2de4860d-dff8-4891-b5b9-920411594485",
   "metadata": {},
   "outputs": [
    {
     "data": {
      "text/plain": [
       "torch.Size([1, 513, 10])"
      ]
     },
     "execution_count": 41,
     "metadata": {},
     "output_type": "execute_result"
    }
   ],
   "source": [
    "linear_model_coefs.shape"
   ]
  },
  {
   "cell_type": "code",
   "execution_count": 99,
   "id": "4cfaf1be-4dc9-412c-a4d4-3ddf372a72e9",
   "metadata": {},
   "outputs": [],
   "source": [
    "def extract_linear_model(model, X_train, y_train):\n",
    "    max_features = 100\n",
    "    n_classes = len(np.unique(y_train))\n",
    "    n_features = X_train.shape[1]\n",
    "\n",
    "    ys = torch.Tensor(y_train)\n",
    "    xs = torch.Tensor(X_train)\n",
    "\n",
    "    eval_xs_ = normalize_data(xs, eval_position)\n",
    "\n",
    "    eval_xs = normalize_by_used_features_f(eval_xs_, X_train.shape[-1], max_features,\n",
    "                                                   normalize_with_sqrt=False)\n",
    "    x_all_torch = torch.Tensor(np.hstack([eval_xs, np.zeros((X_train.shape[0], 100 - X_train.shape[1]))]))\n",
    "    \n",
    "    x_src = model.encoder(x_all_torch.unsqueeze(1)[:len(X_train)])\n",
    "    y_src = model.y_encoder(ys.unsqueeze(1).unsqueeze(-1))\n",
    "    train_x = x_src + y_src\n",
    "    # src = torch.cat([global_src, style_src, train_x, x_src[single_eval_pos:]], 0)\n",
    "    output = model.transformer_encoder(train_x)\n",
    "    linear_model_coefs = model.decoder(output)\n",
    "    total_weights = torch.matmul(encoder_weight[:, :n_features].T, linear_model_coefs[0, :-1, :n_classes])\n",
    "    total_biases = torch.matmul(encoder_bias, linear_model_coefs[0, :-1, :n_classes]) + linear_model_coefs[0, -1, :n_classes]\n",
    "    return total_weights.detach().numpy() / (n_features / max_features), total_biases.detach().numpy()"
   ]
  },
  {
   "cell_type": "code",
   "execution_count": 100,
   "id": "70258ae2-7841-44e7-ab4e-f074592b2595",
   "metadata": {},
   "outputs": [],
   "source": [
    "weights, biases = extract_linear_model(model, X_train, y_train)"
   ]
  },
  {
   "cell_type": "code",
   "execution_count": 105,
   "id": "d49f4d2e-e54f-4840-9b8f-8089c5249afd",
   "metadata": {},
   "outputs": [],
   "source": [
    "ss = StandardScaler()\n",
    "ss.fit(X_train)\n",
    "X_test_scaled = ss.transform(X_test)"
   ]
  },
  {
   "cell_type": "code",
   "execution_count": 107,
   "id": "afcafb18-d459-44fb-bbee-e57daca7bb52",
   "metadata": {},
   "outputs": [],
   "source": [
    "bla = np.dot(X_test_scaled , weights) + biases"
   ]
  },
  {
   "cell_type": "code",
   "execution_count": 111,
   "id": "573810b2-3fd8-4726-ad6a-919ce8dc44cb",
   "metadata": {},
   "outputs": [
    {
     "data": {
      "text/plain": [
       "0.8947368421052632"
      ]
     },
     "execution_count": 111,
     "metadata": {},
     "output_type": "execute_result"
    }
   ],
   "source": []
  },
  {
   "cell_type": "code",
   "execution_count": 49,
   "id": "18dc6cc0-2080-42df-adde-6113520e18c2",
   "metadata": {},
   "outputs": [],
   "source": [
    "encoder_weight = model.encoder.get_parameter(\"weight\")\n",
    "encoder_bias = model.encoder.get_parameter(\"bias\")\n"
   ]
  },
  {
   "cell_type": "code",
   "execution_count": 70,
   "id": "0aabab68-5c29-4b6d-994a-956e1e4bfdba",
   "metadata": {},
   "outputs": [],
   "source": [
    "n_features = X_train.shape[1]\n",
    "n_classes = 3\n",
    "total_weights = torch.matmul(encoder_weight[:, :n_features].T, linear_model_coefs[0, :-1, :n_classes])"
   ]
  },
  {
   "cell_type": "code",
   "execution_count": 71,
   "id": "ab1ad34e-0179-4f33-9d34-5dfe9b2b8d25",
   "metadata": {},
   "outputs": [
    {
     "data": {
      "text/plain": [
       "torch.Size([3])"
      ]
     },
     "execution_count": 71,
     "metadata": {},
     "output_type": "execute_result"
    }
   ],
   "source": [
    "total_biases = torch.matmul(encoder_bias, linear_model_coefs[0, :-1, :n_classes]) + linear_model_coefs[0, -1, :n_classes]\n",
    "total_biases.shape"
   ]
  },
  {
   "cell_type": "code",
   "execution_count": 72,
   "id": "2e6625c8-40dd-412e-86cc-a807f11f2360",
   "metadata": {},
   "outputs": [
    {
     "data": {
      "text/plain": [
       "torch.Size([150, 4])"
      ]
     },
     "execution_count": 72,
     "metadata": {},
     "output_type": "execute_result"
    }
   ],
   "source": [
    "eval_xs_.shape"
   ]
  },
  {
   "cell_type": "code",
   "execution_count": 73,
   "id": "92cc8c17-b4d9-410e-8669-0b162d150e6c",
   "metadata": {},
   "outputs": [
    {
     "data": {
      "text/plain": [
       "torch.Size([4, 3])"
      ]
     },
     "execution_count": 73,
     "metadata": {},
     "output_type": "execute_result"
    }
   ],
   "source": [
    "total_weights.shape"
   ]
  },
  {
   "cell_type": "code",
   "execution_count": 83,
   "id": "b6cae766-a45f-42bf-b9f2-93d1f4b43e20",
   "metadata": {},
   "outputs": [
    {
     "data": {
      "text/plain": [
       "0.8947368421052632"
      ]
     },
     "execution_count": 83,
     "metadata": {},
     "output_type": "execute_result"
    },
    {
     "name": "stderr",
     "output_type": "stream",
     "text": [
      "Bad pipe message: %s [b\"y\\xd8'\\xbc(\\xf7\\xaf=\\xed\\x07\\xd1\\xabv\\xdcsKB# \\xfc\\x8d\\x94Z2\\xab*\\xe7\\xea\\xd0\\xf0\\x1f\\xa7/^\\x11\\x99\\x86\\x82\"]\n",
      "Bad pipe message: %s [b'\\x7f\\x1fL\\xb8\\x9d\\x7f\\xe4]\\xcf\\xf4\\xe2\\x00\\x08\\x13\\x02\\x13\\x03\\x13\\x01\\x00\\xff\\x01\\x00\\x00\\x8f\\x00\\x00\\x00\\x0e\\x00\\x0c\\x00\\x00\\t127.0.0.1\\x00\\x0b\\x00\\x04\\x03']\n",
      "Bad pipe message: %s [b'Cb\\xb5\\xf5P7\\x99\\x1f)>\\x1a\\x0e\\x94\\xd0\\xc7cG\\x05\\x00\\x00\\xa6\\xc0,\\xc00\\x00\\xa3\\x00\\x9f\\xcc\\xa9\\xcc\\xa8\\xcc\\xaa\\xc0\\xaf\\xc0\\xad\\xc0\\xa3\\xc0\\x9f\\xc0]\\xc0a\\xc0W\\xc0S\\xc0+\\xc0/\\x00\\xa2\\x00\\x9e\\xc0\\xae\\xc0\\xac\\xc0\\xa2\\xc0\\x9e\\xc0\\\\\\xc0`\\xc0V\\xc0R\\xc0$\\xc0(\\x00k\\x00']\n",
      "Bad pipe message: %s [b\"s\\xc0w\\x00\\xc4\\x00\\xc3\\xc0#\\xc0'\\x00g\\x00@\\xc0r\\xc0v\\x00\\xbe\\x00\\xbd\\xc0\\n\\xc0\\x14\\x009\\x008\\x00\\x88\\x00\\x87\\xc0\\t\\xc0\\x13\\x003\\x002\\x00\\x9a\\x00\\x99\\x00E\\x00D\\xc0\\x07\\xc0\\x11\\xc0\\x08\\xc0\\x12\\x00\\x16\\x00\\x13\\x00\\x9d\\xc0\\xa1\\xc0\\x9d\\xc0Q\\x00\\x9c\\xc0\\xa0\\xc0\\x9c\\xc0P\\x00=\\x00\\xc0\\x00<\\x00\\xba\\x005\\x00\\x84\\x00/\\x00\\x96\\x00A\\x00\\x05\\x00\\n\\x00\\xff\\x01\\x00\"]\n",
      "Bad pipe message: %s [b'\\xa3\\x1c\\x01$\\x04\\xa6\\xfb\\xcb\\xad\\x02\\x98\\xc6G\\x0e0\\xbb\\xc0\\x07\\x00\\x00>\\xc0\\x14\\xc0\\n\\x009\\x008\\x007\\x006\\xc0\\x0f\\xc0\\x05\\x005\\xc0\\x13\\xc0\\t\\x003\\x002\\x001\\x000\\xc0\\x0e\\xc0\\x04\\x00/\\x00\\x9a\\x00\\x99\\x00\\x98\\x00\\x97\\x00\\x96\\x00\\x07\\xc0\\x11\\xc0\\x07\\xc0\\x0c\\xc0\\x02\\x00\\x05\\x00\\x04\\x00\\xff\\x02\\x01\\x00\\x00C\\x00\\x00\\x00\\x0e\\x00\\x0c\\x00']\n",
      "Bad pipe message: %s [b'\\x1f\\xae1\\xd1,iU\\xe2R\\xb0*\\xc0F&\\xb3\\x93W0\\x00\\x00\\xa2\\xc0\\x14\\xc0\\n\\x00', b'8\\x007\\x006\\x00\\x88\\x00\\x87\\x00\\x86\\x00\\x85\\xc0\\x19\\x00:\\x00\\x89\\xc0\\x0f\\xc0\\x05\\x005\\x00\\x84\\xc0\\x13\\xc0\\t\\x003\\x002\\x001\\x000\\x00\\x9a\\x00\\x99\\x00\\x98\\x00\\x97\\x00E\\x00D\\x00C\\x00B\\xc0']\n",
      "Bad pipe message: %s [b'4\\x00\\x9b\\x00F\\xc0\\x0e\\xc0\\x04\\x00/\\x00\\x96\\x00A\\x00\\x07\\xc0\\x11\\xc0\\x07\\xc0\\x16']\n",
      "Bad pipe message: %s [b'\\xa6CY+\\xbb\\x05Y\\x13\\xaf_$\\x16\\x12Hn\\xb1\\xf3\\x81\\x00\\x00>\\xc0\\x14\\xc0\\n\\x009\\x008\\x007\\x006\\xc0\\x0f\\xc0\\x05\\x005\\xc0\\x13\\xc0\\t\\x003\\x002\\x001\\x000\\xc0\\x0e\\xc0\\x04\\x00/\\x00\\x9a\\x00\\x99\\x00\\x98\\x00\\x97\\x00\\x96\\x00\\x07\\xc0\\x11\\xc0\\x07\\xc0\\x0c\\xc0\\x02\\x00\\x05\\x00\\x04\\x00\\xff\\x02\\x01\\x00\\x00C\\x00\\x00\\x00\\x0e\\x00\\x0c\\x00\\x00\\t127.0.0.1\\x00\\x0b\\x00\\x04\\x03\\x00\\x01\\x02\\x00\\n\\x00\\x1c\\x00\\x1a']\n",
      "Bad pipe message: %s [b'\\x82@\\x0c\\x97(`\\x077\\xd0\\x03\\x90d\\x98<\\xafR\\x83\\x9d\\x00\\x00\\xa2\\xc0\\x14\\xc0\\n\\x009\\x008\\x007\\x006\\x00\\x88\\x00\\x87\\x00\\x86\\x00\\x85\\xc0\\x19\\x00:\\x00\\x89\\xc0\\x0f\\xc0\\x05\\x005\\x00\\x84\\xc0\\x13\\xc0\\t\\x003\\x002\\x001\\x000\\x00\\x9a\\x00\\x99\\x00\\x98\\x00\\x97\\x00E\\x00D\\x00C\\x00B\\xc0\\x18\\x004\\x00\\x9b\\x00F\\xc0\\x0e\\xc0\\x04\\x00/\\x00\\x96\\x00A\\x00\\x07\\xc0\\x11\\xc0\\x07\\xc0\\x16\\x00\\x18\\xc0\\x0c\\xc0\\x02\\x00\\x05\\x00\\x04\\xc0\\x12\\xc0\\x08\\x00\\x16\\x00\\x13\\x00\\x10\\x00\\r\\xc0\\x17\\x00\\x1b\\xc0\\r\\xc0\\x03\\x00\\n\\x00\\x15\\x00\\x12\\x00\\x0f\\x00\\x0c\\x00\\x1a\\x00\\t\\x00\\x14\\x00\\x11\\x00\\x19\\x00\\x08\\x00\\x06\\x00\\x17\\x00\\x03\\xc0\\x10\\xc0\\x06\\xc0\\x15\\xc0\\x0b\\xc0\\x01\\x00\\x02\\x00\\x01\\x00\\xff\\x02\\x01\\x00\\x00C\\x00\\x00\\x00\\x0e\\x00\\x0c\\x00\\x00\\t127.0.0.1\\x00\\x0b']\n",
      "Bad pipe message: %s [b'\\xb8\\x9d_\\xf3\\xeb\\xef\\x11\\xe8\\x86\\x8f\\xf9\\xee\\x8b-~\\x0fB\\x9e\\x00\\x00>\\xc0\\x14\\xc0\\n\\x009\\x008\\x007']\n",
      "Bad pipe message: %s [b'F\\x1c\\x8fE\\xae1\\xd3\\x0e\\xbd\\x16\\x9e\\xc1\\x91\\xdbL-<\\xc9\\x00\\x00\\xa2\\xc0\\x14\\xc0\\n\\x009\\x008\\x007\\x006\\x00\\x88\\x00\\x87\\x00\\x86\\x00\\x85\\xc0\\x19\\x00:\\x00\\x89\\xc0\\x0f\\xc0\\x05\\x005\\x00\\x84\\xc0\\x13\\xc0\\t\\x003\\x002\\x001\\x000\\x00\\x9a\\x00\\x99\\x00\\x98\\x00\\x97\\x00E\\x00D\\x00C\\x00B\\xc0\\x18\\x004\\x00\\x9b\\x00F\\xc0', b'\\x04\\x00/\\x00\\x96\\x00A\\x00\\x07\\xc0\\x11\\xc0\\x07']\n",
      "Bad pipe message: %s [b\"5\\xca\\xf5\\x93!\\x8a\\x86G\\x9c\\xf2\\xcb\\x81\\x91:\\xd2\\xa0%\\xe6\\x00\\x00\\x86\\xc00\\xc0,\\xc0(\\xc0$\\xc0\\x14\\xc0\\n\\x00\\xa5\\x00\\xa3\\x00\\xa1\\x00\\x9f\\x00k\\x00j\\x00i\\x00h\\x009\\x008\\x007\\x006\\xc02\\xc0.\\xc0*\\xc0&\\xc0\\x0f\\xc0\\x05\\x00\\x9d\\x00=\\x005\\xc0/\\xc0+\\xc0'\\xc0#\\xc0\\x13\\xc0\\t\\x00\\xa4\\x00\\xa2\\x00\\xa0\\x00\\x9e\\x00g\\x00@\\x00?\\x00>\\x003\\x002\\x001\\x000\\xc01\\xc0-\\xc0)\\xc0%\\xc0\\x0e\\xc0\\x04\\x00\\x9c\"]\n"
     ]
    }
   ],
   "source": [
    "((torch.matmul(eval_xs_, total_weights) + total_biases).argmax(1)[112:].detach().numpy() == y_test).mean()"
   ]
  },
  {
   "cell_type": "code",
   "execution_count": 46,
   "id": "f6b4f61c-cbf3-4e0f-b37b-96151e084b1f",
   "metadata": {},
   "outputs": [
    {
     "data": {
      "text/plain": [
       "[('weight',\n",
       "  Parameter containing:\n",
       "  tensor([[ 0.0670, -0.0613,  0.0725,  ...,  0.0519,  0.0198, -0.0384],\n",
       "          [-0.0141,  0.0031,  0.0919,  ...,  0.0247, -0.0806,  0.0766],\n",
       "          [-0.0151, -0.0461,  0.0375,  ...,  0.0191,  0.0504, -0.0113],\n",
       "          ...,\n",
       "          [-0.0445,  0.0645,  0.0400,  ..., -0.0645,  0.0573, -0.0435],\n",
       "          [-0.0159, -0.0177, -0.0205,  ...,  0.0716, -0.0397,  0.0622],\n",
       "          [ 0.0612,  0.0584,  0.0001,  ...,  0.0596, -0.0759,  0.1071]],\n",
       "         requires_grad=True)),\n",
       " ('bias',\n",
       "  Parameter containing:\n",
       "  tensor([ 2.0529e-02, -9.1211e-02, -8.5835e-02,  7.3189e-02, -1.5755e-02,\n",
       "          -1.4510e-01, -1.0569e-01, -3.5785e-02, -1.3507e-01,  8.9870e-02,\n",
       "           7.2533e-02,  5.2945e-02,  1.1816e-01,  1.2436e-01, -2.9489e-02,\n",
       "          -3.2538e-02, -1.4101e-01, -5.0609e-03,  1.4305e-01,  2.4858e-02,\n",
       "          -3.9943e-02,  6.6448e-02,  1.3602e-01, -1.4026e-01, -2.9958e-02,\n",
       "           1.1587e-01,  1.3399e-02, -1.3202e-01, -1.1304e-01, -1.3910e-01,\n",
       "           9.5916e-02, -9.2255e-02,  8.2859e-02, -1.5297e-01,  3.8579e-02,\n",
       "          -1.3049e-01,  1.0660e-01,  7.8059e-02,  1.2422e-01, -1.3298e-01,\n",
       "          -9.5877e-02, -4.3096e-02,  3.7056e-02,  1.1372e-01, -1.1897e-01,\n",
       "          -4.7116e-02, -8.2880e-02, -5.5135e-02,  1.2443e-01,  1.2465e-01,\n",
       "           7.6630e-02, -4.1523e-02,  6.7793e-02,  7.8892e-02, -1.2288e-01,\n",
       "           6.4467e-02,  9.0376e-02,  1.9189e-01, -1.3114e-01,  1.2238e-01,\n",
       "          -8.8249e-02,  8.9786e-02,  1.5921e-02, -5.1314e-02,  1.1575e-01,\n",
       "           3.7146e-02, -8.8343e-02, -4.3913e-02,  1.2913e-01, -1.4997e-01,\n",
       "          -9.9293e-02,  4.8567e-02, -6.1441e-02, -5.5856e-02, -5.7329e-02,\n",
       "          -1.4496e-01, -1.3110e-01,  1.6430e-01,  4.4367e-02,  8.9016e-02,\n",
       "          -2.1849e-02, -6.7896e-02, -1.9681e-02,  1.1342e-01, -2.4856e-02,\n",
       "          -1.4303e-01, -9.5722e-02, -9.9269e-02, -8.1090e-02, -9.0433e-02,\n",
       "           5.7141e-02,  2.1030e-02, -1.3392e-01,  7.6632e-02, -1.0815e-01,\n",
       "          -2.8249e-02, -6.1840e-02, -1.3861e-01, -4.4334e-02, -1.5722e-01,\n",
       "           1.1797e-01, -4.8360e-02,  1.4452e-01,  6.9971e-02, -9.6629e-02,\n",
       "           1.0987e-01, -2.7752e-03,  1.0555e-02,  1.6981e-01,  3.3962e-02,\n",
       "          -6.2635e-03, -6.0681e-02, -1.2505e-02, -5.7777e-03, -1.1435e-01,\n",
       "          -8.2249e-03,  1.2074e-01,  8.1669e-03, -1.3997e-01,  1.5254e-01,\n",
       "          -5.2917e-02, -7.1354e-02,  1.3920e-01, -6.8815e-02,  4.3048e-02,\n",
       "           8.4651e-02, -1.0743e-01, -1.9563e-01,  1.8641e-02, -8.0944e-02,\n",
       "          -2.3065e-02,  9.5332e-02, -1.6687e-02,  1.0459e-01, -9.5023e-02,\n",
       "           3.7912e-03, -7.0202e-02, -4.3671e-02, -2.4477e-02, -3.4188e-02,\n",
       "           1.9253e-02,  1.3724e-01, -8.6817e-02, -1.0818e-01,  1.2633e-01,\n",
       "          -7.5881e-02, -8.5961e-03, -1.6658e-01,  1.0121e-01, -1.6443e-01,\n",
       "          -1.3323e-01,  1.1964e-01,  1.8112e-02, -1.1502e-01,  1.1291e-01,\n",
       "          -1.3735e-01,  1.0373e-01,  9.9837e-02,  2.4599e-02,  3.7097e-02,\n",
       "          -3.7348e-02, -1.7163e-01,  8.7922e-02, -1.7041e-01,  4.7662e-02,\n",
       "          -6.4519e-02, -2.1510e-02, -4.2960e-02, -6.1934e-02, -5.8214e-02,\n",
       "          -1.8424e-01, -6.0361e-02, -6.6347e-02, -1.3357e-01, -8.9499e-03,\n",
       "          -1.0048e-01, -1.2646e-01, -1.0645e-01,  8.7953e-02,  6.1577e-02,\n",
       "          -1.4925e-02, -1.1579e-01, -1.0303e-01,  6.9401e-02, -8.4952e-02,\n",
       "           3.6617e-02, -3.3312e-02,  9.7053e-03, -7.8162e-02,  2.1916e-02,\n",
       "           1.6212e-01,  1.9089e-01,  3.9537e-02, -3.0852e-02,  9.5425e-03,\n",
       "           1.4180e-01, -6.3061e-02, -1.7670e-01,  6.0231e-02,  1.4519e-01,\n",
       "          -1.3069e-01,  1.7487e-01, -1.4954e-01, -1.1609e-01,  8.9978e-02,\n",
       "           2.3900e-02, -4.1199e-03,  3.1071e-02,  5.4957e-02, -8.0351e-02,\n",
       "          -3.2071e-03, -2.5444e-02,  1.1867e-01,  7.7913e-04,  5.0130e-02,\n",
       "           1.3671e-01,  3.5279e-02, -1.6401e-01, -1.5726e-01,  1.0823e-01,\n",
       "           9.2329e-02,  2.6743e-02,  1.5830e-02, -9.7154e-02, -1.2290e-01,\n",
       "          -2.2412e-02,  3.5495e-02,  1.3400e-01,  4.6539e-02,  1.3676e-01,\n",
       "          -5.9260e-02,  1.4922e-01, -9.4800e-02,  1.0402e-01,  3.9375e-02,\n",
       "          -1.0745e-01,  1.0757e-02, -5.1198e-02,  2.9900e-03,  2.3717e-02,\n",
       "          -1.1087e-01, -1.4477e-01,  1.2711e-01,  1.2364e-01, -1.0601e-02,\n",
       "           1.2742e-01, -9.5779e-02, -1.6147e-01, -6.8617e-02, -9.7391e-02,\n",
       "           1.4517e-01, -5.7878e-02, -1.4768e-01, -1.7563e-02,  4.0114e-02,\n",
       "           7.5618e-02, -6.9307e-02,  2.9781e-02,  1.4228e-01,  6.6175e-02,\n",
       "           1.5340e-01,  6.6401e-02,  7.7789e-02, -4.5239e-02, -1.0666e-01,\n",
       "          -5.9688e-02, -1.0365e-01, -1.2184e-01, -1.5353e-01, -1.1416e-01,\n",
       "           2.9205e-02,  4.2841e-03,  2.1229e-02, -1.2844e-01,  1.3263e-01,\n",
       "           1.4482e-01, -4.0630e-02, -1.1545e-01,  1.3413e-01, -7.3519e-02,\n",
       "           1.7812e-02, -5.9163e-02,  1.2216e-02, -1.1450e-01,  3.2159e-02,\n",
       "           1.1673e-01, -9.8101e-02, -3.6983e-02,  1.6469e-01,  1.1575e-02,\n",
       "          -5.0676e-02, -3.2246e-02, -1.4842e-01,  1.5431e-01, -9.7289e-02,\n",
       "          -4.5965e-02, -2.1839e-02,  1.0725e-01, -5.8548e-02, -1.0571e-01,\n",
       "           9.1537e-02,  4.3951e-02, -4.9939e-02,  1.0978e-01, -1.1313e-01,\n",
       "          -1.6094e-02,  7.6837e-02,  8.5112e-02, -9.4379e-02,  1.4261e-01,\n",
       "           5.7253e-03, -5.4089e-02, -9.4058e-02, -5.4534e-02,  6.6520e-02,\n",
       "           1.2529e-01, -3.9432e-02, -9.3765e-03,  5.8015e-02, -1.7382e-01,\n",
       "          -1.0636e-01, -5.2777e-02, -9.3588e-02,  1.9195e-02,  1.3988e-01,\n",
       "          -3.8587e-02, -1.3699e-01,  5.0758e-02,  1.0583e-01, -3.9333e-02,\n",
       "          -1.4196e-01,  6.0338e-02, -8.1849e-02, -1.3877e-01,  1.0163e-01,\n",
       "          -8.3587e-02,  1.4419e-01,  2.5789e-02, -1.1168e-01,  1.2019e-01,\n",
       "           1.4693e-01,  9.2623e-03, -1.1725e-01, -1.4426e-01, -7.1013e-02,\n",
       "          -1.2253e-01,  1.5037e-02, -1.5853e-01,  1.2948e-01,  1.6336e-02,\n",
       "           1.1009e-01,  9.5779e-02,  1.0662e-01,  1.1037e-01, -8.2250e-02,\n",
       "          -4.0600e-02,  1.9240e-02,  4.1744e-02, -8.2482e-02, -9.3191e-02,\n",
       "           1.6011e-01, -1.4699e-02,  2.0528e-02,  1.7064e-04,  2.6443e-02,\n",
       "          -2.4475e-02,  4.1924e-02, -1.1279e-01, -4.5760e-02,  1.0398e-01,\n",
       "           9.5975e-02, -6.4594e-03, -1.0501e-01, -3.5072e-02,  7.3801e-02,\n",
       "           1.3988e-01,  3.1775e-02, -6.4962e-03, -1.2432e-01,  1.4085e-01,\n",
       "           1.4068e-01, -8.2370e-04,  8.2040e-02,  1.9507e-02,  1.1497e-01,\n",
       "          -3.3330e-03,  9.9855e-02,  1.1696e-01,  1.1124e-01, -9.4525e-02,\n",
       "          -1.4239e-01,  2.4591e-03, -9.2026e-02, -9.1330e-02,  1.2792e-01,\n",
       "          -5.0559e-02,  5.4810e-02, -8.6693e-02, -2.6741e-02,  1.2932e-01,\n",
       "           8.1145e-02, -9.3068e-02, -6.8913e-02, -1.4219e-01,  1.7050e-01,\n",
       "          -1.1757e-02,  8.2853e-02,  6.8457e-02, -7.2744e-02,  1.6897e-01,\n",
       "          -1.2017e-01, -3.9728e-02, -1.1007e-01, -7.2532e-02,  1.4608e-01,\n",
       "           5.0398e-02, -5.7627e-02, -1.1966e-01,  1.0727e-01,  3.2661e-02,\n",
       "          -3.5365e-02,  1.1435e-01, -1.3522e-01, -4.2796e-02,  7.0794e-02,\n",
       "          -3.3080e-03, -2.3426e-03,  1.4886e-01, -1.4482e-01, -6.5373e-02,\n",
       "           1.5043e-01,  1.4215e-01,  1.0746e-01,  3.8888e-02, -1.0816e-01,\n",
       "           1.2955e-01,  1.4063e-01,  1.2347e-01,  1.3838e-01,  1.4892e-01,\n",
       "          -7.5483e-03, -7.0837e-04, -1.7896e-02,  6.0509e-02,  1.2698e-01,\n",
       "           8.1080e-02,  8.7041e-02, -1.5087e-01,  1.5976e-01,  1.5657e-01,\n",
       "           1.3786e-01, -1.0058e-01,  4.0431e-02, -1.1968e-01,  7.9296e-02,\n",
       "           3.5617e-02,  1.6901e-01, -9.9895e-02,  4.9276e-02, -1.2771e-01,\n",
       "           5.7992e-02,  7.1012e-02,  5.4111e-02, -3.3631e-02, -3.7884e-02,\n",
       "           1.0746e-01, -1.7929e-01, -1.7980e-02, -1.0467e-01, -1.3880e-01,\n",
       "           2.0168e-02, -4.8643e-02,  1.3465e-01,  1.6279e-01,  4.7409e-02,\n",
       "           2.5452e-02,  1.1437e-01,  4.2882e-02, -8.8073e-02, -1.5764e-03,\n",
       "          -1.3963e-01, -1.1320e-01,  3.3739e-02, -1.6965e-01, -1.3230e-01,\n",
       "           1.1253e-01,  1.0994e-01,  1.5075e-02, -7.4879e-02, -2.2444e-02,\n",
       "          -1.2176e-01,  1.4230e-01,  7.3320e-02, -9.2545e-02, -4.1161e-02,\n",
       "           5.4321e-02,  3.0462e-02,  7.2208e-02, -8.4988e-02,  6.4806e-02,\n",
       "           1.2413e-01, -4.0912e-02,  1.9500e-02,  9.0905e-02,  4.1624e-02,\n",
       "          -1.3407e-01,  1.0016e-01, -8.9715e-02, -1.3021e-02, -3.1396e-02,\n",
       "          -6.8807e-02,  8.7929e-02], requires_grad=True))]"
      ]
     },
     "execution_count": 46,
     "metadata": {},
     "output_type": "execute_result"
    }
   ],
   "source": [
    "list(model.encoder.named_parameters())"
   ]
  },
  {
   "cell_type": "code",
   "execution_count": 26,
   "id": "8291e979-af83-40d3-9713-4a80afed84b0",
   "metadata": {},
   "outputs": [],
   "source": [
    "probs = torch.nn.functional.softmax(res[:, 0, :3] / 0.8, dim=-1)"
   ]
  },
  {
   "cell_type": "code",
   "execution_count": 27,
   "id": "d9ad1bb5-e988-4be7-b7dc-a1ad5fb8ef3c",
   "metadata": {},
   "outputs": [
    {
     "data": {
      "text/plain": [
       "torch.Size([38, 3])"
      ]
     },
     "execution_count": 27,
     "metadata": {},
     "output_type": "execute_result"
    }
   ],
   "source": [
    "probs.shape"
   ]
  },
  {
   "cell_type": "code",
   "execution_count": 28,
   "id": "bcf56ce7-eefd-41a4-9b09-8b6ac995a2e9",
   "metadata": {},
   "outputs": [],
   "source": [
    "y_pred = probs.detach().numpy()"
   ]
  },
  {
   "cell_type": "code",
   "execution_count": 29,
   "id": "71195790-8471-4d7d-a83d-b4b74557e99f",
   "metadata": {},
   "outputs": [
    {
     "data": {
      "text/plain": [
       "array([0, 0, 0, 0, 0, 2, 1, 0, 2, 1, 1, 0, 1, 1, 2, 0, 2, 2, 2, 0, 2, 2,\n",
       "       2, 2, 0, 2, 2, 1, 1, 2, 0, 0, 2, 1, 0, 0, 2, 0])"
      ]
     },
     "execution_count": 29,
     "metadata": {},
     "output_type": "execute_result"
    }
   ],
   "source": [
    "y_pred.argmax(axis=1)"
   ]
  },
  {
   "cell_type": "code",
   "execution_count": 30,
   "id": "69aec2da-d12d-49fa-8c29-4002b09251b9",
   "metadata": {},
   "outputs": [
    {
     "data": {
      "text/plain": [
       "0.8947368421052632"
      ]
     },
     "execution_count": 30,
     "metadata": {},
     "output_type": "execute_result"
    }
   ],
   "source": [
    "(y_pred.argmax(axis=1) == y_test).mean()"
   ]
  },
  {
   "cell_type": "code",
   "execution_count": 73,
   "id": "227336e7-c13e-4cc7-8e30-bee2ea51678c",
   "metadata": {},
   "outputs": [
    {
     "data": {
      "text/plain": [
       "array([[5.56962641e-06, 9.99994397e-01, 4.45785076e-12],\n",
       "       [9.55580235e-01, 4.42057252e-02, 2.14084997e-04],\n",
       "       [4.81489085e-04, 2.15239360e-17, 9.99518514e-01],\n",
       "       [5.14747342e-04, 9.99485254e-01, 9.29835653e-11],\n",
       "       [6.84229610e-03, 5.19721019e-14, 9.93157685e-01],\n",
       "       [3.64074936e-06, 9.99996305e-01, 6.71815088e-13],\n",
       "       [3.82941007e-03, 2.91459294e-14, 9.96170580e-01],\n",
       "       [7.49539316e-01, 2.50392497e-01, 6.81771708e-05],\n",
       "       [5.49787700e-01, 4.50191855e-01, 2.04297266e-05],\n",
       "       [9.63276565e-01, 3.61998267e-02, 5.23653696e-04],\n",
       "       [3.63744535e-02, 9.63625431e-01, 7.42356150e-08],\n",
       "       [8.95416558e-01, 1.04382806e-01, 2.00692826e-04],\n",
       "       [9.27551746e-01, 7.23605305e-02, 8.78107894e-05],\n",
       "       [3.85184467e-01, 6.14796162e-01, 1.93364904e-05],\n",
       "       [7.09265172e-01, 2.90685296e-01, 4.95604145e-05],\n",
       "       [2.07310217e-03, 1.22282081e-15, 9.97926831e-01],\n",
       "       [5.67619383e-01, 4.32327658e-01, 5.29848876e-05],\n",
       "       [8.82348239e-01, 1.17537536e-01, 1.14238683e-04],\n",
       "       [2.22618431e-02, 4.51282891e-12, 9.77738142e-01],\n",
       "       [1.60178624e-03, 3.17812395e-15, 9.98398244e-01],\n",
       "       [8.16328102e-04, 9.99183714e-01, 3.96468014e-09],\n",
       "       [6.83612406e-01, 3.16299528e-01, 8.80445004e-05],\n",
       "       [2.15016138e-02, 4.94937533e-13, 9.78498399e-01],\n",
       "       [2.17337366e-02, 2.84568528e-12, 9.78266299e-01],\n",
       "       [1.15579460e-02, 9.88441885e-01, 1.32951342e-07],\n",
       "       [8.55477527e-04, 5.78651087e-16, 9.99144554e-01],\n",
       "       [1.21794026e-02, 2.30867842e-13, 9.87820566e-01],\n",
       "       [9.56748247e-01, 4.29617949e-02, 2.89905147e-04],\n",
       "       [9.92510319e-01, 5.02629159e-03, 2.46332353e-03],\n",
       "       [1.65959168e-02, 1.56359647e-12, 9.83404100e-01],\n",
       "       [1.12477215e-02, 9.88752306e-01, 4.04679490e-08],\n",
       "       [6.73207104e-01, 3.26705188e-01, 8.76827617e-05],\n",
       "       [5.13767079e-03, 2.05452856e-14, 9.94862378e-01],\n",
       "       [2.79180277e-02, 9.72081542e-01, 4.38620873e-07],\n",
       "       [1.62309880e-05, 9.99983788e-01, 5.31141147e-12],\n",
       "       [8.33346903e-01, 1.66303083e-01, 3.50086717e-04],\n",
       "       [5.22421766e-03, 1.63692742e-14, 9.94775772e-01],\n",
       "       [2.57477481e-02, 9.74252105e-01, 1.68600167e-07]], dtype=float32)"
      ]
     },
     "execution_count": 73,
     "metadata": {},
     "output_type": "execute_result"
    }
   ],
   "source": [
    "y_pred"
   ]
  },
  {
   "cell_type": "code",
   "execution_count": 65,
   "id": "7110bfd7-f1c8-46a4-aea2-e07512b9d982",
   "metadata": {},
   "outputs": [
    {
     "data": {
      "text/plain": [
       "tensor([[[4.4579e-12, 5.5696e-06, 9.9999e-01],\n",
       "         [2.1408e-04, 9.5558e-01, 4.4206e-02],\n",
       "         [9.9952e-01, 4.8149e-04, 2.1524e-17],\n",
       "         [9.2984e-11, 5.1475e-04, 9.9949e-01],\n",
       "         [9.9316e-01, 6.8423e-03, 5.1972e-14],\n",
       "         [6.7182e-13, 3.6407e-06, 1.0000e+00],\n",
       "         [9.9617e-01, 3.8294e-03, 2.9146e-14],\n",
       "         [6.8177e-05, 7.4954e-01, 2.5039e-01],\n",
       "         [2.0430e-05, 5.4979e-01, 4.5019e-01],\n",
       "         [5.2365e-04, 9.6328e-01, 3.6200e-02],\n",
       "         [7.4236e-08, 3.6374e-02, 9.6363e-01],\n",
       "         [2.0069e-04, 8.9542e-01, 1.0438e-01],\n",
       "         [8.7811e-05, 9.2755e-01, 7.2361e-02],\n",
       "         [1.9336e-05, 3.8518e-01, 6.1480e-01],\n",
       "         [4.9560e-05, 7.0927e-01, 2.9069e-01],\n",
       "         [9.9793e-01, 2.0731e-03, 1.2228e-15],\n",
       "         [5.2985e-05, 5.6762e-01, 4.3233e-01],\n",
       "         [1.1424e-04, 8.8235e-01, 1.1754e-01],\n",
       "         [9.7774e-01, 2.2262e-02, 4.5128e-12],\n",
       "         [9.9840e-01, 1.6018e-03, 3.1781e-15],\n",
       "         [3.9647e-09, 8.1633e-04, 9.9918e-01],\n",
       "         [8.8045e-05, 6.8361e-01, 3.1630e-01],\n",
       "         [9.7850e-01, 2.1502e-02, 4.9494e-13],\n",
       "         [9.7827e-01, 2.1734e-02, 2.8457e-12],\n",
       "         [1.3295e-07, 1.1558e-02, 9.8844e-01],\n",
       "         [9.9914e-01, 8.5548e-04, 5.7865e-16],\n",
       "         [9.8782e-01, 1.2179e-02, 2.3087e-13],\n",
       "         [2.8991e-04, 9.5675e-01, 4.2962e-02],\n",
       "         [2.4633e-03, 9.9251e-01, 5.0263e-03],\n",
       "         [9.8340e-01, 1.6596e-02, 1.5636e-12],\n",
       "         [4.0468e-08, 1.1248e-02, 9.8875e-01],\n",
       "         [8.7683e-05, 6.7321e-01, 3.2671e-01],\n",
       "         [9.9486e-01, 5.1377e-03, 2.0545e-14],\n",
       "         [4.3862e-07, 2.7918e-02, 9.7208e-01],\n",
       "         [5.3114e-12, 1.6231e-05, 9.9998e-01],\n",
       "         [3.5009e-04, 8.3335e-01, 1.6630e-01],\n",
       "         [9.9478e-01, 5.2242e-03, 1.6369e-14],\n",
       "         [1.6860e-07, 2.5748e-02, 9.7425e-01]]])"
      ]
     },
     "execution_count": 65,
     "metadata": {},
     "output_type": "execute_result"
    }
   ],
   "source": [
    "res"
   ]
  },
  {
   "cell_type": "code",
   "execution_count": null,
   "id": "65cf3000-c6aa-431c-b5d5-02a77003ee93",
   "metadata": {},
   "outputs": [],
   "source": [
    "res = transformer_predict(model, xs.unsqueeze(1), ys.unsqueeze(1), eval_position=len(X_train), num_classes=4, N_ensemble_configurations=1)"
   ]
  }
 ],
 "metadata": {
  "kernelspec": {
   "display_name": "Python [conda env:tabpfn]",
   "language": "python",
   "name": "conda-env-tabpfn-py"
  },
  "language_info": {
   "codemirror_mode": {
    "name": "ipython",
    "version": 3
   },
   "file_extension": ".py",
   "mimetype": "text/x-python",
   "name": "python",
   "nbconvert_exporter": "python",
   "pygments_lexer": "ipython3",
   "version": "3.7.16"
  }
 },
 "nbformat": 4,
 "nbformat_minor": 5
}
