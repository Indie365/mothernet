{
 "cells": [
  {
   "cell_type": "code",
   "execution_count": null,
   "id": "3870516e-ad1c-4dce-bfb3-d07d0e0bb54d",
   "metadata": {},
   "outputs": [],
   "source": [
    "param_grid_hyperopt['random_forest'] = {'n_estimators': hp.randint('n_estimators', 20, 200),\n",
    "               'max_features': hp.choice('max_features', [None, 'sqrt', 'log2']),\n",
    "               'max_depth': hp.randint('max_depth', 1, 45),\n",
    "               'min_samples_split': hp.choice('min_samples_split', [2, 5, 10])}\n",
    "\n",
    "param_grid_hyperopt['mlp'] = {'hidden_size': hp.choice('hidden_size', [16, 32, 64, 128, 256, 512]), 'learning_rate': hp.loguniform('learning_rate', math.log(0.00001), math.log(0.01)),\n",
    "                              'n_epochs': hp.choice('n_epochs', [10, 100, 1000]), 'dropout_rate': hp.choice('dropout_rate', [0, 0.1, 0.3]), 'n_layers': hp.choice('n_layers', [1, 2, 3]),\n",
    "                              'weight_decay': hp.loguniform('weight_decay', math.log(0.00001), math.log(0.01))\n",
    "                              }\n",
    "param_grid_hyperopt['knn'] = {'n_neighbors': hp.randint('n_neighbors', 1,16)\n",
    "                              }\n",
    "param_grid_hyperopt['xgb'] = {\n",
    "    'learning_rate': hp.loguniform('learning_rate', -7, math.log(1)),\n",
    "    'max_depth': hp.randint('max_depth', 1, 10),\n",
    "    'subsample': hp.uniform('subsample', 0.2, 1),\n",
    "    'colsample_bytree': hp.uniform('colsample_bytree', 0.2, 1),\n",
    "    'colsample_bylevel': hp.uniform('colsample_bylevel', 0.2, 1),\n",
    "    'min_child_weight': hp.loguniform('min_child_weight', -16, 5),\n",
    "    'alpha': hp.loguniform('alpha', -16, 2),\n",
    "    'lambda': hp.loguniform('lambda', -16, 2),\n",
    "    'gamma': hp.loguniform('gamma', -16, 2),\n",
    "    'n_estimators': hp.randint('n_estimators', 100, 4000), # This is smaller than in paper\n",
    "}\n",
    "\n",
    "param_grid_hyperopt['logistic'] = {\n",
    "    'penalty': hp.choice('penalty', ['l1', 'l2', 'none'])\n",
    "    , 'max_iter': hp.randint('max_iter', 50, 500)\n",
    "    , 'fit_intercept': hp.choice('fit_intercept', [True, False])\n",
    "    , 'C': hp.loguniform('C', -5, math.log(5.0))}  # 'normalize': [False],"
   ]
  }
 ],
 "metadata": {
  "kernelspec": {
   "display_name": "Python [conda env:tabpfn_testing_environment]",
   "language": "python",
   "name": "conda-env-tabpfn_testing_environment-py"
  },
  "language_info": {
   "codemirror_mode": {
    "name": "ipython",
    "version": 3
   },
   "file_extension": ".py",
   "mimetype": "text/x-python",
   "name": "python",
   "nbconvert_exporter": "python",
   "pygments_lexer": "ipython3",
   "version": "3.11.6"
  }
 },
 "nbformat": 4,
 "nbformat_minor": 5
}
