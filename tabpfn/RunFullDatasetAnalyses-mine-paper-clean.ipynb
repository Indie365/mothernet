{
 "cells": [
  {
   "cell_type": "code",
   "execution_count": 1,
   "metadata": {},
   "outputs": [],
   "source": [
    "import matplotlib.pyplot as plt\n",
    "\n",
    "from scripts import tabular_baselines\n",
    "\n",
    "import seaborn as sns\n",
    "import numpy as np\n",
    "\n",
    "from datasets import load_openml_list, valid_dids_classification, test_dids_classification, open_cc_dids\n",
    "from scripts.tabular_baselines import *\n",
    "from scripts.tabular_evaluation import evaluate\n",
    "from scripts.tabular_metrics import calculate_score, make_ranks_and_wins_table, make_metric_matrix\n",
    "from scripts import tabular_metrics\n",
    "from scripts.transformer_prediction_interface import TabPFNClassifier"
   ]
  },
  {
   "cell_type": "code",
   "execution_count": 2,
   "metadata": {},
   "outputs": [],
   "source": [
    "from notebook_utils import *"
   ]
  },
  {
   "cell_type": "code",
   "execution_count": 3,
   "metadata": {},
   "outputs": [],
   "source": [
    "%load_ext autoreload\n",
    "\n",
    "%autoreload 2"
   ]
  },
  {
   "cell_type": "markdown",
   "metadata": {
    "tags": []
   },
   "source": [
    "# Datasets"
   ]
  },
  {
   "cell_type": "code",
   "execution_count": 4,
   "metadata": {
    "tags": []
   },
   "outputs": [
    {
     "name": "stdout",
     "output_type": "stream",
     "text": [
      "Number of datasets: 30\n"
     ]
    }
   ],
   "source": [
    "from datasets import load_openml_list, open_cc_dids, open_cc_valid_dids, test_dids_classification\n",
    "\n",
    "cc_test_datasets_multiclass, cc_test_datasets_multiclass_df = load_openml_list(open_cc_dids, multiclass=True, shuffled=True, filter_for_nan=False, max_samples = 10000, num_feats=100, return_capped=True)\n"
   ]
  },
  {
   "cell_type": "markdown",
   "metadata": {
    "tags": []
   },
   "source": [
    "# Setting params"
   ]
  },
  {
   "cell_type": "code",
   "execution_count": 34,
   "metadata": {},
   "outputs": [],
   "source": [
    "import os\n",
    "eval_positions = [1000]\n",
    "max_features = 100\n",
    "bptt = 2000\n",
    "base_path = os.path.join('.')\n",
    "overwrite = False\n",
    "#max_times = [0.5, 1, 15, 30, 60, 60*5, 60*15, 60*60]\n",
    "max_times = [1, 15, 30, 60, 60 * 5, 60 * 15]\n",
    "metric_used = tabular_metrics.auc_metric\n",
    "task_type = 'multiclass'"
   ]
  },
  {
   "cell_type": "code",
   "execution_count": 35,
   "metadata": {},
   "outputs": [],
   "source": [
    "from scripts.distill_mlp import DistilledTabPFNMLP\n",
    "from tabpfn.transformer_make_model import PermutationsMeta, ForwardMLPModel\n",
    "from functools import partial\n",
    "from scripts.tabular_baselines import knn_metric, catboost_metric, transformer_metric, logistic_metric, xgb_metric\n",
    "\n",
    "device = \"cuda\"\n",
    "\n",
    "model_string = \"defaults_k_aggregate_2_batch_128_onehot_classes_multiclass_02_10_2023_23_55_16\"\n",
    "tabpfn_mine =  TabPFNClassifier(device=device, model_string=model_string, epoch=82, N_ensemble_configurations=32)\n",
    "distilled_tabpfn = DistilledTabPFNMLP(n_epochs=1000, device=\"cuda\", hidden_size=128, n_layers=2, dropout_rate=.1, learning_rate=0.01, model_string=model_string, epoch=82, )\n",
    "mother_model_string = \"models_diff/prior_diff_real_checkpointcontinue_hidden_128_embed_dim_1024_decoder_nhid_2048_nlayer12_lr0003_n_0_epoch_65.cpkt\"\n",
    "forward_mlp = PermutationsMeta(ForwardMLPModel(path=mother_model_string))\n",
    "clf_dict= {#'gp': gp_metric\n",
    "    'knn': knn_metric,\n",
    "    #             #, 'catboost': catboost_metric\n",
    "                 'xgb': xgb_metric,\n",
    "    #         'transformer': transformer_metric,\n",
    "           'logistic': logistic_metric,\n",
    "    #           'transformer_mine': partial(transformer_metric, classifier=tabpfn_mine),\n",
    "    #            'distill_tabpfn':  partial(transformer_metric, classifier=distilled_tabpfn),\n",
    "    #            'mother_net': partial(transformer_metric, classifier=forward_mlp)\n",
    "                                            }\n",
    "#            , 'autosklearn': autosklearn_metric\n",
    "#              , 'autosklearn2': autosklearn2_metric\n",
    "             #, 'autogluon': autogluon_metric}"
   ]
  },
  {
   "cell_type": "markdown",
   "metadata": {
    "tags": []
   },
   "source": [
    "# Baseline Evaluation\n",
    "This section runs baselines and saves results locally."
   ]
  },
  {
   "cell_type": "code",
   "execution_count": 36,
   "metadata": {},
   "outputs": [
    {
     "name": "stdout",
     "output_type": "stream",
     "text": [
      "/bin/bash: /anaconda/envs/fresh311/lib/libtinfo.so.6: no version information available (required by /bin/bash)\n",
      "/bin/bash: /anaconda/envs/fresh311/lib/libtinfo.so.6: no version information available (required by /bin/bash)\n",
      "/bin/bash: /anaconda/envs/fresh311/lib/libtinfo.so.6: no version information available (required by /bin/bash)\n"
     ]
    }
   ],
   "source": [
    "!mkdir -p {base_path}/results\n",
    "!mkdir -p {base_path}/results/tabular/\n",
    "!mkdir -p {base_path}/results/tabular/multiclass/"
   ]
  },
  {
   "cell_type": "code",
   "execution_count": 37,
   "metadata": {},
   "outputs": [
    {
     "data": {
      "text/plain": [
       "{'knn': <function scripts.tabular_baselines.knn_metric(x, y, test_x, test_y, cat_features, metric_used, max_time=300, no_tune=None)>,\n",
       " 'xgb': <function scripts.tabular_baselines.xgb_metric(x, y, test_x, test_y, cat_features, metric_used, max_time=300, no_tune=None, gpu_id=None)>,\n",
       " 'logistic': <function scripts.tabular_baselines.logistic_metric(x, y, test_x, test_y, cat_features, metric_used, max_time=300, no_tune=None)>}"
      ]
     },
     "execution_count": 37,
     "metadata": {},
     "output_type": "execute_result"
    }
   ],
   "source": [
    "clf_dict"
   ]
  },
  {
   "cell_type": "code",
   "execution_count": 38,
   "metadata": {},
   "outputs": [],
   "source": [
    "# transformers don't have max times\n",
    "# max_times = [1]"
   ]
  },
  {
   "cell_type": "code",
   "execution_count": 39,
   "metadata": {},
   "outputs": [
    {
     "data": {
      "text/plain": [
       "18"
      ]
     },
     "execution_count": 39,
     "metadata": {},
     "output_type": "execute_result"
    }
   ],
   "source": [
    "cc_test_datasets_multiclass_df['isNumeric'] = (cc_test_datasets_multiclass_df.NumberOfSymbolicFeatures == 1) & (cc_test_datasets_multiclass_df.NumberOfInstancesWithMissingValues == 0)\n",
    "name_indexed_dataset = cc_test_datasets_multiclass_df.set_index(\"name\")\n",
    "\n",
    "numeric_test_datasets = [ds for ds in cc_test_datasets_multiclass if name_indexed_dataset.loc[ds[0]].isNumeric]\n",
    "len(numeric_test_datasets)"
   ]
  },
  {
   "cell_type": "code",
   "execution_count": 40,
   "metadata": {},
   "outputs": [],
   "source": [
    "import os\n",
    "os.environ[\"LD_LIBRARY_PATH\"] = \"/anaconda/envs/fresh311/lib:\" + os.environ[\"LD_LIBRARY_PATH\"]"
   ]
  },
  {
   "cell_type": "code",
   "execution_count": null,
   "metadata": {
    "tags": []
   },
   "outputs": [
    {
     "name": "stderr",
     "output_type": "stream",
     "text": [
      "[Parallel(n_jobs=-1)]: Using backend LokyBackend with 96 concurrent workers.\n",
      "[Parallel(n_jobs=-1)]: Done 214 tasks      | elapsed:    0.3s\n",
      "[Parallel(n_jobs=-1)]: Done 540 out of 540 | elapsed:  2.7min finished\n",
      "[Parallel(n_jobs=-1)]: Using backend LokyBackend with 96 concurrent workers.\n",
      "[Parallel(n_jobs=-1)]: Done 214 tasks      | elapsed:    0.3s\n"
     ]
    }
   ],
   "source": [
    "from tabpfn.scripts.tabular_evaluation import eval_on_datasets\n",
    "device = \"cpu\"\n",
    "results = [\n",
    "    eval_on_datasets('multiclass', model, model_name, numeric_test_datasets, eval_positions=eval_positions, max_times=max_times,\n",
    "                     metric_used=metric_used, split_numbers=[1, 2, 3, 4, 5],\n",
    "                     bptt=bptt, base_path=base_path, device=device)\n",
    "    for model_name, model in clf_dict.items()\n",
    "]"
   ]
  },
  {
   "cell_type": "code",
   "execution_count": 32,
   "metadata": {},
   "outputs": [],
   "source": [
    "flat_results = []\n",
    "for per_dataset in results:\n",
    "    for result in per_dataset:\n",
    "        row = {}\n",
    "        for key in ['dataset', 'model', 'mean_metric', 'split', 'max_time']:\n",
    "            row[key] = result[key]\n",
    "        row['mean_metric'] = row[\"mean_metric\"].numpy()\n",
    "        flat_results.append(row)\n",
    "\n",
    "results_df = pd.DataFrame(flat_results)"
   ]
  },
  {
   "cell_type": "code",
   "execution_count": 33,
   "metadata": {
    "tags": []
   },
   "outputs": [
    {
     "data": {
      "text/html": [
       "<div>\n",
       "<style scoped>\n",
       "    .dataframe tbody tr th:only-of-type {\n",
       "        vertical-align: middle;\n",
       "    }\n",
       "\n",
       "    .dataframe tbody tr th {\n",
       "        vertical-align: top;\n",
       "    }\n",
       "\n",
       "    .dataframe thead th {\n",
       "        text-align: right;\n",
       "    }\n",
       "</style>\n",
       "<table border=\"1\" class=\"dataframe\">\n",
       "  <thead>\n",
       "    <tr style=\"text-align: right;\">\n",
       "      <th></th>\n",
       "      <th>dataset</th>\n",
       "      <th>model</th>\n",
       "      <th>mean_metric</th>\n",
       "      <th>split</th>\n",
       "      <th>max_time</th>\n",
       "    </tr>\n",
       "  </thead>\n",
       "  <tbody>\n",
       "    <tr>\n",
       "      <th>0</th>\n",
       "      <td>balance-scale</td>\n",
       "      <td>knn</td>\n",
       "      <td>0.8984509</td>\n",
       "      <td>1</td>\n",
       "      <td>1</td>\n",
       "    </tr>\n",
       "    <tr>\n",
       "      <th>1</th>\n",
       "      <td>balance-scale</td>\n",
       "      <td>knn</td>\n",
       "      <td>0.8489245</td>\n",
       "      <td>2</td>\n",
       "      <td>1</td>\n",
       "    </tr>\n",
       "    <tr>\n",
       "      <th>2</th>\n",
       "      <td>balance-scale</td>\n",
       "      <td>knn</td>\n",
       "      <td>0.8526509</td>\n",
       "      <td>3</td>\n",
       "      <td>1</td>\n",
       "    </tr>\n",
       "    <tr>\n",
       "      <th>3</th>\n",
       "      <td>balance-scale</td>\n",
       "      <td>knn</td>\n",
       "      <td>0.8858737</td>\n",
       "      <td>4</td>\n",
       "      <td>1</td>\n",
       "    </tr>\n",
       "    <tr>\n",
       "      <th>4</th>\n",
       "      <td>balance-scale</td>\n",
       "      <td>knn</td>\n",
       "      <td>0.8952055</td>\n",
       "      <td>5</td>\n",
       "      <td>1</td>\n",
       "    </tr>\n",
       "    <tr>\n",
       "      <th>...</th>\n",
       "      <td>...</td>\n",
       "      <td>...</td>\n",
       "      <td>...</td>\n",
       "      <td>...</td>\n",
       "      <td>...</td>\n",
       "    </tr>\n",
       "    <tr>\n",
       "      <th>1075</th>\n",
       "      <td>climate-model-simulation-crashes</td>\n",
       "      <td>logistic</td>\n",
       "      <td>0.92252046</td>\n",
       "      <td>1</td>\n",
       "      <td>60</td>\n",
       "    </tr>\n",
       "    <tr>\n",
       "      <th>1076</th>\n",
       "      <td>climate-model-simulation-crashes</td>\n",
       "      <td>logistic</td>\n",
       "      <td>0.93090177</td>\n",
       "      <td>2</td>\n",
       "      <td>60</td>\n",
       "    </tr>\n",
       "    <tr>\n",
       "      <th>1077</th>\n",
       "      <td>climate-model-simulation-crashes</td>\n",
       "      <td>logistic</td>\n",
       "      <td>0.9269986</td>\n",
       "      <td>3</td>\n",
       "      <td>60</td>\n",
       "    </tr>\n",
       "    <tr>\n",
       "      <th>1078</th>\n",
       "      <td>climate-model-simulation-crashes</td>\n",
       "      <td>logistic</td>\n",
       "      <td>0.92445797</td>\n",
       "      <td>4</td>\n",
       "      <td>60</td>\n",
       "    </tr>\n",
       "    <tr>\n",
       "      <th>1079</th>\n",
       "      <td>climate-model-simulation-crashes</td>\n",
       "      <td>logistic</td>\n",
       "      <td>0.953629</td>\n",
       "      <td>5</td>\n",
       "      <td>60</td>\n",
       "    </tr>\n",
       "  </tbody>\n",
       "</table>\n",
       "<p>1080 rows × 5 columns</p>\n",
       "</div>"
      ],
      "text/plain": [
       "                               dataset     model mean_metric  split  max_time\n",
       "0                        balance-scale       knn   0.8984509      1         1\n",
       "1                        balance-scale       knn   0.8489245      2         1\n",
       "2                        balance-scale       knn   0.8526509      3         1\n",
       "3                        balance-scale       knn   0.8858737      4         1\n",
       "4                        balance-scale       knn   0.8952055      5         1\n",
       "...                                ...       ...         ...    ...       ...\n",
       "1075  climate-model-simulation-crashes  logistic  0.92252046      1        60\n",
       "1076  climate-model-simulation-crashes  logistic  0.93090177      2        60\n",
       "1077  climate-model-simulation-crashes  logistic   0.9269986      3        60\n",
       "1078  climate-model-simulation-crashes  logistic  0.92445797      4        60\n",
       "1079  climate-model-simulation-crashes  logistic    0.953629      5        60\n",
       "\n",
       "[1080 rows x 5 columns]"
      ]
     },
     "execution_count": 33,
     "metadata": {},
     "output_type": "execute_result"
    }
   ],
   "source": [
    "results_df"
   ]
  },
  {
   "cell_type": "code",
   "execution_count": 25,
   "metadata": {},
   "outputs": [],
   "source": [
    "import pickle\n",
    "with open(\"results_test_set_baseline_new_mine_2.pickle\", \"wb\") as f:\n",
    "    pickle.dump(results, f)"
   ]
  },
  {
   "cell_type": "code",
   "execution_count": 26,
   "metadata": {},
   "outputs": [],
   "source": [
    "results_df.to_csv(\"results_test_set_baseline_new_mine_2.csv\")"
   ]
  },
  {
   "cell_type": "code",
   "execution_count": 35,
   "metadata": {},
   "outputs": [],
   "source": [
    "results_baseline = pd.read_csv(\"results_test_set_baseline_new_2.csv\", index_col=0)"
   ]
  },
  {
   "cell_type": "code",
   "execution_count": 36,
   "metadata": {},
   "outputs": [
    {
     "data": {
      "text/html": [
       "<div>\n",
       "<style scoped>\n",
       "    .dataframe tbody tr th:only-of-type {\n",
       "        vertical-align: middle;\n",
       "    }\n",
       "\n",
       "    .dataframe tbody tr th {\n",
       "        vertical-align: top;\n",
       "    }\n",
       "\n",
       "    .dataframe thead th {\n",
       "        text-align: right;\n",
       "    }\n",
       "</style>\n",
       "<table border=\"1\" class=\"dataframe\">\n",
       "  <thead>\n",
       "    <tr style=\"text-align: right;\">\n",
       "      <th></th>\n",
       "      <th>dataset</th>\n",
       "      <th>model</th>\n",
       "      <th>mean_metric</th>\n",
       "      <th>split</th>\n",
       "      <th>max_time</th>\n",
       "    </tr>\n",
       "  </thead>\n",
       "  <tbody>\n",
       "    <tr>\n",
       "      <th>0</th>\n",
       "      <td>balance-scale</td>\n",
       "      <td>transformer</td>\n",
       "      <td>0.9994046</td>\n",
       "      <td>1</td>\n",
       "      <td>1</td>\n",
       "    </tr>\n",
       "    <tr>\n",
       "      <th>1</th>\n",
       "      <td>mfeat-fourier</td>\n",
       "      <td>transformer</td>\n",
       "      <td>0.9769526</td>\n",
       "      <td>1</td>\n",
       "      <td>1</td>\n",
       "    </tr>\n",
       "    <tr>\n",
       "      <th>2</th>\n",
       "      <td>mfeat-karhunen</td>\n",
       "      <td>transformer</td>\n",
       "      <td>0.9986009</td>\n",
       "      <td>1</td>\n",
       "      <td>1</td>\n",
       "    </tr>\n",
       "    <tr>\n",
       "      <th>3</th>\n",
       "      <td>mfeat-morphological</td>\n",
       "      <td>transformer</td>\n",
       "      <td>0.96446186</td>\n",
       "      <td>1</td>\n",
       "      <td>1</td>\n",
       "    </tr>\n",
       "    <tr>\n",
       "      <th>4</th>\n",
       "      <td>mfeat-zernike</td>\n",
       "      <td>transformer</td>\n",
       "      <td>0.98157805</td>\n",
       "      <td>1</td>\n",
       "      <td>1</td>\n",
       "    </tr>\n",
       "    <tr>\n",
       "      <th>...</th>\n",
       "      <td>...</td>\n",
       "      <td>...</td>\n",
       "      <td>...</td>\n",
       "      <td>...</td>\n",
       "      <td>...</td>\n",
       "    </tr>\n",
       "    <tr>\n",
       "      <th>805</th>\n",
       "      <td>blood-transfusion-service-center</td>\n",
       "      <td>logistic</td>\n",
       "      <td>0.760269</td>\n",
       "      <td>5</td>\n",
       "      <td>30</td>\n",
       "    </tr>\n",
       "    <tr>\n",
       "      <th>806</th>\n",
       "      <td>qsar-biodeg</td>\n",
       "      <td>logistic</td>\n",
       "      <td>0.920046</td>\n",
       "      <td>5</td>\n",
       "      <td>30</td>\n",
       "    </tr>\n",
       "    <tr>\n",
       "      <th>807</th>\n",
       "      <td>wdbc</td>\n",
       "      <td>logistic</td>\n",
       "      <td>0.996747</td>\n",
       "      <td>5</td>\n",
       "      <td>30</td>\n",
       "    </tr>\n",
       "    <tr>\n",
       "      <th>808</th>\n",
       "      <td>steel-plates-fault</td>\n",
       "      <td>logistic</td>\n",
       "      <td>0.93421</td>\n",
       "      <td>5</td>\n",
       "      <td>30</td>\n",
       "    </tr>\n",
       "    <tr>\n",
       "      <th>809</th>\n",
       "      <td>climate-model-simulation-crashes</td>\n",
       "      <td>logistic</td>\n",
       "      <td>0.953629</td>\n",
       "      <td>5</td>\n",
       "      <td>30</td>\n",
       "    </tr>\n",
       "  </tbody>\n",
       "</table>\n",
       "<p>1170 rows × 5 columns</p>\n",
       "</div>"
      ],
      "text/plain": [
       "                              dataset        model mean_metric  split  \\\n",
       "0                       balance-scale  transformer   0.9994046      1   \n",
       "1                       mfeat-fourier  transformer   0.9769526      1   \n",
       "2                      mfeat-karhunen  transformer   0.9986009      1   \n",
       "3                 mfeat-morphological  transformer  0.96446186      1   \n",
       "4                       mfeat-zernike  transformer  0.98157805      1   \n",
       "..                                ...          ...         ...    ...   \n",
       "805  blood-transfusion-service-center     logistic    0.760269      5   \n",
       "806                       qsar-biodeg     logistic    0.920046      5   \n",
       "807                              wdbc     logistic    0.996747      5   \n",
       "808                steel-plates-fault     logistic     0.93421      5   \n",
       "809  climate-model-simulation-crashes     logistic    0.953629      5   \n",
       "\n",
       "     max_time  \n",
       "0           1  \n",
       "1           1  \n",
       "2           1  \n",
       "3           1  \n",
       "4           1  \n",
       "..        ...  \n",
       "805        30  \n",
       "806        30  \n",
       "807        30  \n",
       "808        30  \n",
       "809        30  \n",
       "\n",
       "[1170 rows x 5 columns]"
      ]
     },
     "execution_count": 36,
     "metadata": {},
     "output_type": "execute_result"
    }
   ],
   "source": [
    "results_combined = pd.concat([results_df, results_baseline])\n",
    "results_combined"
   ]
  },
  {
   "cell_type": "code",
   "execution_count": 37,
   "metadata": {},
   "outputs": [
    {
     "data": {
      "image/png": "[encoded data removed]",
      "text/plain": [
       "<Figure size 640x480 with 1 Axes>"
      ]
     },
     "metadata": {},
     "output_type": "display_data"
    }
   ],
   "source": [
    "compare_splits = results_combined.groupby([\"model\", \"split\", \"max_time\"])['mean_metric'].mean().reset_index()\n",
    "\n",
    "import seaborn as sns\n",
    "varies_over_time = ['logistic', 'xgb']\n",
    "compare_splits_varies = compare_splits[compare_splits.model.isin(varies_over_time)]\n",
    "compare_splits_fixed = compare_splits[~compare_splits.model.isin(varies_over_time)]\n",
    "\n",
    "color_palette = sns.color_palette()\n",
    "ax = sns.lineplot(compare_splits_varies, x=\"max_time\", y=\"mean_metric\", hue=\"model\", errorbar=\"sd\", marker=\"o\", palette=color_palette[:len(varies_over_time)])\n",
    "\n",
    "compare_splits_fixed_dummy = compare_splits_fixed.copy()\n",
    "compare_splits_fixed_dummy['max_time'] = compare_splits_varies.max_time.max()\n",
    "sns.lineplot(pd.concat([compare_splits_fixed, compare_splits_fixed_dummy]),\n",
    "             x=\"max_time\", y=\"mean_metric\", hue=\"model\", errorbar=\"sd\", ax=ax, palette=color_palette[len(varies_over_time):compare_splits.model.nunique()])\n",
    "sns.move_legend(ax, (1.01, 0))\n"
   ]
  },
  {
   "cell_type": "code",
   "execution_count": null,
   "metadata": {},
   "outputs": [],
   "source": []
  }
 ],
 "metadata": {
  "kernelspec": {
   "display_name": "Python [conda env:fresh311]",
   "language": "python",
   "name": "conda-env-fresh311-py"
  },
  "language_info": {
   "codemirror_mode": {
    "name": "ipython",
    "version": 3
   },
   "file_extension": ".py",
   "mimetype": "text/x-python",
   "name": "python",
   "nbconvert_exporter": "python",
   "pygments_lexer": "ipython3",
   "version": "3.11.0"
  }
 },
 "nbformat": 4,
 "nbformat_minor": 4
}
