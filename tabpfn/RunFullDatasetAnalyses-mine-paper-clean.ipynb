{
 "cells": [
  {
   "cell_type": "code",
   "execution_count": 1,
   "metadata": {},
   "outputs": [],
   "source": [
    "import matplotlib.pyplot as plt\n",
    "\n",
    "from scripts import tabular_baselines\n",
    "\n",
    "import seaborn as sns\n",
    "import numpy as np\n",
    "\n",
    "from datasets import load_openml_list, valid_dids_classification, test_dids_classification, open_cc_dids\n",
    "from scripts.tabular_baselines import *\n",
    "from scripts.tabular_evaluation import evaluate\n",
    "from scripts.tabular_metrics import calculate_score, make_ranks_and_wins_table, make_metric_matrix\n",
    "from scripts import tabular_metrics\n",
    "from scripts.transformer_prediction_interface import TabPFNClassifier"
   ]
  },
  {
   "cell_type": "code",
   "execution_count": 2,
   "metadata": {},
   "outputs": [],
   "source": [
    "from notebook_utils import *"
   ]
  },
  {
   "cell_type": "code",
   "execution_count": 3,
   "metadata": {},
   "outputs": [],
   "source": [
    "%load_ext autoreload\n",
    "\n",
    "%autoreload 2"
   ]
  },
  {
   "cell_type": "markdown",
   "metadata": {
    "tags": []
   },
   "source": [
    "# Datasets"
   ]
  },
  {
   "cell_type": "code",
   "execution_count": 4,
   "metadata": {
    "tags": []
   },
   "outputs": [
    {
     "name": "stdout",
     "output_type": "stream",
     "text": [
      "Number of datasets: 30\n"
     ]
    }
   ],
   "source": [
    "from datasets import load_openml_list, open_cc_dids, open_cc_valid_dids, test_dids_classification\n",
    "\n",
    "cc_test_datasets_multiclass, cc_test_datasets_multiclass_df = load_openml_list(open_cc_dids, multiclass=True, shuffled=True, filter_for_nan=False, max_samples = 10000, num_feats=100, return_capped=True)\n"
   ]
  },
  {
   "cell_type": "markdown",
   "metadata": {
    "tags": []
   },
   "source": [
    "# Setting params"
   ]
  },
  {
   "cell_type": "code",
   "execution_count": 6,
   "metadata": {},
   "outputs": [],
   "source": [
    "import os\n",
    "eval_positions = [1000]\n",
    "max_features = 100\n",
    "bptt = 2000\n",
    "base_path = os.path.join('.')\n",
    "overwrite = False\n",
    "max_times = [0.5, 1, 15, 30, 60, 60*5, 60*15, 60*60]\n",
    "#max_times = [1, 15, 30, 60]\n",
    "metric_used = tabular_metrics.auc_metric\n",
    "methods = ['transformer', 'logistic', 'catboost', 'xgb','autogluon']\n",
    "task_type = 'multiclass'"
   ]
  },
  {
   "cell_type": "code",
   "execution_count": 7,
   "metadata": {},
   "outputs": [],
   "source": [
    "# clf_dict= {'gp': gp_metric\n",
    "#                 , 'knn': knn_metric\n",
    "#                 , 'catboost': catboost_metric\n",
    "#                 , 'xgb': xgb_metric\n",
    "#            , 'transformer': transformer_metric\n",
    "#                 , 'logistic': logistic_metric\n",
    "#            , 'autosklearn': autosklearn_metric\n",
    "#              , 'autosklearn2': autosklearn2_metric\n",
    "#             , 'autogluon': autogluon_metric}"
   ]
  },
  {
   "cell_type": "code",
   "execution_count": 62,
   "metadata": {},
   "outputs": [],
   "source": [
    "from scripts.distill_mlp import DistilledTabPFNMLP\n",
    "from tabpfn.transformer_make_model import PermutationsMeta, ForwardMLPModel\n",
    "from functools import partial\n",
    "from scripts.tabular_baselines import knn_metric, catboost_metric, transformer_metric, logistic_metric, xgb_metric\n",
    "\n",
    "device = \"cuda\"\n",
    "\n",
    "model_string = \"defaults_k_aggregate_2_batch_128_onehot_classes_multiclass_02_10_2023_23_55_16\"\n",
    "tabpfn_mine =  TabPFNClassifier(device=device, model_string=model_string, epoch=82, N_ensemble_configurations=32)\n",
    "distilled_tabpfn = DistilledTabPFNMLP(n_epochs=1000, device=\"cuda\", hidden_size=128, n_layers=2, dropout_rate=.1, learning_rate=0.01, model_string=model_string, epoch=82, )\n",
    "mother_model_string = \"models_diff/prior_diff_real_checkpointcontinue_hidden_128_embed_dim_1024_decoder_nhid_2048_nlayer12_lr0003_n_0_epoch_65.cpkt\"\n",
    "forward_mlp = PermutationsMeta(ForwardMLPModel(path=mother_model_string))\n",
    "clf_dict= {#'gp': gp_metric\n",
    "    'knn': knn_metric,\n",
    "                 #, 'catboost': catboost_metric\n",
    "                 'xgb': xgb_metric,\n",
    "            #, 'transformer': transformer_metric\n",
    "           'logistic': logistic_metric,\n",
    "              # 'transformer_mine': partial(transformer_metric, classifier=tabpfn_mine),\n",
    "              #  'distill_tabpfn':  partial(transformer_metric, classifier=distilled_tabpfn),\n",
    "              #  'mother_net': partial(transformer_metric, classifier=forward_mlp)\n",
    "                                            }\n",
    "#            , 'autosklearn': autosklearn_metric\n",
    "#              , 'autosklearn2': autosklearn2_metric\n",
    "             #, 'autogluon': autogluon_metric}"
   ]
  },
  {
   "cell_type": "markdown",
   "metadata": {
    "tags": []
   },
   "source": [
    "# Baseline Evaluation\n",
    "This section runs baselines and saves results locally."
   ]
  },
  {
   "cell_type": "code",
   "execution_count": 63,
   "metadata": {},
   "outputs": [],
   "source": [
    "!mkdir -p {base_path}/results\n",
    "!mkdir -p {base_path}/results/tabular/\n",
    "!mkdir -p {base_path}/results/tabular/multiclass/"
   ]
  },
  {
   "cell_type": "code",
   "execution_count": 64,
   "metadata": {},
   "outputs": [
    {
     "data": {
      "text/plain": [
       "{'knn': <function scripts.tabular_baselines.knn_metric(x, y, test_x, test_y, cat_features, metric_used, max_time=300, no_tune=None)>,\n",
       " 'xgb': <function scripts.tabular_baselines.xgb_metric(x, y, test_x, test_y, cat_features, metric_used, max_time=300, no_tune=None, gpu_id=None)>,\n",
       " 'logistic': <function scripts.tabular_baselines.logistic_metric(x, y, test_x, test_y, cat_features, metric_used, max_time=300, no_tune=None)>}"
      ]
     },
     "execution_count": 64,
     "metadata": {},
     "output_type": "execute_result"
    }
   ],
   "source": [
    "clf_dict"
   ]
  },
  {
   "cell_type": "code",
   "execution_count": 65,
   "metadata": {},
   "outputs": [],
   "source": [
    "# transformers don't have max times\n",
    "max_times = [1, 15, 30, 60]"
   ]
  },
  {
   "cell_type": "code",
   "execution_count": 66,
   "metadata": {},
   "outputs": [
    {
     "data": {
      "text/plain": [
       "18"
      ]
     },
     "execution_count": 66,
     "metadata": {},
     "output_type": "execute_result"
    }
   ],
   "source": [
    "cc_test_datasets_multiclass_df['isNumeric'] = (cc_test_datasets_multiclass_df.NumberOfSymbolicFeatures == 1) & (cc_test_datasets_multiclass_df.NumberOfInstancesWithMissingValues == 0)\n",
    "name_indexed_dataset = cc_test_datasets_multiclass_df.set_index(\"name\")\n",
    "\n",
    "numeric_test_datasets = [ds for ds in cc_test_datasets_multiclass if name_indexed_dataset.loc[ds[0]].isNumeric]\n",
    "len(numeric_test_datasets)"
   ]
  },
  {
   "cell_type": "code",
   "execution_count": null,
   "metadata": {
    "tags": []
   },
   "outputs": [
    {
     "name": "stdout",
     "output_type": "stream",
     "text": [
      "Loaded saved result for ./results/tabular/multiclass/results_knn_time_1_roc_auc_balance-scale_312_624_1.npy\n",
      "Loaded saved result for ./results/tabular/multiclass/results_knn_time_1_roc_auc_mfeat-fourier_1000_2000_1.npy\n",
      "Loaded saved result for ./results/tabular/multiclass/results_knn_time_1_roc_auc_mfeat-karhunen_1000_2000_1.npy\n",
      "Loaded saved result for ./results/tabular/multiclass/results_knn_time_1_roc_auc_mfeat-morphological_1000_2000_1.npy\n",
      "Loaded saved result for ./results/tabular/multiclass/results_knn_time_1_roc_auc_mfeat-zernike_1000_2000_1.npy\n",
      "Loaded saved result for ./results/tabular/multiclass/results_knn_time_1_roc_auc_diabetes_384_768_1.npy\n",
      "Loaded saved result for ./results/tabular/multiclass/results_knn_time_1_roc_auc_vehicle_423_846_1.npy\n",
      "Loaded saved result for ./results/tabular/multiclass/results_knn_time_1_roc_auc_analcatdata_authorship_420_840_1.npy\n",
      "Loaded saved result for ./results/tabular/multiclass/results_knn_time_1_roc_auc_pc4_729_1458_1.npy\n",
      "Loaded saved result for ./results/tabular/multiclass/results_knn_time_1_roc_auc_pc3_781_1562_1.npy\n",
      "Loaded saved result for ./results/tabular/multiclass/results_knn_time_1_roc_auc_kc2_261_522_1.npy\n",
      "Loaded saved result for ./results/tabular/multiclass/results_knn_time_1_roc_auc_pc1_554_1108_1.npy\n",
      "Loaded saved result for ./results/tabular/multiclass/results_knn_time_1_roc_auc_banknote-authentication_686_1372_1.npy\n",
      "Loaded saved result for ./results/tabular/multiclass/results_knn_time_1_roc_auc_blood-transfusion-service-center_374_748_1.npy\n",
      "Loaded saved result for ./results/tabular/multiclass/results_knn_time_1_roc_auc_qsar-biodeg_527_1054_1.npy\n",
      "Loaded saved result for ./results/tabular/multiclass/results_knn_time_1_roc_auc_wdbc_284_568_1.npy\n",
      "Loaded saved result for ./results/tabular/multiclass/results_knn_time_1_roc_auc_steel-plates-fault_970_1940_1.npy\n",
      "Loaded saved result for ./results/tabular/multiclass/results_knn_time_1_roc_auc_climate-model-simulation-crashes_270_540_1.npy\n",
      "Loaded saved result for ./results/tabular/multiclass/results_knn_time_1_roc_auc_balance-scale_312_624_2.npy\n",
      "Loaded saved result for ./results/tabular/multiclass/results_knn_time_1_roc_auc_mfeat-fourier_1000_2000_2.npy\n",
      "Loaded saved result for ./results/tabular/multiclass/results_knn_time_1_roc_auc_mfeat-karhunen_1000_2000_2.npy\n",
      "Loaded saved result for ./results/tabular/multiclass/results_knn_time_1_roc_auc_mfeat-morphological_1000_2000_2.npy\n",
      "Loaded saved result for ./results/tabular/multiclass/results_knn_time_1_roc_auc_mfeat-zernike_1000_2000_2.npy\n",
      "Loaded saved result for ./results/tabular/multiclass/results_knn_time_1_roc_auc_diabetes_384_768_2.npy\n",
      "Loaded saved result for ./results/tabular/multiclass/results_knn_time_1_roc_auc_vehicle_423_846_2.npy\n",
      "Loaded saved result for ./results/tabular/multiclass/results_knn_time_1_roc_auc_analcatdata_authorship_420_840_2.npy\n",
      "Loaded saved result for ./results/tabular/multiclass/results_knn_time_1_roc_auc_pc4_729_1458_2.npy\n",
      "Loaded saved result for ./results/tabular/multiclass/results_knn_time_1_roc_auc_pc3_781_1562_2.npy\n",
      "Loaded saved result for ./results/tabular/multiclass/results_knn_time_1_roc_auc_kc2_261_522_2.npy\n",
      "Loaded saved result for ./results/tabular/multiclass/results_knn_time_1_roc_auc_pc1_554_1108_2.npy\n",
      "Loaded saved result for ./results/tabular/multiclass/results_knn_time_1_roc_auc_banknote-authentication_686_1372_2.npy\n",
      "Loaded saved result for ./results/tabular/multiclass/results_knn_time_1_roc_auc_blood-transfusion-service-center_374_748_2.npy\n",
      "Loaded saved result for ./results/tabular/multiclass/results_knn_time_1_roc_auc_qsar-biodeg_527_1054_2.npy\n",
      "Loaded saved result for ./results/tabular/multiclass/results_knn_time_1_roc_auc_wdbc_284_568_2.npy\n",
      "Loaded saved result for ./results/tabular/multiclass/results_knn_time_1_roc_auc_steel-plates-fault_970_1940_2.npy\n",
      "Loaded saved result for ./results/tabular/multiclass/results_knn_time_1_roc_auc_climate-model-simulation-crashes_270_540_2.npy\n",
      "Loaded saved result for ./results/tabular/multiclass/results_knn_time_1_roc_auc_balance-scale_312_624_3.npy\n",
      "Loaded saved result for ./results/tabular/multiclass/results_knn_time_1_roc_auc_mfeat-fourier_1000_2000_3.npy\n",
      "Loaded saved result for ./results/tabular/multiclass/results_knn_time_1_roc_auc_mfeat-karhunen_1000_2000_3.npy\n",
      "Loaded saved result for ./results/tabular/multiclass/results_knn_time_1_roc_auc_mfeat-morphological_1000_2000_3.npy\n",
      "Loaded saved result for ./results/tabular/multiclass/results_knn_time_1_roc_auc_mfeat-zernike_1000_2000_3.npy\n",
      "Loaded saved result for ./results/tabular/multiclass/results_knn_time_1_roc_auc_diabetes_384_768_3.npy\n",
      "Loaded saved result for ./results/tabular/multiclass/results_knn_time_1_roc_auc_vehicle_423_846_3.npy\n",
      "Loaded saved result for ./results/tabular/multiclass/results_knn_time_1_roc_auc_analcatdata_authorship_420_840_3.npy\n",
      "Loaded saved result for ./results/tabular/multiclass/results_knn_time_1_roc_auc_pc4_729_1458_3.npy\n",
      "Loaded saved result for ./results/tabular/multiclass/results_knn_time_1_roc_auc_pc3_781_1562_3.npy\n",
      "Loaded saved result for ./results/tabular/multiclass/results_knn_time_1_roc_auc_kc2_261_522_3.npy\n",
      "Loaded saved result for ./results/tabular/multiclass/results_knn_time_1_roc_auc_pc1_554_1108_3.npy\n",
      "Loaded saved result for ./results/tabular/multiclass/results_knn_time_1_roc_auc_banknote-authentication_686_1372_3.npy\n",
      "Loaded saved result for ./results/tabular/multiclass/results_knn_time_1_roc_auc_blood-transfusion-service-center_374_748_3.npy\n",
      "Loaded saved result for ./results/tabular/multiclass/results_knn_time_1_roc_auc_qsar-biodeg_527_1054_3.npy\n",
      "Loaded saved result for ./results/tabular/multiclass/results_knn_time_1_roc_auc_wdbc_284_568_3.npy\n",
      "Loaded saved result for ./results/tabular/multiclass/results_knn_time_1_roc_auc_steel-plates-fault_970_1940_3.npy\n",
      "Loaded saved result for ./results/tabular/multiclass/results_knn_time_1_roc_auc_climate-model-simulation-crashes_270_540_3.npy\n",
      "Loaded saved result for ./results/tabular/multiclass/results_knn_time_1_roc_auc_balance-scale_312_624_4.npy\n",
      "Loaded saved result for ./results/tabular/multiclass/results_knn_time_1_roc_auc_mfeat-fourier_1000_2000_4.npy\n",
      "Loaded saved result for ./results/tabular/multiclass/results_knn_time_1_roc_auc_mfeat-karhunen_1000_2000_4.npy\n",
      "Loaded saved result for ./results/tabular/multiclass/results_knn_time_1_roc_auc_mfeat-morphological_1000_2000_4.npy\n",
      "Loaded saved result for ./results/tabular/multiclass/results_knn_time_1_roc_auc_mfeat-zernike_1000_2000_4.npy\n",
      "Loaded saved result for ./results/tabular/multiclass/results_knn_time_1_roc_auc_diabetes_384_768_4.npy\n",
      "Loaded saved result for ./results/tabular/multiclass/results_knn_time_1_roc_auc_vehicle_423_846_4.npy\n",
      "Loaded saved result for ./results/tabular/multiclass/results_knn_time_1_roc_auc_analcatdata_authorship_420_840_4.npy\n",
      "Loaded saved result for ./results/tabular/multiclass/results_knn_time_1_roc_auc_pc4_729_1458_4.npy\n",
      "Loaded saved result for ./results/tabular/multiclass/results_knn_time_1_roc_auc_pc3_781_1562_4.npy\n",
      "Loaded saved result for ./results/tabular/multiclass/results_knn_time_1_roc_auc_kc2_261_522_4.npy\n",
      "Loaded saved result for ./results/tabular/multiclass/results_knn_time_1_roc_auc_pc1_554_1108_4.npy\n",
      "Loaded saved result for ./results/tabular/multiclass/results_knn_time_1_roc_auc_banknote-authentication_686_1372_4.npy\n",
      "Loaded saved result for ./results/tabular/multiclass/results_knn_time_1_roc_auc_blood-transfusion-service-center_374_748_4.npy\n",
      "Loaded saved result for ./results/tabular/multiclass/results_knn_time_1_roc_auc_qsar-biodeg_527_1054_4.npy\n",
      "Loaded saved result for ./results/tabular/multiclass/results_knn_time_1_roc_auc_wdbc_284_568_4.npy\n",
      "Loaded saved result for ./results/tabular/multiclass/results_knn_time_1_roc_auc_steel-plates-fault_970_1940_4.npy\n",
      "Loaded saved result for ./results/tabular/multiclass/results_knn_time_1_roc_auc_climate-model-simulation-crashes_270_540_4.npy\n",
      "Loaded saved result for ./results/tabular/multiclass/results_knn_time_1_roc_auc_balance-scale_312_624_5.npy\n",
      "Loaded saved result for ./results/tabular/multiclass/results_knn_time_1_roc_auc_mfeat-fourier_1000_2000_5.npy\n",
      "Loaded saved result for ./results/tabular/multiclass/results_knn_time_1_roc_auc_mfeat-karhunen_1000_2000_5.npy\n",
      "Loaded saved result for ./results/tabular/multiclass/results_knn_time_1_roc_auc_mfeat-morphological_1000_2000_5.npy\n",
      "Loaded saved result for ./results/tabular/multiclass/results_knn_time_1_roc_auc_mfeat-zernike_1000_2000_5.npy\n",
      "Loaded saved result for ./results/tabular/multiclass/results_knn_time_1_roc_auc_diabetes_384_768_5.npy\n",
      "Loaded saved result for ./results/tabular/multiclass/results_knn_time_1_roc_auc_vehicle_423_846_5.npy\n",
      "Loaded saved result for ./results/tabular/multiclass/results_knn_time_1_roc_auc_analcatdata_authorship_420_840_5.npy\n",
      "Loaded saved result for ./results/tabular/multiclass/results_knn_time_1_roc_auc_pc4_729_1458_5.npy\n",
      "Loaded saved result for ./results/tabular/multiclass/results_knn_time_1_roc_auc_pc3_781_1562_5.npy\n",
      "Loaded saved result for ./results/tabular/multiclass/results_knn_time_1_roc_auc_kc2_261_522_5.npy\n",
      "Loaded saved result for ./results/tabular/multiclass/results_knn_time_1_roc_auc_pc1_554_1108_5.npy\n",
      "Loaded saved result for ./results/tabular/multiclass/results_knn_time_1_roc_auc_banknote-authentication_686_1372_5.npy\n",
      "Loaded saved result for ./results/tabular/multiclass/results_knn_time_1_roc_auc_blood-transfusion-service-center_374_748_5.npy\n",
      "Loaded saved result for ./results/tabular/multiclass/results_knn_time_1_roc_auc_qsar-biodeg_527_1054_5.npy\n",
      "Loaded saved result for ./results/tabular/multiclass/results_knn_time_1_roc_auc_wdbc_284_568_5.npy\n",
      "Loaded saved result for ./results/tabular/multiclass/results_knn_time_1_roc_auc_steel-plates-fault_970_1940_5.npy\n",
      "Loaded saved result for ./results/tabular/multiclass/results_knn_time_1_roc_auc_climate-model-simulation-crashes_270_540_5.npy\n"
     ]
    },
    {
     "name": "stderr",
     "output_type": "stream",
     "text": [
      "Calculating splits<function knn_metric at 0x7fee38554540> 312:   0%|                                                                                                                                                                                                                                                                                                | 0/1 [00:15<?, ?it/s]\n"
     ]
    },
    {
     "name": "stdout",
     "output_type": "stream",
     "text": [
      "saved results to ./results/tabular/multiclass/results_knn_time_15_roc_auc_balance-scale_312_624_1.npy\n"
     ]
    },
    {
     "name": "stderr",
     "output_type": "stream",
     "text": [
      "Calculating splits<function knn_metric at 0x7fee38554540> 1000:   0%|                                                                                                                                                                                                                                                                                               | 0/1 [00:15<?, ?it/s]\n"
     ]
    },
    {
     "name": "stdout",
     "output_type": "stream",
     "text": [
      "saved results to ./results/tabular/multiclass/results_knn_time_15_roc_auc_mfeat-fourier_1000_2000_1.npy\n"
     ]
    },
    {
     "name": "stderr",
     "output_type": "stream",
     "text": [
      "Calculating splits<function knn_metric at 0x7fee38554540> 1000:   0%|                                                                                                                                                                                                                                                                                               | 0/1 [00:15<?, ?it/s]\n"
     ]
    },
    {
     "name": "stdout",
     "output_type": "stream",
     "text": [
      "saved results to ./results/tabular/multiclass/results_knn_time_15_roc_auc_mfeat-karhunen_1000_2000_1.npy\n"
     ]
    },
    {
     "name": "stderr",
     "output_type": "stream",
     "text": [
      "Calculating splits<function knn_metric at 0x7fee38554540> 1000:   0%|                                                                                                                                                                                                                                                                                               | 0/1 [00:15<?, ?it/s]\n"
     ]
    },
    {
     "name": "stdout",
     "output_type": "stream",
     "text": [
      "saved results to ./results/tabular/multiclass/results_knn_time_15_roc_auc_mfeat-morphological_1000_2000_1.npy\n"
     ]
    },
    {
     "name": "stderr",
     "output_type": "stream",
     "text": [
      "Calculating splits<function knn_metric at 0x7fee38554540> 1000:   0%|                                                                                                                                                                                                                                                                                               | 0/1 [00:15<?, ?it/s]\n"
     ]
    },
    {
     "name": "stdout",
     "output_type": "stream",
     "text": [
      "saved results to ./results/tabular/multiclass/results_knn_time_15_roc_auc_mfeat-zernike_1000_2000_1.npy\n"
     ]
    },
    {
     "name": "stderr",
     "output_type": "stream",
     "text": [
      "Calculating splits<function knn_metric at 0x7fee38554540> 384:   0%|                                                                                                                                                                                                                                                                                                | 0/1 [00:15<?, ?it/s]\n"
     ]
    },
    {
     "name": "stdout",
     "output_type": "stream",
     "text": [
      "saved results to ./results/tabular/multiclass/results_knn_time_15_roc_auc_diabetes_384_768_1.npy\n"
     ]
    },
    {
     "name": "stderr",
     "output_type": "stream",
     "text": [
      "Calculating splits<function knn_metric at 0x7fee38554540> 423:   0%|                                                                                                                                                                                                                                                                                                | 0/1 [00:15<?, ?it/s]\n"
     ]
    },
    {
     "name": "stdout",
     "output_type": "stream",
     "text": [
      "saved results to ./results/tabular/multiclass/results_knn_time_15_roc_auc_vehicle_423_846_1.npy\n"
     ]
    },
    {
     "name": "stderr",
     "output_type": "stream",
     "text": [
      "Calculating splits<function knn_metric at 0x7fee38554540> 420:   0%|                                                                                                                                                                                                                                                                                                | 0/1 [00:15<?, ?it/s]\n"
     ]
    },
    {
     "name": "stdout",
     "output_type": "stream",
     "text": [
      "saved results to ./results/tabular/multiclass/results_knn_time_15_roc_auc_analcatdata_authorship_420_840_1.npy\n"
     ]
    },
    {
     "name": "stderr",
     "output_type": "stream",
     "text": [
      "Calculating splits<function knn_metric at 0x7fee38554540> 729:   0%|                                                                                                                                                                                                                                                                                                | 0/1 [00:15<?, ?it/s]\n"
     ]
    },
    {
     "name": "stdout",
     "output_type": "stream",
     "text": [
      "saved results to ./results/tabular/multiclass/results_knn_time_15_roc_auc_pc4_729_1458_1.npy\n"
     ]
    },
    {
     "name": "stderr",
     "output_type": "stream",
     "text": [
      "Calculating splits<function knn_metric at 0x7fee38554540> 781:   0%|                                                                                                                                                                                                                                                                                                | 0/1 [00:15<?, ?it/s]\n"
     ]
    },
    {
     "name": "stdout",
     "output_type": "stream",
     "text": [
      "saved results to ./results/tabular/multiclass/results_knn_time_15_roc_auc_pc3_781_1562_1.npy\n"
     ]
    },
    {
     "name": "stderr",
     "output_type": "stream",
     "text": [
      "Calculating splits<function knn_metric at 0x7fee38554540> 261:   0%|                                                                                                                                                                                                                                                                                                | 0/1 [00:15<?, ?it/s]\n"
     ]
    },
    {
     "name": "stdout",
     "output_type": "stream",
     "text": [
      "saved results to ./results/tabular/multiclass/results_knn_time_15_roc_auc_kc2_261_522_1.npy\n"
     ]
    },
    {
     "name": "stderr",
     "output_type": "stream",
     "text": [
      "Calculating splits<function knn_metric at 0x7fee38554540> 554:   0%|                                                                                                                                                                                                                                                                                                | 0/1 [00:15<?, ?it/s]\n"
     ]
    },
    {
     "name": "stdout",
     "output_type": "stream",
     "text": [
      "saved results to ./results/tabular/multiclass/results_knn_time_15_roc_auc_pc1_554_1108_1.npy\n"
     ]
    },
    {
     "name": "stderr",
     "output_type": "stream",
     "text": [
      "Calculating splits<function knn_metric at 0x7fee38554540> 686:   0%|                                                                                                                                                                                                                                                                                                | 0/1 [00:15<?, ?it/s]\n"
     ]
    },
    {
     "name": "stdout",
     "output_type": "stream",
     "text": [
      "saved results to ./results/tabular/multiclass/results_knn_time_15_roc_auc_banknote-authentication_686_1372_1.npy\n"
     ]
    },
    {
     "name": "stderr",
     "output_type": "stream",
     "text": [
      "Calculating splits<function knn_metric at 0x7fee38554540> 374:   0%|                                                                                                                                                                                                                                                                                                | 0/1 [00:00<?, ?it/s]"
     ]
    }
   ],
   "source": [
    "from tabpfn.scripts.tabular_evaluation import eval_on_datasets\n",
    "results = [\n",
    "    eval_on_datasets('multiclass', model, model_name, numeric_test_datasets, eval_positions=eval_positions, max_time=max_time, metric_used=metric_used, split_number=split_number,\n",
    "                     bptt=bptt, base_path=base_path, device=device)\n",
    "    for model_name, model in clf_dict.items()\n",
    "    for max_time in max_times\n",
    "    for split_number in [1, 2, 3, 4, 5]\n",
    "]"
   ]
  },
  {
   "cell_type": "code",
   "execution_count": null,
   "metadata": {},
   "outputs": [],
   "source": [
    "flat_results = []\n",
    "for per_dataset in results:\n",
    "    for result in per_dataset:\n",
    "        row = {}\n",
    "        for key in ['dataset', 'model', 'mean_metric', 'split', 'max_time']:\n",
    "            row[key] = result[key]\n",
    "        row['mean_metric'] = row[\"mean_metric\"].numpy()\n",
    "        flat_results.append(row)\n",
    "\n",
    "results_df = pd.DataFrame(flat_results)"
   ]
  },
  {
   "cell_type": "code",
   "execution_count": null,
   "metadata": {
    "tags": []
   },
   "outputs": [],
   "source": [
    "results_df"
   ]
  },
  {
   "cell_type": "code",
   "execution_count": null,
   "metadata": {},
   "outputs": [],
   "source": [
    "import pickle\n",
    "with open(\"results_test_set_baseline_new.pickle\", \"wb\") as f:\n",
    "    pickle.dump(results, f)"
   ]
  },
  {
   "cell_type": "code",
   "execution_count": null,
   "metadata": {},
   "outputs": [],
   "source": [
    "results_df.to_csv(\"results_test_set_baseline_new.csv\")"
   ]
  },
  {
   "cell_type": "code",
   "execution_count": 28,
   "metadata": {},
   "outputs": [],
   "source": [
    "results_baseline = pd.read_csv(\"results_test_set_paper.csv\", index_col=0)"
   ]
  },
  {
   "cell_type": "code",
   "execution_count": 124,
   "metadata": {},
   "outputs": [
    {
     "data": {
      "text/html": [
       "<div>\n",
       "<style scoped>\n",
       "    .dataframe tbody tr th:only-of-type {\n",
       "        vertical-align: middle;\n",
       "    }\n",
       "\n",
       "    .dataframe tbody tr th {\n",
       "        vertical-align: top;\n",
       "    }\n",
       "\n",
       "    .dataframe thead th {\n",
       "        text-align: right;\n",
       "    }\n",
       "</style>\n",
       "<table border=\"1\" class=\"dataframe\">\n",
       "  <thead>\n",
       "    <tr style=\"text-align: right;\">\n",
       "      <th></th>\n",
       "      <th>model</th>\n",
       "      <th>did</th>\n",
       "      <th>split</th>\n",
       "      <th>max_time</th>\n",
       "      <th>roc</th>\n",
       "    </tr>\n",
       "  </thead>\n",
       "  <tbody>\n",
       "    <tr>\n",
       "      <th>0</th>\n",
       "      <td>transformer_mine</td>\n",
       "      <td>0</td>\n",
       "      <td>1</td>\n",
       "      <td>1</td>\n",
       "      <td>0.998650</td>\n",
       "    </tr>\n",
       "    <tr>\n",
       "      <th>1</th>\n",
       "      <td>transformer_mine</td>\n",
       "      <td>0</td>\n",
       "      <td>2</td>\n",
       "      <td>1</td>\n",
       "      <td>0.995300</td>\n",
       "    </tr>\n",
       "    <tr>\n",
       "      <th>2</th>\n",
       "      <td>transformer_mine</td>\n",
       "      <td>0</td>\n",
       "      <td>3</td>\n",
       "      <td>1</td>\n",
       "      <td>0.996799</td>\n",
       "    </tr>\n",
       "    <tr>\n",
       "      <th>3</th>\n",
       "      <td>transformer_mine</td>\n",
       "      <td>0</td>\n",
       "      <td>4</td>\n",
       "      <td>1</td>\n",
       "      <td>0.997293</td>\n",
       "    </tr>\n",
       "    <tr>\n",
       "      <th>4</th>\n",
       "      <td>transformer_mine</td>\n",
       "      <td>0</td>\n",
       "      <td>5</td>\n",
       "      <td>1</td>\n",
       "      <td>0.997359</td>\n",
       "    </tr>\n",
       "    <tr>\n",
       "      <th>...</th>\n",
       "      <td>...</td>\n",
       "      <td>...</td>\n",
       "      <td>...</td>\n",
       "      <td>...</td>\n",
       "      <td>...</td>\n",
       "    </tr>\n",
       "    <tr>\n",
       "      <th>1795</th>\n",
       "      <td>logistic</td>\n",
       "      <td>29</td>\n",
       "      <td>1</td>\n",
       "      <td>60</td>\n",
       "      <td>0.922520</td>\n",
       "    </tr>\n",
       "    <tr>\n",
       "      <th>1796</th>\n",
       "      <td>logistic</td>\n",
       "      <td>29</td>\n",
       "      <td>2</td>\n",
       "      <td>60</td>\n",
       "      <td>0.930902</td>\n",
       "    </tr>\n",
       "    <tr>\n",
       "      <th>1797</th>\n",
       "      <td>logistic</td>\n",
       "      <td>29</td>\n",
       "      <td>3</td>\n",
       "      <td>60</td>\n",
       "      <td>0.926999</td>\n",
       "    </tr>\n",
       "    <tr>\n",
       "      <th>1798</th>\n",
       "      <td>logistic</td>\n",
       "      <td>29</td>\n",
       "      <td>4</td>\n",
       "      <td>60</td>\n",
       "      <td>0.924458</td>\n",
       "    </tr>\n",
       "    <tr>\n",
       "      <th>1799</th>\n",
       "      <td>logistic</td>\n",
       "      <td>29</td>\n",
       "      <td>5</td>\n",
       "      <td>60</td>\n",
       "      <td>0.953629</td>\n",
       "    </tr>\n",
       "  </tbody>\n",
       "</table>\n",
       "<p>2250 rows × 5 columns</p>\n",
       "</div>"
      ],
      "text/plain": [
       "                 model  did  split  max_time       roc\n",
       "0     transformer_mine    0      1         1  0.998650\n",
       "1     transformer_mine    0      2         1  0.995300\n",
       "2     transformer_mine    0      3         1  0.996799\n",
       "3     transformer_mine    0      4         1  0.997293\n",
       "4     transformer_mine    0      5         1  0.997359\n",
       "...                ...  ...    ...       ...       ...\n",
       "1795          logistic   29      1        60  0.922520\n",
       "1796          logistic   29      2        60  0.930902\n",
       "1797          logistic   29      3        60  0.926999\n",
       "1798          logistic   29      4        60  0.924458\n",
       "1799          logistic   29      5        60  0.953629\n",
       "\n",
       "[2250 rows x 5 columns]"
      ]
     },
     "execution_count": 124,
     "metadata": {},
     "output_type": "execute_result"
    }
   ],
   "source": [
    "results_combined = pd.concat([results_test_set_df, results_baseline])\n",
    "results_combined"
   ]
  },
  {
   "cell_type": "code",
   "execution_count": 56,
   "metadata": {},
   "outputs": [],
   "source": [
    "bla_pivot = bla.pivot(columns=\"model\", index=\"did\", values=\"roc\")"
   ]
  },
  {
   "cell_type": "code",
   "execution_count": 44,
   "metadata": {},
   "outputs": [
    {
     "data": {
      "text/plain": [
       "model\n",
       "logistic       0.882415\n",
       "transformer    0.884743\n",
       "xgb            0.885966\n",
       "dtype: float64"
      ]
     },
     "execution_count": 44,
     "metadata": {},
     "output_type": "execute_result"
    }
   ],
   "source": [
    "bla.pivot(columns=\"model\", index=\"did\", values=\"roc\").mean()"
   ]
  },
  {
   "cell_type": "code",
   "execution_count": 36,
   "metadata": {},
   "outputs": [
    {
     "data": {
      "text/html": [
       "<div>\n",
       "<style scoped>\n",
       "    .dataframe tbody tr th:only-of-type {\n",
       "        vertical-align: middle;\n",
       "    }\n",
       "\n",
       "    .dataframe tbody tr th {\n",
       "        vertical-align: top;\n",
       "    }\n",
       "\n",
       "    .dataframe thead tr th {\n",
       "        text-align: left;\n",
       "    }\n",
       "\n",
       "    .dataframe thead tr:last-of-type th {\n",
       "        text-align: right;\n",
       "    }\n",
       "</style>\n",
       "<table border=\"1\" class=\"dataframe\">\n",
       "  <thead>\n",
       "    <tr>\n",
       "      <th></th>\n",
       "      <th colspan=\"3\" halign=\"left\">mean</th>\n",
       "      <th colspan=\"3\" halign=\"left\">std</th>\n",
       "    </tr>\n",
       "    <tr>\n",
       "      <th>model</th>\n",
       "      <th>logistic</th>\n",
       "      <th>transformer</th>\n",
       "      <th>xgb</th>\n",
       "      <th>logistic</th>\n",
       "      <th>transformer</th>\n",
       "      <th>xgb</th>\n",
       "    </tr>\n",
       "    <tr>\n",
       "      <th>max_time</th>\n",
       "      <th></th>\n",
       "      <th></th>\n",
       "      <th></th>\n",
       "      <th></th>\n",
       "      <th></th>\n",
       "      <th></th>\n",
       "    </tr>\n",
       "  </thead>\n",
       "  <tbody>\n",
       "    <tr>\n",
       "      <th>1</th>\n",
       "      <td>0.876435</td>\n",
       "      <td>0.884743</td>\n",
       "      <td>0.879335</td>\n",
       "      <td>0.122229</td>\n",
       "      <td>0.130577</td>\n",
       "      <td>0.131326</td>\n",
       "    </tr>\n",
       "    <tr>\n",
       "      <th>15</th>\n",
       "      <td>0.882545</td>\n",
       "      <td>0.884743</td>\n",
       "      <td>0.882753</td>\n",
       "      <td>0.123430</td>\n",
       "      <td>0.130577</td>\n",
       "      <td>0.126551</td>\n",
       "    </tr>\n",
       "    <tr>\n",
       "      <th>30</th>\n",
       "      <td>0.882297</td>\n",
       "      <td>0.884743</td>\n",
       "      <td>0.883972</td>\n",
       "      <td>0.125158</td>\n",
       "      <td>0.130577</td>\n",
       "      <td>0.126115</td>\n",
       "    </tr>\n",
       "    <tr>\n",
       "      <th>60</th>\n",
       "      <td>0.882415</td>\n",
       "      <td>0.884743</td>\n",
       "      <td>0.885966</td>\n",
       "      <td>0.124875</td>\n",
       "      <td>0.130577</td>\n",
       "      <td>0.124530</td>\n",
       "    </tr>\n",
       "  </tbody>\n",
       "</table>\n",
       "</div>"
      ],
      "text/plain": [
       "              mean                             std                      \n",
       "model     logistic transformer       xgb  logistic transformer       xgb\n",
       "max_time                                                                \n",
       "1         0.876435    0.884743  0.879335  0.122229    0.130577  0.131326\n",
       "15        0.882545    0.884743  0.882753  0.123430    0.130577  0.126551\n",
       "30        0.882297    0.884743  0.883972  0.125158    0.130577  0.126115\n",
       "60        0.882415    0.884743  0.885966  0.124875    0.130577  0.124530"
      ]
     },
     "execution_count": 36,
     "metadata": {},
     "output_type": "execute_result"
    }
   ],
   "source": [
    "aggregate_results = pd.pivot_table(results_test_set_baseline_across_splits, values=\"roc\", columns=\"model\", index=\"max_time\", aggfunc=['mean', 'std'])\n",
    "aggregate_results"
   ]
  },
  {
   "cell_type": "code",
   "execution_count": 38,
   "metadata": {},
   "outputs": [
    {
     "data": {
      "text/plain": [
       "<Axes: xlabel='max_time'>"
      ]
     },
     "execution_count": 38,
     "metadata": {},
     "output_type": "execute_result"
    },
    {
     "data": {
      "image/png": "[encoded data removed]",
      "text/plain": [
       "<Figure size 640x480 with 1 Axes>"
      ]
     },
     "metadata": {},
     "output_type": "display_data"
    }
   ],
   "source": [
    "aggregate_results['mean'].plot()"
   ]
  },
  {
   "cell_type": "code",
   "execution_count": 39,
   "metadata": {},
   "outputs": [
    {
     "data": {
      "text/html": [
       "<div>\n",
       "<style scoped>\n",
       "    .dataframe tbody tr th:only-of-type {\n",
       "        vertical-align: middle;\n",
       "    }\n",
       "\n",
       "    .dataframe tbody tr th {\n",
       "        vertical-align: top;\n",
       "    }\n",
       "\n",
       "    .dataframe thead tr th {\n",
       "        text-align: left;\n",
       "    }\n",
       "\n",
       "    .dataframe thead tr:last-of-type th {\n",
       "        text-align: right;\n",
       "    }\n",
       "</style>\n",
       "<table border=\"1\" class=\"dataframe\">\n",
       "  <thead>\n",
       "    <tr>\n",
       "      <th></th>\n",
       "      <th colspan=\"3\" halign=\"left\">mean</th>\n",
       "      <th colspan=\"3\" halign=\"left\">std</th>\n",
       "    </tr>\n",
       "    <tr>\n",
       "      <th>model</th>\n",
       "      <th>distill_tabpfn</th>\n",
       "      <th>mother_net</th>\n",
       "      <th>transformer_mine</th>\n",
       "      <th>distill_tabpfn</th>\n",
       "      <th>mother_net</th>\n",
       "      <th>transformer_mine</th>\n",
       "    </tr>\n",
       "    <tr>\n",
       "      <th>max_time</th>\n",
       "      <th></th>\n",
       "      <th></th>\n",
       "      <th></th>\n",
       "      <th></th>\n",
       "      <th></th>\n",
       "      <th></th>\n",
       "    </tr>\n",
       "  </thead>\n",
       "  <tbody>\n",
       "    <tr>\n",
       "      <th>1</th>\n",
       "      <td>0.814102</td>\n",
       "      <td>0.865402</td>\n",
       "      <td>0.886912</td>\n",
       "      <td>0.175888</td>\n",
       "      <td>0.134813</td>\n",
       "      <td>0.130563</td>\n",
       "    </tr>\n",
       "  </tbody>\n",
       "</table>\n",
       "</div>"
      ],
      "text/plain": [
       "                   mean                                        std             \\\n",
       "model    distill_tabpfn mother_net transformer_mine distill_tabpfn mother_net   \n",
       "max_time                                                                        \n",
       "1              0.814102   0.865402         0.886912       0.175888   0.134813   \n",
       "\n",
       "                           \n",
       "model    transformer_mine  \n",
       "max_time                   \n",
       "1                0.130563  "
      ]
     },
     "execution_count": 39,
     "metadata": {},
     "output_type": "execute_result"
    }
   ],
   "source": [
    "aggregate_results_mine = pd.pivot_table(results_test_set_mine_across_splits, values=\"roc\", columns=\"model\", index=\"max_time\", aggfunc=['mean', 'std'])\n",
    "aggregate_results_mine"
   ]
  },
  {
   "cell_type": "code",
   "execution_count": 128,
   "metadata": {},
   "outputs": [
    {
     "data": {
      "text/plain": [
       "<Axes: xlabel='max_time', ylabel='roc'>"
      ]
     },
     "execution_count": 128,
     "metadata": {},
     "output_type": "execute_result"
    },
    {
     "data": {
      "image/png": "[encoded data removed]",
      "text/plain": [
       "<Figure size 640x480 with 1 Axes>"
      ]
     },
     "metadata": {},
     "output_type": "display_data"
    }
   ],
   "source": [
    "import seaborn as sns\n",
    "sns.lineplot(weird_reshape, x=\"max_time\", y=\"roc\", hue=\"model\", errorbar=\"sd\", marker=\"o\")"
   ]
  },
  {
   "cell_type": "code",
   "execution_count": null,
   "metadata": {},
   "outputs": [],
   "source": []
  }
 ],
 "metadata": {
  "kernelspec": {
   "display_name": "Python [conda env:fresh311]",
   "language": "python",
   "name": "conda-env-fresh311-py"
  },
  "language_info": {
   "codemirror_mode": {
    "name": "ipython",
    "version": 3
   },
   "file_extension": ".py",
   "mimetype": "text/x-python",
   "name": "python",
   "nbconvert_exporter": "python",
   "pygments_lexer": "ipython3",
   "version": "3.11.0"
  }
 },
 "nbformat": 4,
 "nbformat_minor": 4
}
