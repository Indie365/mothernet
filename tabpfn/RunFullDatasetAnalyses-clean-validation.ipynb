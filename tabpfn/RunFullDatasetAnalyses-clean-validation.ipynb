{
 "cells": [
  {
   "cell_type": "code",
   "execution_count": 1,
   "metadata": {},
   "outputs": [],
   "source": [
    "import matplotlib.pyplot as plt\n",
    "\n",
    "from scripts import tabular_baselines\n",
    "\n",
    "import seaborn as sns\n",
    "import numpy as np\n",
    "\n",
    "from datasets import load_openml_list, valid_dids_classification, test_dids_classification, open_cc_dids\n",
    "from scripts.tabular_baselines import *\n",
    "from scripts.tabular_evaluation import evaluate\n",
    "from scripts.tabular_metrics import calculate_score, make_ranks_and_wins_table, make_metric_matrix\n",
    "from scripts import tabular_metrics\n",
    "from scripts.transformer_prediction_interface import TabPFNClassifier"
   ]
  },
  {
   "cell_type": "code",
   "execution_count": 2,
   "metadata": {},
   "outputs": [],
   "source": [
    "from notebook_utils import *"
   ]
  },
  {
   "cell_type": "code",
   "execution_count": 3,
   "metadata": {},
   "outputs": [],
   "source": [
    "%load_ext autoreload\n",
    "\n",
    "%autoreload 2"
   ]
  },
  {
   "cell_type": "markdown",
   "metadata": {
    "tags": []
   },
   "source": [
    "# Datasets"
   ]
  },
  {
   "cell_type": "code",
   "execution_count": 4,
   "metadata": {
    "tags": []
   },
   "outputs": [
    {
     "name": "stdout",
     "output_type": "stream",
     "text": [
      "Number of datasets: 149\n"
     ]
    }
   ],
   "source": [
    "from datasets import load_openml_list, open_cc_dids, open_cc_valid_dids, test_dids_classification\n",
    "\n",
    "cc_valid_datasets_multiclass, cc_valid_datasets_multiclass_df = load_openml_list(open_cc_valid_dids, multiclass=True, shuffled=True, filter_for_nan=False, max_samples = 10000, num_feats=100, return_capped=True)\n"
   ]
  },
  {
   "cell_type": "markdown",
   "metadata": {
    "tags": []
   },
   "source": [
    "# Setting params"
   ]
  },
  {
   "cell_type": "code",
   "execution_count": 5,
   "metadata": {},
   "outputs": [],
   "source": [
    "import os\n",
    "eval_positions = [1000]\n",
    "max_features = 100\n",
    "bptt = 2000\n",
    "base_path = os.path.join('.')\n",
    "overwrite = False\n",
    "#max_times = [0.5, 1, 15, 30, 60, 60*5, 60*15, 60*60]\n",
    "max_times = [1, 15]\n",
    "#max_times = [1, 15, 30, 60, 60 * 5, 60 * 15]\n",
    "metric_used = tabular_metrics.auc_metric\n",
    "task_type = 'multiclass'"
   ]
  },
  {
   "cell_type": "code",
   "execution_count": 6,
   "metadata": {},
   "outputs": [],
   "source": [
    "from scripts.distill_mlp import DistilledTabPFNMLP\n",
    "from tabpfn.transformer_make_model import PermutationsMeta, ForwardMLPModel\n",
    "from functools import partial\n",
    "from scripts.tabular_baselines import knn_metric, catboost_metric, transformer_metric, logistic_metric, xgb_metric, random_forest_metric\n"
   ]
  },
  {
   "cell_type": "markdown",
   "metadata": {
    "tags": []
   },
   "source": [
    "# Baseline Evaluation\n",
    "This section runs baselines and saves results locally."
   ]
  },
  {
   "cell_type": "code",
   "execution_count": 7,
   "metadata": {},
   "outputs": [],
   "source": [
    "!mkdir -p {base_path}/results\n",
    "!mkdir -p {base_path}/results/tabular/\n",
    "!mkdir -p {base_path}/results/tabular/multiclass/"
   ]
  },
  {
   "cell_type": "code",
   "execution_count": null,
   "metadata": {},
   "outputs": [],
   "source": []
  },
  {
   "cell_type": "code",
   "execution_count": 8,
   "metadata": {},
   "outputs": [
    {
     "data": {
      "text/plain": [
       "64"
      ]
     },
     "execution_count": 8,
     "metadata": {},
     "output_type": "execute_result"
    }
   ],
   "source": [
    "cc_valid_datasets_multiclass_df['isNumeric'] = (cc_valid_datasets_multiclass_df.NumberOfSymbolicFeatures == 1) & (cc_valid_datasets_multiclass_df.NumberOfInstancesWithMissingValues == 0)\n",
    "name_indexed_dataset = cc_valid_datasets_multiclass_df.set_index(\"name\")\n",
    "\n",
    "numeric_valid_datasets = [ds for ds in cc_valid_datasets_multiclass if name_indexed_dataset.loc[ds[0]].isNumeric]\n",
    "len(numeric_valid_datasets)"
   ]
  },
  {
   "cell_type": "code",
   "execution_count": 9,
   "metadata": {},
   "outputs": [],
   "source": [
    "import os\n",
    "os.environ[\"LD_LIBRARY_PATH\"] = \"/anaconda/envs/fresh311/lib:\" + os.environ[\"LD_LIBRARY_PATH\"]"
   ]
  },
  {
   "cell_type": "code",
   "execution_count": null,
   "metadata": {
    "tags": []
   },
   "outputs": [
    {
     "name": "stdout",
     "output_type": "stream",
     "text": [
      "model_name  knn\n"
     ]
    },
    {
     "name": "stderr",
     "output_type": "stream",
     "text": [
      "[Parallel(n_jobs=-1)]: Using backend LokyBackend with 96 concurrent workers.\n",
      "/anaconda/envs/fresh311/lib/python3.11/site-packages/joblib/externals/loky/process_executor.py:702: UserWarning: A worker stopped while some jobs were given to the executor. This can be caused by a too short worker timeout or by a memory leak.\n",
      "  warnings.warn(\n"
     ]
    }
   ],
   "source": [
    "from tabpfn.scripts.tabular_evaluation import eval_on_datasets\n",
    "device = \"cpu\"\n",
    "max_times = [1, 15]\n",
    "\n",
    "clf_dict= {\n",
    "    'knn': knn_metric,\n",
    "    'rf_new_params': random_forest_metric,\n",
    "    'xgb': xgb_metric,\n",
    "    'logistic': logistic_metric}\n",
    "\n",
    "results_baselines = [\n",
    "    eval_on_datasets('multiclass', model, model_name, numeric_valid_datasets, eval_positions=eval_positions, max_times=max_times,\n",
    "                     metric_used=metric_used, split_numbers=[1, 2, 3, 4, 5],\n",
    "                     bptt=bptt, base_path=base_path, device=device)\n",
    "    for model_name, model in clf_dict.items()\n",
    "]"
   ]
  },
  {
   "cell_type": "code",
   "execution_count": null,
   "metadata": {},
   "outputs": [],
   "source": []
  },
  {
   "cell_type": "code",
   "execution_count": 12,
   "metadata": {
    "collapsed": true,
    "jupyter": {
     "outputs_hidden": true
    },
    "tags": []
   },
   "outputs": [
    {
     "name": "stdout",
     "output_type": "stream",
     "text": [
      "model_name  transformer\n"
     ]
    },
    {
     "name": "stderr",
     "output_type": "stream",
     "text": [
      "  8%|████████████████████████████▌                                                                                                                                                                                                                                                                                                                      | 27/320 [00:00<00:01, 264.91it/s]"
     ]
    },
    {
     "name": "stdout",
     "output_type": "stream",
     "text": [
      "Loaded saved result for ./results/tabular/multiclass/results_transformer_time_1_roc_auc_sonar_104_208_1.npy\n",
      "Loaded saved result for ./results/tabular/multiclass/results_transformer_time_1_roc_auc_sonar_104_208_2.npy\n",
      "Loaded saved result for ./results/tabular/multiclass/results_transformer_time_1_roc_auc_sonar_104_208_3.npy\n",
      "Loaded saved result for ./results/tabular/multiclass/results_transformer_time_1_roc_auc_sonar_104_208_4.npy\n",
      "Loaded saved result for ./results/tabular/multiclass/results_transformer_time_1_roc_auc_sonar_104_208_5.npy\n",
      "Loaded saved result for ./results/tabular/multiclass/results_transformer_time_1_roc_auc_glass_107_214_1.npy\n",
      "Loaded saved result for ./results/tabular/multiclass/results_transformer_time_1_roc_auc_glass_107_214_2.npy\n",
      "Loaded saved result for ./results/tabular/multiclass/results_transformer_time_1_roc_auc_glass_107_214_3.npy\n",
      "Loaded saved result for ./results/tabular/multiclass/results_transformer_time_1_roc_auc_glass_107_214_4.npy\n",
      "Loaded saved result for ./results/tabular/multiclass/results_transformer_time_1_roc_auc_glass_107_214_5.npy\n",
      "Loaded saved result for ./results/tabular/multiclass/results_transformer_time_1_roc_auc_heart-statlog_135_270_1.npy\n",
      "Loaded saved result for ./results/tabular/multiclass/results_transformer_time_1_roc_auc_heart-statlog_135_270_2.npy\n",
      "Loaded saved result for ./results/tabular/multiclass/results_transformer_time_1_roc_auc_heart-statlog_135_270_3.npy\n",
      "Loaded saved result for ./results/tabular/multiclass/results_transformer_time_1_roc_auc_heart-statlog_135_270_4.npy\n",
      "Loaded saved result for ./results/tabular/multiclass/results_transformer_time_1_roc_auc_heart-statlog_135_270_5.npy\n",
      "Loaded saved result for ./results/tabular/multiclass/results_transformer_time_1_roc_auc_ionosphere_175_350_1.npy\n",
      "Loaded saved result for ./results/tabular/multiclass/results_transformer_time_1_roc_auc_ionosphere_175_350_2.npy\n",
      "Loaded saved result for ./results/tabular/multiclass/results_transformer_time_1_roc_auc_ionosphere_175_350_3.npy\n",
      "Loaded saved result for ./results/tabular/multiclass/results_transformer_time_1_roc_auc_ionosphere_175_350_4.npy\n",
      "Loaded saved result for ./results/tabular/multiclass/results_transformer_time_1_roc_auc_ionosphere_175_350_5.npy\n",
      "Loaded saved result for ./results/tabular/multiclass/results_transformer_time_1_roc_auc_iris_75_150_1.npy\n",
      "Loaded saved result for ./results/tabular/multiclass/results_transformer_time_1_roc_auc_iris_75_150_2.npy\n",
      "Loaded saved result for ./results/tabular/multiclass/results_transformer_time_1_roc_auc_iris_75_150_3.npy\n",
      "Loaded saved result for ./results/tabular/multiclass/results_transformer_time_1_roc_auc_iris_75_150_4.npy\n",
      "Loaded saved result for ./results/tabular/multiclass/results_transformer_time_1_roc_auc_iris_75_150_5.npy\n",
      "Loaded saved result for ./results/tabular/multiclass/results_transformer_time_1_roc_auc_wine_89_178_1.npy\n",
      "Loaded saved result for ./results/tabular/multiclass/results_transformer_time_1_roc_auc_wine_89_178_2.npy\n",
      "Loaded saved result for ./results/tabular/multiclass/results_transformer_time_1_roc_auc_wine_89_178_3.npy\n",
      "Loaded saved result for ./results/tabular/multiclass/results_transformer_time_1_roc_auc_wine_89_178_4.npy\n",
      "Loaded saved result for ./results/tabular/multiclass/results_transformer_time_1_roc_auc_wine_89_178_5.npy\n",
      "Loaded saved result for ./results/tabular/multiclass/results_transformer_time_1_roc_auc_hayes-roth_80_160_1.npy\n",
      "Loaded saved result for ./results/tabular/multiclass/results_transformer_time_1_roc_auc_hayes-roth_80_160_2.npy\n",
      "Loaded saved result for ./results/tabular/multiclass/results_transformer_time_1_roc_auc_hayes-roth_80_160_3.npy\n",
      "Loaded saved result for ./results/tabular/multiclass/results_transformer_time_1_roc_auc_hayes-roth_80_160_4.npy\n",
      "Loaded saved result for ./results/tabular/multiclass/results_transformer_time_1_roc_auc_hayes-roth_80_160_5.npy\n",
      "Loaded saved result for ./results/tabular/multiclass/results_transformer_time_1_roc_auc_SPECTF_174_348_1.npy\n",
      "Loaded saved result for ./results/tabular/multiclass/results_transformer_time_1_roc_auc_SPECTF_174_348_2.npy\n",
      "Loaded saved result for ./results/tabular/multiclass/results_transformer_time_1_roc_auc_SPECTF_174_348_3.npy\n",
      "Loaded saved result for ./results/tabular/multiclass/results_transformer_time_1_roc_auc_SPECTF_174_348_4.npy\n",
      "Loaded saved result for ./results/tabular/multiclass/results_transformer_time_1_roc_auc_SPECTF_174_348_5.npy\n",
      "Loaded saved result for ./results/tabular/multiclass/results_transformer_time_1_roc_auc_synthetic_control_300_600_1.npy\n",
      "Loaded saved result for ./results/tabular/multiclass/results_transformer_time_1_roc_auc_synthetic_control_300_600_2.npy\n",
      "Loaded saved result for ./results/tabular/multiclass/results_transformer_time_1_roc_auc_synthetic_control_300_600_3.npy\n",
      "Loaded saved result for ./results/tabular/multiclass/results_transformer_time_1_roc_auc_synthetic_control_300_600_4.npy\n",
      "Loaded saved result for ./results/tabular/multiclass/results_transformer_time_1_roc_auc_synthetic_control_300_600_5.npy\n",
      "Loaded saved result for ./results/tabular/multiclass/results_transformer_time_1_roc_auc_prnn_synth_125_250_1.npy\n",
      "Loaded saved result for ./results/tabular/multiclass/results_transformer_time_1_roc_auc_prnn_synth_125_250_2.npy\n",
      "Loaded saved result for ./results/tabular/multiclass/results_transformer_time_1_roc_auc_prnn_synth_125_250_3.npy\n",
      "Loaded saved result for ./results/tabular/multiclass/results_transformer_time_1_roc_auc_prnn_synth_125_250_4.npy\n",
      "Loaded saved result for ./results/tabular/multiclass/results_transformer_time_1_roc_auc_prnn_synth_125_250_5.npy\n",
      "Loaded saved result for ./results/tabular/multiclass/results_transformer_time_1_roc_auc_rmftsa_sleepdata_512_1024_1.npy\n"
     ]
    },
    {
     "name": "stderr",
     "output_type": "stream",
     "text": [
      " 25%|███████████████████████████████████████████████████████████████████████████████████▋                                                                                                                                                                                                                                                               | 79/320 [00:00<00:01, 201.37it/s]"
     ]
    },
    {
     "name": "stdout",
     "output_type": "stream",
     "text": [
      "Loaded saved result for ./results/tabular/multiclass/results_transformer_time_1_roc_auc_rmftsa_sleepdata_512_1024_2.npy\n",
      "Loaded saved result for ./results/tabular/multiclass/results_transformer_time_1_roc_auc_rmftsa_sleepdata_512_1024_3.npy\n",
      "Loaded saved result for ./results/tabular/multiclass/results_transformer_time_1_roc_auc_rmftsa_sleepdata_512_1024_4.npy\n",
      "Loaded saved result for ./results/tabular/multiclass/results_transformer_time_1_roc_auc_rmftsa_sleepdata_512_1024_5.npy\n",
      "Loaded saved result for ./results/tabular/multiclass/results_transformer_time_1_roc_auc_diggle_table_a2_155_310_1.npy\n",
      "Loaded saved result for ./results/tabular/multiclass/results_transformer_time_1_roc_auc_diggle_table_a2_155_310_2.npy\n",
      "Loaded saved result for ./results/tabular/multiclass/results_transformer_time_1_roc_auc_diggle_table_a2_155_310_3.npy\n",
      "Loaded saved result for ./results/tabular/multiclass/results_transformer_time_1_roc_auc_diggle_table_a2_155_310_4.npy\n",
      "Loaded saved result for ./results/tabular/multiclass/results_transformer_time_1_roc_auc_diggle_table_a2_155_310_5.npy\n",
      "Loaded saved result for ./results/tabular/multiclass/results_transformer_time_1_roc_auc_rmftsa_ladata_254_508_1.npy\n",
      "Loaded saved result for ./results/tabular/multiclass/results_transformer_time_1_roc_auc_rmftsa_ladata_254_508_2.npy\n",
      "Loaded saved result for ./results/tabular/multiclass/results_transformer_time_1_roc_auc_rmftsa_ladata_254_508_3.npy\n",
      "Loaded saved result for ./results/tabular/multiclass/results_transformer_time_1_roc_auc_rmftsa_ladata_254_508_4.npy\n",
      "Loaded saved result for ./results/tabular/multiclass/results_transformer_time_1_roc_auc_rmftsa_ladata_254_508_5.npy\n",
      "Loaded saved result for ./results/tabular/multiclass/results_transformer_time_1_roc_auc_pwLinear_100_200_1.npy\n",
      "Loaded saved result for ./results/tabular/multiclass/results_transformer_time_1_roc_auc_pwLinear_100_200_2.npy\n",
      "Loaded saved result for ./results/tabular/multiclass/results_transformer_time_1_roc_auc_pwLinear_100_200_3.npy\n",
      "Loaded saved result for ./results/tabular/multiclass/results_transformer_time_1_roc_auc_pwLinear_100_200_4.npy\n",
      "Loaded saved result for ./results/tabular/multiclass/results_transformer_time_1_roc_auc_pwLinear_100_200_5.npy\n",
      "Loaded saved result for ./results/tabular/multiclass/results_transformer_time_1_roc_auc_machine_cpu_104_208_1.npy\n",
      "Loaded saved result for ./results/tabular/multiclass/results_transformer_time_1_roc_auc_machine_cpu_104_208_2.npy\n",
      "Loaded saved result for ./results/tabular/multiclass/results_transformer_time_1_roc_auc_machine_cpu_104_208_3.npy\n",
      "Loaded saved result for ./results/tabular/multiclass/results_transformer_time_1_roc_auc_machine_cpu_104_208_4.npy\n",
      "Loaded saved result for ./results/tabular/multiclass/results_transformer_time_1_roc_auc_machine_cpu_104_208_5.npy\n",
      "Loaded saved result for ./results/tabular/multiclass/results_transformer_time_1_roc_auc_pm10_250_500_1.npy\n",
      "Loaded saved result for ./results/tabular/multiclass/results_transformer_time_1_roc_auc_pm10_250_500_2.npy\n",
      "Loaded saved result for ./results/tabular/multiclass/results_transformer_time_1_roc_auc_pm10_250_500_3.npy\n",
      "Loaded saved result for ./results/tabular/multiclass/results_transformer_time_1_roc_auc_pm10_250_500_4.npy\n",
      "Loaded saved result for ./results/tabular/multiclass/results_transformer_time_1_roc_auc_pm10_250_500_5.npy\n",
      "Loaded saved result for ./results/tabular/multiclass/results_transformer_time_1_roc_auc_wisconsin_97_194_1.npy\n",
      "Loaded saved result for ./results/tabular/multiclass/results_transformer_time_1_roc_auc_wisconsin_97_194_2.npy\n",
      "Loaded saved result for ./results/tabular/multiclass/results_transformer_time_1_roc_auc_wisconsin_97_194_3.npy\n",
      "Loaded saved result for ./results/tabular/multiclass/results_transformer_time_1_roc_auc_wisconsin_97_194_4.npy\n",
      "Loaded saved result for ./results/tabular/multiclass/results_transformer_time_1_roc_auc_wisconsin_97_194_5.npy\n",
      "Loaded saved result for ./results/tabular/multiclass/results_transformer_time_1_roc_auc_autoPrice_79_158_1.npy\n",
      "Loaded saved result for ./results/tabular/multiclass/results_transformer_time_1_roc_auc_autoPrice_79_158_2.npy\n",
      "Loaded saved result for ./results/tabular/multiclass/results_transformer_time_1_roc_auc_autoPrice_79_158_3.npy\n",
      "Loaded saved result for ./results/tabular/multiclass/results_transformer_time_1_roc_auc_autoPrice_79_158_4.npy\n",
      "Loaded saved result for ./results/tabular/multiclass/results_transformer_time_1_roc_auc_autoPrice_79_158_5.npy\n",
      "Loaded saved result for ./results/tabular/multiclass/results_transformer_time_1_roc_auc_disclosure_x_bias_331_662_1.npy\n",
      "Loaded saved result for ./results/tabular/multiclass/results_transformer_time_1_roc_auc_disclosure_x_bias_331_662_2.npy\n",
      "Loaded saved result for ./results/tabular/multiclass/results_transformer_time_1_roc_auc_disclosure_x_bias_331_662_3.npy\n",
      "Loaded saved result for ./results/tabular/multiclass/results_transformer_time_1_roc_auc_disclosure_x_bias_331_662_4.npy\n",
      "Loaded saved result for ./results/tabular/multiclass/results_transformer_time_1_roc_auc_disclosure_x_bias_331_662_5.npy\n",
      "Loaded saved result for ./results/tabular/multiclass/results_transformer_time_1_roc_auc_bodyfat_126_252_1.npy\n",
      "Loaded saved result for ./results/tabular/multiclass/results_transformer_time_1_roc_auc_bodyfat_126_252_2.npy\n",
      "Loaded saved result for ./results/tabular/multiclass/results_transformer_time_1_roc_auc_bodyfat_126_252_3.npy\n",
      "Loaded saved result for ./results/tabular/multiclass/results_transformer_time_1_roc_auc_bodyfat_126_252_4.npy\n",
      "Loaded saved result for ./results/tabular/multiclass/results_transformer_time_1_roc_auc_bodyfat_126_252_5.npy\n",
      "Loaded saved result for ./results/tabular/multiclass/results_transformer_time_1_roc_auc_triazines_93_186_1.npy\n",
      "Loaded saved result for ./results/tabular/multiclass/results_transformer_time_1_roc_auc_triazines_93_186_2.npy\n",
      "Loaded saved result for ./results/tabular/multiclass/results_transformer_time_1_roc_auc_triazines_93_186_3.npy\n",
      "Loaded saved result for ./results/tabular/multiclass/results_transformer_time_1_roc_auc_triazines_93_186_4.npy\n",
      "Loaded saved result for ./results/tabular/multiclass/results_transformer_time_1_roc_auc_triazines_93_186_5.npy\n"
     ]
    },
    {
     "name": "stderr",
     "output_type": "stream",
     "text": [
      " 74%|███████████████████████████████████████████████████████████████████████████████████████████████████████████████████████████████████████████████████████████████████████████████████████████████████████████████████████████████████████████████████████████▍                                                                                      | 238/320 [00:00<00:00, 527.80it/s]"
     ]
    },
    {
     "name": "stdout",
     "output_type": "stream",
     "text": [
      "Loaded saved result for ./results/tabular/multiclass/results_transformer_time_1_roc_auc_disclosure_x_tampered_331_662_1.npy\n",
      "Loaded saved result for ./results/tabular/multiclass/results_transformer_time_1_roc_auc_disclosure_x_tampered_331_662_2.npy\n",
      "Loaded saved result for ./results/tabular/multiclass/results_transformer_time_1_roc_auc_disclosure_x_tampered_331_662_3.npy\n",
      "Loaded saved result for ./results/tabular/multiclass/results_transformer_time_1_roc_auc_disclosure_x_tampered_331_662_4.npy\n",
      "Loaded saved result for ./results/tabular/multiclass/results_transformer_time_1_roc_auc_disclosure_x_tampered_331_662_5.npy\n",
      "Loaded saved result for ./results/tabular/multiclass/results_transformer_time_1_roc_auc_chscase_funds_92_184_1.npy\n",
      "Loaded saved result for ./results/tabular/multiclass/results_transformer_time_1_roc_auc_chscase_funds_92_184_2.npy\n",
      "Loaded saved result for ./results/tabular/multiclass/results_transformer_time_1_roc_auc_chscase_funds_92_184_3.npy\n",
      "Loaded saved result for ./results/tabular/multiclass/results_transformer_time_1_roc_auc_chscase_funds_92_184_4.npy\n",
      "Loaded saved result for ./results/tabular/multiclass/results_transformer_time_1_roc_auc_chscase_funds_92_184_5.npy\n",
      "Loaded saved result for ./results/tabular/multiclass/results_transformer_time_1_roc_auc_chscase_vine2_234_468_1.npy\n",
      "Loaded saved result for ./results/tabular/multiclass/results_transformer_time_1_roc_auc_chscase_vine2_234_468_2.npy\n",
      "Loaded saved result for ./results/tabular/multiclass/results_transformer_time_1_roc_auc_chscase_vine2_234_468_3.npy\n",
      "Loaded saved result for ./results/tabular/multiclass/results_transformer_time_1_roc_auc_chscase_vine2_234_468_4.npy\n",
      "Loaded saved result for ./results/tabular/multiclass/results_transformer_time_1_roc_auc_chscase_vine2_234_468_5.npy\n",
      "Loaded saved result for ./results/tabular/multiclass/results_transformer_time_1_roc_auc_chatfield_4_117_234_1.npy\n",
      "Loaded saved result for ./results/tabular/multiclass/results_transformer_time_1_roc_auc_chatfield_4_117_234_2.npy\n",
      "Loaded saved result for ./results/tabular/multiclass/results_transformer_time_1_roc_auc_chatfield_4_117_234_3.npy\n",
      "Loaded saved result for ./results/tabular/multiclass/results_transformer_time_1_roc_auc_chatfield_4_117_234_4.npy\n",
      "Loaded saved result for ./results/tabular/multiclass/results_transformer_time_1_roc_auc_chatfield_4_117_234_5.npy\n",
      "Loaded saved result for ./results/tabular/multiclass/results_transformer_time_1_roc_auc_disclosure_x_noise_331_662_1.npy\n",
      "Loaded saved result for ./results/tabular/multiclass/results_transformer_time_1_roc_auc_disclosure_x_noise_331_662_2.npy\n",
      "Loaded saved result for ./results/tabular/multiclass/results_transformer_time_1_roc_auc_disclosure_x_noise_331_662_3.npy\n",
      "Loaded saved result for ./results/tabular/multiclass/results_transformer_time_1_roc_auc_disclosure_x_noise_331_662_4.npy\n",
      "Loaded saved result for ./results/tabular/multiclass/results_transformer_time_1_roc_auc_disclosure_x_noise_331_662_5.npy\n",
      "Loaded saved result for ./results/tabular/multiclass/results_transformer_time_1_roc_auc_stock_475_950_1.npy\n",
      "Loaded saved result for ./results/tabular/multiclass/results_transformer_time_1_roc_auc_stock_475_950_2.npy\n",
      "Loaded saved result for ./results/tabular/multiclass/results_transformer_time_1_roc_auc_stock_475_950_3.npy\n",
      "Loaded saved result for ./results/tabular/multiclass/results_transformer_time_1_roc_auc_stock_475_950_4.npy\n",
      "Loaded saved result for ./results/tabular/multiclass/results_transformer_time_1_roc_auc_stock_475_950_5.npy\n",
      "Loaded saved result for ./results/tabular/multiclass/results_transformer_time_1_roc_auc_vinnie_190_380_1.npy\n",
      "Loaded saved result for ./results/tabular/multiclass/results_transformer_time_1_roc_auc_vinnie_190_380_2.npy\n",
      "Loaded saved result for ./results/tabular/multiclass/results_transformer_time_1_roc_auc_vinnie_190_380_3.npy\n",
      "Loaded saved result for ./results/tabular/multiclass/results_transformer_time_1_roc_auc_vinnie_190_380_4.npy\n",
      "Loaded saved result for ./results/tabular/multiclass/results_transformer_time_1_roc_auc_vinnie_190_380_5.npy\n",
      "Loaded saved result for ./results/tabular/multiclass/results_transformer_time_1_roc_auc_mu284_142_284_1.npy\n",
      "Loaded saved result for ./results/tabular/multiclass/results_transformer_time_1_roc_auc_mu284_142_284_2.npy\n",
      "Loaded saved result for ./results/tabular/multiclass/results_transformer_time_1_roc_auc_mu284_142_284_3.npy\n",
      "Loaded saved result for ./results/tabular/multiclass/results_transformer_time_1_roc_auc_mu284_142_284_4.npy\n",
      "Loaded saved result for ./results/tabular/multiclass/results_transformer_time_1_roc_auc_mu284_142_284_5.npy\n",
      "Loaded saved result for ./results/tabular/multiclass/results_transformer_time_1_roc_auc_no2_250_500_1.npy\n",
      "Loaded saved result for ./results/tabular/multiclass/results_transformer_time_1_roc_auc_no2_250_500_2.npy\n",
      "Loaded saved result for ./results/tabular/multiclass/results_transformer_time_1_roc_auc_no2_250_500_3.npy\n",
      "Loaded saved result for ./results/tabular/multiclass/results_transformer_time_1_roc_auc_no2_250_500_4.npy\n",
      "Loaded saved result for ./results/tabular/multiclass/results_transformer_time_1_roc_auc_no2_250_500_5.npy\n",
      "Loaded saved result for ./results/tabular/multiclass/results_transformer_time_1_roc_auc_chscase_geyser1_111_222_1.npy\n",
      "Loaded saved result for ./results/tabular/multiclass/results_transformer_time_1_roc_auc_chscase_geyser1_111_222_2.npy\n",
      "Loaded saved result for ./results/tabular/multiclass/results_transformer_time_1_roc_auc_chscase_geyser1_111_222_3.npy\n",
      "Loaded saved result for ./results/tabular/multiclass/results_transformer_time_1_roc_auc_chscase_geyser1_111_222_4.npy\n",
      "Loaded saved result for ./results/tabular/multiclass/results_transformer_time_1_roc_auc_chscase_geyser1_111_222_5.npy\n",
      "Loaded saved result for ./results/tabular/multiclass/results_transformer_time_1_roc_auc_chscase_census6_200_400_1.npy\n",
      "Loaded saved result for ./results/tabular/multiclass/results_transformer_time_1_roc_auc_chscase_census6_200_400_2.npy\n",
      "Loaded saved result for ./results/tabular/multiclass/results_transformer_time_1_roc_auc_chscase_census6_200_400_3.npy\n",
      "Loaded saved result for ./results/tabular/multiclass/results_transformer_time_1_roc_auc_chscase_census6_200_400_4.npy\n",
      "Loaded saved result for ./results/tabular/multiclass/results_transformer_time_1_roc_auc_chscase_census6_200_400_5.npy\n",
      "Loaded saved result for ./results/tabular/multiclass/results_transformer_time_1_roc_auc_chscase_census5_200_400_1.npy\n",
      "Loaded saved result for ./results/tabular/multiclass/results_transformer_time_1_roc_auc_chscase_census5_200_400_2.npy\n",
      "Loaded saved result for ./results/tabular/multiclass/results_transformer_time_1_roc_auc_chscase_census5_200_400_3.npy\n",
      "Loaded saved result for ./results/tabular/multiclass/results_transformer_time_1_roc_auc_chscase_census5_200_400_4.npy\n",
      "Loaded saved result for ./results/tabular/multiclass/results_transformer_time_1_roc_auc_chscase_census5_200_400_5.npy\n",
      "Loaded saved result for ./results/tabular/multiclass/results_transformer_time_1_roc_auc_chscase_census4_200_400_1.npy\n",
      "Loaded saved result for ./results/tabular/multiclass/results_transformer_time_1_roc_auc_chscase_census4_200_400_2.npy\n",
      "Loaded saved result for ./results/tabular/multiclass/results_transformer_time_1_roc_auc_chscase_census4_200_400_3.npy\n",
      "Loaded saved result for ./results/tabular/multiclass/results_transformer_time_1_roc_auc_chscase_census4_200_400_4.npy\n",
      "Loaded saved result for ./results/tabular/multiclass/results_transformer_time_1_roc_auc_chscase_census4_200_400_5.npy\n",
      "Loaded saved result for ./results/tabular/multiclass/results_transformer_time_1_roc_auc_chscase_census3_200_400_1.npy\n",
      "Loaded saved result for ./results/tabular/multiclass/results_transformer_time_1_roc_auc_chscase_census3_200_400_2.npy\n",
      "Loaded saved result for ./results/tabular/multiclass/results_transformer_time_1_roc_auc_chscase_census3_200_400_3.npy\n",
      "Loaded saved result for ./results/tabular/multiclass/results_transformer_time_1_roc_auc_chscase_census3_200_400_4.npy\n",
      "Loaded saved result for ./results/tabular/multiclass/results_transformer_time_1_roc_auc_chscase_census3_200_400_5.npy\n",
      "Loaded saved result for ./results/tabular/multiclass/results_transformer_time_1_roc_auc_chscase_census2_200_400_1.npy\n",
      "Loaded saved result for ./results/tabular/multiclass/results_transformer_time_1_roc_auc_chscase_census2_200_400_2.npy\n",
      "Loaded saved result for ./results/tabular/multiclass/results_transformer_time_1_roc_auc_chscase_census2_200_400_3.npy\n",
      "Loaded saved result for ./results/tabular/multiclass/results_transformer_time_1_roc_auc_chscase_census2_200_400_4.npy\n",
      "Loaded saved result for ./results/tabular/multiclass/results_transformer_time_1_roc_auc_chscase_census2_200_400_5.npy\n",
      "Loaded saved result for ./results/tabular/multiclass/results_transformer_time_1_roc_auc_visualizing_galaxy_161_322_1.npy\n",
      "Loaded saved result for ./results/tabular/multiclass/results_transformer_time_1_roc_auc_visualizing_galaxy_161_322_2.npy\n",
      "Loaded saved result for ./results/tabular/multiclass/results_transformer_time_1_roc_auc_visualizing_galaxy_161_322_3.npy\n",
      "Loaded saved result for ./results/tabular/multiclass/results_transformer_time_1_roc_auc_visualizing_galaxy_161_322_4.npy\n",
      "Loaded saved result for ./results/tabular/multiclass/results_transformer_time_1_roc_auc_visualizing_galaxy_161_322_5.npy\n",
      "Loaded saved result for ./results/tabular/multiclass/results_transformer_time_1_roc_auc_disclosure_z_331_662_1.npy\n",
      "Loaded saved result for ./results/tabular/multiclass/results_transformer_time_1_roc_auc_disclosure_z_331_662_2.npy\n",
      "Loaded saved result for ./results/tabular/multiclass/results_transformer_time_1_roc_auc_disclosure_z_331_662_3.npy\n",
      "Loaded saved result for ./results/tabular/multiclass/results_transformer_time_1_roc_auc_disclosure_z_331_662_4.npy\n",
      "Loaded saved result for ./results/tabular/multiclass/results_transformer_time_1_roc_auc_disclosure_z_331_662_5.npy\n",
      "Loaded saved result for ./results/tabular/multiclass/results_transformer_time_1_roc_auc_prnn_fglass_107_214_1.npy\n",
      "Loaded saved result for ./results/tabular/multiclass/results_transformer_time_1_roc_auc_prnn_fglass_107_214_2.npy\n",
      "Loaded saved result for ./results/tabular/multiclass/results_transformer_time_1_roc_auc_prnn_fglass_107_214_3.npy\n",
      "Loaded saved result for ./results/tabular/multiclass/results_transformer_time_1_roc_auc_prnn_fglass_107_214_4.npy\n",
      "Loaded saved result for ./results/tabular/multiclass/results_transformer_time_1_roc_auc_prnn_fglass_107_214_5.npy\n",
      "Loaded saved result for ./results/tabular/multiclass/results_transformer_time_1_roc_auc_jEdit_4.2_4.3_184_368_1.npy\n",
      "Loaded saved result for ./results/tabular/multiclass/results_transformer_time_1_roc_auc_jEdit_4.2_4.3_184_368_2.npy\n",
      "Loaded saved result for ./results/tabular/multiclass/results_transformer_time_1_roc_auc_jEdit_4.2_4.3_184_368_3.npy\n",
      "Loaded saved result for ./results/tabular/multiclass/results_transformer_time_1_roc_auc_jEdit_4.2_4.3_184_368_4.npy\n",
      "Loaded saved result for ./results/tabular/multiclass/results_transformer_time_1_roc_auc_jEdit_4.2_4.3_184_368_5.npy\n",
      "Loaded saved result for ./results/tabular/multiclass/results_transformer_time_1_roc_auc_mc2_80_160_1.npy\n",
      "Loaded saved result for ./results/tabular/multiclass/results_transformer_time_1_roc_auc_mc2_80_160_2.npy\n",
      "Loaded saved result for ./results/tabular/multiclass/results_transformer_time_1_roc_auc_mc2_80_160_3.npy\n",
      "Loaded saved result for ./results/tabular/multiclass/results_transformer_time_1_roc_auc_mc2_80_160_4.npy\n",
      "Loaded saved result for ./results/tabular/multiclass/results_transformer_time_1_roc_auc_mc2_80_160_5.npy\n",
      "Loaded saved result for ./results/tabular/multiclass/results_transformer_time_1_roc_auc_mw1_201_402_1.npy\n",
      "Loaded saved result for ./results/tabular/multiclass/results_transformer_time_1_roc_auc_mw1_201_402_2.npy\n",
      "Loaded saved result for ./results/tabular/multiclass/results_transformer_time_1_roc_auc_mw1_201_402_3.npy\n",
      "Loaded saved result for ./results/tabular/multiclass/results_transformer_time_1_roc_auc_mw1_201_402_4.npy\n",
      "Loaded saved result for ./results/tabular/multiclass/results_transformer_time_1_roc_auc_mw1_201_402_5.npy\n",
      "Loaded saved result for ./results/tabular/multiclass/results_transformer_time_1_roc_auc_jEdit_4.0_4.2_137_274_1.npy\n",
      "Loaded saved result for ./results/tabular/multiclass/results_transformer_time_1_roc_auc_jEdit_4.0_4.2_137_274_2.npy\n",
      "Loaded saved result for ./results/tabular/multiclass/results_transformer_time_1_roc_auc_jEdit_4.0_4.2_137_274_3.npy\n",
      "Loaded saved result for ./results/tabular/multiclass/results_transformer_time_1_roc_auc_jEdit_4.0_4.2_137_274_4.npy\n",
      "Loaded saved result for ./results/tabular/multiclass/results_transformer_time_1_roc_auc_jEdit_4.0_4.2_137_274_5.npy\n",
      "Loaded saved result for ./results/tabular/multiclass/results_transformer_time_1_roc_auc_MegaWatt1_126_252_1.npy\n",
      "Loaded saved result for ./results/tabular/multiclass/results_transformer_time_1_roc_auc_MegaWatt1_126_252_2.npy\n",
      "Loaded saved result for ./results/tabular/multiclass/results_transformer_time_1_roc_auc_MegaWatt1_126_252_3.npy\n",
      "Loaded saved result for ./results/tabular/multiclass/results_transformer_time_1_roc_auc_MegaWatt1_126_252_4.npy\n",
      "Loaded saved result for ./results/tabular/multiclass/results_transformer_time_1_roc_auc_MegaWatt1_126_252_5.npy\n",
      "Loaded saved result for ./results/tabular/multiclass/results_transformer_time_1_roc_auc_PizzaCutter1_330_660_1.npy\n",
      "Loaded saved result for ./results/tabular/multiclass/results_transformer_time_1_roc_auc_PizzaCutter1_330_660_2.npy\n",
      "Loaded saved result for ./results/tabular/multiclass/results_transformer_time_1_roc_auc_PizzaCutter1_330_660_3.npy\n",
      "Loaded saved result for ./results/tabular/multiclass/results_transformer_time_1_roc_auc_PizzaCutter1_330_660_4.npy\n",
      "Loaded saved result for ./results/tabular/multiclass/results_transformer_time_1_roc_auc_PizzaCutter1_330_660_5.npy\n",
      "Loaded saved result for ./results/tabular/multiclass/results_transformer_time_1_roc_auc_PizzaCutter3_521_1042_1.npy\n",
      "Loaded saved result for ./results/tabular/multiclass/results_transformer_time_1_roc_auc_PizzaCutter3_521_1042_2.npy\n",
      "Loaded saved result for ./results/tabular/multiclass/results_transformer_time_1_roc_auc_PizzaCutter3_521_1042_3.npy\n",
      "Loaded saved result for ./results/tabular/multiclass/results_transformer_time_1_roc_auc_PizzaCutter3_521_1042_4.npy\n",
      "Loaded saved result for ./results/tabular/multiclass/results_transformer_time_1_roc_auc_PizzaCutter3_521_1042_5.npy\n",
      "Loaded saved result for ./results/tabular/multiclass/results_transformer_time_1_roc_auc_CostaMadre1_148_296_1.npy\n",
      "Loaded saved result for ./results/tabular/multiclass/results_transformer_time_1_roc_auc_CostaMadre1_148_296_2.npy\n",
      "Loaded saved result for ./results/tabular/multiclass/results_transformer_time_1_roc_auc_CostaMadre1_148_296_3.npy\n",
      "Loaded saved result for ./results/tabular/multiclass/results_transformer_time_1_roc_auc_CostaMadre1_148_296_4.npy\n",
      "Loaded saved result for ./results/tabular/multiclass/results_transformer_time_1_roc_auc_CostaMadre1_148_296_5.npy\n",
      "Loaded saved result for ./results/tabular/multiclass/results_transformer_time_1_roc_auc_CastMetal1_163_326_1.npy\n",
      "Loaded saved result for ./results/tabular/multiclass/results_transformer_time_1_roc_auc_CastMetal1_163_326_2.npy\n",
      "Loaded saved result for ./results/tabular/multiclass/results_transformer_time_1_roc_auc_CastMetal1_163_326_3.npy\n",
      "Loaded saved result for ./results/tabular/multiclass/results_transformer_time_1_roc_auc_CastMetal1_163_326_4.npy\n",
      "Loaded saved result for ./results/tabular/multiclass/results_transformer_time_1_roc_auc_CastMetal1_163_326_5.npy\n",
      "Loaded saved result for ./results/tabular/multiclass/results_transformer_time_1_roc_auc_KnuggetChase3_97_194_1.npy\n",
      "Loaded saved result for ./results/tabular/multiclass/results_transformer_time_1_roc_auc_KnuggetChase3_97_194_2.npy\n",
      "Loaded saved result for ./results/tabular/multiclass/results_transformer_time_1_roc_auc_KnuggetChase3_97_194_3.npy\n",
      "Loaded saved result for ./results/tabular/multiclass/results_transformer_time_1_roc_auc_KnuggetChase3_97_194_4.npy\n",
      "Loaded saved result for ./results/tabular/multiclass/results_transformer_time_1_roc_auc_KnuggetChase3_97_194_5.npy\n",
      "Loaded saved result for ./results/tabular/multiclass/results_transformer_time_1_roc_auc_PieChart1_352_704_1.npy\n",
      "Loaded saved result for ./results/tabular/multiclass/results_transformer_time_1_roc_auc_PieChart1_352_704_2.npy\n",
      "Loaded saved result for ./results/tabular/multiclass/results_transformer_time_1_roc_auc_PieChart1_352_704_3.npy\n",
      "Loaded saved result for ./results/tabular/multiclass/results_transformer_time_1_roc_auc_PieChart1_352_704_4.npy\n",
      "Loaded saved result for ./results/tabular/multiclass/results_transformer_time_1_roc_auc_PieChart1_352_704_5.npy\n",
      "Loaded saved result for ./results/tabular/multiclass/results_transformer_time_1_roc_auc_PieChart3_538_1076_1.npy\n",
      "Loaded saved result for ./results/tabular/multiclass/results_transformer_time_1_roc_auc_PieChart3_538_1076_2.npy\n",
      "Loaded saved result for ./results/tabular/multiclass/results_transformer_time_1_roc_auc_PieChart3_538_1076_3.npy\n",
      "Loaded saved result for ./results/tabular/multiclass/results_transformer_time_1_roc_auc_PieChart3_538_1076_4.npy\n",
      "Loaded saved result for ./results/tabular/multiclass/results_transformer_time_1_roc_auc_PieChart3_538_1076_5.npy\n",
      "Loaded saved result for ./results/tabular/multiclass/results_transformer_time_1_roc_auc_parkinsons_97_194_1.npy\n",
      "Loaded saved result for ./results/tabular/multiclass/results_transformer_time_1_roc_auc_parkinsons_97_194_2.npy\n",
      "Loaded saved result for ./results/tabular/multiclass/results_transformer_time_1_roc_auc_parkinsons_97_194_3.npy\n",
      "Loaded saved result for ./results/tabular/multiclass/results_transformer_time_1_roc_auc_parkinsons_97_194_4.npy\n",
      "Loaded saved result for ./results/tabular/multiclass/results_transformer_time_1_roc_auc_parkinsons_97_194_5.npy\n",
      "Loaded saved result for ./results/tabular/multiclass/results_transformer_time_1_roc_auc_planning-relax_91_182_1.npy\n",
      "Loaded saved result for ./results/tabular/multiclass/results_transformer_time_1_roc_auc_planning-relax_91_182_2.npy\n",
      "Loaded saved result for ./results/tabular/multiclass/results_transformer_time_1_roc_auc_planning-relax_91_182_3.npy\n",
      "Loaded saved result for ./results/tabular/multiclass/results_transformer_time_1_roc_auc_planning-relax_91_182_4.npy\n",
      "Loaded saved result for ./results/tabular/multiclass/results_transformer_time_1_roc_auc_planning-relax_91_182_5.npy\n",
      "Loaded saved result for ./results/tabular/multiclass/results_transformer_time_1_roc_auc_seeds_105_210_1.npy\n",
      "Loaded saved result for ./results/tabular/multiclass/results_transformer_time_1_roc_auc_seeds_105_210_2.npy\n",
      "Loaded saved result for ./results/tabular/multiclass/results_transformer_time_1_roc_auc_seeds_105_210_3.npy\n",
      "Loaded saved result for ./results/tabular/multiclass/results_transformer_time_1_roc_auc_seeds_105_210_4.npy\n",
      "Loaded saved result for ./results/tabular/multiclass/results_transformer_time_1_roc_auc_seeds_105_210_5.npy\n",
      "Loaded saved result for ./results/tabular/multiclass/results_transformer_time_1_roc_auc_user-knowledge_201_402_1.npy\n",
      "Loaded saved result for ./results/tabular/multiclass/results_transformer_time_1_roc_auc_user-knowledge_201_402_2.npy\n",
      "Loaded saved result for ./results/tabular/multiclass/results_transformer_time_1_roc_auc_user-knowledge_201_402_3.npy\n",
      "Loaded saved result for ./results/tabular/multiclass/results_transformer_time_1_roc_auc_user-knowledge_201_402_4.npy\n",
      "Loaded saved result for ./results/tabular/multiclass/results_transformer_time_1_roc_auc_user-knowledge_201_402_5.npy\n",
      "Loaded saved result for ./results/tabular/multiclass/results_transformer_time_1_roc_auc_heart-long-beach_100_200_1.npy\n",
      "Loaded saved result for ./results/tabular/multiclass/results_transformer_time_1_roc_auc_heart-long-beach_100_200_2.npy\n",
      "Loaded saved result for ./results/tabular/multiclass/results_transformer_time_1_roc_auc_heart-long-beach_100_200_3.npy\n",
      "Loaded saved result for ./results/tabular/multiclass/results_transformer_time_1_roc_auc_heart-long-beach_100_200_4.npy\n",
      "Loaded saved result for ./results/tabular/multiclass/results_transformer_time_1_roc_auc_heart-long-beach_100_200_5.npy\n",
      "Loaded saved result for ./results/tabular/multiclass/results_transformer_time_1_roc_auc_robot-failures-lp5_82_164_1.npy\n",
      "Loaded saved result for ./results/tabular/multiclass/results_transformer_time_1_roc_auc_robot-failures-lp5_82_164_2.npy\n",
      "Loaded saved result for ./results/tabular/multiclass/results_transformer_time_1_roc_auc_robot-failures-lp5_82_164_3.npy\n",
      "Loaded saved result for ./results/tabular/multiclass/results_transformer_time_1_roc_auc_robot-failures-lp5_82_164_4.npy\n",
      "Loaded saved result for ./results/tabular/multiclass/results_transformer_time_1_roc_auc_robot-failures-lp5_82_164_5.npy\n",
      "Loaded saved result for ./results/tabular/multiclass/results_transformer_time_1_roc_auc_vertebra-column_155_310_1.npy\n",
      "Loaded saved result for ./results/tabular/multiclass/results_transformer_time_1_roc_auc_vertebra-column_155_310_2.npy\n",
      "Loaded saved result for ./results/tabular/multiclass/results_transformer_time_1_roc_auc_vertebra-column_155_310_3.npy\n",
      "Loaded saved result for ./results/tabular/multiclass/results_transformer_time_1_roc_auc_vertebra-column_155_310_4.npy\n",
      "Loaded saved result for ./results/tabular/multiclass/results_transformer_time_1_roc_auc_vertebra-column_155_310_5.npy\n",
      "Loaded saved result for ./results/tabular/multiclass/results_transformer_time_1_roc_auc_LED-display-domain-7digit_250_500_1.npy\n",
      "Loaded saved result for ./results/tabular/multiclass/results_transformer_time_1_roc_auc_LED-display-domain-7digit_250_500_2.npy\n",
      "Loaded saved result for ./results/tabular/multiclass/results_transformer_time_1_roc_auc_LED-display-domain-7digit_250_500_3.npy\n",
      "Loaded saved result for ./results/tabular/multiclass/results_transformer_time_1_roc_auc_LED-display-domain-7digit_250_500_4.npy\n"
     ]
    },
    {
     "name": "stderr",
     "output_type": "stream",
     "text": [
      "100%|██████████████████████████████████████████████████████████████████████████████████████████████████████████████████████████████████████████████████████████████████████████████████████████████████████████████████████████████████████████████████████████████████████████████████████████████████████████████████████████████████████████████████| 320/320 [00:01<00:00, 319.05it/s]\n"
     ]
    },
    {
     "name": "stdout",
     "output_type": "stream",
     "text": [
      "Loaded saved result for ./results/tabular/multiclass/results_transformer_time_1_roc_auc_LED-display-domain-7digit_250_500_5.npy\n",
      "Loaded saved result for ./results/tabular/multiclass/results_transformer_time_1_roc_auc_thyroid-new_107_214_1.npy\n",
      "Loaded saved result for ./results/tabular/multiclass/results_transformer_time_1_roc_auc_thyroid-new_107_214_2.npy\n",
      "Loaded saved result for ./results/tabular/multiclass/results_transformer_time_1_roc_auc_thyroid-new_107_214_3.npy\n",
      "Loaded saved result for ./results/tabular/multiclass/results_transformer_time_1_roc_auc_thyroid-new_107_214_4.npy\n",
      "Loaded saved result for ./results/tabular/multiclass/results_transformer_time_1_roc_auc_thyroid-new_107_214_5.npy\n",
      "Loaded saved result for ./results/tabular/multiclass/results_transformer_time_1_roc_auc_CPMP-2015-runtime-classification_263_526_1.npy\n",
      "Loaded saved result for ./results/tabular/multiclass/results_transformer_time_1_roc_auc_CPMP-2015-runtime-classification_263_526_2.npy\n",
      "Loaded saved result for ./results/tabular/multiclass/results_transformer_time_1_roc_auc_CPMP-2015-runtime-classification_263_526_3.npy\n",
      "Loaded saved result for ./results/tabular/multiclass/results_transformer_time_1_roc_auc_CPMP-2015-runtime-classification_263_526_4.npy\n",
      "Loaded saved result for ./results/tabular/multiclass/results_transformer_time_1_roc_auc_CPMP-2015-runtime-classification_263_526_5.npy\n",
      "Loaded saved result for ./results/tabular/multiclass/results_transformer_time_1_roc_auc_TuningSVMs_78_156_1.npy\n",
      "Loaded saved result for ./results/tabular/multiclass/results_transformer_time_1_roc_auc_TuningSVMs_78_156_2.npy\n",
      "Loaded saved result for ./results/tabular/multiclass/results_transformer_time_1_roc_auc_TuningSVMs_78_156_3.npy\n",
      "Loaded saved result for ./results/tabular/multiclass/results_transformer_time_1_roc_auc_TuningSVMs_78_156_4.npy\n",
      "Loaded saved result for ./results/tabular/multiclass/results_transformer_time_1_roc_auc_TuningSVMs_78_156_5.npy\n",
      "Loaded saved result for ./results/tabular/multiclass/results_transformer_time_1_roc_auc_iris-example_75_150_1.npy\n",
      "Loaded saved result for ./results/tabular/multiclass/results_transformer_time_1_roc_auc_iris-example_75_150_2.npy\n",
      "Loaded saved result for ./results/tabular/multiclass/results_transformer_time_1_roc_auc_iris-example_75_150_3.npy\n",
      "Loaded saved result for ./results/tabular/multiclass/results_transformer_time_1_roc_auc_iris-example_75_150_4.npy\n",
      "Loaded saved result for ./results/tabular/multiclass/results_transformer_time_1_roc_auc_iris-example_75_150_5.npy\n",
      "Loaded saved result for ./results/tabular/multiclass/results_transformer_time_1_roc_auc_Touch2_132_264_1.npy\n",
      "Loaded saved result for ./results/tabular/multiclass/results_transformer_time_1_roc_auc_Touch2_132_264_2.npy\n",
      "Loaded saved result for ./results/tabular/multiclass/results_transformer_time_1_roc_auc_Touch2_132_264_3.npy\n",
      "Loaded saved result for ./results/tabular/multiclass/results_transformer_time_1_roc_auc_Touch2_132_264_4.npy\n",
      "Loaded saved result for ./results/tabular/multiclass/results_transformer_time_1_roc_auc_Touch2_132_264_5.npy\n",
      "model_name  logistic\n"
     ]
    },
    {
     "name": "stderr",
     "output_type": "stream",
     "text": [
      "  0%|                                                                                                                                                                                                                                                                                                                                                             | 0/320 [00:00<?, ?it/s]"
     ]
    },
    {
     "name": "stdout",
     "output_type": "stream",
     "text": [
      "Loaded saved result for ./results/tabular/multiclass/results_logistic_time_1_roc_auc_sonar_104_208_1.npy\n",
      "Loaded saved result for ./results/tabular/multiclass/results_logistic_time_1_roc_auc_sonar_104_208_2.npy\n",
      "Loaded saved result for ./results/tabular/multiclass/results_logistic_time_1_roc_auc_sonar_104_208_3.npy\n",
      "Loaded saved result for ./results/tabular/multiclass/results_logistic_time_1_roc_auc_sonar_104_208_4.npy\n",
      "Loaded saved result for ./results/tabular/multiclass/results_logistic_time_1_roc_auc_sonar_104_208_5.npy\n",
      "Loaded saved result for ./results/tabular/multiclass/results_logistic_time_1_roc_auc_glass_107_214_1.npy\n",
      "Loaded saved result for ./results/tabular/multiclass/results_logistic_time_1_roc_auc_glass_107_214_2.npy\n",
      "Loaded saved result for ./results/tabular/multiclass/results_logistic_time_1_roc_auc_glass_107_214_3.npy\n",
      "Loaded saved result for ./results/tabular/multiclass/results_logistic_time_1_roc_auc_glass_107_214_4.npy\n"
     ]
    },
    {
     "name": "stderr",
     "output_type": "stream",
     "text": [
      " 10%|██████████████████████████████████▉                                                                                                                                                                                                                                                                                                                | 33/320 [00:00<00:00, 323.78it/s]"
     ]
    },
    {
     "name": "stdout",
     "output_type": "stream",
     "text": [
      "Loaded saved result for ./results/tabular/multiclass/results_logistic_time_1_roc_auc_glass_107_214_5.npy\n",
      "Loaded saved result for ./results/tabular/multiclass/results_logistic_time_1_roc_auc_heart-statlog_135_270_1.npy\n",
      "Loaded saved result for ./results/tabular/multiclass/results_logistic_time_1_roc_auc_heart-statlog_135_270_2.npy\n",
      "Loaded saved result for ./results/tabular/multiclass/results_logistic_time_1_roc_auc_heart-statlog_135_270_3.npy\n",
      "Loaded saved result for ./results/tabular/multiclass/results_logistic_time_1_roc_auc_heart-statlog_135_270_4.npy\n",
      "Loaded saved result for ./results/tabular/multiclass/results_logistic_time_1_roc_auc_heart-statlog_135_270_5.npy\n",
      "Loaded saved result for ./results/tabular/multiclass/results_logistic_time_1_roc_auc_ionosphere_175_350_1.npy\n",
      "Loaded saved result for ./results/tabular/multiclass/results_logistic_time_1_roc_auc_ionosphere_175_350_2.npy\n",
      "Loaded saved result for ./results/tabular/multiclass/results_logistic_time_1_roc_auc_ionosphere_175_350_3.npy\n",
      "Loaded saved result for ./results/tabular/multiclass/results_logistic_time_1_roc_auc_ionosphere_175_350_4.npy\n",
      "Loaded saved result for ./results/tabular/multiclass/results_logistic_time_1_roc_auc_ionosphere_175_350_5.npy\n",
      "Loaded saved result for ./results/tabular/multiclass/results_logistic_time_1_roc_auc_iris_75_150_1.npy\n",
      "Loaded saved result for ./results/tabular/multiclass/results_logistic_time_1_roc_auc_iris_75_150_2.npy\n",
      "Loaded saved result for ./results/tabular/multiclass/results_logistic_time_1_roc_auc_iris_75_150_3.npy\n",
      "Loaded saved result for ./results/tabular/multiclass/results_logistic_time_1_roc_auc_iris_75_150_4.npy\n",
      "Loaded saved result for ./results/tabular/multiclass/results_logistic_time_1_roc_auc_iris_75_150_5.npy\n",
      "Loaded saved result for ./results/tabular/multiclass/results_logistic_time_1_roc_auc_wine_89_178_1.npy\n",
      "Loaded saved result for ./results/tabular/multiclass/results_logistic_time_1_roc_auc_wine_89_178_2.npy\n",
      "Loaded saved result for ./results/tabular/multiclass/results_logistic_time_1_roc_auc_wine_89_178_3.npy\n",
      "Loaded saved result for ./results/tabular/multiclass/results_logistic_time_1_roc_auc_wine_89_178_4.npy\n",
      "Loaded saved result for ./results/tabular/multiclass/results_logistic_time_1_roc_auc_wine_89_178_5.npy\n",
      "Loaded saved result for ./results/tabular/multiclass/results_logistic_time_1_roc_auc_hayes-roth_80_160_1.npy\n",
      "Loaded saved result for ./results/tabular/multiclass/results_logistic_time_1_roc_auc_hayes-roth_80_160_2.npy\n",
      "Loaded saved result for ./results/tabular/multiclass/results_logistic_time_1_roc_auc_hayes-roth_80_160_3.npy\n",
      "Loaded saved result for ./results/tabular/multiclass/results_logistic_time_1_roc_auc_hayes-roth_80_160_4.npy\n",
      "Loaded saved result for ./results/tabular/multiclass/results_logistic_time_1_roc_auc_hayes-roth_80_160_5.npy\n",
      "Loaded saved result for ./results/tabular/multiclass/results_logistic_time_1_roc_auc_SPECTF_174_348_1.npy\n",
      "Loaded saved result for ./results/tabular/multiclass/results_logistic_time_1_roc_auc_SPECTF_174_348_2.npy\n",
      "Loaded saved result for ./results/tabular/multiclass/results_logistic_time_1_roc_auc_SPECTF_174_348_3.npy\n",
      "Loaded saved result for ./results/tabular/multiclass/results_logistic_time_1_roc_auc_SPECTF_174_348_4.npy\n",
      "Loaded saved result for ./results/tabular/multiclass/results_logistic_time_1_roc_auc_SPECTF_174_348_5.npy\n",
      "Loaded saved result for ./results/tabular/multiclass/results_logistic_time_1_roc_auc_synthetic_control_300_600_1.npy\n",
      "Loaded saved result for ./results/tabular/multiclass/results_logistic_time_1_roc_auc_synthetic_control_300_600_2.npy\n",
      "Loaded saved result for ./results/tabular/multiclass/results_logistic_time_1_roc_auc_synthetic_control_300_600_3.npy\n",
      "Loaded saved result for ./results/tabular/multiclass/results_logistic_time_1_roc_auc_synthetic_control_300_600_4.npy\n",
      "Loaded saved result for ./results/tabular/multiclass/results_logistic_time_1_roc_auc_synthetic_control_300_600_5.npy\n",
      "Loaded saved result for ./results/tabular/multiclass/results_logistic_time_1_roc_auc_prnn_synth_125_250_1.npy\n",
      "Loaded saved result for ./results/tabular/multiclass/results_logistic_time_1_roc_auc_prnn_synth_125_250_2.npy\n",
      "Loaded saved result for ./results/tabular/multiclass/results_logistic_time_1_roc_auc_prnn_synth_125_250_3.npy\n",
      "Loaded saved result for ./results/tabular/multiclass/results_logistic_time_1_roc_auc_prnn_synth_125_250_4.npy\n",
      "Loaded saved result for ./results/tabular/multiclass/results_logistic_time_1_roc_auc_prnn_synth_125_250_5.npy\n",
      "Loaded saved result for ./results/tabular/multiclass/results_logistic_time_1_roc_auc_rmftsa_sleepdata_512_1024_1.npy\n",
      "Loaded saved result for ./results/tabular/multiclass/results_logistic_time_1_roc_auc_rmftsa_sleepdata_512_1024_2.npy\n",
      "Loaded saved result for ./results/tabular/multiclass/results_logistic_time_1_roc_auc_rmftsa_sleepdata_512_1024_3.npy\n",
      "Loaded saved result for ./results/tabular/multiclass/results_logistic_time_1_roc_auc_rmftsa_sleepdata_512_1024_4.npy\n",
      "Loaded saved result for ./results/tabular/multiclass/results_logistic_time_1_roc_auc_rmftsa_sleepdata_512_1024_5.npy\n",
      "Loaded saved result for ./results/tabular/multiclass/results_logistic_time_1_roc_auc_diggle_table_a2_155_310_1.npy\n",
      "Loaded saved result for ./results/tabular/multiclass/results_logistic_time_1_roc_auc_diggle_table_a2_155_310_2.npy\n",
      "Loaded saved result for ./results/tabular/multiclass/results_logistic_time_1_roc_auc_diggle_table_a2_155_310_3.npy\n"
     ]
    },
    {
     "name": "stderr",
     "output_type": "stream",
     "text": [
      " 47%|█████████████████████████████████████████████████████████████████████████████████████████████████████████████████████████████████████████████████████████████▍                                                                                                                                                                                    | 149/320 [00:00<00:00, 418.71it/s]"
     ]
    },
    {
     "name": "stdout",
     "output_type": "stream",
     "text": [
      "Loaded saved result for ./results/tabular/multiclass/results_logistic_time_1_roc_auc_diggle_table_a2_155_310_4.npy\n",
      "Loaded saved result for ./results/tabular/multiclass/results_logistic_time_1_roc_auc_diggle_table_a2_155_310_5.npy\n",
      "Loaded saved result for ./results/tabular/multiclass/results_logistic_time_1_roc_auc_rmftsa_ladata_254_508_1.npy\n",
      "Loaded saved result for ./results/tabular/multiclass/results_logistic_time_1_roc_auc_rmftsa_ladata_254_508_2.npy\n",
      "Loaded saved result for ./results/tabular/multiclass/results_logistic_time_1_roc_auc_rmftsa_ladata_254_508_3.npy\n",
      "Loaded saved result for ./results/tabular/multiclass/results_logistic_time_1_roc_auc_rmftsa_ladata_254_508_4.npy\n",
      "Loaded saved result for ./results/tabular/multiclass/results_logistic_time_1_roc_auc_rmftsa_ladata_254_508_5.npy\n",
      "Loaded saved result for ./results/tabular/multiclass/results_logistic_time_1_roc_auc_pwLinear_100_200_1.npy\n",
      "Loaded saved result for ./results/tabular/multiclass/results_logistic_time_1_roc_auc_pwLinear_100_200_2.npy\n",
      "Loaded saved result for ./results/tabular/multiclass/results_logistic_time_1_roc_auc_pwLinear_100_200_3.npy\n",
      "Loaded saved result for ./results/tabular/multiclass/results_logistic_time_1_roc_auc_pwLinear_100_200_4.npy\n",
      "Loaded saved result for ./results/tabular/multiclass/results_logistic_time_1_roc_auc_pwLinear_100_200_5.npy\n",
      "Loaded saved result for ./results/tabular/multiclass/results_logistic_time_1_roc_auc_machine_cpu_104_208_1.npy\n",
      "Loaded saved result for ./results/tabular/multiclass/results_logistic_time_1_roc_auc_machine_cpu_104_208_2.npy\n",
      "Loaded saved result for ./results/tabular/multiclass/results_logistic_time_1_roc_auc_machine_cpu_104_208_3.npy\n",
      "Loaded saved result for ./results/tabular/multiclass/results_logistic_time_1_roc_auc_machine_cpu_104_208_4.npy\n",
      "Loaded saved result for ./results/tabular/multiclass/results_logistic_time_1_roc_auc_machine_cpu_104_208_5.npy\n",
      "Loaded saved result for ./results/tabular/multiclass/results_logistic_time_1_roc_auc_pm10_250_500_1.npy\n",
      "Loaded saved result for ./results/tabular/multiclass/results_logistic_time_1_roc_auc_pm10_250_500_2.npy\n",
      "Loaded saved result for ./results/tabular/multiclass/results_logistic_time_1_roc_auc_pm10_250_500_3.npy\n",
      "Loaded saved result for ./results/tabular/multiclass/results_logistic_time_1_roc_auc_pm10_250_500_4.npy\n",
      "Loaded saved result for ./results/tabular/multiclass/results_logistic_time_1_roc_auc_pm10_250_500_5.npy\n",
      "Loaded saved result for ./results/tabular/multiclass/results_logistic_time_1_roc_auc_wisconsin_97_194_1.npy\n",
      "Loaded saved result for ./results/tabular/multiclass/results_logistic_time_1_roc_auc_wisconsin_97_194_2.npy\n",
      "Loaded saved result for ./results/tabular/multiclass/results_logistic_time_1_roc_auc_wisconsin_97_194_3.npy\n",
      "Loaded saved result for ./results/tabular/multiclass/results_logistic_time_1_roc_auc_wisconsin_97_194_4.npy\n",
      "Loaded saved result for ./results/tabular/multiclass/results_logistic_time_1_roc_auc_wisconsin_97_194_5.npy\n",
      "Loaded saved result for ./results/tabular/multiclass/results_logistic_time_1_roc_auc_autoPrice_79_158_1.npy\n",
      "Loaded saved result for ./results/tabular/multiclass/results_logistic_time_1_roc_auc_autoPrice_79_158_2.npy\n",
      "Loaded saved result for ./results/tabular/multiclass/results_logistic_time_1_roc_auc_autoPrice_79_158_3.npy\n",
      "Loaded saved result for ./results/tabular/multiclass/results_logistic_time_1_roc_auc_autoPrice_79_158_4.npy\n",
      "Loaded saved result for ./results/tabular/multiclass/results_logistic_time_1_roc_auc_autoPrice_79_158_5.npy\n",
      "Loaded saved result for ./results/tabular/multiclass/results_logistic_time_1_roc_auc_disclosure_x_bias_331_662_1.npy\n",
      "Loaded saved result for ./results/tabular/multiclass/results_logistic_time_1_roc_auc_disclosure_x_bias_331_662_2.npy\n",
      "Loaded saved result for ./results/tabular/multiclass/results_logistic_time_1_roc_auc_disclosure_x_bias_331_662_3.npy\n",
      "Loaded saved result for ./results/tabular/multiclass/results_logistic_time_1_roc_auc_disclosure_x_bias_331_662_4.npy\n",
      "Loaded saved result for ./results/tabular/multiclass/results_logistic_time_1_roc_auc_disclosure_x_bias_331_662_5.npy\n",
      "Loaded saved result for ./results/tabular/multiclass/results_logistic_time_1_roc_auc_bodyfat_126_252_1.npy\n",
      "Loaded saved result for ./results/tabular/multiclass/results_logistic_time_1_roc_auc_bodyfat_126_252_2.npy\n",
      "Loaded saved result for ./results/tabular/multiclass/results_logistic_time_1_roc_auc_bodyfat_126_252_3.npy\n",
      "Loaded saved result for ./results/tabular/multiclass/results_logistic_time_1_roc_auc_bodyfat_126_252_4.npy\n",
      "Loaded saved result for ./results/tabular/multiclass/results_logistic_time_1_roc_auc_bodyfat_126_252_5.npy\n",
      "Loaded saved result for ./results/tabular/multiclass/results_logistic_time_1_roc_auc_triazines_93_186_1.npy\n",
      "Loaded saved result for ./results/tabular/multiclass/results_logistic_time_1_roc_auc_triazines_93_186_2.npy\n",
      "Loaded saved result for ./results/tabular/multiclass/results_logistic_time_1_roc_auc_triazines_93_186_3.npy\n",
      "Loaded saved result for ./results/tabular/multiclass/results_logistic_time_1_roc_auc_triazines_93_186_4.npy\n",
      "Loaded saved result for ./results/tabular/multiclass/results_logistic_time_1_roc_auc_triazines_93_186_5.npy\n",
      "Loaded saved result for ./results/tabular/multiclass/results_logistic_time_1_roc_auc_disclosure_x_tampered_331_662_1.npy\n",
      "Loaded saved result for ./results/tabular/multiclass/results_logistic_time_1_roc_auc_disclosure_x_tampered_331_662_2.npy\n",
      "Loaded saved result for ./results/tabular/multiclass/results_logistic_time_1_roc_auc_disclosure_x_tampered_331_662_3.npy\n",
      "Loaded saved result for ./results/tabular/multiclass/results_logistic_time_1_roc_auc_disclosure_x_tampered_331_662_4.npy\n",
      "Loaded saved result for ./results/tabular/multiclass/results_logistic_time_1_roc_auc_disclosure_x_tampered_331_662_5.npy\n",
      "Loaded saved result for ./results/tabular/multiclass/results_logistic_time_1_roc_auc_chscase_funds_92_184_1.npy\n",
      "Loaded saved result for ./results/tabular/multiclass/results_logistic_time_1_roc_auc_chscase_funds_92_184_2.npy\n",
      "Loaded saved result for ./results/tabular/multiclass/results_logistic_time_1_roc_auc_chscase_funds_92_184_3.npy\n",
      "Loaded saved result for ./results/tabular/multiclass/results_logistic_time_1_roc_auc_chscase_funds_92_184_4.npy\n",
      "Loaded saved result for ./results/tabular/multiclass/results_logistic_time_1_roc_auc_chscase_funds_92_184_5.npy\n",
      "Loaded saved result for ./results/tabular/multiclass/results_logistic_time_1_roc_auc_chscase_vine2_234_468_1.npy\n",
      "Loaded saved result for ./results/tabular/multiclass/results_logistic_time_1_roc_auc_chscase_vine2_234_468_2.npy\n",
      "Loaded saved result for ./results/tabular/multiclass/results_logistic_time_1_roc_auc_chscase_vine2_234_468_3.npy\n",
      "Loaded saved result for ./results/tabular/multiclass/results_logistic_time_1_roc_auc_chscase_vine2_234_468_4.npy\n",
      "Loaded saved result for ./results/tabular/multiclass/results_logistic_time_1_roc_auc_chscase_vine2_234_468_5.npy\n",
      "Loaded saved result for ./results/tabular/multiclass/results_logistic_time_1_roc_auc_chatfield_4_117_234_1.npy\n",
      "Loaded saved result for ./results/tabular/multiclass/results_logistic_time_1_roc_auc_chatfield_4_117_234_2.npy\n",
      "Loaded saved result for ./results/tabular/multiclass/results_logistic_time_1_roc_auc_chatfield_4_117_234_3.npy\n",
      "Loaded saved result for ./results/tabular/multiclass/results_logistic_time_1_roc_auc_chatfield_4_117_234_4.npy\n",
      "Loaded saved result for ./results/tabular/multiclass/results_logistic_time_1_roc_auc_chatfield_4_117_234_5.npy\n",
      "Loaded saved result for ./results/tabular/multiclass/results_logistic_time_1_roc_auc_disclosure_x_noise_331_662_1.npy\n",
      "Loaded saved result for ./results/tabular/multiclass/results_logistic_time_1_roc_auc_disclosure_x_noise_331_662_2.npy\n",
      "Loaded saved result for ./results/tabular/multiclass/results_logistic_time_1_roc_auc_disclosure_x_noise_331_662_3.npy\n",
      "Loaded saved result for ./results/tabular/multiclass/results_logistic_time_1_roc_auc_disclosure_x_noise_331_662_4.npy\n",
      "Loaded saved result for ./results/tabular/multiclass/results_logistic_time_1_roc_auc_disclosure_x_noise_331_662_5.npy\n",
      "Loaded saved result for ./results/tabular/multiclass/results_logistic_time_1_roc_auc_stock_475_950_1.npy\n",
      "Loaded saved result for ./results/tabular/multiclass/results_logistic_time_1_roc_auc_stock_475_950_2.npy\n",
      "Loaded saved result for ./results/tabular/multiclass/results_logistic_time_1_roc_auc_stock_475_950_3.npy\n",
      "Loaded saved result for ./results/tabular/multiclass/results_logistic_time_1_roc_auc_stock_475_950_4.npy\n",
      "Loaded saved result for ./results/tabular/multiclass/results_logistic_time_1_roc_auc_stock_475_950_5.npy\n",
      "Loaded saved result for ./results/tabular/multiclass/results_logistic_time_1_roc_auc_vinnie_190_380_1.npy\n",
      "Loaded saved result for ./results/tabular/multiclass/results_logistic_time_1_roc_auc_vinnie_190_380_2.npy\n",
      "Loaded saved result for ./results/tabular/multiclass/results_logistic_time_1_roc_auc_vinnie_190_380_3.npy\n",
      "Loaded saved result for ./results/tabular/multiclass/results_logistic_time_1_roc_auc_vinnie_190_380_4.npy\n",
      "Loaded saved result for ./results/tabular/multiclass/results_logistic_time_1_roc_auc_vinnie_190_380_5.npy\n",
      "Loaded saved result for ./results/tabular/multiclass/results_logistic_time_1_roc_auc_mu284_142_284_1.npy\n",
      "Loaded saved result for ./results/tabular/multiclass/results_logistic_time_1_roc_auc_mu284_142_284_2.npy\n",
      "Loaded saved result for ./results/tabular/multiclass/results_logistic_time_1_roc_auc_mu284_142_284_3.npy\n",
      "Loaded saved result for ./results/tabular/multiclass/results_logistic_time_1_roc_auc_mu284_142_284_4.npy\n",
      "Loaded saved result for ./results/tabular/multiclass/results_logistic_time_1_roc_auc_mu284_142_284_5.npy\n",
      "Loaded saved result for ./results/tabular/multiclass/results_logistic_time_1_roc_auc_no2_250_500_1.npy\n",
      "Loaded saved result for ./results/tabular/multiclass/results_logistic_time_1_roc_auc_no2_250_500_2.npy\n",
      "Loaded saved result for ./results/tabular/multiclass/results_logistic_time_1_roc_auc_no2_250_500_3.npy\n",
      "Loaded saved result for ./results/tabular/multiclass/results_logistic_time_1_roc_auc_no2_250_500_4.npy\n",
      "Loaded saved result for ./results/tabular/multiclass/results_logistic_time_1_roc_auc_no2_250_500_5.npy\n",
      "Loaded saved result for ./results/tabular/multiclass/results_logistic_time_1_roc_auc_chscase_geyser1_111_222_1.npy\n",
      "Loaded saved result for ./results/tabular/multiclass/results_logistic_time_1_roc_auc_chscase_geyser1_111_222_2.npy\n",
      "Loaded saved result for ./results/tabular/multiclass/results_logistic_time_1_roc_auc_chscase_geyser1_111_222_3.npy\n",
      "Loaded saved result for ./results/tabular/multiclass/results_logistic_time_1_roc_auc_chscase_geyser1_111_222_4.npy\n",
      "Loaded saved result for ./results/tabular/multiclass/results_logistic_time_1_roc_auc_chscase_geyser1_111_222_5.npy\n",
      "Loaded saved result for ./results/tabular/multiclass/results_logistic_time_1_roc_auc_chscase_census6_200_400_1.npy\n",
      "Loaded saved result for ./results/tabular/multiclass/results_logistic_time_1_roc_auc_chscase_census6_200_400_2.npy\n",
      "Loaded saved result for ./results/tabular/multiclass/results_logistic_time_1_roc_auc_chscase_census6_200_400_3.npy\n",
      "Loaded saved result for ./results/tabular/multiclass/results_logistic_time_1_roc_auc_chscase_census6_200_400_4.npy\n",
      "Loaded saved result for ./results/tabular/multiclass/results_logistic_time_1_roc_auc_chscase_census6_200_400_5.npy\n",
      "Loaded saved result for ./results/tabular/multiclass/results_logistic_time_1_roc_auc_chscase_census5_200_400_1.npy\n",
      "Loaded saved result for ./results/tabular/multiclass/results_logistic_time_1_roc_auc_chscase_census5_200_400_2.npy\n",
      "Loaded saved result for ./results/tabular/multiclass/results_logistic_time_1_roc_auc_chscase_census5_200_400_3.npy\n",
      "Loaded saved result for ./results/tabular/multiclass/results_logistic_time_1_roc_auc_chscase_census5_200_400_4.npy\n",
      "Loaded saved result for ./results/tabular/multiclass/results_logistic_time_1_roc_auc_chscase_census5_200_400_5.npy\n",
      "Loaded saved result for ./results/tabular/multiclass/results_logistic_time_1_roc_auc_chscase_census4_200_400_1.npy\n",
      "Loaded saved result for ./results/tabular/multiclass/results_logistic_time_1_roc_auc_chscase_census4_200_400_2.npy\n",
      "Loaded saved result for ./results/tabular/multiclass/results_logistic_time_1_roc_auc_chscase_census4_200_400_3.npy\n",
      "Loaded saved result for ./results/tabular/multiclass/results_logistic_time_1_roc_auc_chscase_census4_200_400_4.npy\n",
      "Loaded saved result for ./results/tabular/multiclass/results_logistic_time_1_roc_auc_chscase_census4_200_400_5.npy\n",
      "Loaded saved result for ./results/tabular/multiclass/results_logistic_time_1_roc_auc_chscase_census3_200_400_1.npy\n",
      "Loaded saved result for ./results/tabular/multiclass/results_logistic_time_1_roc_auc_chscase_census3_200_400_2.npy\n",
      "Loaded saved result for ./results/tabular/multiclass/results_logistic_time_1_roc_auc_chscase_census3_200_400_3.npy\n",
      "Loaded saved result for ./results/tabular/multiclass/results_logistic_time_1_roc_auc_chscase_census3_200_400_4.npy\n",
      "Loaded saved result for ./results/tabular/multiclass/results_logistic_time_1_roc_auc_chscase_census3_200_400_5.npy\n",
      "Loaded saved result for ./results/tabular/multiclass/results_logistic_time_1_roc_auc_chscase_census2_200_400_1.npy\n",
      "Loaded saved result for ./results/tabular/multiclass/results_logistic_time_1_roc_auc_chscase_census2_200_400_2.npy\n",
      "Loaded saved result for ./results/tabular/multiclass/results_logistic_time_1_roc_auc_chscase_census2_200_400_3.npy\n",
      "Loaded saved result for ./results/tabular/multiclass/results_logistic_time_1_roc_auc_chscase_census2_200_400_4.npy\n",
      "Loaded saved result for ./results/tabular/multiclass/results_logistic_time_1_roc_auc_chscase_census2_200_400_5.npy\n",
      "Loaded saved result for ./results/tabular/multiclass/results_logistic_time_1_roc_auc_visualizing_galaxy_161_322_1.npy\n",
      "Loaded saved result for ./results/tabular/multiclass/results_logistic_time_1_roc_auc_visualizing_galaxy_161_322_2.npy\n",
      "Loaded saved result for ./results/tabular/multiclass/results_logistic_time_1_roc_auc_visualizing_galaxy_161_322_3.npy\n",
      "Loaded saved result for ./results/tabular/multiclass/results_logistic_time_1_roc_auc_visualizing_galaxy_161_322_4.npy\n",
      "Loaded saved result for ./results/tabular/multiclass/results_logistic_time_1_roc_auc_visualizing_galaxy_161_322_5.npy\n",
      "Loaded saved result for ./results/tabular/multiclass/results_logistic_time_1_roc_auc_disclosure_z_331_662_1.npy\n",
      "Loaded saved result for ./results/tabular/multiclass/results_logistic_time_1_roc_auc_disclosure_z_331_662_2.npy\n",
      "Loaded saved result for ./results/tabular/multiclass/results_logistic_time_1_roc_auc_disclosure_z_331_662_3.npy\n",
      "Loaded saved result for ./results/tabular/multiclass/results_logistic_time_1_roc_auc_disclosure_z_331_662_4.npy\n",
      "Loaded saved result for ./results/tabular/multiclass/results_logistic_time_1_roc_auc_disclosure_z_331_662_5.npy\n",
      "Loaded saved result for ./results/tabular/multiclass/results_logistic_time_1_roc_auc_prnn_fglass_107_214_1.npy\n"
     ]
    },
    {
     "name": "stderr",
     "output_type": "stream",
     "text": [
      " 72%|█████████████████████████████████████████████████████████████████████████████████████████████████████████████████████████████████████████████████████████████████████████████████████████████████████████████████████████████████████████████████▉                                                                                                | 229/320 [00:00<00:00, 543.44it/s]"
     ]
    },
    {
     "name": "stdout",
     "output_type": "stream",
     "text": [
      "Loaded saved result for ./results/tabular/multiclass/results_logistic_time_1_roc_auc_prnn_fglass_107_214_2.npy\n",
      "Loaded saved result for ./results/tabular/multiclass/results_logistic_time_1_roc_auc_prnn_fglass_107_214_3.npy\n",
      "Loaded saved result for ./results/tabular/multiclass/results_logistic_time_1_roc_auc_prnn_fglass_107_214_4.npy\n",
      "Loaded saved result for ./results/tabular/multiclass/results_logistic_time_1_roc_auc_prnn_fglass_107_214_5.npy\n",
      "Loaded saved result for ./results/tabular/multiclass/results_logistic_time_1_roc_auc_jEdit_4.2_4.3_184_368_1.npy\n",
      "Loaded saved result for ./results/tabular/multiclass/results_logistic_time_1_roc_auc_jEdit_4.2_4.3_184_368_2.npy\n",
      "Loaded saved result for ./results/tabular/multiclass/results_logistic_time_1_roc_auc_jEdit_4.2_4.3_184_368_3.npy\n",
      "Loaded saved result for ./results/tabular/multiclass/results_logistic_time_1_roc_auc_jEdit_4.2_4.3_184_368_4.npy\n",
      "Loaded saved result for ./results/tabular/multiclass/results_logistic_time_1_roc_auc_jEdit_4.2_4.3_184_368_5.npy\n",
      "Loaded saved result for ./results/tabular/multiclass/results_logistic_time_1_roc_auc_mc2_80_160_1.npy\n",
      "Loaded saved result for ./results/tabular/multiclass/results_logistic_time_1_roc_auc_mc2_80_160_2.npy\n",
      "Loaded saved result for ./results/tabular/multiclass/results_logistic_time_1_roc_auc_mc2_80_160_3.npy\n",
      "Loaded saved result for ./results/tabular/multiclass/results_logistic_time_1_roc_auc_mc2_80_160_4.npy\n",
      "Loaded saved result for ./results/tabular/multiclass/results_logistic_time_1_roc_auc_mc2_80_160_5.npy\n",
      "Loaded saved result for ./results/tabular/multiclass/results_logistic_time_1_roc_auc_mw1_201_402_1.npy\n",
      "Loaded saved result for ./results/tabular/multiclass/results_logistic_time_1_roc_auc_mw1_201_402_2.npy\n",
      "Loaded saved result for ./results/tabular/multiclass/results_logistic_time_1_roc_auc_mw1_201_402_3.npy\n",
      "Loaded saved result for ./results/tabular/multiclass/results_logistic_time_1_roc_auc_mw1_201_402_4.npy\n",
      "Loaded saved result for ./results/tabular/multiclass/results_logistic_time_1_roc_auc_mw1_201_402_5.npy\n",
      "Loaded saved result for ./results/tabular/multiclass/results_logistic_time_1_roc_auc_jEdit_4.0_4.2_137_274_1.npy\n",
      "Loaded saved result for ./results/tabular/multiclass/results_logistic_time_1_roc_auc_jEdit_4.0_4.2_137_274_2.npy\n",
      "Loaded saved result for ./results/tabular/multiclass/results_logistic_time_1_roc_auc_jEdit_4.0_4.2_137_274_3.npy\n",
      "Loaded saved result for ./results/tabular/multiclass/results_logistic_time_1_roc_auc_jEdit_4.0_4.2_137_274_4.npy\n",
      "Loaded saved result for ./results/tabular/multiclass/results_logistic_time_1_roc_auc_jEdit_4.0_4.2_137_274_5.npy\n",
      "Loaded saved result for ./results/tabular/multiclass/results_logistic_time_1_roc_auc_MegaWatt1_126_252_1.npy\n",
      "Loaded saved result for ./results/tabular/multiclass/results_logistic_time_1_roc_auc_MegaWatt1_126_252_2.npy\n",
      "Loaded saved result for ./results/tabular/multiclass/results_logistic_time_1_roc_auc_MegaWatt1_126_252_3.npy\n",
      "Loaded saved result for ./results/tabular/multiclass/results_logistic_time_1_roc_auc_MegaWatt1_126_252_4.npy\n",
      "Loaded saved result for ./results/tabular/multiclass/results_logistic_time_1_roc_auc_MegaWatt1_126_252_5.npy\n",
      "Loaded saved result for ./results/tabular/multiclass/results_logistic_time_1_roc_auc_PizzaCutter1_330_660_1.npy\n",
      "Loaded saved result for ./results/tabular/multiclass/results_logistic_time_1_roc_auc_PizzaCutter1_330_660_2.npy\n",
      "Loaded saved result for ./results/tabular/multiclass/results_logistic_time_1_roc_auc_PizzaCutter1_330_660_3.npy\n",
      "Loaded saved result for ./results/tabular/multiclass/results_logistic_time_1_roc_auc_PizzaCutter1_330_660_4.npy\n",
      "Loaded saved result for ./results/tabular/multiclass/results_logistic_time_1_roc_auc_PizzaCutter1_330_660_5.npy\n",
      "Loaded saved result for ./results/tabular/multiclass/results_logistic_time_1_roc_auc_PizzaCutter3_521_1042_1.npy\n",
      "Loaded saved result for ./results/tabular/multiclass/results_logistic_time_1_roc_auc_PizzaCutter3_521_1042_2.npy\n",
      "Loaded saved result for ./results/tabular/multiclass/results_logistic_time_1_roc_auc_PizzaCutter3_521_1042_3.npy\n",
      "Loaded saved result for ./results/tabular/multiclass/results_logistic_time_1_roc_auc_PizzaCutter3_521_1042_4.npy\n",
      "Loaded saved result for ./results/tabular/multiclass/results_logistic_time_1_roc_auc_PizzaCutter3_521_1042_5.npy\n",
      "Loaded saved result for ./results/tabular/multiclass/results_logistic_time_1_roc_auc_CostaMadre1_148_296_1.npy\n",
      "Loaded saved result for ./results/tabular/multiclass/results_logistic_time_1_roc_auc_CostaMadre1_148_296_2.npy\n",
      "Loaded saved result for ./results/tabular/multiclass/results_logistic_time_1_roc_auc_CostaMadre1_148_296_3.npy\n",
      "Loaded saved result for ./results/tabular/multiclass/results_logistic_time_1_roc_auc_CostaMadre1_148_296_4.npy\n",
      "Loaded saved result for ./results/tabular/multiclass/results_logistic_time_1_roc_auc_CostaMadre1_148_296_5.npy\n",
      "Loaded saved result for ./results/tabular/multiclass/results_logistic_time_1_roc_auc_CastMetal1_163_326_1.npy\n",
      "Loaded saved result for ./results/tabular/multiclass/results_logistic_time_1_roc_auc_CastMetal1_163_326_2.npy\n",
      "Loaded saved result for ./results/tabular/multiclass/results_logistic_time_1_roc_auc_CastMetal1_163_326_3.npy\n",
      "Loaded saved result for ./results/tabular/multiclass/results_logistic_time_1_roc_auc_CastMetal1_163_326_4.npy\n",
      "Loaded saved result for ./results/tabular/multiclass/results_logistic_time_1_roc_auc_CastMetal1_163_326_5.npy\n",
      "Loaded saved result for ./results/tabular/multiclass/results_logistic_time_1_roc_auc_KnuggetChase3_97_194_1.npy\n",
      "Loaded saved result for ./results/tabular/multiclass/results_logistic_time_1_roc_auc_KnuggetChase3_97_194_2.npy\n",
      "Loaded saved result for ./results/tabular/multiclass/results_logistic_time_1_roc_auc_KnuggetChase3_97_194_3.npy\n",
      "Loaded saved result for ./results/tabular/multiclass/results_logistic_time_1_roc_auc_KnuggetChase3_97_194_4.npy\n",
      "Loaded saved result for ./results/tabular/multiclass/results_logistic_time_1_roc_auc_KnuggetChase3_97_194_5.npy\n",
      "Loaded saved result for ./results/tabular/multiclass/results_logistic_time_1_roc_auc_PieChart1_352_704_1.npy\n",
      "Loaded saved result for ./results/tabular/multiclass/results_logistic_time_1_roc_auc_PieChart1_352_704_2.npy\n",
      "Loaded saved result for ./results/tabular/multiclass/results_logistic_time_1_roc_auc_PieChart1_352_704_3.npy\n",
      "Loaded saved result for ./results/tabular/multiclass/results_logistic_time_1_roc_auc_PieChart1_352_704_4.npy\n",
      "Loaded saved result for ./results/tabular/multiclass/results_logistic_time_1_roc_auc_PieChart1_352_704_5.npy\n",
      "Loaded saved result for ./results/tabular/multiclass/results_logistic_time_1_roc_auc_PieChart3_538_1076_1.npy\n",
      "Loaded saved result for ./results/tabular/multiclass/results_logistic_time_1_roc_auc_PieChart3_538_1076_2.npy\n",
      "Loaded saved result for ./results/tabular/multiclass/results_logistic_time_1_roc_auc_PieChart3_538_1076_3.npy\n",
      "Loaded saved result for ./results/tabular/multiclass/results_logistic_time_1_roc_auc_PieChart3_538_1076_4.npy\n",
      "Loaded saved result for ./results/tabular/multiclass/results_logistic_time_1_roc_auc_PieChart3_538_1076_5.npy\n",
      "Loaded saved result for ./results/tabular/multiclass/results_logistic_time_1_roc_auc_parkinsons_97_194_1.npy\n",
      "Loaded saved result for ./results/tabular/multiclass/results_logistic_time_1_roc_auc_parkinsons_97_194_2.npy\n",
      "Loaded saved result for ./results/tabular/multiclass/results_logistic_time_1_roc_auc_parkinsons_97_194_3.npy\n",
      "Loaded saved result for ./results/tabular/multiclass/results_logistic_time_1_roc_auc_parkinsons_97_194_4.npy\n",
      "Loaded saved result for ./results/tabular/multiclass/results_logistic_time_1_roc_auc_parkinsons_97_194_5.npy\n",
      "Loaded saved result for ./results/tabular/multiclass/results_logistic_time_1_roc_auc_planning-relax_91_182_1.npy\n",
      "Loaded saved result for ./results/tabular/multiclass/results_logistic_time_1_roc_auc_planning-relax_91_182_2.npy\n",
      "Loaded saved result for ./results/tabular/multiclass/results_logistic_time_1_roc_auc_planning-relax_91_182_3.npy\n",
      "Loaded saved result for ./results/tabular/multiclass/results_logistic_time_1_roc_auc_planning-relax_91_182_4.npy\n",
      "Loaded saved result for ./results/tabular/multiclass/results_logistic_time_1_roc_auc_planning-relax_91_182_5.npy\n",
      "Loaded saved result for ./results/tabular/multiclass/results_logistic_time_1_roc_auc_seeds_105_210_1.npy\n",
      "Loaded saved result for ./results/tabular/multiclass/results_logistic_time_1_roc_auc_seeds_105_210_2.npy\n",
      "Loaded saved result for ./results/tabular/multiclass/results_logistic_time_1_roc_auc_seeds_105_210_3.npy\n",
      "Loaded saved result for ./results/tabular/multiclass/results_logistic_time_1_roc_auc_seeds_105_210_4.npy\n",
      "Loaded saved result for ./results/tabular/multiclass/results_logistic_time_1_roc_auc_seeds_105_210_5.npy\n",
      "Loaded saved result for ./results/tabular/multiclass/results_logistic_time_1_roc_auc_user-knowledge_201_402_1.npy\n",
      "Loaded saved result for ./results/tabular/multiclass/results_logistic_time_1_roc_auc_user-knowledge_201_402_2.npy\n",
      "Loaded saved result for ./results/tabular/multiclass/results_logistic_time_1_roc_auc_user-knowledge_201_402_3.npy\n",
      "Loaded saved result for ./results/tabular/multiclass/results_logistic_time_1_roc_auc_user-knowledge_201_402_4.npy\n",
      "Loaded saved result for ./results/tabular/multiclass/results_logistic_time_1_roc_auc_user-knowledge_201_402_5.npy\n",
      "Loaded saved result for ./results/tabular/multiclass/results_logistic_time_1_roc_auc_heart-long-beach_100_200_1.npy\n",
      "Loaded saved result for ./results/tabular/multiclass/results_logistic_time_1_roc_auc_heart-long-beach_100_200_2.npy\n",
      "Loaded saved result for ./results/tabular/multiclass/results_logistic_time_1_roc_auc_heart-long-beach_100_200_3.npy\n",
      "Loaded saved result for ./results/tabular/multiclass/results_logistic_time_1_roc_auc_heart-long-beach_100_200_4.npy\n",
      "Loaded saved result for ./results/tabular/multiclass/results_logistic_time_1_roc_auc_heart-long-beach_100_200_5.npy\n",
      "Loaded saved result for ./results/tabular/multiclass/results_logistic_time_1_roc_auc_robot-failures-lp5_82_164_1.npy\n",
      "Loaded saved result for ./results/tabular/multiclass/results_logistic_time_1_roc_auc_robot-failures-lp5_82_164_2.npy\n",
      "Loaded saved result for ./results/tabular/multiclass/results_logistic_time_1_roc_auc_robot-failures-lp5_82_164_3.npy\n",
      "Loaded saved result for ./results/tabular/multiclass/results_logistic_time_1_roc_auc_robot-failures-lp5_82_164_4.npy\n",
      "Loaded saved result for ./results/tabular/multiclass/results_logistic_time_1_roc_auc_robot-failures-lp5_82_164_5.npy\n"
     ]
    },
    {
     "name": "stderr",
     "output_type": "stream",
     "text": [
      " 91%|███████████████████████████████████████████████████████████████████████████████████████████████████████████████████████████████████████████████████████████████████████████████████████████████████████████████████████████████████████████████████████████████████████████████████████████████████████████████████▎                              | 291/320 [00:00<00:00, 430.47it/s]"
     ]
    },
    {
     "name": "stdout",
     "output_type": "stream",
     "text": [
      "Loaded saved result for ./results/tabular/multiclass/results_logistic_time_1_roc_auc_vertebra-column_155_310_1.npy\n",
      "Loaded saved result for ./results/tabular/multiclass/results_logistic_time_1_roc_auc_vertebra-column_155_310_2.npy\n",
      "Loaded saved result for ./results/tabular/multiclass/results_logistic_time_1_roc_auc_vertebra-column_155_310_3.npy\n",
      "Loaded saved result for ./results/tabular/multiclass/results_logistic_time_1_roc_auc_vertebra-column_155_310_4.npy\n",
      "Loaded saved result for ./results/tabular/multiclass/results_logistic_time_1_roc_auc_vertebra-column_155_310_5.npy\n",
      "Loaded saved result for ./results/tabular/multiclass/results_logistic_time_1_roc_auc_LED-display-domain-7digit_250_500_1.npy\n",
      "Loaded saved result for ./results/tabular/multiclass/results_logistic_time_1_roc_auc_LED-display-domain-7digit_250_500_2.npy\n",
      "Loaded saved result for ./results/tabular/multiclass/results_logistic_time_1_roc_auc_LED-display-domain-7digit_250_500_3.npy\n",
      "Loaded saved result for ./results/tabular/multiclass/results_logistic_time_1_roc_auc_LED-display-domain-7digit_250_500_4.npy\n",
      "Loaded saved result for ./results/tabular/multiclass/results_logistic_time_1_roc_auc_LED-display-domain-7digit_250_500_5.npy\n",
      "Loaded saved result for ./results/tabular/multiclass/results_logistic_time_1_roc_auc_thyroid-new_107_214_1.npy\n",
      "Loaded saved result for ./results/tabular/multiclass/results_logistic_time_1_roc_auc_thyroid-new_107_214_2.npy\n",
      "Loaded saved result for ./results/tabular/multiclass/results_logistic_time_1_roc_auc_thyroid-new_107_214_3.npy\n",
      "Loaded saved result for ./results/tabular/multiclass/results_logistic_time_1_roc_auc_thyroid-new_107_214_4.npy\n",
      "Loaded saved result for ./results/tabular/multiclass/results_logistic_time_1_roc_auc_thyroid-new_107_214_5.npy\n",
      "Loaded saved result for ./results/tabular/multiclass/results_logistic_time_1_roc_auc_CPMP-2015-runtime-classification_263_526_1.npy\n",
      "Loaded saved result for ./results/tabular/multiclass/results_logistic_time_1_roc_auc_CPMP-2015-runtime-classification_263_526_2.npy\n",
      "Loaded saved result for ./results/tabular/multiclass/results_logistic_time_1_roc_auc_CPMP-2015-runtime-classification_263_526_3.npy\n",
      "Loaded saved result for ./results/tabular/multiclass/results_logistic_time_1_roc_auc_CPMP-2015-runtime-classification_263_526_4.npy\n",
      "Loaded saved result for ./results/tabular/multiclass/results_logistic_time_1_roc_auc_CPMP-2015-runtime-classification_263_526_5.npy\n",
      "Loaded saved result for ./results/tabular/multiclass/results_logistic_time_1_roc_auc_TuningSVMs_78_156_1.npy\n",
      "Loaded saved result for ./results/tabular/multiclass/results_logistic_time_1_roc_auc_TuningSVMs_78_156_2.npy\n",
      "Loaded saved result for ./results/tabular/multiclass/results_logistic_time_1_roc_auc_TuningSVMs_78_156_3.npy\n",
      "Loaded saved result for ./results/tabular/multiclass/results_logistic_time_1_roc_auc_TuningSVMs_78_156_4.npy\n",
      "Loaded saved result for ./results/tabular/multiclass/results_logistic_time_1_roc_auc_TuningSVMs_78_156_5.npy\n",
      "Loaded saved result for ./results/tabular/multiclass/results_logistic_time_1_roc_auc_iris-example_75_150_1.npy\n",
      "Loaded saved result for ./results/tabular/multiclass/results_logistic_time_1_roc_auc_iris-example_75_150_2.npy\n",
      "Loaded saved result for ./results/tabular/multiclass/results_logistic_time_1_roc_auc_iris-example_75_150_3.npy\n",
      "Loaded saved result for ./results/tabular/multiclass/results_logistic_time_1_roc_auc_iris-example_75_150_4.npy\n",
      "Loaded saved result for ./results/tabular/multiclass/results_logistic_time_1_roc_auc_iris-example_75_150_5.npy\n",
      "Loaded saved result for ./results/tabular/multiclass/results_logistic_time_1_roc_auc_Touch2_132_264_1.npy\n"
     ]
    },
    {
     "name": "stderr",
     "output_type": "stream",
     "text": [
      "100%|██████████████████████████████████████████████████████████████████████████████████████████████████████████████████████████████████████████████████████████████████████████████████████████████████████████████████████████████████████████████████████████████████████████████████████████████████████████████████████████████████████████████████| 320/320 [00:00<00:00, 337.47it/s]\n"
     ]
    },
    {
     "name": "stdout",
     "output_type": "stream",
     "text": [
      "Loaded saved result for ./results/tabular/multiclass/results_logistic_time_1_roc_auc_Touch2_132_264_2.npy\n",
      "Loaded saved result for ./results/tabular/multiclass/results_logistic_time_1_roc_auc_Touch2_132_264_3.npy\n",
      "Loaded saved result for ./results/tabular/multiclass/results_logistic_time_1_roc_auc_Touch2_132_264_4.npy\n",
      "Loaded saved result for ./results/tabular/multiclass/results_logistic_time_1_roc_auc_Touch2_132_264_5.npy\n",
      "model_name  transformer_mine\n"
     ]
    },
    {
     "name": "stderr",
     "output_type": "stream",
     "text": [
      "  0%|                                                                                                                                                                                                                                                                                                                                                             | 0/320 [00:00<?, ?it/s]"
     ]
    },
    {
     "name": "stdout",
     "output_type": "stream",
     "text": [
      "Loaded saved result for ./results/tabular/multiclass/results_transformer_mine_time_1_roc_auc_sonar_104_208_1.npy\n",
      "Loaded saved result for ./results/tabular/multiclass/results_transformer_mine_time_1_roc_auc_sonar_104_208_2.npy\n",
      "Loaded saved result for ./results/tabular/multiclass/results_transformer_mine_time_1_roc_auc_sonar_104_208_3.npy\n",
      "Loaded saved result for ./results/tabular/multiclass/results_transformer_mine_time_1_roc_auc_sonar_104_208_4.npy\n",
      "Loaded saved result for ./results/tabular/multiclass/results_transformer_mine_time_1_roc_auc_sonar_104_208_5.npy\n",
      "Loaded saved result for ./results/tabular/multiclass/results_transformer_mine_time_1_roc_auc_glass_107_214_1.npy\n",
      "Loaded saved result for ./results/tabular/multiclass/results_transformer_mine_time_1_roc_auc_glass_107_214_2.npy\n",
      "Loaded saved result for ./results/tabular/multiclass/results_transformer_mine_time_1_roc_auc_glass_107_214_3.npy\n",
      "Loaded saved result for ./results/tabular/multiclass/results_transformer_mine_time_1_roc_auc_glass_107_214_4.npy\n",
      "Loaded saved result for ./results/tabular/multiclass/results_transformer_mine_time_1_roc_auc_glass_107_214_5.npy\n",
      "Loaded saved result for ./results/tabular/multiclass/results_transformer_mine_time_1_roc_auc_heart-statlog_135_270_1.npy\n",
      "Loaded saved result for ./results/tabular/multiclass/results_transformer_mine_time_1_roc_auc_heart-statlog_135_270_2.npy\n",
      "Loaded saved result for ./results/tabular/multiclass/results_transformer_mine_time_1_roc_auc_heart-statlog_135_270_3.npy\n",
      "Loaded saved result for ./results/tabular/multiclass/results_transformer_mine_time_1_roc_auc_heart-statlog_135_270_4.npy\n",
      "Loaded saved result for ./results/tabular/multiclass/results_transformer_mine_time_1_roc_auc_heart-statlog_135_270_5.npy\n",
      "Loaded saved result for ./results/tabular/multiclass/results_transformer_mine_time_1_roc_auc_ionosphere_175_350_1.npy\n",
      "Loaded saved result for ./results/tabular/multiclass/results_transformer_mine_time_1_roc_auc_ionosphere_175_350_2.npy\n",
      "Loaded saved result for ./results/tabular/multiclass/results_transformer_mine_time_1_roc_auc_ionosphere_175_350_3.npy\n",
      "Loaded saved result for ./results/tabular/multiclass/results_transformer_mine_time_1_roc_auc_ionosphere_175_350_4.npy\n",
      "Loaded saved result for ./results/tabular/multiclass/results_transformer_mine_time_1_roc_auc_ionosphere_175_350_5.npy\n",
      "Loaded saved result for ./results/tabular/multiclass/results_transformer_mine_time_1_roc_auc_iris_75_150_1.npy\n",
      "Loaded saved result for ./results/tabular/multiclass/results_transformer_mine_time_1_roc_auc_iris_75_150_2.npy\n",
      "Loaded saved result for ./results/tabular/multiclass/results_transformer_mine_time_1_roc_auc_iris_75_150_3.npy\n",
      "Loaded saved result for ./results/tabular/multiclass/results_transformer_mine_time_1_roc_auc_iris_75_150_4.npy\n",
      "Loaded saved result for ./results/tabular/multiclass/results_transformer_mine_time_1_roc_auc_iris_75_150_5.npy\n",
      "Loaded saved result for ./results/tabular/multiclass/results_transformer_mine_time_1_roc_auc_wine_89_178_1.npy\n",
      "Loaded saved result for ./results/tabular/multiclass/results_transformer_mine_time_1_roc_auc_wine_89_178_2.npy\n",
      "Loaded saved result for ./results/tabular/multiclass/results_transformer_mine_time_1_roc_auc_wine_89_178_3.npy\n",
      "Loaded saved result for ./results/tabular/multiclass/results_transformer_mine_time_1_roc_auc_wine_89_178_4.npy\n",
      "Loaded saved result for ./results/tabular/multiclass/results_transformer_mine_time_1_roc_auc_wine_89_178_5.npy\n",
      "Loaded saved result for ./results/tabular/multiclass/results_transformer_mine_time_1_roc_auc_hayes-roth_80_160_1.npy\n",
      "Loaded saved result for ./results/tabular/multiclass/results_transformer_mine_time_1_roc_auc_hayes-roth_80_160_2.npy\n",
      "Loaded saved result for ./results/tabular/multiclass/results_transformer_mine_time_1_roc_auc_hayes-roth_80_160_3.npy\n"
     ]
    },
    {
     "name": "stderr",
     "output_type": "stream",
     "text": [
      " 10%|██████████████████████████████████▉                                                                                                                                                                                                                                                                                                                | 33/320 [00:00<00:00, 325.66it/s]"
     ]
    },
    {
     "name": "stdout",
     "output_type": "stream",
     "text": [
      "Loaded saved result for ./results/tabular/multiclass/results_transformer_mine_time_1_roc_auc_hayes-roth_80_160_4.npy\n",
      "Loaded saved result for ./results/tabular/multiclass/results_transformer_mine_time_1_roc_auc_hayes-roth_80_160_5.npy\n",
      "Loaded saved result for ./results/tabular/multiclass/results_transformer_mine_time_1_roc_auc_SPECTF_174_348_1.npy\n",
      "Loaded saved result for ./results/tabular/multiclass/results_transformer_mine_time_1_roc_auc_SPECTF_174_348_2.npy\n",
      "Loaded saved result for ./results/tabular/multiclass/results_transformer_mine_time_1_roc_auc_SPECTF_174_348_3.npy\n",
      "Loaded saved result for ./results/tabular/multiclass/results_transformer_mine_time_1_roc_auc_SPECTF_174_348_4.npy\n",
      "Loaded saved result for ./results/tabular/multiclass/results_transformer_mine_time_1_roc_auc_SPECTF_174_348_5.npy\n",
      "Loaded saved result for ./results/tabular/multiclass/results_transformer_mine_time_1_roc_auc_synthetic_control_300_600_1.npy\n",
      "Loaded saved result for ./results/tabular/multiclass/results_transformer_mine_time_1_roc_auc_synthetic_control_300_600_2.npy\n",
      "Loaded saved result for ./results/tabular/multiclass/results_transformer_mine_time_1_roc_auc_synthetic_control_300_600_3.npy\n",
      "Loaded saved result for ./results/tabular/multiclass/results_transformer_mine_time_1_roc_auc_synthetic_control_300_600_4.npy\n",
      "Loaded saved result for ./results/tabular/multiclass/results_transformer_mine_time_1_roc_auc_synthetic_control_300_600_5.npy\n",
      "Loaded saved result for ./results/tabular/multiclass/results_transformer_mine_time_1_roc_auc_prnn_synth_125_250_1.npy\n",
      "Loaded saved result for ./results/tabular/multiclass/results_transformer_mine_time_1_roc_auc_prnn_synth_125_250_2.npy\n",
      "Loaded saved result for ./results/tabular/multiclass/results_transformer_mine_time_1_roc_auc_prnn_synth_125_250_3.npy\n",
      "Loaded saved result for ./results/tabular/multiclass/results_transformer_mine_time_1_roc_auc_prnn_synth_125_250_4.npy\n",
      "Loaded saved result for ./results/tabular/multiclass/results_transformer_mine_time_1_roc_auc_prnn_synth_125_250_5.npy\n",
      "Loaded saved result for ./results/tabular/multiclass/results_transformer_mine_time_1_roc_auc_rmftsa_sleepdata_512_1024_1.npy\n",
      "Loaded saved result for ./results/tabular/multiclass/results_transformer_mine_time_1_roc_auc_rmftsa_sleepdata_512_1024_2.npy\n",
      "Loaded saved result for ./results/tabular/multiclass/results_transformer_mine_time_1_roc_auc_rmftsa_sleepdata_512_1024_3.npy\n",
      "Loaded saved result for ./results/tabular/multiclass/results_transformer_mine_time_1_roc_auc_rmftsa_sleepdata_512_1024_4.npy\n",
      "Loaded saved result for ./results/tabular/multiclass/results_transformer_mine_time_1_roc_auc_rmftsa_sleepdata_512_1024_5.npy\n",
      "Loaded saved result for ./results/tabular/multiclass/results_transformer_mine_time_1_roc_auc_diggle_table_a2_155_310_1.npy\n",
      "Loaded saved result for ./results/tabular/multiclass/results_transformer_mine_time_1_roc_auc_diggle_table_a2_155_310_2.npy\n",
      "Loaded saved result for ./results/tabular/multiclass/results_transformer_mine_time_1_roc_auc_diggle_table_a2_155_310_3.npy\n",
      "Loaded saved result for ./results/tabular/multiclass/results_transformer_mine_time_1_roc_auc_diggle_table_a2_155_310_4.npy\n",
      "Loaded saved result for ./results/tabular/multiclass/results_transformer_mine_time_1_roc_auc_diggle_table_a2_155_310_5.npy\n",
      "Loaded saved result for ./results/tabular/multiclass/results_transformer_mine_time_1_roc_auc_rmftsa_ladata_254_508_1.npy\n",
      "Loaded saved result for ./results/tabular/multiclass/results_transformer_mine_time_1_roc_auc_rmftsa_ladata_254_508_2.npy\n"
     ]
    },
    {
     "name": "stderr",
     "output_type": "stream",
     "text": [
      " 21%|█████████████████████████████████████████████████████████████████████▉                                                                                                                                                                                                                                                                             | 66/320 [00:00<00:01, 201.11it/s]"
     ]
    },
    {
     "name": "stdout",
     "output_type": "stream",
     "text": [
      "Loaded saved result for ./results/tabular/multiclass/results_transformer_mine_time_1_roc_auc_rmftsa_ladata_254_508_3.npy\n",
      "Loaded saved result for ./results/tabular/multiclass/results_transformer_mine_time_1_roc_auc_rmftsa_ladata_254_508_4.npy\n",
      "Loaded saved result for ./results/tabular/multiclass/results_transformer_mine_time_1_roc_auc_rmftsa_ladata_254_508_5.npy\n",
      "Loaded saved result for ./results/tabular/multiclass/results_transformer_mine_time_1_roc_auc_pwLinear_100_200_1.npy\n",
      "Loaded saved result for ./results/tabular/multiclass/results_transformer_mine_time_1_roc_auc_pwLinear_100_200_2.npy\n",
      "Loaded saved result for ./results/tabular/multiclass/results_transformer_mine_time_1_roc_auc_pwLinear_100_200_3.npy\n",
      "Loaded saved result for ./results/tabular/multiclass/results_transformer_mine_time_1_roc_auc_pwLinear_100_200_4.npy\n",
      "Loaded saved result for ./results/tabular/multiclass/results_transformer_mine_time_1_roc_auc_pwLinear_100_200_5.npy\n",
      "Loaded saved result for ./results/tabular/multiclass/results_transformer_mine_time_1_roc_auc_machine_cpu_104_208_1.npy\n",
      "Loaded saved result for ./results/tabular/multiclass/results_transformer_mine_time_1_roc_auc_machine_cpu_104_208_2.npy\n",
      "Loaded saved result for ./results/tabular/multiclass/results_transformer_mine_time_1_roc_auc_machine_cpu_104_208_3.npy\n",
      "Loaded saved result for ./results/tabular/multiclass/results_transformer_mine_time_1_roc_auc_machine_cpu_104_208_4.npy\n",
      "Loaded saved result for ./results/tabular/multiclass/results_transformer_mine_time_1_roc_auc_machine_cpu_104_208_5.npy\n",
      "Loaded saved result for ./results/tabular/multiclass/results_transformer_mine_time_1_roc_auc_pm10_250_500_1.npy\n",
      "Loaded saved result for ./results/tabular/multiclass/results_transformer_mine_time_1_roc_auc_pm10_250_500_2.npy\n",
      "Loaded saved result for ./results/tabular/multiclass/results_transformer_mine_time_1_roc_auc_pm10_250_500_3.npy\n",
      "Loaded saved result for ./results/tabular/multiclass/results_transformer_mine_time_1_roc_auc_pm10_250_500_4.npy\n",
      "Loaded saved result for ./results/tabular/multiclass/results_transformer_mine_time_1_roc_auc_pm10_250_500_5.npy\n",
      "Loaded saved result for ./results/tabular/multiclass/results_transformer_mine_time_1_roc_auc_wisconsin_97_194_1.npy\n",
      "Loaded saved result for ./results/tabular/multiclass/results_transformer_mine_time_1_roc_auc_wisconsin_97_194_2.npy\n",
      "Loaded saved result for ./results/tabular/multiclass/results_transformer_mine_time_1_roc_auc_wisconsin_97_194_3.npy\n",
      "Loaded saved result for ./results/tabular/multiclass/results_transformer_mine_time_1_roc_auc_wisconsin_97_194_4.npy\n",
      "Loaded saved result for ./results/tabular/multiclass/results_transformer_mine_time_1_roc_auc_wisconsin_97_194_5.npy\n",
      "Loaded saved result for ./results/tabular/multiclass/results_transformer_mine_time_1_roc_auc_autoPrice_79_158_1.npy\n",
      "Loaded saved result for ./results/tabular/multiclass/results_transformer_mine_time_1_roc_auc_autoPrice_79_158_2.npy\n",
      "Loaded saved result for ./results/tabular/multiclass/results_transformer_mine_time_1_roc_auc_autoPrice_79_158_3.npy\n",
      "Loaded saved result for ./results/tabular/multiclass/results_transformer_mine_time_1_roc_auc_autoPrice_79_158_4.npy\n",
      "Loaded saved result for ./results/tabular/multiclass/results_transformer_mine_time_1_roc_auc_autoPrice_79_158_5.npy\n",
      "Loaded saved result for ./results/tabular/multiclass/results_transformer_mine_time_1_roc_auc_disclosure_x_bias_331_662_1.npy\n",
      "Loaded saved result for ./results/tabular/multiclass/results_transformer_mine_time_1_roc_auc_disclosure_x_bias_331_662_2.npy\n",
      "Loaded saved result for ./results/tabular/multiclass/results_transformer_mine_time_1_roc_auc_disclosure_x_bias_331_662_3.npy\n",
      "Loaded saved result for ./results/tabular/multiclass/results_transformer_mine_time_1_roc_auc_disclosure_x_bias_331_662_4.npy\n",
      "Loaded saved result for ./results/tabular/multiclass/results_transformer_mine_time_1_roc_auc_disclosure_x_bias_331_662_5.npy\n"
     ]
    },
    {
     "name": "stderr",
     "output_type": "stream",
     "text": [
      " 47%|█████████████████████████████████████████████████████████████████████████████████████████████████████████████████████████████████████████████████████████████▍                                                                                                                                                                                    | 149/320 [00:00<00:00, 413.92it/s]"
     ]
    },
    {
     "name": "stdout",
     "output_type": "stream",
     "text": [
      "Loaded saved result for ./results/tabular/multiclass/results_transformer_mine_time_1_roc_auc_bodyfat_126_252_1.npy\n",
      "Loaded saved result for ./results/tabular/multiclass/results_transformer_mine_time_1_roc_auc_bodyfat_126_252_2.npy\n",
      "Loaded saved result for ./results/tabular/multiclass/results_transformer_mine_time_1_roc_auc_bodyfat_126_252_3.npy\n",
      "Loaded saved result for ./results/tabular/multiclass/results_transformer_mine_time_1_roc_auc_bodyfat_126_252_4.npy\n",
      "Loaded saved result for ./results/tabular/multiclass/results_transformer_mine_time_1_roc_auc_bodyfat_126_252_5.npy\n",
      "Loaded saved result for ./results/tabular/multiclass/results_transformer_mine_time_1_roc_auc_triazines_93_186_1.npy\n",
      "Loaded saved result for ./results/tabular/multiclass/results_transformer_mine_time_1_roc_auc_triazines_93_186_2.npy\n",
      "Loaded saved result for ./results/tabular/multiclass/results_transformer_mine_time_1_roc_auc_triazines_93_186_3.npy\n",
      "Loaded saved result for ./results/tabular/multiclass/results_transformer_mine_time_1_roc_auc_triazines_93_186_4.npy\n",
      "Loaded saved result for ./results/tabular/multiclass/results_transformer_mine_time_1_roc_auc_triazines_93_186_5.npy\n",
      "Loaded saved result for ./results/tabular/multiclass/results_transformer_mine_time_1_roc_auc_disclosure_x_tampered_331_662_1.npy\n",
      "Loaded saved result for ./results/tabular/multiclass/results_transformer_mine_time_1_roc_auc_disclosure_x_tampered_331_662_2.npy\n",
      "Loaded saved result for ./results/tabular/multiclass/results_transformer_mine_time_1_roc_auc_disclosure_x_tampered_331_662_3.npy\n",
      "Loaded saved result for ./results/tabular/multiclass/results_transformer_mine_time_1_roc_auc_disclosure_x_tampered_331_662_4.npy\n",
      "Loaded saved result for ./results/tabular/multiclass/results_transformer_mine_time_1_roc_auc_disclosure_x_tampered_331_662_5.npy\n",
      "Loaded saved result for ./results/tabular/multiclass/results_transformer_mine_time_1_roc_auc_chscase_funds_92_184_1.npy\n",
      "Loaded saved result for ./results/tabular/multiclass/results_transformer_mine_time_1_roc_auc_chscase_funds_92_184_2.npy\n",
      "Loaded saved result for ./results/tabular/multiclass/results_transformer_mine_time_1_roc_auc_chscase_funds_92_184_3.npy\n",
      "Loaded saved result for ./results/tabular/multiclass/results_transformer_mine_time_1_roc_auc_chscase_funds_92_184_4.npy\n",
      "Loaded saved result for ./results/tabular/multiclass/results_transformer_mine_time_1_roc_auc_chscase_funds_92_184_5.npy\n",
      "Loaded saved result for ./results/tabular/multiclass/results_transformer_mine_time_1_roc_auc_chscase_vine2_234_468_1.npy\n",
      "Loaded saved result for ./results/tabular/multiclass/results_transformer_mine_time_1_roc_auc_chscase_vine2_234_468_2.npy\n",
      "Loaded saved result for ./results/tabular/multiclass/results_transformer_mine_time_1_roc_auc_chscase_vine2_234_468_3.npy\n",
      "Loaded saved result for ./results/tabular/multiclass/results_transformer_mine_time_1_roc_auc_chscase_vine2_234_468_4.npy\n",
      "Loaded saved result for ./results/tabular/multiclass/results_transformer_mine_time_1_roc_auc_chscase_vine2_234_468_5.npy\n",
      "Loaded saved result for ./results/tabular/multiclass/results_transformer_mine_time_1_roc_auc_chatfield_4_117_234_1.npy\n",
      "Loaded saved result for ./results/tabular/multiclass/results_transformer_mine_time_1_roc_auc_chatfield_4_117_234_2.npy\n",
      "Loaded saved result for ./results/tabular/multiclass/results_transformer_mine_time_1_roc_auc_chatfield_4_117_234_3.npy\n",
      "Loaded saved result for ./results/tabular/multiclass/results_transformer_mine_time_1_roc_auc_chatfield_4_117_234_4.npy\n",
      "Loaded saved result for ./results/tabular/multiclass/results_transformer_mine_time_1_roc_auc_chatfield_4_117_234_5.npy\n",
      "Loaded saved result for ./results/tabular/multiclass/results_transformer_mine_time_1_roc_auc_disclosure_x_noise_331_662_1.npy\n",
      "Loaded saved result for ./results/tabular/multiclass/results_transformer_mine_time_1_roc_auc_disclosure_x_noise_331_662_2.npy\n",
      "Loaded saved result for ./results/tabular/multiclass/results_transformer_mine_time_1_roc_auc_disclosure_x_noise_331_662_3.npy\n",
      "Loaded saved result for ./results/tabular/multiclass/results_transformer_mine_time_1_roc_auc_disclosure_x_noise_331_662_4.npy\n",
      "Loaded saved result for ./results/tabular/multiclass/results_transformer_mine_time_1_roc_auc_disclosure_x_noise_331_662_5.npy\n",
      "Loaded saved result for ./results/tabular/multiclass/results_transformer_mine_time_1_roc_auc_stock_475_950_1.npy\n",
      "Loaded saved result for ./results/tabular/multiclass/results_transformer_mine_time_1_roc_auc_stock_475_950_2.npy\n",
      "Loaded saved result for ./results/tabular/multiclass/results_transformer_mine_time_1_roc_auc_stock_475_950_3.npy\n",
      "Loaded saved result for ./results/tabular/multiclass/results_transformer_mine_time_1_roc_auc_stock_475_950_4.npy\n",
      "Loaded saved result for ./results/tabular/multiclass/results_transformer_mine_time_1_roc_auc_stock_475_950_5.npy\n",
      "Loaded saved result for ./results/tabular/multiclass/results_transformer_mine_time_1_roc_auc_vinnie_190_380_1.npy\n",
      "Loaded saved result for ./results/tabular/multiclass/results_transformer_mine_time_1_roc_auc_vinnie_190_380_2.npy\n",
      "Loaded saved result for ./results/tabular/multiclass/results_transformer_mine_time_1_roc_auc_vinnie_190_380_3.npy\n",
      "Loaded saved result for ./results/tabular/multiclass/results_transformer_mine_time_1_roc_auc_vinnie_190_380_4.npy\n",
      "Loaded saved result for ./results/tabular/multiclass/results_transformer_mine_time_1_roc_auc_vinnie_190_380_5.npy\n",
      "Loaded saved result for ./results/tabular/multiclass/results_transformer_mine_time_1_roc_auc_mu284_142_284_1.npy\n",
      "Loaded saved result for ./results/tabular/multiclass/results_transformer_mine_time_1_roc_auc_mu284_142_284_2.npy\n",
      "Loaded saved result for ./results/tabular/multiclass/results_transformer_mine_time_1_roc_auc_mu284_142_284_3.npy\n",
      "Loaded saved result for ./results/tabular/multiclass/results_transformer_mine_time_1_roc_auc_mu284_142_284_4.npy\n",
      "Loaded saved result for ./results/tabular/multiclass/results_transformer_mine_time_1_roc_auc_mu284_142_284_5.npy\n",
      "Loaded saved result for ./results/tabular/multiclass/results_transformer_mine_time_1_roc_auc_no2_250_500_1.npy\n",
      "Loaded saved result for ./results/tabular/multiclass/results_transformer_mine_time_1_roc_auc_no2_250_500_2.npy\n",
      "Loaded saved result for ./results/tabular/multiclass/results_transformer_mine_time_1_roc_auc_no2_250_500_3.npy\n",
      "Loaded saved result for ./results/tabular/multiclass/results_transformer_mine_time_1_roc_auc_no2_250_500_4.npy\n",
      "Loaded saved result for ./results/tabular/multiclass/results_transformer_mine_time_1_roc_auc_no2_250_500_5.npy\n",
      "Loaded saved result for ./results/tabular/multiclass/results_transformer_mine_time_1_roc_auc_chscase_geyser1_111_222_1.npy\n",
      "Loaded saved result for ./results/tabular/multiclass/results_transformer_mine_time_1_roc_auc_chscase_geyser1_111_222_2.npy\n",
      "Loaded saved result for ./results/tabular/multiclass/results_transformer_mine_time_1_roc_auc_chscase_geyser1_111_222_3.npy\n",
      "Loaded saved result for ./results/tabular/multiclass/results_transformer_mine_time_1_roc_auc_chscase_geyser1_111_222_4.npy\n",
      "Loaded saved result for ./results/tabular/multiclass/results_transformer_mine_time_1_roc_auc_chscase_geyser1_111_222_5.npy\n",
      "Loaded saved result for ./results/tabular/multiclass/results_transformer_mine_time_1_roc_auc_chscase_census6_200_400_1.npy\n",
      "Loaded saved result for ./results/tabular/multiclass/results_transformer_mine_time_1_roc_auc_chscase_census6_200_400_2.npy\n",
      "Loaded saved result for ./results/tabular/multiclass/results_transformer_mine_time_1_roc_auc_chscase_census6_200_400_3.npy\n",
      "Loaded saved result for ./results/tabular/multiclass/results_transformer_mine_time_1_roc_auc_chscase_census6_200_400_4.npy\n",
      "Loaded saved result for ./results/tabular/multiclass/results_transformer_mine_time_1_roc_auc_chscase_census6_200_400_5.npy\n",
      "Loaded saved result for ./results/tabular/multiclass/results_transformer_mine_time_1_roc_auc_chscase_census5_200_400_1.npy\n",
      "Loaded saved result for ./results/tabular/multiclass/results_transformer_mine_time_1_roc_auc_chscase_census5_200_400_2.npy\n",
      "Loaded saved result for ./results/tabular/multiclass/results_transformer_mine_time_1_roc_auc_chscase_census5_200_400_3.npy\n",
      "Loaded saved result for ./results/tabular/multiclass/results_transformer_mine_time_1_roc_auc_chscase_census5_200_400_4.npy\n",
      "Loaded saved result for ./results/tabular/multiclass/results_transformer_mine_time_1_roc_auc_chscase_census5_200_400_5.npy\n",
      "Loaded saved result for ./results/tabular/multiclass/results_transformer_mine_time_1_roc_auc_chscase_census4_200_400_1.npy\n",
      "Loaded saved result for ./results/tabular/multiclass/results_transformer_mine_time_1_roc_auc_chscase_census4_200_400_2.npy\n",
      "Loaded saved result for ./results/tabular/multiclass/results_transformer_mine_time_1_roc_auc_chscase_census4_200_400_3.npy\n",
      "Loaded saved result for ./results/tabular/multiclass/results_transformer_mine_time_1_roc_auc_chscase_census4_200_400_4.npy\n",
      "Loaded saved result for ./results/tabular/multiclass/results_transformer_mine_time_1_roc_auc_chscase_census4_200_400_5.npy\n",
      "Loaded saved result for ./results/tabular/multiclass/results_transformer_mine_time_1_roc_auc_chscase_census3_200_400_1.npy\n",
      "Loaded saved result for ./results/tabular/multiclass/results_transformer_mine_time_1_roc_auc_chscase_census3_200_400_2.npy\n",
      "Loaded saved result for ./results/tabular/multiclass/results_transformer_mine_time_1_roc_auc_chscase_census3_200_400_3.npy\n",
      "Loaded saved result for ./results/tabular/multiclass/results_transformer_mine_time_1_roc_auc_chscase_census3_200_400_4.npy\n",
      "Loaded saved result for ./results/tabular/multiclass/results_transformer_mine_time_1_roc_auc_chscase_census3_200_400_5.npy\n",
      "Loaded saved result for ./results/tabular/multiclass/results_transformer_mine_time_1_roc_auc_chscase_census2_200_400_1.npy\n",
      "Loaded saved result for ./results/tabular/multiclass/results_transformer_mine_time_1_roc_auc_chscase_census2_200_400_2.npy\n",
      "Loaded saved result for ./results/tabular/multiclass/results_transformer_mine_time_1_roc_auc_chscase_census2_200_400_3.npy\n",
      "Loaded saved result for ./results/tabular/multiclass/results_transformer_mine_time_1_roc_auc_chscase_census2_200_400_4.npy\n",
      "Loaded saved result for ./results/tabular/multiclass/results_transformer_mine_time_1_roc_auc_chscase_census2_200_400_5.npy\n",
      "Loaded saved result for ./results/tabular/multiclass/results_transformer_mine_time_1_roc_auc_visualizing_galaxy_161_322_1.npy\n",
      "Loaded saved result for ./results/tabular/multiclass/results_transformer_mine_time_1_roc_auc_visualizing_galaxy_161_322_2.npy\n",
      "Loaded saved result for ./results/tabular/multiclass/results_transformer_mine_time_1_roc_auc_visualizing_galaxy_161_322_3.npy\n",
      "Loaded saved result for ./results/tabular/multiclass/results_transformer_mine_time_1_roc_auc_visualizing_galaxy_161_322_4.npy\n",
      "Loaded saved result for ./results/tabular/multiclass/results_transformer_mine_time_1_roc_auc_visualizing_galaxy_161_322_5.npy\n",
      "Loaded saved result for ./results/tabular/multiclass/results_transformer_mine_time_1_roc_auc_disclosure_z_331_662_1.npy\n",
      "Loaded saved result for ./results/tabular/multiclass/results_transformer_mine_time_1_roc_auc_disclosure_z_331_662_2.npy\n",
      "Loaded saved result for ./results/tabular/multiclass/results_transformer_mine_time_1_roc_auc_disclosure_z_331_662_3.npy\n",
      "Loaded saved result for ./results/tabular/multiclass/results_transformer_mine_time_1_roc_auc_disclosure_z_331_662_4.npy\n",
      "Loaded saved result for ./results/tabular/multiclass/results_transformer_mine_time_1_roc_auc_disclosure_z_331_662_5.npy\n",
      "Loaded saved result for ./results/tabular/multiclass/results_transformer_mine_time_1_roc_auc_prnn_fglass_107_214_1.npy\n",
      "Loaded saved result for ./results/tabular/multiclass/results_transformer_mine_time_1_roc_auc_prnn_fglass_107_214_2.npy\n",
      "Loaded saved result for ./results/tabular/multiclass/results_transformer_mine_time_1_roc_auc_prnn_fglass_107_214_3.npy\n",
      "Loaded saved result for ./results/tabular/multiclass/results_transformer_mine_time_1_roc_auc_prnn_fglass_107_214_4.npy\n",
      "Loaded saved result for ./results/tabular/multiclass/results_transformer_mine_time_1_roc_auc_prnn_fglass_107_214_5.npy\n",
      "Loaded saved result for ./results/tabular/multiclass/results_transformer_mine_time_1_roc_auc_jEdit_4.2_4.3_184_368_1.npy\n",
      "Loaded saved result for ./results/tabular/multiclass/results_transformer_mine_time_1_roc_auc_jEdit_4.2_4.3_184_368_2.npy\n",
      "Loaded saved result for ./results/tabular/multiclass/results_transformer_mine_time_1_roc_auc_jEdit_4.2_4.3_184_368_3.npy\n",
      "Loaded saved result for ./results/tabular/multiclass/results_transformer_mine_time_1_roc_auc_jEdit_4.2_4.3_184_368_4.npy\n",
      "Loaded saved result for ./results/tabular/multiclass/results_transformer_mine_time_1_roc_auc_jEdit_4.2_4.3_184_368_5.npy\n",
      "Loaded saved result for ./results/tabular/multiclass/results_transformer_mine_time_1_roc_auc_mc2_80_160_1.npy\n",
      "Loaded saved result for ./results/tabular/multiclass/results_transformer_mine_time_1_roc_auc_mc2_80_160_2.npy\n",
      "Loaded saved result for ./results/tabular/multiclass/results_transformer_mine_time_1_roc_auc_mc2_80_160_3.npy\n",
      "Loaded saved result for ./results/tabular/multiclass/results_transformer_mine_time_1_roc_auc_mc2_80_160_4.npy\n",
      "Loaded saved result for ./results/tabular/multiclass/results_transformer_mine_time_1_roc_auc_mc2_80_160_5.npy\n",
      "Loaded saved result for ./results/tabular/multiclass/results_transformer_mine_time_1_roc_auc_mw1_201_402_1.npy\n",
      "Loaded saved result for ./results/tabular/multiclass/results_transformer_mine_time_1_roc_auc_mw1_201_402_2.npy\n",
      "Loaded saved result for ./results/tabular/multiclass/results_transformer_mine_time_1_roc_auc_mw1_201_402_3.npy\n",
      "Loaded saved result for ./results/tabular/multiclass/results_transformer_mine_time_1_roc_auc_mw1_201_402_4.npy\n",
      "Loaded saved result for ./results/tabular/multiclass/results_transformer_mine_time_1_roc_auc_mw1_201_402_5.npy\n",
      "Loaded saved result for ./results/tabular/multiclass/results_transformer_mine_time_1_roc_auc_jEdit_4.0_4.2_137_274_1.npy\n",
      "Loaded saved result for ./results/tabular/multiclass/results_transformer_mine_time_1_roc_auc_jEdit_4.0_4.2_137_274_2.npy\n",
      "Loaded saved result for ./results/tabular/multiclass/results_transformer_mine_time_1_roc_auc_jEdit_4.0_4.2_137_274_3.npy\n",
      "Loaded saved result for ./results/tabular/multiclass/results_transformer_mine_time_1_roc_auc_jEdit_4.0_4.2_137_274_4.npy\n",
      "Loaded saved result for ./results/tabular/multiclass/results_transformer_mine_time_1_roc_auc_jEdit_4.0_4.2_137_274_5.npy\n",
      "Loaded saved result for ./results/tabular/multiclass/results_transformer_mine_time_1_roc_auc_MegaWatt1_126_252_1.npy\n",
      "Loaded saved result for ./results/tabular/multiclass/results_transformer_mine_time_1_roc_auc_MegaWatt1_126_252_2.npy\n",
      "Loaded saved result for ./results/tabular/multiclass/results_transformer_mine_time_1_roc_auc_MegaWatt1_126_252_3.npy\n",
      "Loaded saved result for ./results/tabular/multiclass/results_transformer_mine_time_1_roc_auc_MegaWatt1_126_252_4.npy\n",
      "Loaded saved result for ./results/tabular/multiclass/results_transformer_mine_time_1_roc_auc_MegaWatt1_126_252_5.npy\n",
      "Loaded saved result for ./results/tabular/multiclass/results_transformer_mine_time_1_roc_auc_PizzaCutter1_330_660_1.npy\n",
      "Loaded saved result for ./results/tabular/multiclass/results_transformer_mine_time_1_roc_auc_PizzaCutter1_330_660_2.npy\n",
      "Loaded saved result for ./results/tabular/multiclass/results_transformer_mine_time_1_roc_auc_PizzaCutter1_330_660_3.npy\n",
      "Loaded saved result for ./results/tabular/multiclass/results_transformer_mine_time_1_roc_auc_PizzaCutter1_330_660_4.npy\n",
      "Loaded saved result for ./results/tabular/multiclass/results_transformer_mine_time_1_roc_auc_PizzaCutter1_330_660_5.npy\n",
      "Loaded saved result for ./results/tabular/multiclass/results_transformer_mine_time_1_roc_auc_PizzaCutter3_521_1042_1.npy\n",
      "Loaded saved result for ./results/tabular/multiclass/results_transformer_mine_time_1_roc_auc_PizzaCutter3_521_1042_2.npy\n"
     ]
    },
    {
     "name": "stderr",
     "output_type": "stream",
     "text": [
      " 72%|██████████████████████████████████████████████████████████████████████████████████████████████████████████████████████████████████████████████████████████████████████████████████████████████████████████████████████████████████████████████████▉                                                                                               | 230/320 [00:00<00:00, 541.53it/s]"
     ]
    },
    {
     "name": "stdout",
     "output_type": "stream",
     "text": [
      "Loaded saved result for ./results/tabular/multiclass/results_transformer_mine_time_1_roc_auc_PizzaCutter3_521_1042_3.npy\n",
      "Loaded saved result for ./results/tabular/multiclass/results_transformer_mine_time_1_roc_auc_PizzaCutter3_521_1042_4.npy\n",
      "Loaded saved result for ./results/tabular/multiclass/results_transformer_mine_time_1_roc_auc_PizzaCutter3_521_1042_5.npy\n",
      "Loaded saved result for ./results/tabular/multiclass/results_transformer_mine_time_1_roc_auc_CostaMadre1_148_296_1.npy\n",
      "Loaded saved result for ./results/tabular/multiclass/results_transformer_mine_time_1_roc_auc_CostaMadre1_148_296_2.npy\n",
      "Loaded saved result for ./results/tabular/multiclass/results_transformer_mine_time_1_roc_auc_CostaMadre1_148_296_3.npy\n",
      "Loaded saved result for ./results/tabular/multiclass/results_transformer_mine_time_1_roc_auc_CostaMadre1_148_296_4.npy\n",
      "Loaded saved result for ./results/tabular/multiclass/results_transformer_mine_time_1_roc_auc_CostaMadre1_148_296_5.npy\n",
      "Loaded saved result for ./results/tabular/multiclass/results_transformer_mine_time_1_roc_auc_CastMetal1_163_326_1.npy\n",
      "Loaded saved result for ./results/tabular/multiclass/results_transformer_mine_time_1_roc_auc_CastMetal1_163_326_2.npy\n",
      "Loaded saved result for ./results/tabular/multiclass/results_transformer_mine_time_1_roc_auc_CastMetal1_163_326_3.npy\n",
      "Loaded saved result for ./results/tabular/multiclass/results_transformer_mine_time_1_roc_auc_CastMetal1_163_326_4.npy\n",
      "Loaded saved result for ./results/tabular/multiclass/results_transformer_mine_time_1_roc_auc_CastMetal1_163_326_5.npy\n",
      "Loaded saved result for ./results/tabular/multiclass/results_transformer_mine_time_1_roc_auc_KnuggetChase3_97_194_1.npy\n",
      "Loaded saved result for ./results/tabular/multiclass/results_transformer_mine_time_1_roc_auc_KnuggetChase3_97_194_2.npy\n",
      "Loaded saved result for ./results/tabular/multiclass/results_transformer_mine_time_1_roc_auc_KnuggetChase3_97_194_3.npy\n",
      "Loaded saved result for ./results/tabular/multiclass/results_transformer_mine_time_1_roc_auc_KnuggetChase3_97_194_4.npy\n",
      "Loaded saved result for ./results/tabular/multiclass/results_transformer_mine_time_1_roc_auc_KnuggetChase3_97_194_5.npy\n",
      "Loaded saved result for ./results/tabular/multiclass/results_transformer_mine_time_1_roc_auc_PieChart1_352_704_1.npy\n",
      "Loaded saved result for ./results/tabular/multiclass/results_transformer_mine_time_1_roc_auc_PieChart1_352_704_2.npy\n",
      "Loaded saved result for ./results/tabular/multiclass/results_transformer_mine_time_1_roc_auc_PieChart1_352_704_3.npy\n",
      "Loaded saved result for ./results/tabular/multiclass/results_transformer_mine_time_1_roc_auc_PieChart1_352_704_4.npy\n",
      "Loaded saved result for ./results/tabular/multiclass/results_transformer_mine_time_1_roc_auc_PieChart1_352_704_5.npy\n",
      "Loaded saved result for ./results/tabular/multiclass/results_transformer_mine_time_1_roc_auc_PieChart3_538_1076_1.npy\n",
      "Loaded saved result for ./results/tabular/multiclass/results_transformer_mine_time_1_roc_auc_PieChart3_538_1076_2.npy\n",
      "Loaded saved result for ./results/tabular/multiclass/results_transformer_mine_time_1_roc_auc_PieChart3_538_1076_3.npy\n",
      "Loaded saved result for ./results/tabular/multiclass/results_transformer_mine_time_1_roc_auc_PieChart3_538_1076_4.npy\n",
      "Loaded saved result for ./results/tabular/multiclass/results_transformer_mine_time_1_roc_auc_PieChart3_538_1076_5.npy\n",
      "Loaded saved result for ./results/tabular/multiclass/results_transformer_mine_time_1_roc_auc_parkinsons_97_194_1.npy\n",
      "Loaded saved result for ./results/tabular/multiclass/results_transformer_mine_time_1_roc_auc_parkinsons_97_194_2.npy\n",
      "Loaded saved result for ./results/tabular/multiclass/results_transformer_mine_time_1_roc_auc_parkinsons_97_194_3.npy\n",
      "Loaded saved result for ./results/tabular/multiclass/results_transformer_mine_time_1_roc_auc_parkinsons_97_194_4.npy\n",
      "Loaded saved result for ./results/tabular/multiclass/results_transformer_mine_time_1_roc_auc_parkinsons_97_194_5.npy\n",
      "Loaded saved result for ./results/tabular/multiclass/results_transformer_mine_time_1_roc_auc_planning-relax_91_182_1.npy\n",
      "Loaded saved result for ./results/tabular/multiclass/results_transformer_mine_time_1_roc_auc_planning-relax_91_182_2.npy\n",
      "Loaded saved result for ./results/tabular/multiclass/results_transformer_mine_time_1_roc_auc_planning-relax_91_182_3.npy\n",
      "Loaded saved result for ./results/tabular/multiclass/results_transformer_mine_time_1_roc_auc_planning-relax_91_182_4.npy\n",
      "Loaded saved result for ./results/tabular/multiclass/results_transformer_mine_time_1_roc_auc_planning-relax_91_182_5.npy\n",
      "Loaded saved result for ./results/tabular/multiclass/results_transformer_mine_time_1_roc_auc_seeds_105_210_1.npy\n",
      "Loaded saved result for ./results/tabular/multiclass/results_transformer_mine_time_1_roc_auc_seeds_105_210_2.npy\n",
      "Loaded saved result for ./results/tabular/multiclass/results_transformer_mine_time_1_roc_auc_seeds_105_210_3.npy\n",
      "Loaded saved result for ./results/tabular/multiclass/results_transformer_mine_time_1_roc_auc_seeds_105_210_4.npy\n",
      "Loaded saved result for ./results/tabular/multiclass/results_transformer_mine_time_1_roc_auc_seeds_105_210_5.npy\n",
      "Loaded saved result for ./results/tabular/multiclass/results_transformer_mine_time_1_roc_auc_user-knowledge_201_402_1.npy\n",
      "Loaded saved result for ./results/tabular/multiclass/results_transformer_mine_time_1_roc_auc_user-knowledge_201_402_2.npy\n",
      "Loaded saved result for ./results/tabular/multiclass/results_transformer_mine_time_1_roc_auc_user-knowledge_201_402_3.npy\n",
      "Loaded saved result for ./results/tabular/multiclass/results_transformer_mine_time_1_roc_auc_user-knowledge_201_402_4.npy\n",
      "Loaded saved result for ./results/tabular/multiclass/results_transformer_mine_time_1_roc_auc_user-knowledge_201_402_5.npy\n",
      "Loaded saved result for ./results/tabular/multiclass/results_transformer_mine_time_1_roc_auc_heart-long-beach_100_200_1.npy\n",
      "Loaded saved result for ./results/tabular/multiclass/results_transformer_mine_time_1_roc_auc_heart-long-beach_100_200_2.npy\n",
      "Loaded saved result for ./results/tabular/multiclass/results_transformer_mine_time_1_roc_auc_heart-long-beach_100_200_3.npy\n",
      "Loaded saved result for ./results/tabular/multiclass/results_transformer_mine_time_1_roc_auc_heart-long-beach_100_200_4.npy\n",
      "Loaded saved result for ./results/tabular/multiclass/results_transformer_mine_time_1_roc_auc_heart-long-beach_100_200_5.npy\n",
      "Loaded saved result for ./results/tabular/multiclass/results_transformer_mine_time_1_roc_auc_robot-failures-lp5_82_164_1.npy\n",
      "Loaded saved result for ./results/tabular/multiclass/results_transformer_mine_time_1_roc_auc_robot-failures-lp5_82_164_2.npy\n",
      "Loaded saved result for ./results/tabular/multiclass/results_transformer_mine_time_1_roc_auc_robot-failures-lp5_82_164_3.npy\n",
      "Loaded saved result for ./results/tabular/multiclass/results_transformer_mine_time_1_roc_auc_robot-failures-lp5_82_164_4.npy\n",
      "Loaded saved result for ./results/tabular/multiclass/results_transformer_mine_time_1_roc_auc_robot-failures-lp5_82_164_5.npy\n",
      "Loaded saved result for ./results/tabular/multiclass/results_transformer_mine_time_1_roc_auc_vertebra-column_155_310_1.npy\n",
      "Loaded saved result for ./results/tabular/multiclass/results_transformer_mine_time_1_roc_auc_vertebra-column_155_310_2.npy\n",
      "Loaded saved result for ./results/tabular/multiclass/results_transformer_mine_time_1_roc_auc_vertebra-column_155_310_3.npy\n",
      "Loaded saved result for ./results/tabular/multiclass/results_transformer_mine_time_1_roc_auc_vertebra-column_155_310_4.npy\n",
      "Loaded saved result for ./results/tabular/multiclass/results_transformer_mine_time_1_roc_auc_vertebra-column_155_310_5.npy\n",
      "Loaded saved result for ./results/tabular/multiclass/results_transformer_mine_time_1_roc_auc_LED-display-domain-7digit_250_500_1.npy\n",
      "Loaded saved result for ./results/tabular/multiclass/results_transformer_mine_time_1_roc_auc_LED-display-domain-7digit_250_500_2.npy\n",
      "Loaded saved result for ./results/tabular/multiclass/results_transformer_mine_time_1_roc_auc_LED-display-domain-7digit_250_500_3.npy\n"
     ]
    },
    {
     "name": "stderr",
     "output_type": "stream",
     "text": [
      " 92%|█████████████████████████████████████████████████████████████████████████████████████████████████████████████████████████████████████████████████████████████████████████████████████████████████████████████████████████████████████████████████████████████████████████████████████████████████████████████████████▍                            | 293/320 [00:00<00:00, 385.65it/s]"
     ]
    },
    {
     "name": "stdout",
     "output_type": "stream",
     "text": [
      "Loaded saved result for ./results/tabular/multiclass/results_transformer_mine_time_1_roc_auc_LED-display-domain-7digit_250_500_4.npy\n",
      "Loaded saved result for ./results/tabular/multiclass/results_transformer_mine_time_1_roc_auc_LED-display-domain-7digit_250_500_5.npy\n",
      "Loaded saved result for ./results/tabular/multiclass/results_transformer_mine_time_1_roc_auc_thyroid-new_107_214_1.npy\n",
      "Loaded saved result for ./results/tabular/multiclass/results_transformer_mine_time_1_roc_auc_thyroid-new_107_214_2.npy\n",
      "Loaded saved result for ./results/tabular/multiclass/results_transformer_mine_time_1_roc_auc_thyroid-new_107_214_3.npy\n",
      "Loaded saved result for ./results/tabular/multiclass/results_transformer_mine_time_1_roc_auc_thyroid-new_107_214_4.npy\n",
      "Loaded saved result for ./results/tabular/multiclass/results_transformer_mine_time_1_roc_auc_thyroid-new_107_214_5.npy\n",
      "Loaded saved result for ./results/tabular/multiclass/results_transformer_mine_time_1_roc_auc_CPMP-2015-runtime-classification_263_526_1.npy\n",
      "Loaded saved result for ./results/tabular/multiclass/results_transformer_mine_time_1_roc_auc_CPMP-2015-runtime-classification_263_526_2.npy\n",
      "Loaded saved result for ./results/tabular/multiclass/results_transformer_mine_time_1_roc_auc_CPMP-2015-runtime-classification_263_526_3.npy\n",
      "Loaded saved result for ./results/tabular/multiclass/results_transformer_mine_time_1_roc_auc_CPMP-2015-runtime-classification_263_526_4.npy\n",
      "Loaded saved result for ./results/tabular/multiclass/results_transformer_mine_time_1_roc_auc_CPMP-2015-runtime-classification_263_526_5.npy\n",
      "Loaded saved result for ./results/tabular/multiclass/results_transformer_mine_time_1_roc_auc_TuningSVMs_78_156_1.npy\n",
      "Loaded saved result for ./results/tabular/multiclass/results_transformer_mine_time_1_roc_auc_TuningSVMs_78_156_2.npy\n",
      "Loaded saved result for ./results/tabular/multiclass/results_transformer_mine_time_1_roc_auc_TuningSVMs_78_156_3.npy\n",
      "Loaded saved result for ./results/tabular/multiclass/results_transformer_mine_time_1_roc_auc_TuningSVMs_78_156_4.npy\n",
      "Loaded saved result for ./results/tabular/multiclass/results_transformer_mine_time_1_roc_auc_TuningSVMs_78_156_5.npy\n",
      "Loaded saved result for ./results/tabular/multiclass/results_transformer_mine_time_1_roc_auc_iris-example_75_150_1.npy\n",
      "Loaded saved result for ./results/tabular/multiclass/results_transformer_mine_time_1_roc_auc_iris-example_75_150_2.npy\n",
      "Loaded saved result for ./results/tabular/multiclass/results_transformer_mine_time_1_roc_auc_iris-example_75_150_3.npy\n",
      "Loaded saved result for ./results/tabular/multiclass/results_transformer_mine_time_1_roc_auc_iris-example_75_150_4.npy\n",
      "Loaded saved result for ./results/tabular/multiclass/results_transformer_mine_time_1_roc_auc_iris-example_75_150_5.npy\n",
      "Loaded saved result for ./results/tabular/multiclass/results_transformer_mine_time_1_roc_auc_Touch2_132_264_1.npy\n",
      "Loaded saved result for ./results/tabular/multiclass/results_transformer_mine_time_1_roc_auc_Touch2_132_264_2.npy\n",
      "Loaded saved result for ./results/tabular/multiclass/results_transformer_mine_time_1_roc_auc_Touch2_132_264_3.npy\n"
     ]
    },
    {
     "name": "stderr",
     "output_type": "stream",
     "text": [
      "100%|██████████████████████████████████████████████████████████████████████████████████████████████████████████████████████████████████████████████████████████████████████████████████████████████████████████████████████████████████████████████████████████████████████████████████████████████████████████████████████████████████████████████████| 320/320 [00:00<00:00, 336.73it/s]\n"
     ]
    },
    {
     "name": "stdout",
     "output_type": "stream",
     "text": [
      "Loaded saved result for ./results/tabular/multiclass/results_transformer_mine_time_1_roc_auc_Touch2_132_264_4.npy\n",
      "Loaded saved result for ./results/tabular/multiclass/results_transformer_mine_time_1_roc_auc_Touch2_132_264_5.npy\n",
      "model_name  distill_tabpfn\n"
     ]
    },
    {
     "name": "stderr",
     "output_type": "stream",
     "text": [
      "  0%|                                                                                                                                                                                                                                                                                                                                                             | 0/320 [00:00<?, ?it/s]"
     ]
    },
    {
     "name": "stdout",
     "output_type": "stream",
     "text": [
      "Loaded saved result for ./results/tabular/multiclass/results_distill_tabpfn_time_1_roc_auc_sonar_104_208_1.npy\n",
      "Loaded saved result for ./results/tabular/multiclass/results_distill_tabpfn_time_1_roc_auc_sonar_104_208_2.npy\n",
      "Loaded saved result for ./results/tabular/multiclass/results_distill_tabpfn_time_1_roc_auc_sonar_104_208_3.npy\n",
      "Loaded saved result for ./results/tabular/multiclass/results_distill_tabpfn_time_1_roc_auc_sonar_104_208_4.npy\n",
      "Loaded saved result for ./results/tabular/multiclass/results_distill_tabpfn_time_1_roc_auc_sonar_104_208_5.npy\n",
      "Loaded saved result for ./results/tabular/multiclass/results_distill_tabpfn_time_1_roc_auc_glass_107_214_1.npy\n",
      "Loaded saved result for ./results/tabular/multiclass/results_distill_tabpfn_time_1_roc_auc_glass_107_214_2.npy\n",
      "Loaded saved result for ./results/tabular/multiclass/results_distill_tabpfn_time_1_roc_auc_glass_107_214_3.npy\n",
      "Loaded saved result for ./results/tabular/multiclass/results_distill_tabpfn_time_1_roc_auc_glass_107_214_4.npy\n",
      "Loaded saved result for ./results/tabular/multiclass/results_distill_tabpfn_time_1_roc_auc_glass_107_214_5.npy\n",
      "Loaded saved result for ./results/tabular/multiclass/results_distill_tabpfn_time_1_roc_auc_heart-statlog_135_270_1.npy\n",
      "Loaded saved result for ./results/tabular/multiclass/results_distill_tabpfn_time_1_roc_auc_heart-statlog_135_270_2.npy\n",
      "Loaded saved result for ./results/tabular/multiclass/results_distill_tabpfn_time_1_roc_auc_heart-statlog_135_270_3.npy\n",
      "Loaded saved result for ./results/tabular/multiclass/results_distill_tabpfn_time_1_roc_auc_heart-statlog_135_270_4.npy\n",
      "Loaded saved result for ./results/tabular/multiclass/results_distill_tabpfn_time_1_roc_auc_heart-statlog_135_270_5.npy\n",
      "Loaded saved result for ./results/tabular/multiclass/results_distill_tabpfn_time_1_roc_auc_ionosphere_175_350_1.npy\n",
      "Loaded saved result for ./results/tabular/multiclass/results_distill_tabpfn_time_1_roc_auc_ionosphere_175_350_2.npy\n",
      "Loaded saved result for ./results/tabular/multiclass/results_distill_tabpfn_time_1_roc_auc_ionosphere_175_350_3.npy\n",
      "Loaded saved result for ./results/tabular/multiclass/results_distill_tabpfn_time_1_roc_auc_ionosphere_175_350_4.npy\n",
      "Loaded saved result for ./results/tabular/multiclass/results_distill_tabpfn_time_1_roc_auc_ionosphere_175_350_5.npy\n",
      "Loaded saved result for ./results/tabular/multiclass/results_distill_tabpfn_time_1_roc_auc_iris_75_150_1.npy\n",
      "Loaded saved result for ./results/tabular/multiclass/results_distill_tabpfn_time_1_roc_auc_iris_75_150_2.npy\n",
      "Loaded saved result for ./results/tabular/multiclass/results_distill_tabpfn_time_1_roc_auc_iris_75_150_3.npy\n"
     ]
    },
    {
     "name": "stderr",
     "output_type": "stream",
     "text": [
      " 11%|████████████████████████████████████                                                                                                                                                                                                                                                                                                               | 34/320 [00:00<00:00, 331.92it/s]"
     ]
    },
    {
     "name": "stdout",
     "output_type": "stream",
     "text": [
      "Loaded saved result for ./results/tabular/multiclass/results_distill_tabpfn_time_1_roc_auc_iris_75_150_4.npy\n",
      "Loaded saved result for ./results/tabular/multiclass/results_distill_tabpfn_time_1_roc_auc_iris_75_150_5.npy\n",
      "Loaded saved result for ./results/tabular/multiclass/results_distill_tabpfn_time_1_roc_auc_wine_89_178_1.npy\n",
      "Loaded saved result for ./results/tabular/multiclass/results_distill_tabpfn_time_1_roc_auc_wine_89_178_2.npy\n",
      "Loaded saved result for ./results/tabular/multiclass/results_distill_tabpfn_time_1_roc_auc_wine_89_178_3.npy\n",
      "Loaded saved result for ./results/tabular/multiclass/results_distill_tabpfn_time_1_roc_auc_wine_89_178_4.npy\n",
      "Loaded saved result for ./results/tabular/multiclass/results_distill_tabpfn_time_1_roc_auc_wine_89_178_5.npy\n",
      "Loaded saved result for ./results/tabular/multiclass/results_distill_tabpfn_time_1_roc_auc_hayes-roth_80_160_1.npy\n",
      "Loaded saved result for ./results/tabular/multiclass/results_distill_tabpfn_time_1_roc_auc_hayes-roth_80_160_2.npy\n",
      "Loaded saved result for ./results/tabular/multiclass/results_distill_tabpfn_time_1_roc_auc_hayes-roth_80_160_3.npy\n",
      "Loaded saved result for ./results/tabular/multiclass/results_distill_tabpfn_time_1_roc_auc_hayes-roth_80_160_4.npy\n",
      "Loaded saved result for ./results/tabular/multiclass/results_distill_tabpfn_time_1_roc_auc_hayes-roth_80_160_5.npy\n",
      "Loaded saved result for ./results/tabular/multiclass/results_distill_tabpfn_time_1_roc_auc_SPECTF_174_348_1.npy\n",
      "Loaded saved result for ./results/tabular/multiclass/results_distill_tabpfn_time_1_roc_auc_SPECTF_174_348_2.npy\n",
      "Loaded saved result for ./results/tabular/multiclass/results_distill_tabpfn_time_1_roc_auc_SPECTF_174_348_3.npy\n",
      "Loaded saved result for ./results/tabular/multiclass/results_distill_tabpfn_time_1_roc_auc_SPECTF_174_348_4.npy\n",
      "Loaded saved result for ./results/tabular/multiclass/results_distill_tabpfn_time_1_roc_auc_SPECTF_174_348_5.npy\n",
      "Loaded saved result for ./results/tabular/multiclass/results_distill_tabpfn_time_1_roc_auc_synthetic_control_300_600_1.npy\n",
      "Loaded saved result for ./results/tabular/multiclass/results_distill_tabpfn_time_1_roc_auc_synthetic_control_300_600_2.npy\n",
      "Loaded saved result for ./results/tabular/multiclass/results_distill_tabpfn_time_1_roc_auc_synthetic_control_300_600_3.npy\n",
      "Loaded saved result for ./results/tabular/multiclass/results_distill_tabpfn_time_1_roc_auc_synthetic_control_300_600_4.npy\n",
      "Loaded saved result for ./results/tabular/multiclass/results_distill_tabpfn_time_1_roc_auc_synthetic_control_300_600_5.npy\n",
      "Loaded saved result for ./results/tabular/multiclass/results_distill_tabpfn_time_1_roc_auc_prnn_synth_125_250_1.npy\n",
      "Loaded saved result for ./results/tabular/multiclass/results_distill_tabpfn_time_1_roc_auc_prnn_synth_125_250_2.npy\n",
      "Loaded saved result for ./results/tabular/multiclass/results_distill_tabpfn_time_1_roc_auc_prnn_synth_125_250_3.npy\n",
      "Loaded saved result for ./results/tabular/multiclass/results_distill_tabpfn_time_1_roc_auc_prnn_synth_125_250_4.npy\n",
      "Loaded saved result for ./results/tabular/multiclass/results_distill_tabpfn_time_1_roc_auc_prnn_synth_125_250_5.npy\n",
      "Loaded saved result for ./results/tabular/multiclass/results_distill_tabpfn_time_1_roc_auc_rmftsa_sleepdata_512_1024_1.npy\n",
      "Loaded saved result for ./results/tabular/multiclass/results_distill_tabpfn_time_1_roc_auc_rmftsa_sleepdata_512_1024_2.npy\n",
      "Loaded saved result for ./results/tabular/multiclass/results_distill_tabpfn_time_1_roc_auc_rmftsa_sleepdata_512_1024_3.npy\n",
      "Loaded saved result for ./results/tabular/multiclass/results_distill_tabpfn_time_1_roc_auc_rmftsa_sleepdata_512_1024_4.npy\n",
      "Loaded saved result for ./results/tabular/multiclass/results_distill_tabpfn_time_1_roc_auc_rmftsa_sleepdata_512_1024_5.npy\n",
      "Loaded saved result for ./results/tabular/multiclass/results_distill_tabpfn_time_1_roc_auc_diggle_table_a2_155_310_1.npy\n",
      "Loaded saved result for ./results/tabular/multiclass/results_distill_tabpfn_time_1_roc_auc_diggle_table_a2_155_310_2.npy\n",
      "Loaded saved result for ./results/tabular/multiclass/results_distill_tabpfn_time_1_roc_auc_diggle_table_a2_155_310_3.npy\n",
      "Loaded saved result for ./results/tabular/multiclass/results_distill_tabpfn_time_1_roc_auc_diggle_table_a2_155_310_4.npy\n"
     ]
    },
    {
     "name": "stderr",
     "output_type": "stream",
     "text": [
      " 21%|████████████████████████████████████████████████████████████████████████                                                                                                                                                                                                                                                                           | 68/320 [00:00<00:01, 203.92it/s]"
     ]
    },
    {
     "name": "stdout",
     "output_type": "stream",
     "text": [
      "Loaded saved result for ./results/tabular/multiclass/results_distill_tabpfn_time_1_roc_auc_diggle_table_a2_155_310_5.npy\n",
      "Loaded saved result for ./results/tabular/multiclass/results_distill_tabpfn_time_1_roc_auc_rmftsa_ladata_254_508_1.npy\n",
      "Loaded saved result for ./results/tabular/multiclass/results_distill_tabpfn_time_1_roc_auc_rmftsa_ladata_254_508_2.npy\n",
      "Loaded saved result for ./results/tabular/multiclass/results_distill_tabpfn_time_1_roc_auc_rmftsa_ladata_254_508_3.npy\n",
      "Loaded saved result for ./results/tabular/multiclass/results_distill_tabpfn_time_1_roc_auc_rmftsa_ladata_254_508_4.npy\n",
      "Loaded saved result for ./results/tabular/multiclass/results_distill_tabpfn_time_1_roc_auc_rmftsa_ladata_254_508_5.npy\n",
      "Loaded saved result for ./results/tabular/multiclass/results_distill_tabpfn_time_1_roc_auc_pwLinear_100_200_1.npy\n",
      "Loaded saved result for ./results/tabular/multiclass/results_distill_tabpfn_time_1_roc_auc_pwLinear_100_200_2.npy\n",
      "Loaded saved result for ./results/tabular/multiclass/results_distill_tabpfn_time_1_roc_auc_pwLinear_100_200_3.npy\n",
      "Loaded saved result for ./results/tabular/multiclass/results_distill_tabpfn_time_1_roc_auc_pwLinear_100_200_4.npy\n",
      "Loaded saved result for ./results/tabular/multiclass/results_distill_tabpfn_time_1_roc_auc_pwLinear_100_200_5.npy\n",
      "Loaded saved result for ./results/tabular/multiclass/results_distill_tabpfn_time_1_roc_auc_machine_cpu_104_208_1.npy\n",
      "Loaded saved result for ./results/tabular/multiclass/results_distill_tabpfn_time_1_roc_auc_machine_cpu_104_208_2.npy\n",
      "Loaded saved result for ./results/tabular/multiclass/results_distill_tabpfn_time_1_roc_auc_machine_cpu_104_208_3.npy\n",
      "Loaded saved result for ./results/tabular/multiclass/results_distill_tabpfn_time_1_roc_auc_machine_cpu_104_208_4.npy\n",
      "Loaded saved result for ./results/tabular/multiclass/results_distill_tabpfn_time_1_roc_auc_machine_cpu_104_208_5.npy\n",
      "Loaded saved result for ./results/tabular/multiclass/results_distill_tabpfn_time_1_roc_auc_pm10_250_500_1.npy\n",
      "Loaded saved result for ./results/tabular/multiclass/results_distill_tabpfn_time_1_roc_auc_pm10_250_500_2.npy\n",
      "Loaded saved result for ./results/tabular/multiclass/results_distill_tabpfn_time_1_roc_auc_pm10_250_500_3.npy\n",
      "Loaded saved result for ./results/tabular/multiclass/results_distill_tabpfn_time_1_roc_auc_pm10_250_500_4.npy\n",
      "Loaded saved result for ./results/tabular/multiclass/results_distill_tabpfn_time_1_roc_auc_pm10_250_500_5.npy\n",
      "Loaded saved result for ./results/tabular/multiclass/results_distill_tabpfn_time_1_roc_auc_wisconsin_97_194_1.npy\n",
      "Loaded saved result for ./results/tabular/multiclass/results_distill_tabpfn_time_1_roc_auc_wisconsin_97_194_2.npy\n",
      "Loaded saved result for ./results/tabular/multiclass/results_distill_tabpfn_time_1_roc_auc_wisconsin_97_194_3.npy\n",
      "Loaded saved result for ./results/tabular/multiclass/results_distill_tabpfn_time_1_roc_auc_wisconsin_97_194_4.npy\n",
      "Loaded saved result for ./results/tabular/multiclass/results_distill_tabpfn_time_1_roc_auc_wisconsin_97_194_5.npy\n",
      "Loaded saved result for ./results/tabular/multiclass/results_distill_tabpfn_time_1_roc_auc_autoPrice_79_158_1.npy\n",
      "Loaded saved result for ./results/tabular/multiclass/results_distill_tabpfn_time_1_roc_auc_autoPrice_79_158_2.npy\n",
      "Loaded saved result for ./results/tabular/multiclass/results_distill_tabpfn_time_1_roc_auc_autoPrice_79_158_3.npy\n",
      "Loaded saved result for ./results/tabular/multiclass/results_distill_tabpfn_time_1_roc_auc_autoPrice_79_158_4.npy\n",
      "Loaded saved result for ./results/tabular/multiclass/results_distill_tabpfn_time_1_roc_auc_autoPrice_79_158_5.npy\n",
      "Loaded saved result for ./results/tabular/multiclass/results_distill_tabpfn_time_1_roc_auc_disclosure_x_bias_331_662_1.npy\n",
      "Loaded saved result for ./results/tabular/multiclass/results_distill_tabpfn_time_1_roc_auc_disclosure_x_bias_331_662_2.npy\n",
      "Loaded saved result for ./results/tabular/multiclass/results_distill_tabpfn_time_1_roc_auc_disclosure_x_bias_331_662_3.npy\n",
      "Loaded saved result for ./results/tabular/multiclass/results_distill_tabpfn_time_1_roc_auc_disclosure_x_bias_331_662_4.npy\n",
      "Loaded saved result for ./results/tabular/multiclass/results_distill_tabpfn_time_1_roc_auc_disclosure_x_bias_331_662_5.npy\n",
      "Loaded saved result for ./results/tabular/multiclass/results_distill_tabpfn_time_1_roc_auc_bodyfat_126_252_1.npy\n",
      "Loaded saved result for ./results/tabular/multiclass/results_distill_tabpfn_time_1_roc_auc_bodyfat_126_252_2.npy\n",
      "Loaded saved result for ./results/tabular/multiclass/results_distill_tabpfn_time_1_roc_auc_bodyfat_126_252_3.npy\n",
      "Loaded saved result for ./results/tabular/multiclass/results_distill_tabpfn_time_1_roc_auc_bodyfat_126_252_4.npy\n",
      "Loaded saved result for ./results/tabular/multiclass/results_distill_tabpfn_time_1_roc_auc_bodyfat_126_252_5.npy\n",
      "Loaded saved result for ./results/tabular/multiclass/results_distill_tabpfn_time_1_roc_auc_triazines_93_186_1.npy\n",
      "Loaded saved result for ./results/tabular/multiclass/results_distill_tabpfn_time_1_roc_auc_triazines_93_186_2.npy\n",
      "Loaded saved result for ./results/tabular/multiclass/results_distill_tabpfn_time_1_roc_auc_triazines_93_186_3.npy\n",
      "Loaded saved result for ./results/tabular/multiclass/results_distill_tabpfn_time_1_roc_auc_triazines_93_186_4.npy\n",
      "Loaded saved result for ./results/tabular/multiclass/results_distill_tabpfn_time_1_roc_auc_triazines_93_186_5.npy\n",
      "Loaded saved result for ./results/tabular/multiclass/results_distill_tabpfn_time_1_roc_auc_disclosure_x_tampered_331_662_1.npy\n",
      "Loaded saved result for ./results/tabular/multiclass/results_distill_tabpfn_time_1_roc_auc_disclosure_x_tampered_331_662_2.npy\n",
      "Loaded saved result for ./results/tabular/multiclass/results_distill_tabpfn_time_1_roc_auc_disclosure_x_tampered_331_662_3.npy\n",
      "Loaded saved result for ./results/tabular/multiclass/results_distill_tabpfn_time_1_roc_auc_disclosure_x_tampered_331_662_4.npy\n",
      "Loaded saved result for ./results/tabular/multiclass/results_distill_tabpfn_time_1_roc_auc_disclosure_x_tampered_331_662_5.npy\n",
      "Loaded saved result for ./results/tabular/multiclass/results_distill_tabpfn_time_1_roc_auc_chscase_funds_92_184_1.npy\n",
      "Loaded saved result for ./results/tabular/multiclass/results_distill_tabpfn_time_1_roc_auc_chscase_funds_92_184_2.npy\n",
      "Loaded saved result for ./results/tabular/multiclass/results_distill_tabpfn_time_1_roc_auc_chscase_funds_92_184_3.npy\n",
      "Loaded saved result for ./results/tabular/multiclass/results_distill_tabpfn_time_1_roc_auc_chscase_funds_92_184_4.npy\n",
      "Loaded saved result for ./results/tabular/multiclass/results_distill_tabpfn_time_1_roc_auc_chscase_funds_92_184_5.npy\n",
      "Loaded saved result for ./results/tabular/multiclass/results_distill_tabpfn_time_1_roc_auc_chscase_vine2_234_468_1.npy\n",
      "Loaded saved result for ./results/tabular/multiclass/results_distill_tabpfn_time_1_roc_auc_chscase_vine2_234_468_2.npy\n",
      "Loaded saved result for ./results/tabular/multiclass/results_distill_tabpfn_time_1_roc_auc_chscase_vine2_234_468_3.npy\n",
      "Loaded saved result for ./results/tabular/multiclass/results_distill_tabpfn_time_1_roc_auc_chscase_vine2_234_468_4.npy\n",
      "Loaded saved result for ./results/tabular/multiclass/results_distill_tabpfn_time_1_roc_auc_chscase_vine2_234_468_5.npy\n",
      "Loaded saved result for ./results/tabular/multiclass/results_distill_tabpfn_time_1_roc_auc_chatfield_4_117_234_1.npy\n",
      "Loaded saved result for ./results/tabular/multiclass/results_distill_tabpfn_time_1_roc_auc_chatfield_4_117_234_2.npy\n",
      "Loaded saved result for ./results/tabular/multiclass/results_distill_tabpfn_time_1_roc_auc_chatfield_4_117_234_3.npy\n",
      "Loaded saved result for ./results/tabular/multiclass/results_distill_tabpfn_time_1_roc_auc_chatfield_4_117_234_4.npy\n",
      "Loaded saved result for ./results/tabular/multiclass/results_distill_tabpfn_time_1_roc_auc_chatfield_4_117_234_5.npy\n",
      "Loaded saved result for ./results/tabular/multiclass/results_distill_tabpfn_time_1_roc_auc_disclosure_x_noise_331_662_1.npy\n",
      "Loaded saved result for ./results/tabular/multiclass/results_distill_tabpfn_time_1_roc_auc_disclosure_x_noise_331_662_2.npy\n",
      "Loaded saved result for ./results/tabular/multiclass/results_distill_tabpfn_time_1_roc_auc_disclosure_x_noise_331_662_3.npy\n",
      "Loaded saved result for ./results/tabular/multiclass/results_distill_tabpfn_time_1_roc_auc_disclosure_x_noise_331_662_4.npy\n",
      "Loaded saved result for ./results/tabular/multiclass/results_distill_tabpfn_time_1_roc_auc_disclosure_x_noise_331_662_5.npy\n",
      "Loaded saved result for ./results/tabular/multiclass/results_distill_tabpfn_time_1_roc_auc_stock_475_950_1.npy\n",
      "Loaded saved result for ./results/tabular/multiclass/results_distill_tabpfn_time_1_roc_auc_stock_475_950_2.npy\n",
      "Loaded saved result for ./results/tabular/multiclass/results_distill_tabpfn_time_1_roc_auc_stock_475_950_3.npy\n",
      "Loaded saved result for ./results/tabular/multiclass/results_distill_tabpfn_time_1_roc_auc_stock_475_950_4.npy\n",
      "Loaded saved result for ./results/tabular/multiclass/results_distill_tabpfn_time_1_roc_auc_stock_475_950_5.npy\n",
      "Loaded saved result for ./results/tabular/multiclass/results_distill_tabpfn_time_1_roc_auc_vinnie_190_380_1.npy\n",
      "Loaded saved result for ./results/tabular/multiclass/results_distill_tabpfn_time_1_roc_auc_vinnie_190_380_2.npy\n",
      "Loaded saved result for ./results/tabular/multiclass/results_distill_tabpfn_time_1_roc_auc_vinnie_190_380_3.npy\n",
      "Loaded saved result for ./results/tabular/multiclass/results_distill_tabpfn_time_1_roc_auc_vinnie_190_380_4.npy\n",
      "Loaded saved result for ./results/tabular/multiclass/results_distill_tabpfn_time_1_roc_auc_vinnie_190_380_5.npy\n",
      "Loaded saved result for ./results/tabular/multiclass/results_distill_tabpfn_time_1_roc_auc_mu284_142_284_1.npy\n",
      "Loaded saved result for ./results/tabular/multiclass/results_distill_tabpfn_time_1_roc_auc_mu284_142_284_2.npy\n",
      "Loaded saved result for ./results/tabular/multiclass/results_distill_tabpfn_time_1_roc_auc_mu284_142_284_3.npy\n",
      "Loaded saved result for ./results/tabular/multiclass/results_distill_tabpfn_time_1_roc_auc_mu284_142_284_4.npy\n",
      "Loaded saved result for ./results/tabular/multiclass/results_distill_tabpfn_time_1_roc_auc_mu284_142_284_5.npy\n",
      "Loaded saved result for ./results/tabular/multiclass/results_distill_tabpfn_time_1_roc_auc_no2_250_500_1.npy\n",
      "Loaded saved result for ./results/tabular/multiclass/results_distill_tabpfn_time_1_roc_auc_no2_250_500_2.npy\n",
      "Loaded saved result for ./results/tabular/multiclass/results_distill_tabpfn_time_1_roc_auc_no2_250_500_3.npy\n",
      "Loaded saved result for ./results/tabular/multiclass/results_distill_tabpfn_time_1_roc_auc_no2_250_500_4.npy\n"
     ]
    },
    {
     "name": "stderr",
     "output_type": "stream",
     "text": [
      " 47%|█████████████████████████████████████████████████████████████████████████████████████████████████████████████████████████████████████████████████████████████▍                                                                                                                                                                                    | 149/320 [00:00<00:00, 405.93it/s]"
     ]
    },
    {
     "name": "stdout",
     "output_type": "stream",
     "text": [
      "Loaded saved result for ./results/tabular/multiclass/results_distill_tabpfn_time_1_roc_auc_no2_250_500_5.npy\n",
      "Loaded saved result for ./results/tabular/multiclass/results_distill_tabpfn_time_1_roc_auc_chscase_geyser1_111_222_1.npy\n",
      "Loaded saved result for ./results/tabular/multiclass/results_distill_tabpfn_time_1_roc_auc_chscase_geyser1_111_222_2.npy\n",
      "Loaded saved result for ./results/tabular/multiclass/results_distill_tabpfn_time_1_roc_auc_chscase_geyser1_111_222_3.npy\n",
      "Loaded saved result for ./results/tabular/multiclass/results_distill_tabpfn_time_1_roc_auc_chscase_geyser1_111_222_4.npy\n",
      "Loaded saved result for ./results/tabular/multiclass/results_distill_tabpfn_time_1_roc_auc_chscase_geyser1_111_222_5.npy\n",
      "Loaded saved result for ./results/tabular/multiclass/results_distill_tabpfn_time_1_roc_auc_chscase_census6_200_400_1.npy\n",
      "Loaded saved result for ./results/tabular/multiclass/results_distill_tabpfn_time_1_roc_auc_chscase_census6_200_400_2.npy\n",
      "Loaded saved result for ./results/tabular/multiclass/results_distill_tabpfn_time_1_roc_auc_chscase_census6_200_400_3.npy\n",
      "Loaded saved result for ./results/tabular/multiclass/results_distill_tabpfn_time_1_roc_auc_chscase_census6_200_400_4.npy\n",
      "Loaded saved result for ./results/tabular/multiclass/results_distill_tabpfn_time_1_roc_auc_chscase_census6_200_400_5.npy\n",
      "Loaded saved result for ./results/tabular/multiclass/results_distill_tabpfn_time_1_roc_auc_chscase_census5_200_400_1.npy\n",
      "Loaded saved result for ./results/tabular/multiclass/results_distill_tabpfn_time_1_roc_auc_chscase_census5_200_400_2.npy\n",
      "Loaded saved result for ./results/tabular/multiclass/results_distill_tabpfn_time_1_roc_auc_chscase_census5_200_400_3.npy\n",
      "Loaded saved result for ./results/tabular/multiclass/results_distill_tabpfn_time_1_roc_auc_chscase_census5_200_400_4.npy\n",
      "Loaded saved result for ./results/tabular/multiclass/results_distill_tabpfn_time_1_roc_auc_chscase_census5_200_400_5.npy\n",
      "Loaded saved result for ./results/tabular/multiclass/results_distill_tabpfn_time_1_roc_auc_chscase_census4_200_400_1.npy\n",
      "Loaded saved result for ./results/tabular/multiclass/results_distill_tabpfn_time_1_roc_auc_chscase_census4_200_400_2.npy\n",
      "Loaded saved result for ./results/tabular/multiclass/results_distill_tabpfn_time_1_roc_auc_chscase_census4_200_400_3.npy\n",
      "Loaded saved result for ./results/tabular/multiclass/results_distill_tabpfn_time_1_roc_auc_chscase_census4_200_400_4.npy\n",
      "Loaded saved result for ./results/tabular/multiclass/results_distill_tabpfn_time_1_roc_auc_chscase_census4_200_400_5.npy\n",
      "Loaded saved result for ./results/tabular/multiclass/results_distill_tabpfn_time_1_roc_auc_chscase_census3_200_400_1.npy\n",
      "Loaded saved result for ./results/tabular/multiclass/results_distill_tabpfn_time_1_roc_auc_chscase_census3_200_400_2.npy\n",
      "Loaded saved result for ./results/tabular/multiclass/results_distill_tabpfn_time_1_roc_auc_chscase_census3_200_400_3.npy\n",
      "Loaded saved result for ./results/tabular/multiclass/results_distill_tabpfn_time_1_roc_auc_chscase_census3_200_400_4.npy\n",
      "Loaded saved result for ./results/tabular/multiclass/results_distill_tabpfn_time_1_roc_auc_chscase_census3_200_400_5.npy\n",
      "Loaded saved result for ./results/tabular/multiclass/results_distill_tabpfn_time_1_roc_auc_chscase_census2_200_400_1.npy\n",
      "Loaded saved result for ./results/tabular/multiclass/results_distill_tabpfn_time_1_roc_auc_chscase_census2_200_400_2.npy\n",
      "Loaded saved result for ./results/tabular/multiclass/results_distill_tabpfn_time_1_roc_auc_chscase_census2_200_400_3.npy\n",
      "Loaded saved result for ./results/tabular/multiclass/results_distill_tabpfn_time_1_roc_auc_chscase_census2_200_400_4.npy\n",
      "Loaded saved result for ./results/tabular/multiclass/results_distill_tabpfn_time_1_roc_auc_chscase_census2_200_400_5.npy\n",
      "Loaded saved result for ./results/tabular/multiclass/results_distill_tabpfn_time_1_roc_auc_visualizing_galaxy_161_322_1.npy\n",
      "Loaded saved result for ./results/tabular/multiclass/results_distill_tabpfn_time_1_roc_auc_visualizing_galaxy_161_322_2.npy\n",
      "Loaded saved result for ./results/tabular/multiclass/results_distill_tabpfn_time_1_roc_auc_visualizing_galaxy_161_322_3.npy\n",
      "Loaded saved result for ./results/tabular/multiclass/results_distill_tabpfn_time_1_roc_auc_visualizing_galaxy_161_322_4.npy\n",
      "Loaded saved result for ./results/tabular/multiclass/results_distill_tabpfn_time_1_roc_auc_visualizing_galaxy_161_322_5.npy\n",
      "Loaded saved result for ./results/tabular/multiclass/results_distill_tabpfn_time_1_roc_auc_disclosure_z_331_662_1.npy\n",
      "Loaded saved result for ./results/tabular/multiclass/results_distill_tabpfn_time_1_roc_auc_disclosure_z_331_662_2.npy\n",
      "Loaded saved result for ./results/tabular/multiclass/results_distill_tabpfn_time_1_roc_auc_disclosure_z_331_662_3.npy\n",
      "Loaded saved result for ./results/tabular/multiclass/results_distill_tabpfn_time_1_roc_auc_disclosure_z_331_662_4.npy\n",
      "Loaded saved result for ./results/tabular/multiclass/results_distill_tabpfn_time_1_roc_auc_disclosure_z_331_662_5.npy\n",
      "Loaded saved result for ./results/tabular/multiclass/results_distill_tabpfn_time_1_roc_auc_prnn_fglass_107_214_1.npy\n",
      "Loaded saved result for ./results/tabular/multiclass/results_distill_tabpfn_time_1_roc_auc_prnn_fglass_107_214_2.npy\n",
      "Loaded saved result for ./results/tabular/multiclass/results_distill_tabpfn_time_1_roc_auc_prnn_fglass_107_214_3.npy\n",
      "Loaded saved result for ./results/tabular/multiclass/results_distill_tabpfn_time_1_roc_auc_prnn_fglass_107_214_4.npy\n",
      "Loaded saved result for ./results/tabular/multiclass/results_distill_tabpfn_time_1_roc_auc_prnn_fglass_107_214_5.npy\n",
      "Loaded saved result for ./results/tabular/multiclass/results_distill_tabpfn_time_1_roc_auc_jEdit_4.2_4.3_184_368_1.npy\n",
      "Loaded saved result for ./results/tabular/multiclass/results_distill_tabpfn_time_1_roc_auc_jEdit_4.2_4.3_184_368_2.npy\n",
      "Loaded saved result for ./results/tabular/multiclass/results_distill_tabpfn_time_1_roc_auc_jEdit_4.2_4.3_184_368_3.npy\n",
      "Loaded saved result for ./results/tabular/multiclass/results_distill_tabpfn_time_1_roc_auc_jEdit_4.2_4.3_184_368_4.npy\n",
      "Loaded saved result for ./results/tabular/multiclass/results_distill_tabpfn_time_1_roc_auc_jEdit_4.2_4.3_184_368_5.npy\n",
      "Loaded saved result for ./results/tabular/multiclass/results_distill_tabpfn_time_1_roc_auc_mc2_80_160_1.npy\n",
      "Loaded saved result for ./results/tabular/multiclass/results_distill_tabpfn_time_1_roc_auc_mc2_80_160_2.npy\n",
      "Loaded saved result for ./results/tabular/multiclass/results_distill_tabpfn_time_1_roc_auc_mc2_80_160_3.npy\n",
      "Loaded saved result for ./results/tabular/multiclass/results_distill_tabpfn_time_1_roc_auc_mc2_80_160_4.npy\n",
      "Loaded saved result for ./results/tabular/multiclass/results_distill_tabpfn_time_1_roc_auc_mc2_80_160_5.npy\n",
      "Loaded saved result for ./results/tabular/multiclass/results_distill_tabpfn_time_1_roc_auc_mw1_201_402_1.npy\n"
     ]
    },
    {
     "name": "stderr",
     "output_type": "stream",
     "text": [
      " 72%|██████████████████████████████████████████████████████████████████████████████████████████████████████████████████████████████████████████████████████████████████████████████████████████████████████████████████████████████████████████████████▉                                                                                               | 230/320 [00:00<00:00, 536.28it/s]"
     ]
    },
    {
     "name": "stdout",
     "output_type": "stream",
     "text": [
      "Loaded saved result for ./results/tabular/multiclass/results_distill_tabpfn_time_1_roc_auc_mw1_201_402_2.npy\n",
      "Loaded saved result for ./results/tabular/multiclass/results_distill_tabpfn_time_1_roc_auc_mw1_201_402_3.npy\n",
      "Loaded saved result for ./results/tabular/multiclass/results_distill_tabpfn_time_1_roc_auc_mw1_201_402_4.npy\n",
      "Loaded saved result for ./results/tabular/multiclass/results_distill_tabpfn_time_1_roc_auc_mw1_201_402_5.npy\n",
      "Loaded saved result for ./results/tabular/multiclass/results_distill_tabpfn_time_1_roc_auc_jEdit_4.0_4.2_137_274_1.npy\n",
      "Loaded saved result for ./results/tabular/multiclass/results_distill_tabpfn_time_1_roc_auc_jEdit_4.0_4.2_137_274_2.npy\n",
      "Loaded saved result for ./results/tabular/multiclass/results_distill_tabpfn_time_1_roc_auc_jEdit_4.0_4.2_137_274_3.npy\n",
      "Loaded saved result for ./results/tabular/multiclass/results_distill_tabpfn_time_1_roc_auc_jEdit_4.0_4.2_137_274_4.npy\n",
      "Loaded saved result for ./results/tabular/multiclass/results_distill_tabpfn_time_1_roc_auc_jEdit_4.0_4.2_137_274_5.npy\n",
      "Loaded saved result for ./results/tabular/multiclass/results_distill_tabpfn_time_1_roc_auc_MegaWatt1_126_252_1.npy\n",
      "Loaded saved result for ./results/tabular/multiclass/results_distill_tabpfn_time_1_roc_auc_MegaWatt1_126_252_2.npy\n",
      "Loaded saved result for ./results/tabular/multiclass/results_distill_tabpfn_time_1_roc_auc_MegaWatt1_126_252_3.npy\n",
      "Loaded saved result for ./results/tabular/multiclass/results_distill_tabpfn_time_1_roc_auc_MegaWatt1_126_252_4.npy\n",
      "Loaded saved result for ./results/tabular/multiclass/results_distill_tabpfn_time_1_roc_auc_MegaWatt1_126_252_5.npy\n",
      "Loaded saved result for ./results/tabular/multiclass/results_distill_tabpfn_time_1_roc_auc_PizzaCutter1_330_660_1.npy\n",
      "Loaded saved result for ./results/tabular/multiclass/results_distill_tabpfn_time_1_roc_auc_PizzaCutter1_330_660_2.npy\n",
      "Loaded saved result for ./results/tabular/multiclass/results_distill_tabpfn_time_1_roc_auc_PizzaCutter1_330_660_3.npy\n",
      "Loaded saved result for ./results/tabular/multiclass/results_distill_tabpfn_time_1_roc_auc_PizzaCutter1_330_660_4.npy\n",
      "Loaded saved result for ./results/tabular/multiclass/results_distill_tabpfn_time_1_roc_auc_PizzaCutter1_330_660_5.npy\n",
      "Loaded saved result for ./results/tabular/multiclass/results_distill_tabpfn_time_1_roc_auc_PizzaCutter3_521_1042_1.npy\n",
      "Loaded saved result for ./results/tabular/multiclass/results_distill_tabpfn_time_1_roc_auc_PizzaCutter3_521_1042_2.npy\n",
      "Loaded saved result for ./results/tabular/multiclass/results_distill_tabpfn_time_1_roc_auc_PizzaCutter3_521_1042_3.npy\n",
      "Loaded saved result for ./results/tabular/multiclass/results_distill_tabpfn_time_1_roc_auc_PizzaCutter3_521_1042_4.npy\n",
      "Loaded saved result for ./results/tabular/multiclass/results_distill_tabpfn_time_1_roc_auc_PizzaCutter3_521_1042_5.npy\n",
      "Loaded saved result for ./results/tabular/multiclass/results_distill_tabpfn_time_1_roc_auc_CostaMadre1_148_296_1.npy\n",
      "Loaded saved result for ./results/tabular/multiclass/results_distill_tabpfn_time_1_roc_auc_CostaMadre1_148_296_2.npy\n",
      "Loaded saved result for ./results/tabular/multiclass/results_distill_tabpfn_time_1_roc_auc_CostaMadre1_148_296_3.npy\n",
      "Loaded saved result for ./results/tabular/multiclass/results_distill_tabpfn_time_1_roc_auc_CostaMadre1_148_296_4.npy\n",
      "Loaded saved result for ./results/tabular/multiclass/results_distill_tabpfn_time_1_roc_auc_CostaMadre1_148_296_5.npy\n",
      "Loaded saved result for ./results/tabular/multiclass/results_distill_tabpfn_time_1_roc_auc_CastMetal1_163_326_1.npy\n",
      "Loaded saved result for ./results/tabular/multiclass/results_distill_tabpfn_time_1_roc_auc_CastMetal1_163_326_2.npy\n",
      "Loaded saved result for ./results/tabular/multiclass/results_distill_tabpfn_time_1_roc_auc_CastMetal1_163_326_3.npy\n",
      "Loaded saved result for ./results/tabular/multiclass/results_distill_tabpfn_time_1_roc_auc_CastMetal1_163_326_4.npy\n",
      "Loaded saved result for ./results/tabular/multiclass/results_distill_tabpfn_time_1_roc_auc_CastMetal1_163_326_5.npy\n",
      "Loaded saved result for ./results/tabular/multiclass/results_distill_tabpfn_time_1_roc_auc_KnuggetChase3_97_194_1.npy\n",
      "Loaded saved result for ./results/tabular/multiclass/results_distill_tabpfn_time_1_roc_auc_KnuggetChase3_97_194_2.npy\n",
      "Loaded saved result for ./results/tabular/multiclass/results_distill_tabpfn_time_1_roc_auc_KnuggetChase3_97_194_3.npy\n",
      "Loaded saved result for ./results/tabular/multiclass/results_distill_tabpfn_time_1_roc_auc_KnuggetChase3_97_194_4.npy\n",
      "Loaded saved result for ./results/tabular/multiclass/results_distill_tabpfn_time_1_roc_auc_KnuggetChase3_97_194_5.npy\n",
      "Loaded saved result for ./results/tabular/multiclass/results_distill_tabpfn_time_1_roc_auc_PieChart1_352_704_1.npy\n",
      "Loaded saved result for ./results/tabular/multiclass/results_distill_tabpfn_time_1_roc_auc_PieChart1_352_704_2.npy\n",
      "Loaded saved result for ./results/tabular/multiclass/results_distill_tabpfn_time_1_roc_auc_PieChart1_352_704_3.npy\n",
      "Loaded saved result for ./results/tabular/multiclass/results_distill_tabpfn_time_1_roc_auc_PieChart1_352_704_4.npy\n",
      "Loaded saved result for ./results/tabular/multiclass/results_distill_tabpfn_time_1_roc_auc_PieChart1_352_704_5.npy\n",
      "Loaded saved result for ./results/tabular/multiclass/results_distill_tabpfn_time_1_roc_auc_PieChart3_538_1076_1.npy\n",
      "Loaded saved result for ./results/tabular/multiclass/results_distill_tabpfn_time_1_roc_auc_PieChart3_538_1076_2.npy\n",
      "Loaded saved result for ./results/tabular/multiclass/results_distill_tabpfn_time_1_roc_auc_PieChart3_538_1076_3.npy\n",
      "Loaded saved result for ./results/tabular/multiclass/results_distill_tabpfn_time_1_roc_auc_PieChart3_538_1076_4.npy\n",
      "Loaded saved result for ./results/tabular/multiclass/results_distill_tabpfn_time_1_roc_auc_PieChart3_538_1076_5.npy\n",
      "Loaded saved result for ./results/tabular/multiclass/results_distill_tabpfn_time_1_roc_auc_parkinsons_97_194_1.npy\n",
      "Loaded saved result for ./results/tabular/multiclass/results_distill_tabpfn_time_1_roc_auc_parkinsons_97_194_2.npy\n",
      "Loaded saved result for ./results/tabular/multiclass/results_distill_tabpfn_time_1_roc_auc_parkinsons_97_194_3.npy\n",
      "Loaded saved result for ./results/tabular/multiclass/results_distill_tabpfn_time_1_roc_auc_parkinsons_97_194_4.npy\n",
      "Loaded saved result for ./results/tabular/multiclass/results_distill_tabpfn_time_1_roc_auc_parkinsons_97_194_5.npy\n",
      "Loaded saved result for ./results/tabular/multiclass/results_distill_tabpfn_time_1_roc_auc_planning-relax_91_182_1.npy\n",
      "Loaded saved result for ./results/tabular/multiclass/results_distill_tabpfn_time_1_roc_auc_planning-relax_91_182_2.npy\n",
      "Loaded saved result for ./results/tabular/multiclass/results_distill_tabpfn_time_1_roc_auc_planning-relax_91_182_3.npy\n",
      "Loaded saved result for ./results/tabular/multiclass/results_distill_tabpfn_time_1_roc_auc_planning-relax_91_182_4.npy\n",
      "Loaded saved result for ./results/tabular/multiclass/results_distill_tabpfn_time_1_roc_auc_planning-relax_91_182_5.npy\n",
      "Loaded saved result for ./results/tabular/multiclass/results_distill_tabpfn_time_1_roc_auc_seeds_105_210_1.npy\n",
      "Loaded saved result for ./results/tabular/multiclass/results_distill_tabpfn_time_1_roc_auc_seeds_105_210_2.npy\n",
      "Loaded saved result for ./results/tabular/multiclass/results_distill_tabpfn_time_1_roc_auc_seeds_105_210_3.npy\n",
      "Loaded saved result for ./results/tabular/multiclass/results_distill_tabpfn_time_1_roc_auc_seeds_105_210_4.npy\n",
      "saved results to ./results/tabular/multiclass/results_distill_tabpfn_time_1_roc_auc_seeds_105_210_5.npy\n",
      "saved results to ./results/tabular/multiclass/results_distill_tabpfn_time_1_roc_auc_user-knowledge_201_402_1.npy\n",
      "saved results to ./results/tabular/multiclass/results_distill_tabpfn_time_1_roc_auc_user-knowledge_201_402_2.npy\n",
      "saved results to ./results/tabular/multiclass/results_distill_tabpfn_time_1_roc_auc_user-knowledge_201_402_3.npy\n",
      "saved results to ./results/tabular/multiclass/results_distill_tabpfn_time_1_roc_auc_user-knowledge_201_402_4.npy\n"
     ]
    },
    {
     "name": "stderr",
     "output_type": "stream",
     "text": [
      " 86%|███████████████████████████████████████████████████████████████████████████████████████████████████████████████████████████████████████████████████████████████████████████████████████████████████████████████████████████████████████████████████████████████████████████████████████████████████▎                                               | 275/320 [00:14<00:04, 11.20it/s]"
     ]
    },
    {
     "name": "stdout",
     "output_type": "stream",
     "text": [
      "saved results to ./results/tabular/multiclass/results_distill_tabpfn_time_1_roc_auc_user-knowledge_201_402_5.npy\n"
     ]
    },
    {
     "name": "stderr",
     "output_type": "stream",
     "text": [
      " 86%|████████████████████████████████████████████████████████████████████████████████████████████████████████████████████████████████████████████████████████████████████████████████████████████████████████████████████████████████████████████████████████████████████████████████████████████████████▍                                              | 276/320 [00:16<00:04,  9.59it/s]"
     ]
    },
    {
     "name": "stdout",
     "output_type": "stream",
     "text": [
      "saved results to ./results/tabular/multiclass/results_distill_tabpfn_time_1_roc_auc_heart-long-beach_100_200_1.npy\n",
      "saved results to ./results/tabular/multiclass/results_distill_tabpfn_time_1_roc_auc_heart-long-beach_100_200_2.npy\n",
      "saved results to ./results/tabular/multiclass/results_distill_tabpfn_time_1_roc_auc_heart-long-beach_100_200_3.npy\n",
      "saved results to ./results/tabular/multiclass/results_distill_tabpfn_time_1_roc_auc_heart-long-beach_100_200_4.npy\n",
      "saved results to ./results/tabular/multiclass/results_distill_tabpfn_time_1_roc_auc_heart-long-beach_100_200_5.npy\n",
      "saved results to ./results/tabular/multiclass/results_distill_tabpfn_time_1_roc_auc_robot-failures-lp5_82_164_1.npy\n",
      "saved results to ./results/tabular/multiclass/results_distill_tabpfn_time_1_roc_auc_robot-failures-lp5_82_164_2.npy\n",
      "saved results to ./results/tabular/multiclass/results_distill_tabpfn_time_1_roc_auc_robot-failures-lp5_82_164_3.npy\n",
      "saved results to ./results/tabular/multiclass/results_distill_tabpfn_time_1_roc_auc_robot-failures-lp5_82_164_4.npy\n",
      "saved results to ./results/tabular/multiclass/results_distill_tabpfn_time_1_roc_auc_robot-failures-lp5_82_164_5.npy\n"
     ]
    },
    {
     "name": "stderr",
     "output_type": "stream",
     "text": [
      " 89%|██████████████████████████████████████████████████████████████████████████████████████████████████████████████████████████████████████████████████████████████████████████████████████████████████████████████████████████████████████████████████████████████████████████████████████████████████████████████▉                                    | 286/320 [00:35<00:10,  3.28it/s]"
     ]
    },
    {
     "name": "stdout",
     "output_type": "stream",
     "text": [
      "saved results to ./results/tabular/multiclass/results_distill_tabpfn_time_1_roc_auc_vertebra-column_155_310_1.npy\n"
     ]
    },
    {
     "name": "stderr",
     "output_type": "stream",
     "text": [
      " 90%|████████████████████████████████████████████████████████████████████████████████████████████████████████████████████████████████████████████████████████████████████████████████████████████████████████████████████████████████████████████████████████████████████████████████████████████████████████████████                                   | 287/320 [00:37<00:10,  3.01it/s]"
     ]
    },
    {
     "name": "stdout",
     "output_type": "stream",
     "text": [
      "saved results to ./results/tabular/multiclass/results_distill_tabpfn_time_1_roc_auc_vertebra-column_155_310_2.npy\n",
      "saved results to ./results/tabular/multiclass/results_distill_tabpfn_time_1_roc_auc_vertebra-column_155_310_3.npy\n",
      "saved results to ./results/tabular/multiclass/results_distill_tabpfn_time_1_roc_auc_vertebra-column_155_310_4.npy\n",
      "saved results to ./results/tabular/multiclass/results_distill_tabpfn_time_1_roc_auc_vertebra-column_155_310_5.npy\n",
      "saved results to ./results/tabular/multiclass/results_distill_tabpfn_time_1_roc_auc_LED-display-domain-7digit_250_500_1.npy\n",
      "saved results to ./results/tabular/multiclass/results_distill_tabpfn_time_1_roc_auc_LED-display-domain-7digit_250_500_2.npy\n",
      "saved results to ./results/tabular/multiclass/results_distill_tabpfn_time_1_roc_auc_LED-display-domain-7digit_250_500_3.npy\n"
     ]
    },
    {
     "name": "stderr",
     "output_type": "stream",
     "text": [
      " 92%|███████████████████████████████████████████████████████████████████████████████████████████████████████████████████████████████████████████████████████████████████████████████████████████████████████████████████████████████████████████████████████████████████████████████████████████████████████████████████████▍                           | 294/320 [00:54<00:16,  1.60it/s]"
     ]
    },
    {
     "name": "stdout",
     "output_type": "stream",
     "text": [
      "saved results to ./results/tabular/multiclass/results_distill_tabpfn_time_1_roc_auc_LED-display-domain-7digit_250_500_4.npy\n"
     ]
    },
    {
     "name": "stderr",
     "output_type": "stream",
     "text": [
      " 92%|████████████████████████████████████████████████████████████████████████████████████████████████████████████████████████████████████████████████████████████████████████████████████████████████████████████████████████████████████████████████████████████████████████████████████████████████████████████████████████▌                          | 295/320 [00:57<00:16,  1.48it/s]"
     ]
    },
    {
     "name": "stdout",
     "output_type": "stream",
     "text": [
      "saved results to ./results/tabular/multiclass/results_distill_tabpfn_time_1_roc_auc_LED-display-domain-7digit_250_500_5.npy\n",
      "saved results to ./results/tabular/multiclass/results_distill_tabpfn_time_1_roc_auc_thyroid-new_107_214_1.npy\n",
      "saved results to ./results/tabular/multiclass/results_distill_tabpfn_time_1_roc_auc_thyroid-new_107_214_2.npy\n",
      "saved results to ./results/tabular/multiclass/results_distill_tabpfn_time_1_roc_auc_thyroid-new_107_214_3.npy\n",
      "saved results to ./results/tabular/multiclass/results_distill_tabpfn_time_1_roc_auc_thyroid-new_107_214_4.npy\n",
      "saved results to ./results/tabular/multiclass/results_distill_tabpfn_time_1_roc_auc_thyroid-new_107_214_5.npy\n",
      "saved results to ./results/tabular/multiclass/results_distill_tabpfn_time_1_roc_auc_CPMP-2015-runtime-classification_263_526_1.npy\n",
      "saved results to ./results/tabular/multiclass/results_distill_tabpfn_time_1_roc_auc_CPMP-2015-runtime-classification_263_526_2.npy\n"
     ]
    },
    {
     "name": "stderr",
     "output_type": "stream",
     "text": [
      " 95%|████████████████████████████████████████████████████████████████████████████████████████████████████████████████████████████████████████████████████████████████████████████████████████████████████████████████████████████████████████████████████████████████████████████████████████████████████████████████████████████████▉                  | 303/320 [01:14<00:17,  1.02s/it]"
     ]
    },
    {
     "name": "stdout",
     "output_type": "stream",
     "text": [
      "saved results to ./results/tabular/multiclass/results_distill_tabpfn_time_1_roc_auc_CPMP-2015-runtime-classification_263_526_3.npy\n"
     ]
    },
    {
     "name": "stderr",
     "output_type": "stream",
     "text": [
      " 95%|██████████████████████████████████████████████████████████████████████████████████████████████████████████████████████████████████████████████████████████████████████████████████████████████████████████████████████████████████████████████████████████████████████████████████████████████████████████████████████████████████                 | 304/320 [01:17<00:17,  1.08s/it]"
     ]
    },
    {
     "name": "stdout",
     "output_type": "stream",
     "text": [
      "saved results to ./results/tabular/multiclass/results_distill_tabpfn_time_1_roc_auc_CPMP-2015-runtime-classification_263_526_4.npy\n",
      "saved results to ./results/tabular/multiclass/results_distill_tabpfn_time_1_roc_auc_CPMP-2015-runtime-classification_263_526_5.npy\n",
      "saved results to ./results/tabular/multiclass/results_distill_tabpfn_time_1_roc_auc_TuningSVMs_78_156_1.npy\n",
      "saved results to ./results/tabular/multiclass/results_distill_tabpfn_time_1_roc_auc_TuningSVMs_78_156_2.npy\n",
      "saved results to ./results/tabular/multiclass/results_distill_tabpfn_time_1_roc_auc_TuningSVMs_78_156_3.npy\n",
      "saved results to ./results/tabular/multiclass/results_distill_tabpfn_time_1_roc_auc_TuningSVMs_78_156_4.npy\n",
      "saved results to ./results/tabular/multiclass/results_distill_tabpfn_time_1_roc_auc_TuningSVMs_78_156_5.npy\n",
      "saved results to ./results/tabular/multiclass/results_distill_tabpfn_time_1_roc_auc_iris-example_75_150_1.npy\n",
      "saved results to ./results/tabular/multiclass/results_distill_tabpfn_time_1_roc_auc_iris-example_75_150_2.npy\n"
     ]
    },
    {
     "name": "stderr",
     "output_type": "stream",
     "text": [
      " 98%|███████████████████████████████████████████████████████████████████████████████████████████████████████████████████████████████████████████████████████████████████████████████████████████████████████████████████████████████████████████████████████████████████████████████████████████████████████████████████████████████████████████▌       | 313/320 [01:34<00:09,  1.37s/it]"
     ]
    },
    {
     "name": "stdout",
     "output_type": "stream",
     "text": [
      "saved results to ./results/tabular/multiclass/results_distill_tabpfn_time_1_roc_auc_iris-example_75_150_3.npy\n"
     ]
    },
    {
     "name": "stderr",
     "output_type": "stream",
     "text": [
      " 98%|████████████████████████████████████████████████████████████████████████████████████████████████████████████████████████████████████████████████████████████████████████████████████████████████████████████████████████████████████████████████████████████████████████████████████████████████████████████████████████████████████████████▋      | 314/320 [01:36<00:08,  1.39s/it]"
     ]
    },
    {
     "name": "stdout",
     "output_type": "stream",
     "text": [
      "saved results to ./results/tabular/multiclass/results_distill_tabpfn_time_1_roc_auc_iris-example_75_150_4.npy\n",
      "saved results to ./results/tabular/multiclass/results_distill_tabpfn_time_1_roc_auc_iris-example_75_150_5.npy\n",
      "saved results to ./results/tabular/multiclass/results_distill_tabpfn_time_1_roc_auc_Touch2_132_264_1.npy\n",
      "saved results to ./results/tabular/multiclass/results_distill_tabpfn_time_1_roc_auc_Touch2_132_264_2.npy\n",
      "saved results to ./results/tabular/multiclass/results_distill_tabpfn_time_1_roc_auc_Touch2_132_264_3.npy\n",
      "saved results to ./results/tabular/multiclass/results_distill_tabpfn_time_1_roc_auc_Touch2_132_264_4.npy\n"
     ]
    },
    {
     "name": "stderr",
     "output_type": "stream",
     "text": [
      "100%|███████████████████████████████████████████████████████████████████████████████████████████████████████████████████████████████████████████████████████████████████████████████████████████████████████████████████████████████████████████████████████████████████████████████████████████████████████████████████████████████████████████████████| 320/320 [01:48<00:00,  2.96it/s]\n"
     ]
    },
    {
     "name": "stdout",
     "output_type": "stream",
     "text": [
      "saved results to ./results/tabular/multiclass/results_distill_tabpfn_time_1_roc_auc_Touch2_132_264_5.npy\n",
      "model_name  mother_net\n"
     ]
    },
    {
     "name": "stderr",
     "output_type": "stream",
     "text": [
      "  0%|                                                                                                                                                                                                                                                                                                                                                             | 0/320 [00:00<?, ?it/s]"
     ]
    },
    {
     "name": "stdout",
     "output_type": "stream",
     "text": [
      "predicted hidden layer size  128\n",
      "decoder output layer size  66954\n"
     ]
    },
    {
     "name": "stderr",
     "output_type": "stream",
     "text": [
      "  1%|██▏                                                                                                                                                                                                                                                                                                                                                  | 2/320 [00:01<03:25,  1.55it/s]"
     ]
    },
    {
     "name": "stdout",
     "output_type": "stream",
     "text": [
      "saved results to ./results/tabular/multiclass/results_mother_net_time_1_roc_auc_sonar_104_208_1.npy\n",
      "saved results to ./results/tabular/multiclass/results_mother_net_time_1_roc_auc_sonar_104_208_2.npy\n"
     ]
    },
    {
     "name": "stderr",
     "output_type": "stream",
     "text": [
      "  1%|████▎                                                                                                                                                                                                                                                                                                                                                | 4/320 [00:01<01:31,  3.45it/s]"
     ]
    },
    {
     "name": "stdout",
     "output_type": "stream",
     "text": [
      "saved results to ./results/tabular/multiclass/results_mother_net_time_1_roc_auc_sonar_104_208_3.npy\n",
      "saved results to ./results/tabular/multiclass/results_mother_net_time_1_roc_auc_sonar_104_208_4.npy\n"
     ]
    },
    {
     "name": "stderr",
     "output_type": "stream",
     "text": [
      "  2%|█████▎                                                                                                                                                                                                                                                                                                                                               | 5/320 [00:01<01:11,  4.40it/s]"
     ]
    },
    {
     "name": "stdout",
     "output_type": "stream",
     "text": [
      "saved results to ./results/tabular/multiclass/results_mother_net_time_1_roc_auc_sonar_104_208_5.npy\n"
     ]
    },
    {
     "name": "stderr",
     "output_type": "stream",
     "text": [
      "  2%|██████▍                                                                                                                                                                                                                                                                                                                                              | 6/320 [00:02<01:24,  3.73it/s]"
     ]
    },
    {
     "name": "stdout",
     "output_type": "stream",
     "text": [
      "saved results to ./results/tabular/multiclass/results_mother_net_time_1_roc_auc_glass_107_214_1.npy\n"
     ]
    },
    {
     "name": "stderr",
     "output_type": "stream",
     "text": [
      "  2%|███████▍                                                                                                                                                                                                                                                                                                                                             | 7/320 [00:02<01:36,  3.24it/s]"
     ]
    },
    {
     "name": "stdout",
     "output_type": "stream",
     "text": [
      "saved results to ./results/tabular/multiclass/results_mother_net_time_1_roc_auc_glass_107_214_2.npy\n"
     ]
    },
    {
     "name": "stderr",
     "output_type": "stream",
     "text": [
      "  2%|████████▌                                                                                                                                                                                                                                                                                                                                            | 8/320 [00:02<01:40,  3.12it/s]"
     ]
    },
    {
     "name": "stdout",
     "output_type": "stream",
     "text": [
      "saved results to ./results/tabular/multiclass/results_mother_net_time_1_roc_auc_glass_107_214_3.npy\n"
     ]
    },
    {
     "name": "stderr",
     "output_type": "stream",
     "text": [
      "  3%|█████████▌                                                                                                                                                                                                                                                                                                                                           | 9/320 [00:03<01:41,  3.05it/s]"
     ]
    },
    {
     "name": "stdout",
     "output_type": "stream",
     "text": [
      "saved results to ./results/tabular/multiclass/results_mother_net_time_1_roc_auc_glass_107_214_4.npy\n"
     ]
    },
    {
     "name": "stderr",
     "output_type": "stream",
     "text": [
      "  3%|███████████▋                                                                                                                                                                                                                                                                                                                                        | 11/320 [00:03<01:23,  3.70it/s]"
     ]
    },
    {
     "name": "stdout",
     "output_type": "stream",
     "text": [
      "saved results to ./results/tabular/multiclass/results_mother_net_time_1_roc_auc_glass_107_214_5.npy\n",
      "saved results to ./results/tabular/multiclass/results_mother_net_time_1_roc_auc_heart-statlog_135_270_1.npy\n"
     ]
    },
    {
     "name": "stderr",
     "output_type": "stream",
     "text": [
      "  4%|█████████████▊                                                                                                                                                                                                                                                                                                                                      | 13/320 [00:04<00:59,  5.20it/s]"
     ]
    },
    {
     "name": "stdout",
     "output_type": "stream",
     "text": [
      "saved results to ./results/tabular/multiclass/results_mother_net_time_1_roc_auc_heart-statlog_135_270_2.npy\n",
      "saved results to ./results/tabular/multiclass/results_mother_net_time_1_roc_auc_heart-statlog_135_270_3.npy\n"
     ]
    },
    {
     "name": "stderr",
     "output_type": "stream",
     "text": [
      "  5%|███████████████▉                                                                                                                                                                                                                                                                                                                                    | 15/320 [00:04<00:50,  6.04it/s]"
     ]
    },
    {
     "name": "stdout",
     "output_type": "stream",
     "text": [
      "saved results to ./results/tabular/multiclass/results_mother_net_time_1_roc_auc_heart-statlog_135_270_4.npy\n",
      "saved results to ./results/tabular/multiclass/results_mother_net_time_1_roc_auc_heart-statlog_135_270_5.npy\n"
     ]
    },
    {
     "name": "stderr",
     "output_type": "stream",
     "text": [
      "  5%|██████████████████                                                                                                                                                                                                                                                                                                                                  | 17/320 [00:04<00:44,  6.81it/s]"
     ]
    },
    {
     "name": "stdout",
     "output_type": "stream",
     "text": [
      "saved results to ./results/tabular/multiclass/results_mother_net_time_1_roc_auc_ionosphere_175_350_1.npy\n",
      "saved results to ./results/tabular/multiclass/results_mother_net_time_1_roc_auc_ionosphere_175_350_2.npy\n"
     ]
    },
    {
     "name": "stderr",
     "output_type": "stream",
     "text": [
      "  6%|████████████████████▏                                                                                                                                                                                                                                                                                                                               | 19/320 [00:04<00:41,  7.30it/s]"
     ]
    },
    {
     "name": "stdout",
     "output_type": "stream",
     "text": [
      "saved results to ./results/tabular/multiclass/results_mother_net_time_1_roc_auc_ionosphere_175_350_3.npy\n",
      "saved results to ./results/tabular/multiclass/results_mother_net_time_1_roc_auc_ionosphere_175_350_4.npy\n"
     ]
    },
    {
     "name": "stderr",
     "output_type": "stream",
     "text": [
      "  7%|██████████████████████▎                                                                                                                                                                                                                                                                                                                             | 21/320 [00:05<00:42,  7.09it/s]"
     ]
    },
    {
     "name": "stdout",
     "output_type": "stream",
     "text": [
      "saved results to ./results/tabular/multiclass/results_mother_net_time_1_roc_auc_ionosphere_175_350_5.npy\n",
      "saved results to ./results/tabular/multiclass/results_mother_net_time_1_roc_auc_iris_75_150_1.npy\n"
     ]
    },
    {
     "name": "stderr",
     "output_type": "stream",
     "text": [
      "  7%|████████████████████████▍                                                                                                                                                                                                                                                                                                                           | 23/320 [00:05<00:43,  6.75it/s]"
     ]
    },
    {
     "name": "stdout",
     "output_type": "stream",
     "text": [
      "saved results to ./results/tabular/multiclass/results_mother_net_time_1_roc_auc_iris_75_150_2.npy\n",
      "saved results to ./results/tabular/multiclass/results_mother_net_time_1_roc_auc_iris_75_150_3.npy\n"
     ]
    },
    {
     "name": "stderr",
     "output_type": "stream",
     "text": [
      "  8%|██████████████████████████▌                                                                                                                                                                                                                                                                                                                         | 25/320 [00:05<00:45,  6.52it/s]"
     ]
    },
    {
     "name": "stdout",
     "output_type": "stream",
     "text": [
      "saved results to ./results/tabular/multiclass/results_mother_net_time_1_roc_auc_iris_75_150_4.npy\n",
      "saved results to ./results/tabular/multiclass/results_mother_net_time_1_roc_auc_iris_75_150_5.npy\n"
     ]
    },
    {
     "name": "stderr",
     "output_type": "stream",
     "text": [
      "  8%|████████████████████████████▋                                                                                                                                                                                                                                                                                                                       | 27/320 [00:06<00:47,  6.23it/s]"
     ]
    },
    {
     "name": "stdout",
     "output_type": "stream",
     "text": [
      "saved results to ./results/tabular/multiclass/results_mother_net_time_1_roc_auc_wine_89_178_1.npy\n",
      "saved results to ./results/tabular/multiclass/results_mother_net_time_1_roc_auc_wine_89_178_2.npy\n"
     ]
    },
    {
     "name": "stderr",
     "output_type": "stream",
     "text": [
      "  9%|██████████████████████████████▊                                                                                                                                                                                                                                                                                                                     | 29/320 [00:06<00:48,  6.03it/s]"
     ]
    },
    {
     "name": "stdout",
     "output_type": "stream",
     "text": [
      "saved results to ./results/tabular/multiclass/results_mother_net_time_1_roc_auc_wine_89_178_3.npy\n",
      "saved results to ./results/tabular/multiclass/results_mother_net_time_1_roc_auc_wine_89_178_4.npy\n"
     ]
    },
    {
     "name": "stderr",
     "output_type": "stream",
     "text": [
      " 10%|████████████████████████████████▉                                                                                                                                                                                                                                                                                                                   | 31/320 [00:06<00:47,  6.12it/s]"
     ]
    },
    {
     "name": "stdout",
     "output_type": "stream",
     "text": [
      "saved results to ./results/tabular/multiclass/results_mother_net_time_1_roc_auc_wine_89_178_5.npy\n",
      "saved results to ./results/tabular/multiclass/results_mother_net_time_1_roc_auc_hayes-roth_80_160_1.npy\n"
     ]
    },
    {
     "name": "stderr",
     "output_type": "stream",
     "text": [
      " 10%|███████████████████████████████████                                                                                                                                                                                                                                                                                                                 | 33/320 [00:07<00:49,  5.79it/s]"
     ]
    },
    {
     "name": "stdout",
     "output_type": "stream",
     "text": [
      "saved results to ./results/tabular/multiclass/results_mother_net_time_1_roc_auc_hayes-roth_80_160_2.npy\n",
      "saved results to ./results/tabular/multiclass/results_mother_net_time_1_roc_auc_hayes-roth_80_160_3.npy\n"
     ]
    },
    {
     "name": "stderr",
     "output_type": "stream",
     "text": [
      " 11%|█████████████████████████████████████▏                                                                                                                                                                                                                                                                                                              | 35/320 [00:07<00:48,  5.87it/s]"
     ]
    },
    {
     "name": "stdout",
     "output_type": "stream",
     "text": [
      "saved results to ./results/tabular/multiclass/results_mother_net_time_1_roc_auc_hayes-roth_80_160_4.npy\n",
      "saved results to ./results/tabular/multiclass/results_mother_net_time_1_roc_auc_hayes-roth_80_160_5.npy\n"
     ]
    },
    {
     "name": "stderr",
     "output_type": "stream",
     "text": [
      " 12%|███████████████████████████████████████▎                                                                                                                                                                                                                                                                                                            | 37/320 [00:07<00:41,  6.74it/s]"
     ]
    },
    {
     "name": "stdout",
     "output_type": "stream",
     "text": [
      "saved results to ./results/tabular/multiclass/results_mother_net_time_1_roc_auc_SPECTF_174_348_1.npy\n",
      "saved results to ./results/tabular/multiclass/results_mother_net_time_1_roc_auc_SPECTF_174_348_2.npy\n"
     ]
    },
    {
     "name": "stderr",
     "output_type": "stream",
     "text": [
      " 12%|█████████████████████████████████████████▍                                                                                                                                                                                                                                                                                                          | 39/320 [00:07<00:38,  7.37it/s]"
     ]
    },
    {
     "name": "stdout",
     "output_type": "stream",
     "text": [
      "saved results to ./results/tabular/multiclass/results_mother_net_time_1_roc_auc_SPECTF_174_348_3.npy\n",
      "saved results to ./results/tabular/multiclass/results_mother_net_time_1_roc_auc_SPECTF_174_348_4.npy\n"
     ]
    },
    {
     "name": "stderr",
     "output_type": "stream",
     "text": [
      " 12%|██████████████████████████████████████████▌                                                                                                                                                                                                                                                                                                         | 40/320 [00:08<00:37,  7.56it/s]"
     ]
    },
    {
     "name": "stdout",
     "output_type": "stream",
     "text": [
      "saved results to ./results/tabular/multiclass/results_mother_net_time_1_roc_auc_SPECTF_174_348_5.npy\n"
     ]
    },
    {
     "name": "stderr",
     "output_type": "stream",
     "text": [
      " 13%|███████████████████████████████████████████▌                                                                                                                                                                                                                                                                                                        | 41/320 [00:08<01:03,  4.39it/s]"
     ]
    },
    {
     "name": "stdout",
     "output_type": "stream",
     "text": [
      "saved results to ./results/tabular/multiclass/results_mother_net_time_1_roc_auc_synthetic_control_300_600_1.npy\n"
     ]
    },
    {
     "name": "stderr",
     "output_type": "stream",
     "text": [
      " 13%|████████████████████████████████████████████▋                                                                                                                                                                                                                                                                                                       | 42/320 [00:09<01:25,  3.27it/s]"
     ]
    },
    {
     "name": "stdout",
     "output_type": "stream",
     "text": [
      "saved results to ./results/tabular/multiclass/results_mother_net_time_1_roc_auc_synthetic_control_300_600_2.npy\n"
     ]
    },
    {
     "name": "stderr",
     "output_type": "stream",
     "text": [
      " 13%|█████████████████████████████████████████████▋                                                                                                                                                                                                                                                                                                      | 43/320 [00:09<01:35,  2.89it/s]"
     ]
    },
    {
     "name": "stdout",
     "output_type": "stream",
     "text": [
      "saved results to ./results/tabular/multiclass/results_mother_net_time_1_roc_auc_synthetic_control_300_600_3.npy\n"
     ]
    },
    {
     "name": "stderr",
     "output_type": "stream",
     "text": [
      " 14%|██████████████████████████████████████████████▊                                                                                                                                                                                                                                                                                                     | 44/320 [00:09<01:42,  2.69it/s]"
     ]
    },
    {
     "name": "stdout",
     "output_type": "stream",
     "text": [
      "saved results to ./results/tabular/multiclass/results_mother_net_time_1_roc_auc_synthetic_control_300_600_4.npy\n"
     ]
    },
    {
     "name": "stderr",
     "output_type": "stream",
     "text": [
      " 14%|████████████████████████████████████████████████▊                                                                                                                                                                                                                                                                                                   | 46/320 [00:10<01:25,  3.20it/s]"
     ]
    },
    {
     "name": "stdout",
     "output_type": "stream",
     "text": [
      "saved results to ./results/tabular/multiclass/results_mother_net_time_1_roc_auc_synthetic_control_300_600_5.npy\n",
      "saved results to ./results/tabular/multiclass/results_mother_net_time_1_roc_auc_prnn_synth_125_250_1.npy\n"
     ]
    },
    {
     "name": "stderr",
     "output_type": "stream",
     "text": [
      " 15%|███████████████████████████████████████████████████                                                                                                                                                                                                                                                                                                 | 48/320 [00:10<01:04,  4.19it/s]"
     ]
    },
    {
     "name": "stdout",
     "output_type": "stream",
     "text": [
      "saved results to ./results/tabular/multiclass/results_mother_net_time_1_roc_auc_prnn_synth_125_250_2.npy\n",
      "saved results to ./results/tabular/multiclass/results_mother_net_time_1_roc_auc_prnn_synth_125_250_3.npy\n"
     ]
    },
    {
     "name": "stderr",
     "output_type": "stream",
     "text": [
      " 16%|█████████████████████████████████████████████████████▏                                                                                                                                                                                                                                                                                              | 50/320 [00:11<00:52,  5.14it/s]"
     ]
    },
    {
     "name": "stdout",
     "output_type": "stream",
     "text": [
      "saved results to ./results/tabular/multiclass/results_mother_net_time_1_roc_auc_prnn_synth_125_250_4.npy\n",
      "saved results to ./results/tabular/multiclass/results_mother_net_time_1_roc_auc_prnn_synth_125_250_5.npy\n"
     ]
    },
    {
     "name": "stderr",
     "output_type": "stream",
     "text": [
      " 16%|██████████████████████████████████████████████████████▏                                                                                                                                                                                                                                                                                             | 51/320 [00:11<01:09,  3.87it/s]"
     ]
    },
    {
     "name": "stdout",
     "output_type": "stream",
     "text": [
      "saved results to ./results/tabular/multiclass/results_mother_net_time_1_roc_auc_rmftsa_sleepdata_512_1024_1.npy\n"
     ]
    },
    {
     "name": "stderr",
     "output_type": "stream",
     "text": [
      " 16%|███████████████████████████████████████████████████████▎                                                                                                                                                                                                                                                                                            | 52/320 [00:11<01:20,  3.32it/s]"
     ]
    },
    {
     "name": "stdout",
     "output_type": "stream",
     "text": [
      "saved results to ./results/tabular/multiclass/results_mother_net_time_1_roc_auc_rmftsa_sleepdata_512_1024_2.npy\n"
     ]
    },
    {
     "name": "stderr",
     "output_type": "stream",
     "text": [
      " 17%|████████████████████████████████████████████████████████▎                                                                                                                                                                                                                                                                                           | 53/320 [00:12<01:31,  2.93it/s]"
     ]
    },
    {
     "name": "stdout",
     "output_type": "stream",
     "text": [
      "saved results to ./results/tabular/multiclass/results_mother_net_time_1_roc_auc_rmftsa_sleepdata_512_1024_3.npy\n"
     ]
    },
    {
     "name": "stderr",
     "output_type": "stream",
     "text": [
      " 17%|█████████████████████████████████████████████████████████▍                                                                                                                                                                                                                                                                                          | 54/320 [00:12<01:29,  2.97it/s]"
     ]
    },
    {
     "name": "stdout",
     "output_type": "stream",
     "text": [
      "saved results to ./results/tabular/multiclass/results_mother_net_time_1_roc_auc_rmftsa_sleepdata_512_1024_4.npy\n"
     ]
    },
    {
     "name": "stderr",
     "output_type": "stream",
     "text": [
      " 17%|██████████████████████████████████████████████████████████▍                                                                                                                                                                                                                                                                                         | 55/320 [00:12<01:28,  3.01it/s]"
     ]
    },
    {
     "name": "stdout",
     "output_type": "stream",
     "text": [
      "saved results to ./results/tabular/multiclass/results_mother_net_time_1_roc_auc_rmftsa_sleepdata_512_1024_5.npy\n"
     ]
    },
    {
     "name": "stderr",
     "output_type": "stream",
     "text": [
      " 18%|███████████████████████████████████████████████████████████▍                                                                                                                                                                                                                                                                                        | 56/320 [00:13<01:55,  2.28it/s]"
     ]
    },
    {
     "name": "stdout",
     "output_type": "stream",
     "text": [
      "saved results to ./results/tabular/multiclass/results_mother_net_time_1_roc_auc_diggle_table_a2_155_310_1.npy\n"
     ]
    },
    {
     "name": "stderr",
     "output_type": "stream",
     "text": [
      " 18%|████████████████████████████████████████████████████████████▌                                                                                                                                                                                                                                                                                       | 57/320 [00:14<02:25,  1.81it/s]"
     ]
    },
    {
     "name": "stdout",
     "output_type": "stream",
     "text": [
      "saved results to ./results/tabular/multiclass/results_mother_net_time_1_roc_auc_diggle_table_a2_155_310_2.npy\n"
     ]
    },
    {
     "name": "stderr",
     "output_type": "stream",
     "text": [
      " 18%|█████████████████████████████████████████████████████████████▋                                                                                                                                                                                                                                                                                      | 58/320 [00:15<02:37,  1.66it/s]"
     ]
    },
    {
     "name": "stdout",
     "output_type": "stream",
     "text": [
      "saved results to ./results/tabular/multiclass/results_mother_net_time_1_roc_auc_diggle_table_a2_155_310_3.npy\n"
     ]
    },
    {
     "name": "stderr",
     "output_type": "stream",
     "text": [
      " 18%|██████████████████████████████████████████████████████████████▋                                                                                                                                                                                                                                                                                     | 59/320 [00:15<02:50,  1.53it/s]"
     ]
    },
    {
     "name": "stdout",
     "output_type": "stream",
     "text": [
      "saved results to ./results/tabular/multiclass/results_mother_net_time_1_roc_auc_diggle_table_a2_155_310_4.npy\n"
     ]
    },
    {
     "name": "stderr",
     "output_type": "stream",
     "text": [
      " 19%|███████████████████████████████████████████████████████████████▊                                                                                                                                                                                                                                                                                    | 60/320 [00:16<02:56,  1.47it/s]"
     ]
    },
    {
     "name": "stdout",
     "output_type": "stream",
     "text": [
      "saved results to ./results/tabular/multiclass/results_mother_net_time_1_roc_auc_diggle_table_a2_155_310_5.npy\n"
     ]
    },
    {
     "name": "stderr",
     "output_type": "stream",
     "text": [
      " 19%|█████████████████████████████████████████████████████████████████▉                                                                                                                                                                                                                                                                                  | 62/320 [00:17<01:51,  2.32it/s]"
     ]
    },
    {
     "name": "stdout",
     "output_type": "stream",
     "text": [
      "saved results to ./results/tabular/multiclass/results_mother_net_time_1_roc_auc_rmftsa_ladata_254_508_1.npy\n",
      "saved results to ./results/tabular/multiclass/results_mother_net_time_1_roc_auc_rmftsa_ladata_254_508_2.npy\n"
     ]
    },
    {
     "name": "stderr",
     "output_type": "stream",
     "text": [
      " 20%|████████████████████████████████████████████████████████████████████                                                                                                                                                                                                                                                                                | 64/320 [00:17<01:17,  3.29it/s]"
     ]
    },
    {
     "name": "stdout",
     "output_type": "stream",
     "text": [
      "saved results to ./results/tabular/multiclass/results_mother_net_time_1_roc_auc_rmftsa_ladata_254_508_3.npy\n",
      "saved results to ./results/tabular/multiclass/results_mother_net_time_1_roc_auc_rmftsa_ladata_254_508_4.npy\n"
     ]
    },
    {
     "name": "stderr",
     "output_type": "stream",
     "text": [
      " 21%|██████████████████████████████████████████████████████████████████████▏                                                                                                                                                                                                                                                                             | 66/320 [00:17<00:58,  4.32it/s]"
     ]
    },
    {
     "name": "stdout",
     "output_type": "stream",
     "text": [
      "saved results to ./results/tabular/multiclass/results_mother_net_time_1_roc_auc_rmftsa_ladata_254_508_5.npy\n",
      "saved results to ./results/tabular/multiclass/results_mother_net_time_1_roc_auc_pwLinear_100_200_1.npy\n"
     ]
    },
    {
     "name": "stderr",
     "output_type": "stream",
     "text": [
      " 21%|████████████████████████████████████████████████████████████████████████▎                                                                                                                                                                                                                                                                           | 68/320 [00:18<00:47,  5.30it/s]"
     ]
    },
    {
     "name": "stdout",
     "output_type": "stream",
     "text": [
      "saved results to ./results/tabular/multiclass/results_mother_net_time_1_roc_auc_pwLinear_100_200_2.npy\n",
      "saved results to ./results/tabular/multiclass/results_mother_net_time_1_roc_auc_pwLinear_100_200_3.npy\n"
     ]
    },
    {
     "name": "stderr",
     "output_type": "stream",
     "text": [
      " 22%|██████████████████████████████████████████████████████████████████████████▍                                                                                                                                                                                                                                                                         | 70/320 [00:18<00:43,  5.70it/s]"
     ]
    },
    {
     "name": "stdout",
     "output_type": "stream",
     "text": [
      "saved results to ./results/tabular/multiclass/results_mother_net_time_1_roc_auc_pwLinear_100_200_4.npy\n",
      "saved results to ./results/tabular/multiclass/results_mother_net_time_1_roc_auc_pwLinear_100_200_5.npy\n"
     ]
    },
    {
     "name": "stderr",
     "output_type": "stream",
     "text": [
      " 22%|████████████████████████████████████████████████████████████████████████████▌                                                                                                                                                                                                                                                                       | 72/320 [00:18<00:40,  6.18it/s]"
     ]
    },
    {
     "name": "stdout",
     "output_type": "stream",
     "text": [
      "saved results to ./results/tabular/multiclass/results_mother_net_time_1_roc_auc_machine_cpu_104_208_1.npy\n",
      "saved results to ./results/tabular/multiclass/results_mother_net_time_1_roc_auc_machine_cpu_104_208_2.npy\n"
     ]
    },
    {
     "name": "stderr",
     "output_type": "stream",
     "text": [
      " 23%|██████████████████████████████████████████████████████████████████████████████▋                                                                                                                                                                                                                                                                     | 74/320 [00:19<00:37,  6.53it/s]"
     ]
    },
    {
     "name": "stdout",
     "output_type": "stream",
     "text": [
      "saved results to ./results/tabular/multiclass/results_mother_net_time_1_roc_auc_machine_cpu_104_208_3.npy\n",
      "saved results to ./results/tabular/multiclass/results_mother_net_time_1_roc_auc_machine_cpu_104_208_4.npy\n"
     ]
    },
    {
     "name": "stderr",
     "output_type": "stream",
     "text": [
      " 24%|████████████████████████████████████████████████████████████████████████████████▊                                                                                                                                                                                                                                                                   | 76/320 [00:19<00:37,  6.46it/s]"
     ]
    },
    {
     "name": "stdout",
     "output_type": "stream",
     "text": [
      "saved results to ./results/tabular/multiclass/results_mother_net_time_1_roc_auc_machine_cpu_104_208_5.npy\n",
      "saved results to ./results/tabular/multiclass/results_mother_net_time_1_roc_auc_pm10_250_500_1.npy\n"
     ]
    },
    {
     "name": "stderr",
     "output_type": "stream",
     "text": [
      " 24%|██████████████████████████████████████████████████████████████████████████████████▉                                                                                                                                                                                                                                                                 | 78/320 [00:19<00:39,  6.13it/s]"
     ]
    },
    {
     "name": "stdout",
     "output_type": "stream",
     "text": [
      "saved results to ./results/tabular/multiclass/results_mother_net_time_1_roc_auc_pm10_250_500_2.npy\n",
      "saved results to ./results/tabular/multiclass/results_mother_net_time_1_roc_auc_pm10_250_500_3.npy\n"
     ]
    },
    {
     "name": "stderr",
     "output_type": "stream",
     "text": [
      " 25%|█████████████████████████████████████████████████████████████████████████████████████                                                                                                                                                                                                                                                               | 80/320 [00:20<00:43,  5.58it/s]"
     ]
    },
    {
     "name": "stdout",
     "output_type": "stream",
     "text": [
      "saved results to ./results/tabular/multiclass/results_mother_net_time_1_roc_auc_pm10_250_500_4.npy\n",
      "saved results to ./results/tabular/multiclass/results_mother_net_time_1_roc_auc_pm10_250_500_5.npy\n"
     ]
    },
    {
     "name": "stderr",
     "output_type": "stream",
     "text": [
      " 26%|███████████████████████████████████████████████████████████████████████████████████████                                                                                                                                                                                                                                                             | 82/320 [00:20<00:38,  6.24it/s]"
     ]
    },
    {
     "name": "stdout",
     "output_type": "stream",
     "text": [
      "saved results to ./results/tabular/multiclass/results_mother_net_time_1_roc_auc_wisconsin_97_194_1.npy\n",
      "saved results to ./results/tabular/multiclass/results_mother_net_time_1_roc_auc_wisconsin_97_194_2.npy\n"
     ]
    },
    {
     "name": "stderr",
     "output_type": "stream",
     "text": [
      " 26%|█████████████████████████████████████████████████████████████████████████████████████████▎                                                                                                                                                                                                                                                          | 84/320 [00:20<00:36,  6.55it/s]"
     ]
    },
    {
     "name": "stdout",
     "output_type": "stream",
     "text": [
      "saved results to ./results/tabular/multiclass/results_mother_net_time_1_roc_auc_wisconsin_97_194_3.npy\n",
      "saved results to ./results/tabular/multiclass/results_mother_net_time_1_roc_auc_wisconsin_97_194_4.npy\n"
     ]
    },
    {
     "name": "stderr",
     "output_type": "stream",
     "text": [
      " 27%|███████████████████████████████████████████████████████████████████████████████████████████▍                                                                                                                                                                                                                                                        | 86/320 [00:20<00:34,  6.78it/s]"
     ]
    },
    {
     "name": "stdout",
     "output_type": "stream",
     "text": [
      "saved results to ./results/tabular/multiclass/results_mother_net_time_1_roc_auc_wisconsin_97_194_5.npy\n",
      "saved results to ./results/tabular/multiclass/results_mother_net_time_1_roc_auc_autoPrice_79_158_1.npy\n"
     ]
    },
    {
     "name": "stderr",
     "output_type": "stream",
     "text": [
      " 28%|█████████████████████████████████████████████████████████████████████████████████████████████▌                                                                                                                                                                                                                                                      | 88/320 [00:21<00:33,  6.93it/s]"
     ]
    },
    {
     "name": "stdout",
     "output_type": "stream",
     "text": [
      "saved results to ./results/tabular/multiclass/results_mother_net_time_1_roc_auc_autoPrice_79_158_2.npy\n",
      "saved results to ./results/tabular/multiclass/results_mother_net_time_1_roc_auc_autoPrice_79_158_3.npy\n"
     ]
    },
    {
     "name": "stderr",
     "output_type": "stream",
     "text": [
      " 28%|███████████████████████████████████████████████████████████████████████████████████████████████▋                                                                                                                                                                                                                                                    | 90/320 [00:21<00:32,  7.02it/s]"
     ]
    },
    {
     "name": "stdout",
     "output_type": "stream",
     "text": [
      "saved results to ./results/tabular/multiclass/results_mother_net_time_1_roc_auc_autoPrice_79_158_4.npy\n",
      "saved results to ./results/tabular/multiclass/results_mother_net_time_1_roc_auc_autoPrice_79_158_5.npy\n"
     ]
    },
    {
     "name": "stderr",
     "output_type": "stream",
     "text": [
      " 29%|█████████████████████████████████████████████████████████████████████████████████████████████████▋                                                                                                                                                                                                                                                  | 92/320 [00:21<00:38,  5.96it/s]"
     ]
    },
    {
     "name": "stdout",
     "output_type": "stream",
     "text": [
      "saved results to ./results/tabular/multiclass/results_mother_net_time_1_roc_auc_disclosure_x_bias_331_662_1.npy\n",
      "saved results to ./results/tabular/multiclass/results_mother_net_time_1_roc_auc_disclosure_x_bias_331_662_2.npy\n"
     ]
    },
    {
     "name": "stderr",
     "output_type": "stream",
     "text": [
      " 29%|███████████████████████████████████████████████████████████████████████████████████████████████████▉                                                                                                                                                                                                                                                | 94/320 [00:22<00:37,  6.08it/s]"
     ]
    },
    {
     "name": "stdout",
     "output_type": "stream",
     "text": [
      "saved results to ./results/tabular/multiclass/results_mother_net_time_1_roc_auc_disclosure_x_bias_331_662_3.npy\n",
      "saved results to ./results/tabular/multiclass/results_mother_net_time_1_roc_auc_disclosure_x_bias_331_662_4.npy\n"
     ]
    },
    {
     "name": "stderr",
     "output_type": "stream",
     "text": [
      " 30%|██████████████████████████████████████████████████████████████████████████████████████████████████████                                                                                                                                                                                                                                              | 96/320 [00:22<00:37,  6.02it/s]"
     ]
    },
    {
     "name": "stdout",
     "output_type": "stream",
     "text": [
      "saved results to ./results/tabular/multiclass/results_mother_net_time_1_roc_auc_disclosure_x_bias_331_662_5.npy\n",
      "saved results to ./results/tabular/multiclass/results_mother_net_time_1_roc_auc_bodyfat_126_252_1.npy\n"
     ]
    },
    {
     "name": "stderr",
     "output_type": "stream",
     "text": [
      " 31%|████████████████████████████████████████████████████████████████████████████████████████████████████████▏                                                                                                                                                                                                                                           | 98/320 [00:22<00:35,  6.29it/s]"
     ]
    },
    {
     "name": "stdout",
     "output_type": "stream",
     "text": [
      "saved results to ./results/tabular/multiclass/results_mother_net_time_1_roc_auc_bodyfat_126_252_2.npy\n",
      "saved results to ./results/tabular/multiclass/results_mother_net_time_1_roc_auc_bodyfat_126_252_3.npy\n"
     ]
    },
    {
     "name": "stderr",
     "output_type": "stream",
     "text": [
      " 31%|█████████████████████████████████████████████████████████████████████████████████████████████████████████▉                                                                                                                                                                                                                                         | 100/320 [00:23<00:35,  6.26it/s]"
     ]
    },
    {
     "name": "stdout",
     "output_type": "stream",
     "text": [
      "saved results to ./results/tabular/multiclass/results_mother_net_time_1_roc_auc_bodyfat_126_252_4.npy\n",
      "saved results to ./results/tabular/multiclass/results_mother_net_time_1_roc_auc_bodyfat_126_252_5.npy\n"
     ]
    },
    {
     "name": "stderr",
     "output_type": "stream",
     "text": [
      " 32%|████████████████████████████████████████████████████████████████████████████████████████████████████████████                                                                                                                                                                                                                                       | 102/320 [00:23<00:33,  6.59it/s]"
     ]
    },
    {
     "name": "stdout",
     "output_type": "stream",
     "text": [
      "saved results to ./results/tabular/multiclass/results_mother_net_time_1_roc_auc_triazines_93_186_1.npy\n",
      "saved results to ./results/tabular/multiclass/results_mother_net_time_1_roc_auc_triazines_93_186_2.npy\n"
     ]
    },
    {
     "name": "stderr",
     "output_type": "stream",
     "text": [
      " 32%|██████████████████████████████████████████████████████████████████████████████████████████████████████████████▏                                                                                                                                                                                                                                    | 104/320 [00:23<00:32,  6.75it/s]"
     ]
    },
    {
     "name": "stdout",
     "output_type": "stream",
     "text": [
      "saved results to ./results/tabular/multiclass/results_mother_net_time_1_roc_auc_triazines_93_186_3.npy\n",
      "saved results to ./results/tabular/multiclass/results_mother_net_time_1_roc_auc_triazines_93_186_4.npy\n"
     ]
    },
    {
     "name": "stderr",
     "output_type": "stream",
     "text": [
      " 33%|███████████████████████████████████████████████████████████████████████████████████████████████████████████████▏                                                                                                                                                                                                                                   | 105/320 [00:23<00:31,  6.78it/s]"
     ]
    },
    {
     "name": "stdout",
     "output_type": "stream",
     "text": [
      "saved results to ./results/tabular/multiclass/results_mother_net_time_1_roc_auc_triazines_93_186_5.npy\n"
     ]
    },
    {
     "name": "stderr",
     "output_type": "stream",
     "text": [
      " 33%|████████████████████████████████████████████████████████████████████████████████████████████████████████████████▎                                                                                                                                                                                                                                  | 106/320 [00:24<00:40,  5.27it/s]"
     ]
    },
    {
     "name": "stdout",
     "output_type": "stream",
     "text": [
      "saved results to ./results/tabular/multiclass/results_mother_net_time_1_roc_auc_disclosure_x_tampered_331_662_1.npy\n"
     ]
    },
    {
     "name": "stderr",
     "output_type": "stream",
     "text": [
      " 34%|██████████████████████████████████████████████████████████████████████████████████████████████████████████████████▍                                                                                                                                                                                                                                | 108/320 [00:24<00:41,  5.13it/s]"
     ]
    },
    {
     "name": "stdout",
     "output_type": "stream",
     "text": [
      "saved results to ./results/tabular/multiclass/results_mother_net_time_1_roc_auc_disclosure_x_tampered_331_662_2.npy\n",
      "saved results to ./results/tabular/multiclass/results_mother_net_time_1_roc_auc_disclosure_x_tampered_331_662_3.npy\n"
     ]
    },
    {
     "name": "stderr",
     "output_type": "stream",
     "text": [
      " 34%|████████████████████████████████████████████████████████████████████████████████████████████████████████████████████▌                                                                                                                                                                                                                              | 110/320 [00:24<00:39,  5.34it/s]"
     ]
    },
    {
     "name": "stdout",
     "output_type": "stream",
     "text": [
      "saved results to ./results/tabular/multiclass/results_mother_net_time_1_roc_auc_disclosure_x_tampered_331_662_4.npy\n",
      "saved results to ./results/tabular/multiclass/results_mother_net_time_1_roc_auc_disclosure_x_tampered_331_662_5.npy\n"
     ]
    },
    {
     "name": "stderr",
     "output_type": "stream",
     "text": [
      " 35%|██████████████████████████████████████████████████████████████████████████████████████████████████████████████████████▋                                                                                                                                                                                                                            | 112/320 [00:25<00:33,  6.24it/s]"
     ]
    },
    {
     "name": "stdout",
     "output_type": "stream",
     "text": [
      "saved results to ./results/tabular/multiclass/results_mother_net_time_1_roc_auc_chscase_funds_92_184_1.npy\n",
      "saved results to ./results/tabular/multiclass/results_mother_net_time_1_roc_auc_chscase_funds_92_184_2.npy\n"
     ]
    },
    {
     "name": "stderr",
     "output_type": "stream",
     "text": [
      " 36%|████████████████████████████████████████████████████████████████████████████████████████████████████████████████████████▊                                                                                                                                                                                                                          | 114/320 [00:25<00:29,  6.91it/s]"
     ]
    },
    {
     "name": "stdout",
     "output_type": "stream",
     "text": [
      "saved results to ./results/tabular/multiclass/results_mother_net_time_1_roc_auc_chscase_funds_92_184_3.npy\n",
      "saved results to ./results/tabular/multiclass/results_mother_net_time_1_roc_auc_chscase_funds_92_184_4.npy\n"
     ]
    },
    {
     "name": "stderr",
     "output_type": "stream",
     "text": [
      " 36%|██████████████████████████████████████████████████████████████████████████████████████████████████████████████████████████▉                                                                                                                                                                                                                        | 116/320 [00:25<00:29,  6.81it/s]"
     ]
    },
    {
     "name": "stdout",
     "output_type": "stream",
     "text": [
      "saved results to ./results/tabular/multiclass/results_mother_net_time_1_roc_auc_chscase_funds_92_184_5.npy\n",
      "saved results to ./results/tabular/multiclass/results_mother_net_time_1_roc_auc_chscase_vine2_234_468_1.npy\n"
     ]
    },
    {
     "name": "stderr",
     "output_type": "stream",
     "text": [
      " 37%|█████████████████████████████████████████████████████████████████████████████████████████████████████████████████████████████                                                                                                                                                                                                                      | 118/320 [00:26<00:30,  6.67it/s]"
     ]
    },
    {
     "name": "stdout",
     "output_type": "stream",
     "text": [
      "saved results to ./results/tabular/multiclass/results_mother_net_time_1_roc_auc_chscase_vine2_234_468_2.npy\n",
      "saved results to ./results/tabular/multiclass/results_mother_net_time_1_roc_auc_chscase_vine2_234_468_3.npy\n"
     ]
    },
    {
     "name": "stderr",
     "output_type": "stream",
     "text": [
      " 38%|███████████████████████████████████████████████████████████████████████████████████████████████████████████████████████████████▏                                                                                                                                                                                                                   | 120/320 [00:26<00:32,  6.07it/s]"
     ]
    },
    {
     "name": "stdout",
     "output_type": "stream",
     "text": [
      "saved results to ./results/tabular/multiclass/results_mother_net_time_1_roc_auc_chscase_vine2_234_468_4.npy\n",
      "saved results to ./results/tabular/multiclass/results_mother_net_time_1_roc_auc_chscase_vine2_234_468_5.npy\n"
     ]
    },
    {
     "name": "stderr",
     "output_type": "stream",
     "text": [
      " 38%|█████████████████████████████████████████████████████████████████████████████████████████████████████████████████████████████████▏                                                                                                                                                                                                                 | 122/320 [00:26<00:29,  6.71it/s]"
     ]
    },
    {
     "name": "stdout",
     "output_type": "stream",
     "text": [
      "saved results to ./results/tabular/multiclass/results_mother_net_time_1_roc_auc_chatfield_4_117_234_1.npy\n",
      "saved results to ./results/tabular/multiclass/results_mother_net_time_1_roc_auc_chatfield_4_117_234_2.npy\n"
     ]
    },
    {
     "name": "stderr",
     "output_type": "stream",
     "text": [
      " 39%|███████████████████████████████████████████████████████████████████████████████████████████████████████████████████████████████████▎                                                                                                                                                                                                               | 124/320 [00:26<00:27,  7.08it/s]"
     ]
    },
    {
     "name": "stdout",
     "output_type": "stream",
     "text": [
      "saved results to ./results/tabular/multiclass/results_mother_net_time_1_roc_auc_chatfield_4_117_234_3.npy\n",
      "saved results to ./results/tabular/multiclass/results_mother_net_time_1_roc_auc_chatfield_4_117_234_4.npy\n"
     ]
    },
    {
     "name": "stderr",
     "output_type": "stream",
     "text": [
      " 39%|█████████████████████████████████████████████████████████████████████████████████████████████████████████████████████████████████████▍                                                                                                                                                                                                             | 126/320 [00:27<00:30,  6.27it/s]"
     ]
    },
    {
     "name": "stdout",
     "output_type": "stream",
     "text": [
      "saved results to ./results/tabular/multiclass/results_mother_net_time_1_roc_auc_chatfield_4_117_234_5.npy\n",
      "saved results to ./results/tabular/multiclass/results_mother_net_time_1_roc_auc_disclosure_x_noise_331_662_1.npy\n"
     ]
    },
    {
     "name": "stderr",
     "output_type": "stream",
     "text": [
      " 40%|███████████████████████████████████████████████████████████████████████████████████████████████████████████████████████████████████████▌                                                                                                                                                                                                           | 128/320 [00:27<00:31,  6.18it/s]"
     ]
    },
    {
     "name": "stdout",
     "output_type": "stream",
     "text": [
      "saved results to ./results/tabular/multiclass/results_mother_net_time_1_roc_auc_disclosure_x_noise_331_662_2.npy\n",
      "saved results to ./results/tabular/multiclass/results_mother_net_time_1_roc_auc_disclosure_x_noise_331_662_3.npy\n"
     ]
    },
    {
     "name": "stderr",
     "output_type": "stream",
     "text": [
      " 40%|████████████████████████████████████████████████████████████████████████████████████████████████████████████████████████████████████████▋                                                                                                                                                                                                          | 129/320 [00:27<00:31,  6.12it/s]"
     ]
    },
    {
     "name": "stdout",
     "output_type": "stream",
     "text": [
      "saved results to ./results/tabular/multiclass/results_mother_net_time_1_roc_auc_disclosure_x_noise_331_662_4.npy\n"
     ]
    },
    {
     "name": "stderr",
     "output_type": "stream",
     "text": [
      " 41%|██████████████████████████████████████████████████████████████████████████████████████████████████████████████████████████████████████████▊                                                                                                                                                                                                        | 131/320 [00:28<00:34,  5.46it/s]"
     ]
    },
    {
     "name": "stdout",
     "output_type": "stream",
     "text": [
      "saved results to ./results/tabular/multiclass/results_mother_net_time_1_roc_auc_disclosure_x_noise_331_662_5.npy\n",
      "saved results to ./results/tabular/multiclass/results_mother_net_time_1_roc_auc_stock_475_950_1.npy\n"
     ]
    },
    {
     "name": "stderr",
     "output_type": "stream",
     "text": [
      " 42%|████████████████████████████████████████████████████████████████████████████████████████████████████████████████████████████████████████████▉                                                                                                                                                                                                      | 133/320 [00:28<00:34,  5.41it/s]"
     ]
    },
    {
     "name": "stdout",
     "output_type": "stream",
     "text": [
      "saved results to ./results/tabular/multiclass/results_mother_net_time_1_roc_auc_stock_475_950_2.npy\n",
      "saved results to ./results/tabular/multiclass/results_mother_net_time_1_roc_auc_stock_475_950_3.npy\n"
     ]
    },
    {
     "name": "stderr",
     "output_type": "stream",
     "text": [
      " 42%|███████████████████████████████████████████████████████████████████████████████████████████████████████████████████████████████████████████████                                                                                                                                                                                                    | 135/320 [00:28<00:33,  5.45it/s]"
     ]
    },
    {
     "name": "stdout",
     "output_type": "stream",
     "text": [
      "saved results to ./results/tabular/multiclass/results_mother_net_time_1_roc_auc_stock_475_950_4.npy\n",
      "saved results to ./results/tabular/multiclass/results_mother_net_time_1_roc_auc_stock_475_950_5.npy\n"
     ]
    },
    {
     "name": "stderr",
     "output_type": "stream",
     "text": [
      " 43%|█████████████████████████████████████████████████████████████████████████████████████████████████████████████████████████████████████████████████▏                                                                                                                                                                                                 | 137/320 [00:29<00:30,  5.91it/s]"
     ]
    },
    {
     "name": "stdout",
     "output_type": "stream",
     "text": [
      "saved results to ./results/tabular/multiclass/results_mother_net_time_1_roc_auc_vinnie_190_380_1.npy\n",
      "saved results to ./results/tabular/multiclass/results_mother_net_time_1_roc_auc_vinnie_190_380_2.npy\n"
     ]
    },
    {
     "name": "stderr",
     "output_type": "stream",
     "text": [
      " 43%|███████████████████████████████████████████████████████████████████████████████████████████████████████████████████████████████████████████████████▎                                                                                                                                                                                               | 139/320 [00:29<00:29,  6.16it/s]"
     ]
    },
    {
     "name": "stdout",
     "output_type": "stream",
     "text": [
      "saved results to ./results/tabular/multiclass/results_mother_net_time_1_roc_auc_vinnie_190_380_3.npy\n",
      "saved results to ./results/tabular/multiclass/results_mother_net_time_1_roc_auc_vinnie_190_380_4.npy\n"
     ]
    },
    {
     "name": "stderr",
     "output_type": "stream",
     "text": [
      " 44%|█████████████████████████████████████████████████████████████████████████████████████████████████████████████████████████████████████████████████████▎                                                                                                                                                                                             | 141/320 [00:29<00:25,  7.09it/s]"
     ]
    },
    {
     "name": "stdout",
     "output_type": "stream",
     "text": [
      "saved results to ./results/tabular/multiclass/results_mother_net_time_1_roc_auc_vinnie_190_380_5.npy\n",
      "saved results to ./results/tabular/multiclass/results_mother_net_time_1_roc_auc_mu284_142_284_1.npy\n"
     ]
    },
    {
     "name": "stderr",
     "output_type": "stream",
     "text": [
      " 45%|███████████████████████████████████████████████████████████████████████████████████████████████████████████████████████████████████████████████████████▍                                                                                                                                                                                           | 143/320 [00:30<00:23,  7.50it/s]"
     ]
    },
    {
     "name": "stdout",
     "output_type": "stream",
     "text": [
      "saved results to ./results/tabular/multiclass/results_mother_net_time_1_roc_auc_mu284_142_284_2.npy\n",
      "saved results to ./results/tabular/multiclass/results_mother_net_time_1_roc_auc_mu284_142_284_3.npy\n"
     ]
    },
    {
     "name": "stderr",
     "output_type": "stream",
     "text": [
      " 45%|█████████████████████████████████████████████████████████████████████████████████████████████████████████████████████████████████████████████████████████▌                                                                                                                                                                                         | 145/320 [00:30<00:22,  7.88it/s]"
     ]
    },
    {
     "name": "stdout",
     "output_type": "stream",
     "text": [
      "saved results to ./results/tabular/multiclass/results_mother_net_time_1_roc_auc_mu284_142_284_4.npy\n",
      "saved results to ./results/tabular/multiclass/results_mother_net_time_1_roc_auc_mu284_142_284_5.npy\n"
     ]
    },
    {
     "name": "stderr",
     "output_type": "stream",
     "text": [
      " 46%|███████████████████████████████████████████████████████████████████████████████████████████████████████████████████████████████████████████████████████████▋                                                                                                                                                                                       | 147/320 [00:30<00:27,  6.25it/s]"
     ]
    },
    {
     "name": "stdout",
     "output_type": "stream",
     "text": [
      "saved results to ./results/tabular/multiclass/results_mother_net_time_1_roc_auc_no2_250_500_1.npy\n",
      "saved results to ./results/tabular/multiclass/results_mother_net_time_1_roc_auc_no2_250_500_2.npy\n"
     ]
    },
    {
     "name": "stderr",
     "output_type": "stream",
     "text": [
      " 47%|█████████████████████████████████████████████████████████████████████████████████████████████████████████████████████████████████████████████████████████████▊                                                                                                                                                                                     | 149/320 [00:31<00:26,  6.34it/s]"
     ]
    },
    {
     "name": "stdout",
     "output_type": "stream",
     "text": [
      "saved results to ./results/tabular/multiclass/results_mother_net_time_1_roc_auc_no2_250_500_3.npy\n",
      "saved results to ./results/tabular/multiclass/results_mother_net_time_1_roc_auc_no2_250_500_4.npy\n"
     ]
    },
    {
     "name": "stderr",
     "output_type": "stream",
     "text": [
      " 47%|███████████████████████████████████████████████████████████████████████████████████████████████████████████████████████████████████████████████████████████████▉                                                                                                                                                                                   | 151/320 [00:31<00:24,  6.87it/s]"
     ]
    },
    {
     "name": "stdout",
     "output_type": "stream",
     "text": [
      "saved results to ./results/tabular/multiclass/results_mother_net_time_1_roc_auc_no2_250_500_5.npy\n",
      "saved results to ./results/tabular/multiclass/results_mother_net_time_1_roc_auc_chscase_geyser1_111_222_1.npy\n"
     ]
    },
    {
     "name": "stderr",
     "output_type": "stream",
     "text": [
      " 48%|██████████████████████████████████████████████████████████████████████████████████████████████████████████████████████████████████████████████████████████████████                                                                                                                                                                                 | 153/320 [00:31<00:22,  7.57it/s]"
     ]
    },
    {
     "name": "stdout",
     "output_type": "stream",
     "text": [
      "saved results to ./results/tabular/multiclass/results_mother_net_time_1_roc_auc_chscase_geyser1_111_222_2.npy\n",
      "saved results to ./results/tabular/multiclass/results_mother_net_time_1_roc_auc_chscase_geyser1_111_222_3.npy\n"
     ]
    },
    {
     "name": "stderr",
     "output_type": "stream",
     "text": [
      " 48%|████████████████████████████████████████████████████████████████████████████████████████████████████████████████████████████████████████████████████████████████████▏                                                                                                                                                                              | 155/320 [00:31<00:21,  7.82it/s]"
     ]
    },
    {
     "name": "stdout",
     "output_type": "stream",
     "text": [
      "saved results to ./results/tabular/multiclass/results_mother_net_time_1_roc_auc_chscase_geyser1_111_222_4.npy\n",
      "saved results to ./results/tabular/multiclass/results_mother_net_time_1_roc_auc_chscase_geyser1_111_222_5.npy\n"
     ]
    },
    {
     "name": "stderr",
     "output_type": "stream",
     "text": [
      " 49%|██████████████████████████████████████████████████████████████████████████████████████████████████████████████████████████████████████████████████████████████████████▎                                                                                                                                                                            | 157/320 [00:32<00:21,  7.49it/s]"
     ]
    },
    {
     "name": "stdout",
     "output_type": "stream",
     "text": [
      "saved results to ./results/tabular/multiclass/results_mother_net_time_1_roc_auc_chscase_census6_200_400_1.npy\n",
      "saved results to ./results/tabular/multiclass/results_mother_net_time_1_roc_auc_chscase_census6_200_400_2.npy\n"
     ]
    },
    {
     "name": "stderr",
     "output_type": "stream",
     "text": [
      " 50%|████████████████████████████████████████████████████████████████████████████████████████████████████████████████████████████████████████████████████████████████████████▍                                                                                                                                                                          | 159/320 [00:32<00:21,  7.41it/s]"
     ]
    },
    {
     "name": "stdout",
     "output_type": "stream",
     "text": [
      "saved results to ./results/tabular/multiclass/results_mother_net_time_1_roc_auc_chscase_census6_200_400_3.npy\n",
      "saved results to ./results/tabular/multiclass/results_mother_net_time_1_roc_auc_chscase_census6_200_400_4.npy\n"
     ]
    },
    {
     "name": "stderr",
     "output_type": "stream",
     "text": [
      " 50%|██████████████████████████████████████████████████████████████████████████████████████████████████████████████████████████████████████████████████████████████████████████▌                                                                                                                                                                        | 161/320 [00:32<00:22,  7.09it/s]"
     ]
    },
    {
     "name": "stdout",
     "output_type": "stream",
     "text": [
      "saved results to ./results/tabular/multiclass/results_mother_net_time_1_roc_auc_chscase_census6_200_400_5.npy\n",
      "saved results to ./results/tabular/multiclass/results_mother_net_time_1_roc_auc_chscase_census5_200_400_1.npy\n"
     ]
    },
    {
     "name": "stderr",
     "output_type": "stream",
     "text": [
      " 51%|████████████████████████████████████████████████████████████████████████████████████████████████████████████████████████████████████████████████████████████████████████████▋                                                                                                                                                                      | 163/320 [00:32<00:21,  7.42it/s]"
     ]
    },
    {
     "name": "stdout",
     "output_type": "stream",
     "text": [
      "saved results to ./results/tabular/multiclass/results_mother_net_time_1_roc_auc_chscase_census5_200_400_2.npy\n",
      "saved results to ./results/tabular/multiclass/results_mother_net_time_1_roc_auc_chscase_census5_200_400_3.npy\n"
     ]
    },
    {
     "name": "stderr",
     "output_type": "stream",
     "text": [
      " 52%|██████████████████████████████████████████████████████████████████████████████████████████████████████████████████████████████████████████████████████████████████████████████▊                                                                                                                                                                    | 165/320 [00:33<00:20,  7.61it/s]"
     ]
    },
    {
     "name": "stdout",
     "output_type": "stream",
     "text": [
      "saved results to ./results/tabular/multiclass/results_mother_net_time_1_roc_auc_chscase_census5_200_400_4.npy\n",
      "saved results to ./results/tabular/multiclass/results_mother_net_time_1_roc_auc_chscase_census5_200_400_5.npy\n"
     ]
    },
    {
     "name": "stderr",
     "output_type": "stream",
     "text": [
      " 52%|████████████████████████████████████████████████████████████████████████████████████████████████████████████████████████████████████████████████████████████████████████████████▉                                                                                                                                                                  | 167/320 [00:33<00:19,  7.73it/s]"
     ]
    },
    {
     "name": "stdout",
     "output_type": "stream",
     "text": [
      "saved results to ./results/tabular/multiclass/results_mother_net_time_1_roc_auc_chscase_census4_200_400_1.npy\n",
      "saved results to ./results/tabular/multiclass/results_mother_net_time_1_roc_auc_chscase_census4_200_400_2.npy\n"
     ]
    },
    {
     "name": "stderr",
     "output_type": "stream",
     "text": [
      " 53%|███████████████████████████████████████████████████████████████████████████████████████████████████████████████████████████████████████████████████████████████████████████████████                                                                                                                                                                | 169/320 [00:33<00:19,  7.72it/s]"
     ]
    },
    {
     "name": "stdout",
     "output_type": "stream",
     "text": [
      "saved results to ./results/tabular/multiclass/results_mother_net_time_1_roc_auc_chscase_census4_200_400_3.npy\n",
      "saved results to ./results/tabular/multiclass/results_mother_net_time_1_roc_auc_chscase_census4_200_400_4.npy\n"
     ]
    },
    {
     "name": "stderr",
     "output_type": "stream",
     "text": [
      " 53%|█████████████████████████████████████████████████████████████████████████████████████████████████████████████████████████████████████████████████████████████████████████████████████▏                                                                                                                                                             | 171/320 [00:33<00:19,  7.75it/s]"
     ]
    },
    {
     "name": "stdout",
     "output_type": "stream",
     "text": [
      "saved results to ./results/tabular/multiclass/results_mother_net_time_1_roc_auc_chscase_census4_200_400_5.npy\n",
      "saved results to ./results/tabular/multiclass/results_mother_net_time_1_roc_auc_chscase_census3_200_400_1.npy\n"
     ]
    },
    {
     "name": "stderr",
     "output_type": "stream",
     "text": [
      " 54%|███████████████████████████████████████████████████████████████████████████████████████████████████████████████████████████████████████████████████████████████████████████████████████▎                                                                                                                                                           | 173/320 [00:34<00:18,  7.75it/s]"
     ]
    },
    {
     "name": "stdout",
     "output_type": "stream",
     "text": [
      "saved results to ./results/tabular/multiclass/results_mother_net_time_1_roc_auc_chscase_census3_200_400_2.npy\n",
      "saved results to ./results/tabular/multiclass/results_mother_net_time_1_roc_auc_chscase_census3_200_400_3.npy\n"
     ]
    },
    {
     "name": "stderr",
     "output_type": "stream",
     "text": [
      " 55%|█████████████████████████████████████████████████████████████████████████████████████████████████████████████████████████████████████████████████████████████████████████████████████████▍                                                                                                                                                         | 175/320 [00:34<00:19,  7.60it/s]"
     ]
    },
    {
     "name": "stdout",
     "output_type": "stream",
     "text": [
      "saved results to ./results/tabular/multiclass/results_mother_net_time_1_roc_auc_chscase_census3_200_400_4.npy\n",
      "saved results to ./results/tabular/multiclass/results_mother_net_time_1_roc_auc_chscase_census3_200_400_5.npy\n"
     ]
    },
    {
     "name": "stderr",
     "output_type": "stream",
     "text": [
      " 55%|███████████████████████████████████████████████████████████████████████████████████████████████████████████████████████████████████████████████████████████████████████████████████████████▌                                                                                                                                                       | 177/320 [00:34<00:19,  7.46it/s]"
     ]
    },
    {
     "name": "stdout",
     "output_type": "stream",
     "text": [
      "saved results to ./results/tabular/multiclass/results_mother_net_time_1_roc_auc_chscase_census2_200_400_1.npy\n",
      "saved results to ./results/tabular/multiclass/results_mother_net_time_1_roc_auc_chscase_census2_200_400_2.npy\n"
     ]
    },
    {
     "name": "stderr",
     "output_type": "stream",
     "text": [
      " 56%|█████████████████████████████████████████████████████████████████████████████████████████████████████████████████████████████████████████████████████████████████████████████████████████████▋                                                                                                                                                     | 179/320 [00:34<00:18,  7.45it/s]"
     ]
    },
    {
     "name": "stdout",
     "output_type": "stream",
     "text": [
      "saved results to ./results/tabular/multiclass/results_mother_net_time_1_roc_auc_chscase_census2_200_400_3.npy\n",
      "saved results to ./results/tabular/multiclass/results_mother_net_time_1_roc_auc_chscase_census2_200_400_4.npy\n"
     ]
    },
    {
     "name": "stderr",
     "output_type": "stream",
     "text": [
      " 57%|███████████████████████████████████████████████████████████████████████████████████████████████████████████████████████████████████████████████████████████████████████████████████████████████▋                                                                                                                                                   | 181/320 [00:35<00:18,  7.51it/s]"
     ]
    },
    {
     "name": "stdout",
     "output_type": "stream",
     "text": [
      "saved results to ./results/tabular/multiclass/results_mother_net_time_1_roc_auc_chscase_census2_200_400_5.npy\n",
      "saved results to ./results/tabular/multiclass/results_mother_net_time_1_roc_auc_visualizing_galaxy_161_322_1.npy\n"
     ]
    },
    {
     "name": "stderr",
     "output_type": "stream",
     "text": [
      " 57%|█████████████████████████████████████████████████████████████████████████████████████████████████████████████████████████████████████████████████████████████████████████████████████████████████▊                                                                                                                                                 | 183/320 [00:35<00:17,  7.71it/s]"
     ]
    },
    {
     "name": "stdout",
     "output_type": "stream",
     "text": [
      "saved results to ./results/tabular/multiclass/results_mother_net_time_1_roc_auc_visualizing_galaxy_161_322_2.npy\n",
      "saved results to ./results/tabular/multiclass/results_mother_net_time_1_roc_auc_visualizing_galaxy_161_322_3.npy\n"
     ]
    },
    {
     "name": "stderr",
     "output_type": "stream",
     "text": [
      " 58%|███████████████████████████████████████████████████████████████████████████████████████████████████████████████████████████████████████████████████████████████████████████████████████████████████▉                                                                                                                                               | 185/320 [00:35<00:17,  7.68it/s]"
     ]
    },
    {
     "name": "stdout",
     "output_type": "stream",
     "text": [
      "saved results to ./results/tabular/multiclass/results_mother_net_time_1_roc_auc_visualizing_galaxy_161_322_4.npy\n",
      "saved results to ./results/tabular/multiclass/results_mother_net_time_1_roc_auc_visualizing_galaxy_161_322_5.npy\n"
     ]
    },
    {
     "name": "stderr",
     "output_type": "stream",
     "text": [
      " 58%|██████████████████████████████████████████████████████████████████████████████████████████████████████████████████████████████████████████████████████████████████████████████████████████████████████                                                                                                                                             | 187/320 [00:36<00:18,  7.04it/s]"
     ]
    },
    {
     "name": "stdout",
     "output_type": "stream",
     "text": [
      "saved results to ./results/tabular/multiclass/results_mother_net_time_1_roc_auc_disclosure_z_331_662_1.npy\n",
      "saved results to ./results/tabular/multiclass/results_mother_net_time_1_roc_auc_disclosure_z_331_662_2.npy\n"
     ]
    },
    {
     "name": "stderr",
     "output_type": "stream",
     "text": [
      " 59%|████████████████████████████████████████████████████████████████████████████████████████████████████████████████████████████████████████████████████████████████████████████████████████████████████████▏                                                                                                                                          | 189/320 [00:36<00:18,  6.89it/s]"
     ]
    },
    {
     "name": "stdout",
     "output_type": "stream",
     "text": [
      "saved results to ./results/tabular/multiclass/results_mother_net_time_1_roc_auc_disclosure_z_331_662_3.npy\n",
      "saved results to ./results/tabular/multiclass/results_mother_net_time_1_roc_auc_disclosure_z_331_662_4.npy\n"
     ]
    },
    {
     "name": "stderr",
     "output_type": "stream",
     "text": [
      " 60%|██████████████████████████████████████████████████████████████████████████████████████████████████████████████████████████████████████████████████████████████████████████████████████████████████████████▎                                                                                                                                        | 191/320 [00:36<00:17,  7.33it/s]"
     ]
    },
    {
     "name": "stdout",
     "output_type": "stream",
     "text": [
      "saved results to ./results/tabular/multiclass/results_mother_net_time_1_roc_auc_disclosure_z_331_662_5.npy\n",
      "saved results to ./results/tabular/multiclass/results_mother_net_time_1_roc_auc_prnn_fglass_107_214_1.npy\n"
     ]
    },
    {
     "name": "stderr",
     "output_type": "stream",
     "text": [
      " 60%|████████████████████████████████████████████████████████████████████████████████████████████████████████████████████████████████████████████████████████████████████████████████████████████████████████████▍                                                                                                                                      | 193/320 [00:36<00:15,  7.96it/s]"
     ]
    },
    {
     "name": "stdout",
     "output_type": "stream",
     "text": [
      "saved results to ./results/tabular/multiclass/results_mother_net_time_1_roc_auc_prnn_fglass_107_214_2.npy\n",
      "saved results to ./results/tabular/multiclass/results_mother_net_time_1_roc_auc_prnn_fglass_107_214_3.npy\n"
     ]
    },
    {
     "name": "stderr",
     "output_type": "stream",
     "text": [
      " 61%|██████████████████████████████████████████████████████████████████████████████████████████████████████████████████████████████████████████████████████████████████████████████████████████████████████████████▌                                                                                                                                    | 195/320 [00:37<00:15,  8.14it/s]"
     ]
    },
    {
     "name": "stdout",
     "output_type": "stream",
     "text": [
      "saved results to ./results/tabular/multiclass/results_mother_net_time_1_roc_auc_prnn_fglass_107_214_4.npy\n",
      "saved results to ./results/tabular/multiclass/results_mother_net_time_1_roc_auc_prnn_fglass_107_214_5.npy\n"
     ]
    },
    {
     "name": "stderr",
     "output_type": "stream",
     "text": [
      " 62%|████████████████████████████████████████████████████████████████████████████████████████████████████████████████████████████████████████████████████████████████████████████████████████████████████████████████▋                                                                                                                                  | 197/320 [00:37<00:16,  7.61it/s]"
     ]
    },
    {
     "name": "stdout",
     "output_type": "stream",
     "text": [
      "saved results to ./results/tabular/multiclass/results_mother_net_time_1_roc_auc_jEdit_4.2_4.3_184_368_1.npy\n",
      "saved results to ./results/tabular/multiclass/results_mother_net_time_1_roc_auc_jEdit_4.2_4.3_184_368_2.npy\n"
     ]
    },
    {
     "name": "stderr",
     "output_type": "stream",
     "text": [
      " 62%|██████████████████████████████████████████████████████████████████████████████████████████████████████████████████████████████████████████████████████████████████████████████████████████████████████████████████▊                                                                                                                                | 199/320 [00:37<00:15,  7.65it/s]"
     ]
    },
    {
     "name": "stdout",
     "output_type": "stream",
     "text": [
      "saved results to ./results/tabular/multiclass/results_mother_net_time_1_roc_auc_jEdit_4.2_4.3_184_368_3.npy\n",
      "saved results to ./results/tabular/multiclass/results_mother_net_time_1_roc_auc_jEdit_4.2_4.3_184_368_4.npy\n"
     ]
    },
    {
     "name": "stderr",
     "output_type": "stream",
     "text": [
      " 63%|████████████████████████████████████████████████████████████████████████████████████████████████████████████████████████████████████████████████████████████████████████████████████████████████████████████████████▉                                                                                                                              | 201/320 [00:37<00:15,  7.93it/s]"
     ]
    },
    {
     "name": "stdout",
     "output_type": "stream",
     "text": [
      "saved results to ./results/tabular/multiclass/results_mother_net_time_1_roc_auc_jEdit_4.2_4.3_184_368_5.npy\n",
      "saved results to ./results/tabular/multiclass/results_mother_net_time_1_roc_auc_mc2_80_160_1.npy\n"
     ]
    },
    {
     "name": "stderr",
     "output_type": "stream",
     "text": [
      " 63%|███████████████████████████████████████████████████████████████████████████████████████████████████████████████████████████████████████████████████████████████████████████████████████████████████████████████████████                                                                                                                            | 203/320 [00:38<00:13,  8.36it/s]"
     ]
    },
    {
     "name": "stdout",
     "output_type": "stream",
     "text": [
      "saved results to ./results/tabular/multiclass/results_mother_net_time_1_roc_auc_mc2_80_160_2.npy\n",
      "saved results to ./results/tabular/multiclass/results_mother_net_time_1_roc_auc_mc2_80_160_3.npy\n"
     ]
    },
    {
     "name": "stderr",
     "output_type": "stream",
     "text": [
      " 64%|█████████████████████████████████████████████████████████████████████████████████████████████████████████████████████████████████████████████████████████████████████████████████████████████████████████████████████████▏                                                                                                                         | 205/320 [00:38<00:13,  8.82it/s]"
     ]
    },
    {
     "name": "stdout",
     "output_type": "stream",
     "text": [
      "saved results to ./results/tabular/multiclass/results_mother_net_time_1_roc_auc_mc2_80_160_4.npy\n",
      "saved results to ./results/tabular/multiclass/results_mother_net_time_1_roc_auc_mc2_80_160_5.npy\n"
     ]
    },
    {
     "name": "stderr",
     "output_type": "stream",
     "text": [
      " 65%|███████████████████████████████████████████████████████████████████████████████████████████████████████████████████████████████████████████████████████████████████████████████████████████████████████████████████████████▎                                                                                                                       | 207/320 [00:38<00:14,  8.05it/s]"
     ]
    },
    {
     "name": "stdout",
     "output_type": "stream",
     "text": [
      "saved results to ./results/tabular/multiclass/results_mother_net_time_1_roc_auc_mw1_201_402_1.npy\n",
      "saved results to ./results/tabular/multiclass/results_mother_net_time_1_roc_auc_mw1_201_402_2.npy\n"
     ]
    },
    {
     "name": "stderr",
     "output_type": "stream",
     "text": [
      " 65%|████████████████████████████████████████████████████████████████████████████████████████████████████████████████████████████████████████████████████████████████████████████████████████████████████████████████████████████▎                                                                                                                      | 208/320 [00:38<00:15,  7.27it/s]"
     ]
    },
    {
     "name": "stdout",
     "output_type": "stream",
     "text": [
      "saved results to ./results/tabular/multiclass/results_mother_net_time_1_roc_auc_mw1_201_402_3.npy\n"
     ]
    },
    {
     "name": "stderr",
     "output_type": "stream",
     "text": [
      " 66%|██████████████████████████████████████████████████████████████████████████████████████████████████████████████████████████████████████████████████████████████████████████████████████████████████████████████████████████████▍                                                                                                                    | 210/320 [00:39<00:17,  6.18it/s]"
     ]
    },
    {
     "name": "stdout",
     "output_type": "stream",
     "text": [
      "saved results to ./results/tabular/multiclass/results_mother_net_time_1_roc_auc_mw1_201_402_4.npy\n",
      "saved results to ./results/tabular/multiclass/results_mother_net_time_1_roc_auc_mw1_201_402_5.npy\n"
     ]
    },
    {
     "name": "stderr",
     "output_type": "stream",
     "text": [
      " 66%|████████████████████████████████████████████████████████████████████████████████████████████████████████████████████████████████████████████████████████████████████████████████████████████████████████████████████████████████▌                                                                                                                  | 212/320 [00:39<00:14,  7.22it/s]"
     ]
    },
    {
     "name": "stdout",
     "output_type": "stream",
     "text": [
      "saved results to ./results/tabular/multiclass/results_mother_net_time_1_roc_auc_jEdit_4.0_4.2_137_274_1.npy\n",
      "saved results to ./results/tabular/multiclass/results_mother_net_time_1_roc_auc_jEdit_4.0_4.2_137_274_2.npy\n"
     ]
    },
    {
     "name": "stderr",
     "output_type": "stream",
     "text": [
      " 67%|██████████████████████████████████████████████████████████████████████████████████████████████████████████████████████████████████████████████████████████████████████████████████████████████████████████████████████████████████▋                                                                                                                | 214/320 [00:39<00:13,  7.76it/s]"
     ]
    },
    {
     "name": "stdout",
     "output_type": "stream",
     "text": [
      "saved results to ./results/tabular/multiclass/results_mother_net_time_1_roc_auc_jEdit_4.0_4.2_137_274_3.npy\n",
      "saved results to ./results/tabular/multiclass/results_mother_net_time_1_roc_auc_jEdit_4.0_4.2_137_274_4.npy\n"
     ]
    },
    {
     "name": "stderr",
     "output_type": "stream",
     "text": [
      " 68%|████████████████████████████████████████████████████████████████████████████████████████████████████████████████████████████████████████████████████████████████████████████████████████████████████████████████████████████████████▊                                                                                                              | 216/320 [00:39<00:12,  8.03it/s]"
     ]
    },
    {
     "name": "stdout",
     "output_type": "stream",
     "text": [
      "saved results to ./results/tabular/multiclass/results_mother_net_time_1_roc_auc_jEdit_4.0_4.2_137_274_5.npy\n",
      "saved results to ./results/tabular/multiclass/results_mother_net_time_1_roc_auc_MegaWatt1_126_252_1.npy\n"
     ]
    },
    {
     "name": "stderr",
     "output_type": "stream",
     "text": [
      " 68%|██████████████████████████████████████████████████████████████████████████████████████████████████████████████████████████████████████████████████████████████████████████████████████████████████████████████████████████████████████▉                                                                                                            | 218/320 [00:40<00:12,  8.15it/s]"
     ]
    },
    {
     "name": "stdout",
     "output_type": "stream",
     "text": [
      "saved results to ./results/tabular/multiclass/results_mother_net_time_1_roc_auc_MegaWatt1_126_252_2.npy\n",
      "saved results to ./results/tabular/multiclass/results_mother_net_time_1_roc_auc_MegaWatt1_126_252_3.npy\n"
     ]
    },
    {
     "name": "stderr",
     "output_type": "stream",
     "text": [
      " 69%|█████████████████████████████████████████████████████████████████████████████████████████████████████████████████████████████████████████████████████████████████████████████████████████████████████████████████████████████████████████                                                                                                          | 220/320 [00:40<00:12,  8.22it/s]"
     ]
    },
    {
     "name": "stdout",
     "output_type": "stream",
     "text": [
      "saved results to ./results/tabular/multiclass/results_mother_net_time_1_roc_auc_MegaWatt1_126_252_4.npy\n",
      "saved results to ./results/tabular/multiclass/results_mother_net_time_1_roc_auc_MegaWatt1_126_252_5.npy\n"
     ]
    },
    {
     "name": "stderr",
     "output_type": "stream",
     "text": [
      " 69%|███████████████████████████████████████████████████████████████████████████████████████████████████████████████████████████████████████████████████████████████████████████████████████████████████████████████████████████████████████████▏                                                                                                       | 222/320 [00:40<00:14,  6.82it/s]"
     ]
    },
    {
     "name": "stdout",
     "output_type": "stream",
     "text": [
      "saved results to ./results/tabular/multiclass/results_mother_net_time_1_roc_auc_PizzaCutter1_330_660_1.npy\n",
      "saved results to ./results/tabular/multiclass/results_mother_net_time_1_roc_auc_PizzaCutter1_330_660_2.npy\n"
     ]
    },
    {
     "name": "stderr",
     "output_type": "stream",
     "text": [
      " 70%|█████████████████████████████████████████████████████████████████████████████████████████████████████████████████████████████████████████████████████████████████████████████████████████████████████████████████████████████████████████████▎                                                                                                     | 224/320 [00:40<00:13,  6.86it/s]"
     ]
    },
    {
     "name": "stdout",
     "output_type": "stream",
     "text": [
      "saved results to ./results/tabular/multiclass/results_mother_net_time_1_roc_auc_PizzaCutter1_330_660_3.npy\n",
      "saved results to ./results/tabular/multiclass/results_mother_net_time_1_roc_auc_PizzaCutter1_330_660_4.npy\n"
     ]
    },
    {
     "name": "stderr",
     "output_type": "stream",
     "text": [
      " 71%|███████████████████████████████████████████████████████████████████████████████████████████████████████████████████████████████████████████████████████████████████████████████████████████████████████████████████████████████████████████████▍                                                                                                   | 226/320 [00:41<00:15,  5.92it/s]"
     ]
    },
    {
     "name": "stdout",
     "output_type": "stream",
     "text": [
      "saved results to ./results/tabular/multiclass/results_mother_net_time_1_roc_auc_PizzaCutter1_330_660_5.npy\n",
      "saved results to ./results/tabular/multiclass/results_mother_net_time_1_roc_auc_PizzaCutter3_521_1042_1.npy\n"
     ]
    },
    {
     "name": "stderr",
     "output_type": "stream",
     "text": [
      " 71%|█████████████████████████████████████████████████████████████████████████████████████████████████████████████████████████████████████████████████████████████████████████████████████████████████████████████████████████████████████████████████▌                                                                                                 | 228/320 [00:41<00:15,  5.98it/s]"
     ]
    },
    {
     "name": "stdout",
     "output_type": "stream",
     "text": [
      "saved results to ./results/tabular/multiclass/results_mother_net_time_1_roc_auc_PizzaCutter3_521_1042_2.npy\n",
      "saved results to ./results/tabular/multiclass/results_mother_net_time_1_roc_auc_PizzaCutter3_521_1042_3.npy\n"
     ]
    },
    {
     "name": "stderr",
     "output_type": "stream",
     "text": [
      " 72%|███████████████████████████████████████████████████████████████████████████████████████████████████████████████████████████████████████████████████████████████████████████████████████████████████████████████████████████████████████████████████▋                                                                                               | 230/320 [00:42<00:16,  5.58it/s]"
     ]
    },
    {
     "name": "stdout",
     "output_type": "stream",
     "text": [
      "saved results to ./results/tabular/multiclass/results_mother_net_time_1_roc_auc_PizzaCutter3_521_1042_4.npy\n",
      "saved results to ./results/tabular/multiclass/results_mother_net_time_1_roc_auc_PizzaCutter3_521_1042_5.npy\n"
     ]
    },
    {
     "name": "stderr",
     "output_type": "stream",
     "text": [
      " 72%|█████████████████████████████████████████████████████████████████████████████████████████████████████████████████████████████████████████████████████████████████████████████████████████████████████████████████████████████████████████████████████▊                                                                                             | 232/320 [00:42<00:13,  6.66it/s]"
     ]
    },
    {
     "name": "stdout",
     "output_type": "stream",
     "text": [
      "saved results to ./results/tabular/multiclass/results_mother_net_time_1_roc_auc_CostaMadre1_148_296_1.npy\n",
      "saved results to ./results/tabular/multiclass/results_mother_net_time_1_roc_auc_CostaMadre1_148_296_2.npy\n"
     ]
    },
    {
     "name": "stderr",
     "output_type": "stream",
     "text": [
      " 73%|███████████████████████████████████████████████████████████████████████████████████████████████████████████████████████████████████████████████████████████████████████████████████████████████████████████████████████████████████████████████████████▉                                                                                           | 234/320 [00:42<00:11,  7.38it/s]"
     ]
    },
    {
     "name": "stdout",
     "output_type": "stream",
     "text": [
      "saved results to ./results/tabular/multiclass/results_mother_net_time_1_roc_auc_CostaMadre1_148_296_3.npy\n",
      "saved results to ./results/tabular/multiclass/results_mother_net_time_1_roc_auc_CostaMadre1_148_296_4.npy\n"
     ]
    },
    {
     "name": "stderr",
     "output_type": "stream",
     "text": [
      " 74%|██████████████████████████████████████████████████████████████████████████████████████████████████████████████████████████████████████████████████████████████████████████████████████████████████████████████████████████████████████████████████████████                                                                                         | 236/320 [00:42<00:10,  7.71it/s]"
     ]
    },
    {
     "name": "stdout",
     "output_type": "stream",
     "text": [
      "saved results to ./results/tabular/multiclass/results_mother_net_time_1_roc_auc_CostaMadre1_148_296_5.npy\n",
      "saved results to ./results/tabular/multiclass/results_mother_net_time_1_roc_auc_CastMetal1_163_326_1.npy\n"
     ]
    },
    {
     "name": "stderr",
     "output_type": "stream",
     "text": [
      " 74%|████████████████████████████████████████████████████████████████████████████████████████████████████████████████████████████████████████████████████████████████████████████████████████████████████████████████████████████████████████████████████████████▏                                                                                      | 238/320 [00:43<00:10,  7.73it/s]"
     ]
    },
    {
     "name": "stdout",
     "output_type": "stream",
     "text": [
      "saved results to ./results/tabular/multiclass/results_mother_net_time_1_roc_auc_CastMetal1_163_326_2.npy\n",
      "saved results to ./results/tabular/multiclass/results_mother_net_time_1_roc_auc_CastMetal1_163_326_3.npy\n"
     ]
    },
    {
     "name": "stderr",
     "output_type": "stream",
     "text": [
      " 75%|██████████████████████████████████████████████████████████████████████████████████████████████████████████████████████████████████████████████████████████████████████████████████████████████████████████████████████████████████████████████████████████████▎                                                                                    | 240/320 [00:43<00:10,  7.68it/s]"
     ]
    },
    {
     "name": "stdout",
     "output_type": "stream",
     "text": [
      "saved results to ./results/tabular/multiclass/results_mother_net_time_1_roc_auc_CastMetal1_163_326_4.npy\n",
      "saved results to ./results/tabular/multiclass/results_mother_net_time_1_roc_auc_CastMetal1_163_326_5.npy\n"
     ]
    },
    {
     "name": "stderr",
     "output_type": "stream",
     "text": [
      " 76%|████████████████████████████████████████████████████████████████████████████████████████████████████████████████████████████████████████████████████████████████████████████████████████████████████████████████████████████████████████████████████████████████▎                                                                                  | 242/320 [00:43<00:09,  7.83it/s]"
     ]
    },
    {
     "name": "stdout",
     "output_type": "stream",
     "text": [
      "saved results to ./results/tabular/multiclass/results_mother_net_time_1_roc_auc_KnuggetChase3_97_194_1.npy\n",
      "saved results to ./results/tabular/multiclass/results_mother_net_time_1_roc_auc_KnuggetChase3_97_194_2.npy\n"
     ]
    },
    {
     "name": "stderr",
     "output_type": "stream",
     "text": [
      " 76%|██████████████████████████████████████████████████████████████████████████████████████████████████████████████████████████████████████████████████████████████████████████████████████████████████████████████████████████████████████████████████████████████████▍                                                                                | 244/320 [00:43<00:09,  8.05it/s]"
     ]
    },
    {
     "name": "stdout",
     "output_type": "stream",
     "text": [
      "saved results to ./results/tabular/multiclass/results_mother_net_time_1_roc_auc_KnuggetChase3_97_194_3.npy\n",
      "saved results to ./results/tabular/multiclass/results_mother_net_time_1_roc_auc_KnuggetChase3_97_194_4.npy\n"
     ]
    },
    {
     "name": "stderr",
     "output_type": "stream",
     "text": [
      " 77%|████████████████████████████████████████████████████████████████████████████████████████████████████████████████████████████████████████████████████████████████████████████████████████████████████████████████████████████████████████████████████████████████████▌                                                                              | 246/320 [00:44<00:09,  7.66it/s]"
     ]
    },
    {
     "name": "stdout",
     "output_type": "stream",
     "text": [
      "saved results to ./results/tabular/multiclass/results_mother_net_time_1_roc_auc_KnuggetChase3_97_194_5.npy\n",
      "saved results to ./results/tabular/multiclass/results_mother_net_time_1_roc_auc_PieChart1_352_704_1.npy\n"
     ]
    },
    {
     "name": "stderr",
     "output_type": "stream",
     "text": [
      " 78%|██████████████████████████████████████████████████████████████████████████████████████████████████████████████████████████████████████████████████████████████████████████████████████████████████████████████████████████████████████████████████████████████████████▋                                                                            | 248/320 [00:44<00:10,  7.17it/s]"
     ]
    },
    {
     "name": "stdout",
     "output_type": "stream",
     "text": [
      "saved results to ./results/tabular/multiclass/results_mother_net_time_1_roc_auc_PieChart1_352_704_2.npy\n",
      "saved results to ./results/tabular/multiclass/results_mother_net_time_1_roc_auc_PieChart1_352_704_3.npy\n"
     ]
    },
    {
     "name": "stderr",
     "output_type": "stream",
     "text": [
      " 78%|████████████████████████████████████████████████████████████████████████████████████████████████████████████████████████████████████████████████████████████████████████████████████████████████████████████████████████████████████████████████████████████████████████▊                                                                          | 250/320 [00:44<00:10,  6.98it/s]"
     ]
    },
    {
     "name": "stdout",
     "output_type": "stream",
     "text": [
      "saved results to ./results/tabular/multiclass/results_mother_net_time_1_roc_auc_PieChart1_352_704_4.npy\n",
      "saved results to ./results/tabular/multiclass/results_mother_net_time_1_roc_auc_PieChart1_352_704_5.npy\n"
     ]
    },
    {
     "name": "stderr",
     "output_type": "stream",
     "text": [
      " 79%|██████████████████████████████████████████████████████████████████████████████████████████████████████████████████████████████████████████████████████████████████████████████████████████████████████████████████████████████████████████████████████████████████████████▉                                                                        | 252/320 [00:45<00:11,  6.13it/s]"
     ]
    },
    {
     "name": "stdout",
     "output_type": "stream",
     "text": [
      "saved results to ./results/tabular/multiclass/results_mother_net_time_1_roc_auc_PieChart3_538_1076_1.npy\n",
      "saved results to ./results/tabular/multiclass/results_mother_net_time_1_roc_auc_PieChart3_538_1076_2.npy\n"
     ]
    },
    {
     "name": "stderr",
     "output_type": "stream",
     "text": [
      " 79%|█████████████████████████████████████████████████████████████████████████████████████████████████████████████████████████████████████████████████████████████████████████████████████████████████████████████████████████████████████████████████████████████████████████████                                                                      | 254/320 [00:45<00:12,  5.42it/s]"
     ]
    },
    {
     "name": "stdout",
     "output_type": "stream",
     "text": [
      "saved results to ./results/tabular/multiclass/results_mother_net_time_1_roc_auc_PieChart3_538_1076_3.npy\n",
      "saved results to ./results/tabular/multiclass/results_mother_net_time_1_roc_auc_PieChart3_538_1076_4.npy\n"
     ]
    },
    {
     "name": "stderr",
     "output_type": "stream",
     "text": [
      " 80%|███████████████████████████████████████████████████████████████████████████████████████████████████████████████████████████████████████████████████████████████████████████████████████████████████████████████████████████████████████████████████████████████████████████████▏                                                                   | 256/320 [00:45<00:10,  6.09it/s]"
     ]
    },
    {
     "name": "stdout",
     "output_type": "stream",
     "text": [
      "saved results to ./results/tabular/multiclass/results_mother_net_time_1_roc_auc_PieChart3_538_1076_5.npy\n",
      "saved results to ./results/tabular/multiclass/results_mother_net_time_1_roc_auc_parkinsons_97_194_1.npy\n"
     ]
    },
    {
     "name": "stderr",
     "output_type": "stream",
     "text": [
      " 81%|█████████████████████████████████████████████████████████████████████████████████████████████████████████████████████████████████████████████████████████████████████████████████████████████████████████████████████████████████████████████████████████████████████████████████▎                                                                 | 258/320 [00:45<00:08,  7.28it/s]"
     ]
    },
    {
     "name": "stdout",
     "output_type": "stream",
     "text": [
      "saved results to ./results/tabular/multiclass/results_mother_net_time_1_roc_auc_parkinsons_97_194_2.npy\n",
      "saved results to ./results/tabular/multiclass/results_mother_net_time_1_roc_auc_parkinsons_97_194_3.npy\n"
     ]
    },
    {
     "name": "stderr",
     "output_type": "stream",
     "text": [
      " 81%|███████████████████████████████████████████████████████████████████████████████████████████████████████████████████████████████████████████████████████████████████████████████████████████████████████████████████████████████████████████████████████████████████████████████████▍                                                               | 260/320 [00:46<00:07,  8.05it/s]"
     ]
    },
    {
     "name": "stdout",
     "output_type": "stream",
     "text": [
      "saved results to ./results/tabular/multiclass/results_mother_net_time_1_roc_auc_parkinsons_97_194_4.npy\n",
      "saved results to ./results/tabular/multiclass/results_mother_net_time_1_roc_auc_parkinsons_97_194_5.npy\n"
     ]
    },
    {
     "name": "stderr",
     "output_type": "stream",
     "text": [
      " 82%|█████████████████████████████████████████████████████████████████████████████████████████████████████████████████████████████████████████████████████████████████████████████████████████████████████████████████████████████████████████████████████████████████████████████████████▌                                                             | 262/320 [00:46<00:06,  8.50it/s]"
     ]
    },
    {
     "name": "stdout",
     "output_type": "stream",
     "text": [
      "saved results to ./results/tabular/multiclass/results_mother_net_time_1_roc_auc_planning-relax_91_182_1.npy\n",
      "saved results to ./results/tabular/multiclass/results_mother_net_time_1_roc_auc_planning-relax_91_182_2.npy\n"
     ]
    },
    {
     "name": "stderr",
     "output_type": "stream",
     "text": [
      " 82%|███████████████████████████████████████████████████████████████████████████████████████████████████████████████████████████████████████████████████████████████████████████████████████████████████████████████████████████████████████████████████████████████████████████████████████▋                                                           | 264/320 [00:46<00:06,  8.73it/s]"
     ]
    },
    {
     "name": "stdout",
     "output_type": "stream",
     "text": [
      "saved results to ./results/tabular/multiclass/results_mother_net_time_1_roc_auc_planning-relax_91_182_3.npy\n",
      "saved results to ./results/tabular/multiclass/results_mother_net_time_1_roc_auc_planning-relax_91_182_4.npy\n"
     ]
    },
    {
     "name": "stderr",
     "output_type": "stream",
     "text": [
      " 83%|█████████████████████████████████████████████████████████████████████████████████████████████████████████████████████████████████████████████████████████████████████████████████████████████████████████████████████████████████████████████████████████████████████████████████████████▊                                                         | 266/320 [00:46<00:07,  7.09it/s]"
     ]
    },
    {
     "name": "stdout",
     "output_type": "stream",
     "text": [
      "saved results to ./results/tabular/multiclass/results_mother_net_time_1_roc_auc_planning-relax_91_182_5.npy\n",
      "saved results to ./results/tabular/multiclass/results_mother_net_time_1_roc_auc_seeds_105_210_1.npy\n"
     ]
    },
    {
     "name": "stderr",
     "output_type": "stream",
     "text": [
      " 84%|███████████████████████████████████████████████████████████████████████████████████████████████████████████████████████████████████████████████████████████████████████████████████████████████████████████████████████████████████████████████████████████████████████████████████████████▉                                                       | 268/320 [00:47<00:08,  6.38it/s]"
     ]
    },
    {
     "name": "stdout",
     "output_type": "stream",
     "text": [
      "saved results to ./results/tabular/multiclass/results_mother_net_time_1_roc_auc_seeds_105_210_2.npy\n",
      "saved results to ./results/tabular/multiclass/results_mother_net_time_1_roc_auc_seeds_105_210_3.npy\n"
     ]
    },
    {
     "name": "stderr",
     "output_type": "stream",
     "text": [
      " 84%|██████████████████████████████████████████████████████████████████████████████████████████████████████████████████████████████████████████████████████████████████████████████████████████████████████████████████████████████████████████████████████████████████████████████████████████████                                                     | 270/320 [00:47<00:08,  5.91it/s]"
     ]
    },
    {
     "name": "stdout",
     "output_type": "stream",
     "text": [
      "saved results to ./results/tabular/multiclass/results_mother_net_time_1_roc_auc_seeds_105_210_4.npy\n",
      "saved results to ./results/tabular/multiclass/results_mother_net_time_1_roc_auc_seeds_105_210_5.npy\n"
     ]
    },
    {
     "name": "stderr",
     "output_type": "stream",
     "text": [
      " 85%|███████████████████████████████████████████████████████████████████████████████████████████████████████████████████████████████████████████████████████████████████████████████████████████████████████████████████████████████████████████████████████████████████████████████████████████████                                                    | 271/320 [00:48<00:10,  4.61it/s]"
     ]
    },
    {
     "name": "stdout",
     "output_type": "stream",
     "text": [
      "saved results to ./results/tabular/multiclass/results_mother_net_time_1_roc_auc_user-knowledge_201_402_1.npy\n"
     ]
    },
    {
     "name": "stderr",
     "output_type": "stream",
     "text": [
      " 85%|████████████████████████████████████████████████████████████████████████████████████████████████████████████████████████████████████████████████████████████████████████████████████████████████████████████████████████████████████████████████████████████████████████████████████████████████▏                                                  | 272/320 [00:48<00:12,  3.81it/s]"
     ]
    },
    {
     "name": "stdout",
     "output_type": "stream",
     "text": [
      "saved results to ./results/tabular/multiclass/results_mother_net_time_1_roc_auc_user-knowledge_201_402_2.npy\n"
     ]
    },
    {
     "name": "stderr",
     "output_type": "stream",
     "text": [
      " 85%|█████████████████████████████████████████████████████████████████████████████████████████████████████████████████████████████████████████████████████████████████████████████████████████████████████████████████████████████████████████████████████████████████████████████████████████████████▏                                                 | 273/320 [00:48<00:13,  3.55it/s]"
     ]
    },
    {
     "name": "stdout",
     "output_type": "stream",
     "text": [
      "saved results to ./results/tabular/multiclass/results_mother_net_time_1_roc_auc_user-knowledge_201_402_3.npy\n"
     ]
    },
    {
     "name": "stderr",
     "output_type": "stream",
     "text": [
      " 86%|██████████████████████████████████████████████████████████████████████████████████████████████████████████████████████████████████████████████████████████████████████████████████████████████████████████████████████████████████████████████████████████████████████████████████████████████████▎                                                | 274/320 [00:49<00:13,  3.39it/s]"
     ]
    },
    {
     "name": "stdout",
     "output_type": "stream",
     "text": [
      "saved results to ./results/tabular/multiclass/results_mother_net_time_1_roc_auc_user-knowledge_201_402_4.npy\n"
     ]
    },
    {
     "name": "stderr",
     "output_type": "stream",
     "text": [
      " 86%|███████████████████████████████████████████████████████████████████████████████████████████████████████████████████████████████████████████████████████████████████████████████████████████████████████████████████████████████████████████████████████████████████████████████████████████████████▎                                               | 275/320 [00:49<00:13,  3.29it/s]"
     ]
    },
    {
     "name": "stdout",
     "output_type": "stream",
     "text": [
      "saved results to ./results/tabular/multiclass/results_mother_net_time_1_roc_auc_user-knowledge_201_402_5.npy\n"
     ]
    },
    {
     "name": "stderr",
     "output_type": "stream",
     "text": [
      " 86%|████████████████████████████████████████████████████████████████████████████████████████████████████████████████████████████████████████████████████████████████████████████████████████████████████████████████████████████████████████████████████████████████████████████████████████████████████▍                                              | 276/320 [00:49<00:13,  3.35it/s]"
     ]
    },
    {
     "name": "stdout",
     "output_type": "stream",
     "text": [
      "saved results to ./results/tabular/multiclass/results_mother_net_time_1_roc_auc_heart-long-beach_100_200_1.npy\n"
     ]
    },
    {
     "name": "stderr",
     "output_type": "stream",
     "text": [
      " 87%|█████████████████████████████████████████████████████████████████████████████████████████████████████████████████████████████████████████████████████████████████████████████████████████████████████████████████████████████████████████████████████████████████████████████████████████████████████▍                                             | 277/320 [00:49<00:13,  3.30it/s]"
     ]
    },
    {
     "name": "stdout",
     "output_type": "stream",
     "text": [
      "saved results to ./results/tabular/multiclass/results_mother_net_time_1_roc_auc_heart-long-beach_100_200_2.npy\n"
     ]
    },
    {
     "name": "stderr",
     "output_type": "stream",
     "text": [
      " 87%|██████████████████████████████████████████████████████████████████████████████████████████████████████████████████████████████████████████████████████████████████████████████████████████████████████████████████████████████████████████████████████████████████████████████████████████████████████▌                                            | 278/320 [00:50<00:12,  3.37it/s]"
     ]
    },
    {
     "name": "stdout",
     "output_type": "stream",
     "text": [
      "saved results to ./results/tabular/multiclass/results_mother_net_time_1_roc_auc_heart-long-beach_100_200_3.npy\n"
     ]
    },
    {
     "name": "stderr",
     "output_type": "stream",
     "text": [
      " 87%|███████████████████████████████████████████████████████████████████████████████████████████████████████████████████████████████████████████████████████████████████████████████████████████████████████████████████████████████████████████████████████████████████████████████████████████████████████▌                                           | 279/320 [00:50<00:11,  3.43it/s]"
     ]
    },
    {
     "name": "stdout",
     "output_type": "stream",
     "text": [
      "saved results to ./results/tabular/multiclass/results_mother_net_time_1_roc_auc_heart-long-beach_100_200_4.npy\n"
     ]
    },
    {
     "name": "stderr",
     "output_type": "stream",
     "text": [
      " 88%|████████████████████████████████████████████████████████████████████████████████████████████████████████████████████████████████████████████████████████████████████████████████████████████████████████████████████████████████████████████████████████████████████████████████████████████████████████▋                                          | 280/320 [00:50<00:11,  3.46it/s]"
     ]
    },
    {
     "name": "stdout",
     "output_type": "stream",
     "text": [
      "saved results to ./results/tabular/multiclass/results_mother_net_time_1_roc_auc_heart-long-beach_100_200_5.npy\n"
     ]
    },
    {
     "name": "stderr",
     "output_type": "stream",
     "text": [
      " 88%|█████████████████████████████████████████████████████████████████████████████████████████████████████████████████████████████████████████████████████████████████████████████████████████████████████████████████████████████████████████████████████████████████████████████████████████████████████████▋                                         | 281/320 [00:51<00:11,  3.52it/s]"
     ]
    },
    {
     "name": "stdout",
     "output_type": "stream",
     "text": [
      "saved results to ./results/tabular/multiclass/results_mother_net_time_1_roc_auc_robot-failures-lp5_82_164_1.npy\n"
     ]
    },
    {
     "name": "stderr",
     "output_type": "stream",
     "text": [
      " 88%|██████████████████████████████████████████████████████████████████████████████████████████████████████████████████████████████████████████████████████████████████████████████████████████████████████████████████████████████████████████████████████████████████████████████████████████████████████████▋                                        | 282/320 [00:51<00:10,  3.58it/s]"
     ]
    },
    {
     "name": "stdout",
     "output_type": "stream",
     "text": [
      "saved results to ./results/tabular/multiclass/results_mother_net_time_1_roc_auc_robot-failures-lp5_82_164_2.npy\n"
     ]
    },
    {
     "name": "stderr",
     "output_type": "stream",
     "text": [
      " 88%|███████████████████████████████████████████████████████████████████████████████████████████████████████████████████████████████████████████████████████████████████████████████████████████████████████████████████████████████████████████████████████████████████████████████████████████████████████████▊                                       | 283/320 [00:51<00:10,  3.50it/s]"
     ]
    },
    {
     "name": "stdout",
     "output_type": "stream",
     "text": [
      "saved results to ./results/tabular/multiclass/results_mother_net_time_1_roc_auc_robot-failures-lp5_82_164_3.npy\n"
     ]
    },
    {
     "name": "stderr",
     "output_type": "stream",
     "text": [
      " 89%|████████████████████████████████████████████████████████████████████████████████████████████████████████████████████████████████████████████████████████████████████████████████████████████████████████████████████████████████████████████████████████████████████████████████████████████████████████████▊                                      | 284/320 [00:51<00:10,  3.55it/s]"
     ]
    },
    {
     "name": "stdout",
     "output_type": "stream",
     "text": [
      "saved results to ./results/tabular/multiclass/results_mother_net_time_1_roc_auc_robot-failures-lp5_82_164_4.npy\n"
     ]
    },
    {
     "name": "stderr",
     "output_type": "stream",
     "text": [
      " 89%|██████████████████████████████████████████████████████████████████████████████████████████████████████████████████████████████████████████████████████████████████████████████████████████████████████████████████████████████████████████████████████████████████████████████████████████████████████████████▉                                    | 286/320 [00:52<00:08,  3.99it/s]"
     ]
    },
    {
     "name": "stdout",
     "output_type": "stream",
     "text": [
      "saved results to ./results/tabular/multiclass/results_mother_net_time_1_roc_auc_robot-failures-lp5_82_164_5.npy\n",
      "saved results to ./results/tabular/multiclass/results_mother_net_time_1_roc_auc_vertebra-column_155_310_1.npy\n"
     ]
    },
    {
     "name": "stderr",
     "output_type": "stream",
     "text": [
      " 90%|█████████████████████████████████████████████████████████████████████████████████████████████████████████████████████████████████████████████████████████████████████████████████████████████████████████████████████████████████████████████████████████████████████████████████████████████████████████████████                                  | 288/320 [00:52<00:06,  4.59it/s]"
     ]
    },
    {
     "name": "stdout",
     "output_type": "stream",
     "text": [
      "saved results to ./results/tabular/multiclass/results_mother_net_time_1_roc_auc_vertebra-column_155_310_2.npy\n",
      "saved results to ./results/tabular/multiclass/results_mother_net_time_1_roc_auc_vertebra-column_155_310_3.npy\n"
     ]
    },
    {
     "name": "stderr",
     "output_type": "stream",
     "text": [
      " 90%|██████████████████████████████████████████████████████████████████████████████████████████████████████████████████████████████████████████████████████████████████████████████████████████████████████████████████████████████████████████████████████████████████████████████████████████████████████████████████▏                                | 289/320 [00:52<00:06,  4.80it/s]"
     ]
    },
    {
     "name": "stdout",
     "output_type": "stream",
     "text": [
      "saved results to ./results/tabular/multiclass/results_mother_net_time_1_roc_auc_vertebra-column_155_310_4.npy\n"
     ]
    },
    {
     "name": "stderr",
     "output_type": "stream",
     "text": [
      " 91%|███████████████████████████████████████████████████████████████████████████████████████████████████████████████████████████████████████████████████████████████████████████████████████████████████████████████████████████████████████████████████████████████████████████████████████████████████████████████████▏                               | 290/320 [00:53<00:06,  4.60it/s]"
     ]
    },
    {
     "name": "stdout",
     "output_type": "stream",
     "text": [
      "saved results to ./results/tabular/multiclass/results_mother_net_time_1_roc_auc_vertebra-column_155_310_5.npy\n"
     ]
    },
    {
     "name": "stderr",
     "output_type": "stream",
     "text": [
      " 91%|████████████████████████████████████████████████████████████████████████████████████████████████████████████████████████████████████████████████████████████████████████████████████████████████████████████████████████████████████████████████████████████████████████████████████████████████████████████████████▎                              | 291/320 [00:53<00:10,  2.71it/s]"
     ]
    },
    {
     "name": "stdout",
     "output_type": "stream",
     "text": [
      "saved results to ./results/tabular/multiclass/results_mother_net_time_1_roc_auc_LED-display-domain-7digit_250_500_1.npy\n"
     ]
    },
    {
     "name": "stderr",
     "output_type": "stream",
     "text": [
      " 91%|█████████████████████████████████████████████████████████████████████████████████████████████████████████████████████████████████████████████████████████████████████████████████████████████████████████████████████████████████████████████████████████████████████████████████████████████████████████████████████▎                             | 292/320 [00:54<00:13,  2.07it/s]"
     ]
    },
    {
     "name": "stdout",
     "output_type": "stream",
     "text": [
      "saved results to ./results/tabular/multiclass/results_mother_net_time_1_roc_auc_LED-display-domain-7digit_250_500_2.npy\n"
     ]
    },
    {
     "name": "stderr",
     "output_type": "stream",
     "text": [
      " 92%|██████████████████████████████████████████████████████████████████████████████████████████████████████████████████████████████████████████████████████████████████████████████████████████████████████████████████████████████████████████████████████████████████████████████████████████████████████████████████████▍                            | 293/320 [00:55<00:15,  1.76it/s]"
     ]
    },
    {
     "name": "stdout",
     "output_type": "stream",
     "text": [
      "saved results to ./results/tabular/multiclass/results_mother_net_time_1_roc_auc_LED-display-domain-7digit_250_500_3.npy\n"
     ]
    },
    {
     "name": "stderr",
     "output_type": "stream",
     "text": [
      " 92%|███████████████████████████████████████████████████████████████████████████████████████████████████████████████████████████████████████████████████████████████████████████████████████████████████████████████████████████████████████████████████████████████████████████████████████████████████████████████████████▍                           | 294/320 [00:56<00:16,  1.59it/s]"
     ]
    },
    {
     "name": "stdout",
     "output_type": "stream",
     "text": [
      "saved results to ./results/tabular/multiclass/results_mother_net_time_1_roc_auc_LED-display-domain-7digit_250_500_4.npy\n"
     ]
    },
    {
     "name": "stderr",
     "output_type": "stream",
     "text": [
      " 92%|████████████████████████████████████████████████████████████████████████████████████████████████████████████████████████████████████████████████████████████████████████████████████████████████████████████████████████████████████████████████████████████████████████████████████████████████████████████████████████▌                          | 295/320 [00:57<00:17,  1.46it/s]"
     ]
    },
    {
     "name": "stdout",
     "output_type": "stream",
     "text": [
      "saved results to ./results/tabular/multiclass/results_mother_net_time_1_roc_auc_LED-display-domain-7digit_250_500_5.npy\n"
     ]
    },
    {
     "name": "stderr",
     "output_type": "stream",
     "text": [
      " 93%|██████████████████████████████████████████████████████████████████████████████████████████████████████████████████████████████████████████████████████████████████████████████████████████████████████████████████████████████████████████████████████████████████████████████████████████████████████████████████████████▋                        | 297/320 [00:57<00:09,  2.34it/s]"
     ]
    },
    {
     "name": "stdout",
     "output_type": "stream",
     "text": [
      "saved results to ./results/tabular/multiclass/results_mother_net_time_1_roc_auc_thyroid-new_107_214_1.npy\n",
      "saved results to ./results/tabular/multiclass/results_mother_net_time_1_roc_auc_thyroid-new_107_214_2.npy\n"
     ]
    },
    {
     "name": "stderr",
     "output_type": "stream",
     "text": [
      " 93%|████████████████████████████████████████████████████████████████████████████████████████████████████████████████████████████████████████████████████████████████████████████████████████████████████████████████████████████████████████████████████████████████████████████████████████████████████████████████████████████▊                      | 299/320 [00:57<00:06,  3.32it/s]"
     ]
    },
    {
     "name": "stdout",
     "output_type": "stream",
     "text": [
      "saved results to ./results/tabular/multiclass/results_mother_net_time_1_roc_auc_thyroid-new_107_214_3.npy\n",
      "saved results to ./results/tabular/multiclass/results_mother_net_time_1_roc_auc_thyroid-new_107_214_4.npy\n"
     ]
    },
    {
     "name": "stderr",
     "output_type": "stream",
     "text": [
      " 94%|█████████████████████████████████████████████████████████████████████████████████████████████████████████████████████████████████████████████████████████████████████████████████████████████████████████████████████████████████████████████████████████████████████████████████████████████████████████████████████████████▊                     | 300/320 [00:57<00:05,  3.56it/s]"
     ]
    },
    {
     "name": "stdout",
     "output_type": "stream",
     "text": [
      "saved results to ./results/tabular/multiclass/results_mother_net_time_1_roc_auc_thyroid-new_107_214_5.npy\n"
     ]
    },
    {
     "name": "stderr",
     "output_type": "stream",
     "text": [
      " 94%|██████████████████████████████████████████████████████████████████████████████████████████████████████████████████████████████████████████████████████████████████████████████████████████████████████████████████████████████████████████████████████████████████████████████████████████████████████████████████████████████▊                    | 301/320 [00:58<00:05,  3.46it/s]"
     ]
    },
    {
     "name": "stdout",
     "output_type": "stream",
     "text": [
      "saved results to ./results/tabular/multiclass/results_mother_net_time_1_roc_auc_CPMP-2015-runtime-classification_263_526_1.npy\n"
     ]
    },
    {
     "name": "stderr",
     "output_type": "stream",
     "text": [
      " 94%|███████████████████████████████████████████████████████████████████████████████████████████████████████████████████████████████████████████████████████████████████████████████████████████████████████████████████████████████████████████████████████████████████████████████████████████████████████████████████████████████▉                   | 302/320 [00:58<00:05,  3.41it/s]"
     ]
    },
    {
     "name": "stdout",
     "output_type": "stream",
     "text": [
      "saved results to ./results/tabular/multiclass/results_mother_net_time_1_roc_auc_CPMP-2015-runtime-classification_263_526_2.npy\n"
     ]
    },
    {
     "name": "stderr",
     "output_type": "stream",
     "text": [
      " 95%|████████████████████████████████████████████████████████████████████████████████████████████████████████████████████████████████████████████████████████████████████████████████████████████████████████████████████████████████████████████████████████████████████████████████████████████████████████████████████████████████▉                  | 303/320 [00:58<00:05,  3.37it/s]"
     ]
    },
    {
     "name": "stdout",
     "output_type": "stream",
     "text": [
      "saved results to ./results/tabular/multiclass/results_mother_net_time_1_roc_auc_CPMP-2015-runtime-classification_263_526_3.npy\n"
     ]
    },
    {
     "name": "stderr",
     "output_type": "stream",
     "text": [
      " 95%|██████████████████████████████████████████████████████████████████████████████████████████████████████████████████████████████████████████████████████████████████████████████████████████████████████████████████████████████████████████████████████████████████████████████████████████████████████████████████████████████████                 | 304/320 [00:59<00:04,  3.32it/s]"
     ]
    },
    {
     "name": "stdout",
     "output_type": "stream",
     "text": [
      "saved results to ./results/tabular/multiclass/results_mother_net_time_1_roc_auc_CPMP-2015-runtime-classification_263_526_4.npy\n"
     ]
    },
    {
     "name": "stderr",
     "output_type": "stream",
     "text": [
      " 96%|████████████████████████████████████████████████████████████████████████████████████████████████████████████████████████████████████████████████████████████████████████████████████████████████████████████████████████████████████████████████████████████████████████████████████████████████████████████████████████████████████▏              | 306/320 [00:59<00:03,  3.92it/s]"
     ]
    },
    {
     "name": "stdout",
     "output_type": "stream",
     "text": [
      "saved results to ./results/tabular/multiclass/results_mother_net_time_1_roc_auc_CPMP-2015-runtime-classification_263_526_5.npy\n",
      "saved results to ./results/tabular/multiclass/results_mother_net_time_1_roc_auc_TuningSVMs_78_156_1.npy\n"
     ]
    },
    {
     "name": "stderr",
     "output_type": "stream",
     "text": [
      " 96%|██████████████████████████████████████████████████████████████████████████████████████████████████████████████████████████████████████████████████████████████████████████████████████████████████████████████████████████████████████████████████████████████████████████████████████████████████████████████████████████████████████▎            | 308/320 [00:59<00:02,  5.54it/s]"
     ]
    },
    {
     "name": "stdout",
     "output_type": "stream",
     "text": [
      "saved results to ./results/tabular/multiclass/results_mother_net_time_1_roc_auc_TuningSVMs_78_156_2.npy\n",
      "saved results to ./results/tabular/multiclass/results_mother_net_time_1_roc_auc_TuningSVMs_78_156_3.npy\n"
     ]
    },
    {
     "name": "stderr",
     "output_type": "stream",
     "text": [
      " 97%|████████████████████████████████████████████████████████████████████████████████████████████████████████████████████████████████████████████████████████████████████████████████████████████████████████████████████████████████████████████████████████████████████████████████████████████████████████████████████████████████████████▍          | 310/320 [01:00<00:01,  6.84it/s]"
     ]
    },
    {
     "name": "stdout",
     "output_type": "stream",
     "text": [
      "saved results to ./results/tabular/multiclass/results_mother_net_time_1_roc_auc_TuningSVMs_78_156_4.npy\n",
      "saved results to ./results/tabular/multiclass/results_mother_net_time_1_roc_auc_TuningSVMs_78_156_5.npy\n"
     ]
    },
    {
     "name": "stderr",
     "output_type": "stream",
     "text": [
      " 98%|██████████████████████████████████████████████████████████████████████████████████████████████████████████████████████████████████████████████████████████████████████████████████████████████████████████████████████████████████████████████████████████████████████████████████████████████████████████████████████████████████████████▌        | 312/320 [01:00<00:01,  6.47it/s]"
     ]
    },
    {
     "name": "stdout",
     "output_type": "stream",
     "text": [
      "saved results to ./results/tabular/multiclass/results_mother_net_time_1_roc_auc_iris-example_75_150_1.npy\n",
      "saved results to ./results/tabular/multiclass/results_mother_net_time_1_roc_auc_iris-example_75_150_2.npy\n"
     ]
    },
    {
     "name": "stderr",
     "output_type": "stream",
     "text": [
      " 98%|████████████████████████████████████████████████████████████████████████████████████████████████████████████████████████████████████████████████████████████████████████████████████████████████████████████████████████████████████████████████████████████████████████████████████████████████████████████████████████████████████████████▋      | 314/320 [01:00<00:00,  6.31it/s]"
     ]
    },
    {
     "name": "stdout",
     "output_type": "stream",
     "text": [
      "saved results to ./results/tabular/multiclass/results_mother_net_time_1_roc_auc_iris-example_75_150_3.npy\n",
      "saved results to ./results/tabular/multiclass/results_mother_net_time_1_roc_auc_iris-example_75_150_4.npy\n"
     ]
    },
    {
     "name": "stderr",
     "output_type": "stream",
     "text": [
      " 98%|█████████████████████████████████████████████████████████████████████████████████████████████████████████████████████████████████████████████████████████████████████████████████████████████████████████████████████████████████████████████████████████████████████████████████████████████████████████████████████████████████████████████▋     | 315/320 [01:00<00:00,  6.30it/s]"
     ]
    },
    {
     "name": "stdout",
     "output_type": "stream",
     "text": [
      "saved results to ./results/tabular/multiclass/results_mother_net_time_1_roc_auc_iris-example_75_150_5.npy\n"
     ]
    },
    {
     "name": "stderr",
     "output_type": "stream",
     "text": [
      " 99%|██████████████████████████████████████████████████████████████████████████████████████████████████████████████████████████████████████████████████████████████████████████████████████████████████████████████████████████████████████████████████████████████████████████████████████████████████████████████████████████████████████████████▊    | 316/320 [01:01<00:01,  3.59it/s]"
     ]
    },
    {
     "name": "stdout",
     "output_type": "stream",
     "text": [
      "saved results to ./results/tabular/multiclass/results_mother_net_time_1_roc_auc_Touch2_132_264_1.npy\n"
     ]
    },
    {
     "name": "stderr",
     "output_type": "stream",
     "text": [
      " 99%|███████████████████████████████████████████████████████████████████████████████████████████████████████████████████████████████████████████████████████████████████████████████████████████████████████████████████████████████████████████████████████████████████████████████████████████████████████████████████████████████████████████████▊   | 317/320 [01:01<00:01,  2.87it/s]"
     ]
    },
    {
     "name": "stdout",
     "output_type": "stream",
     "text": [
      "saved results to ./results/tabular/multiclass/results_mother_net_time_1_roc_auc_Touch2_132_264_2.npy\n"
     ]
    },
    {
     "name": "stderr",
     "output_type": "stream",
     "text": [
      " 99%|████████████████████████████████████████████████████████████████████████████████████████████████████████████████████████████████████████████████████████████████████████████████████████████████████████████████████████████████████████████████████████████████████████████████████████████████████████████████████████████████████████████████▉  | 318/320 [01:02<00:00,  2.54it/s]"
     ]
    },
    {
     "name": "stdout",
     "output_type": "stream",
     "text": [
      "saved results to ./results/tabular/multiclass/results_mother_net_time_1_roc_auc_Touch2_132_264_3.npy\n"
     ]
    },
    {
     "name": "stderr",
     "output_type": "stream",
     "text": [
      "100%|█████████████████████████████████████████████████████████████████████████████████████████████████████████████████████████████████████████████████████████████████████████████████████████████████████████████████████████████████████████████████████████████████████████████████████████████████████████████████████████████████████████████████▉ | 319/320 [01:03<00:00,  2.27it/s]"
     ]
    },
    {
     "name": "stdout",
     "output_type": "stream",
     "text": [
      "saved results to ./results/tabular/multiclass/results_mother_net_time_1_roc_auc_Touch2_132_264_4.npy\n"
     ]
    },
    {
     "name": "stderr",
     "output_type": "stream",
     "text": [
      "100%|███████████████████████████████████████████████████████████████████████████████████████████████████████████████████████████████████████████████████████████████████████████████████████████████████████████████████████████████████████████████████████████████████████████████████████████████████████████████████████████████████████████████████| 320/320 [01:03<00:00,  5.04it/s]"
     ]
    },
    {
     "name": "stdout",
     "output_type": "stream",
     "text": [
      "saved results to ./results/tabular/multiclass/results_mother_net_time_1_roc_auc_Touch2_132_264_5.npy\n"
     ]
    },
    {
     "name": "stderr",
     "output_type": "stream",
     "text": [
      "\n"
     ]
    }
   ],
   "source": [
    "from tabpfn.scripts.tabular_evaluation import eval_on_datasets\n",
    "\n",
    "# transformers don't have max times\n",
    "import warnings\n",
    "max_times = [1]\n",
    "device = \"cuda\"\n",
    "\n",
    "model_string = \"defaults_k_aggregate_2_batch_128_onehot_classes_multiclass_02_10_2023_23_55_16\"\n",
    "tabpfn_mine =  TabPFNClassifier(device=device, model_string=model_string, epoch=82, N_ensemble_configurations=32)\n",
    "distilled_tabpfn = DistilledTabPFNMLP(n_epochs=1000, device=\"cuda\", hidden_size=128, n_layers=2, dropout_rate=.1, learning_rate=0.01, model_string=model_string, epoch=82, )\n",
    "mother_model_string = \"models_diff/prior_diff_real_checkpointcontinue_hidden_128_embed_dim_1024_decoder_nhid_2048_nlayer12_lr0003_n_0_epoch_65.cpkt\"\n",
    "forward_mlp = PermutationsMeta(ForwardMLPModel(path=mother_model_string))\n",
    "clf_dict= {\n",
    "    \n",
    "             'transformer': transformer_metric,\n",
    "           'logistic': logistic_metric,\n",
    "               'transformer_mine': partial(transformer_metric, classifier=tabpfn_mine),\n",
    "                'distill_tabpfn':  partial(transformer_metric, classifier=distilled_tabpfn),\n",
    "                'mother_net': partial(transformer_metric, classifier=forward_mlp)\n",
    "                                            }\n",
    "results_transformers = [\n",
    "    eval_on_datasets('multiclass', model, model_name, numeric_valid_datasets, eval_positions=eval_positions, max_times=max_times,\n",
    "                     metric_used=metric_used, split_numbers=[1, 2, 3, 4, 5],\n",
    "                     bptt=bptt, base_path=base_path, device=device, overwrite=False)\n",
    "    for model_name, model in clf_dict.items()\n",
    "]"
   ]
  },
  {
   "cell_type": "code",
   "execution_count": null,
   "metadata": {},
   "outputs": [],
   "source": []
  },
  {
   "cell_type": "code",
   "execution_count": null,
   "metadata": {},
   "outputs": [],
   "source": [
    "flat_results = []\n",
    "for per_dataset in results_baselines + results_transformers:\n",
    "    for result in per_dataset:\n",
    "        row = {}\n",
    "        for key in ['dataset', 'model', 'mean_metric', 'split', 'max_time']:\n",
    "            row[key] = result[key]\n",
    "        row['mean_metric'] = row[\"mean_metric\"].numpy()\n",
    "        flat_results.append(row)\n",
    "\n",
    "results_df = pd.DataFrame(flat_results)"
   ]
  },
  {
   "cell_type": "code",
   "execution_count": 67,
   "metadata": {
    "tags": []
   },
   "outputs": [
    {
     "data": {
      "text/html": [
       "<div>\n",
       "<style scoped>\n",
       "    .dataframe tbody tr th:only-of-type {\n",
       "        vertical-align: middle;\n",
       "    }\n",
       "\n",
       "    .dataframe tbody tr th {\n",
       "        vertical-align: top;\n",
       "    }\n",
       "\n",
       "    .dataframe thead th {\n",
       "        text-align: right;\n",
       "    }\n",
       "</style>\n",
       "<table border=\"1\" class=\"dataframe\">\n",
       "  <thead>\n",
       "    <tr style=\"text-align: right;\">\n",
       "      <th></th>\n",
       "      <th>dataset</th>\n",
       "      <th>model</th>\n",
       "      <th>mean_metric</th>\n",
       "      <th>split</th>\n",
       "      <th>max_time</th>\n",
       "    </tr>\n",
       "  </thead>\n",
       "  <tbody>\n",
       "    <tr>\n",
       "      <th>0</th>\n",
       "      <td>balance-scale</td>\n",
       "      <td>knn</td>\n",
       "      <td>0.8984509</td>\n",
       "      <td>1</td>\n",
       "      <td>1</td>\n",
       "    </tr>\n",
       "    <tr>\n",
       "      <th>1</th>\n",
       "      <td>balance-scale</td>\n",
       "      <td>knn</td>\n",
       "      <td>0.8489245</td>\n",
       "      <td>2</td>\n",
       "      <td>1</td>\n",
       "    </tr>\n",
       "    <tr>\n",
       "      <th>2</th>\n",
       "      <td>balance-scale</td>\n",
       "      <td>knn</td>\n",
       "      <td>0.8526509</td>\n",
       "      <td>3</td>\n",
       "      <td>1</td>\n",
       "    </tr>\n",
       "    <tr>\n",
       "      <th>3</th>\n",
       "      <td>balance-scale</td>\n",
       "      <td>knn</td>\n",
       "      <td>0.8858737</td>\n",
       "      <td>4</td>\n",
       "      <td>1</td>\n",
       "    </tr>\n",
       "    <tr>\n",
       "      <th>4</th>\n",
       "      <td>balance-scale</td>\n",
       "      <td>knn</td>\n",
       "      <td>0.8952055</td>\n",
       "      <td>5</td>\n",
       "      <td>1</td>\n",
       "    </tr>\n",
       "    <tr>\n",
       "      <th>...</th>\n",
       "      <td>...</td>\n",
       "      <td>...</td>\n",
       "      <td>...</td>\n",
       "      <td>...</td>\n",
       "      <td>...</td>\n",
       "    </tr>\n",
       "    <tr>\n",
       "      <th>2155</th>\n",
       "      <td>climate-model-simulation-crashes</td>\n",
       "      <td>logistic</td>\n",
       "      <td>0.92388344</td>\n",
       "      <td>1</td>\n",
       "      <td>900</td>\n",
       "    </tr>\n",
       "    <tr>\n",
       "      <th>2156</th>\n",
       "      <td>climate-model-simulation-crashes</td>\n",
       "      <td>logistic</td>\n",
       "      <td>0.93218476</td>\n",
       "      <td>2</td>\n",
       "      <td>900</td>\n",
       "    </tr>\n",
       "    <tr>\n",
       "      <th>2157</th>\n",
       "      <td>climate-model-simulation-crashes</td>\n",
       "      <td>logistic</td>\n",
       "      <td>0.9269986</td>\n",
       "      <td>3</td>\n",
       "      <td>900</td>\n",
       "    </tr>\n",
       "    <tr>\n",
       "      <th>2158</th>\n",
       "      <td>climate-model-simulation-crashes</td>\n",
       "      <td>logistic</td>\n",
       "      <td>0.92445797</td>\n",
       "      <td>4</td>\n",
       "      <td>900</td>\n",
       "    </tr>\n",
       "    <tr>\n",
       "      <th>2159</th>\n",
       "      <td>climate-model-simulation-crashes</td>\n",
       "      <td>logistic</td>\n",
       "      <td>0.953629</td>\n",
       "      <td>5</td>\n",
       "      <td>900</td>\n",
       "    </tr>\n",
       "  </tbody>\n",
       "</table>\n",
       "<p>2160 rows × 5 columns</p>\n",
       "</div>"
      ],
      "text/plain": [
       "                               dataset     model mean_metric  split  max_time\n",
       "0                        balance-scale       knn   0.8984509      1         1\n",
       "1                        balance-scale       knn   0.8489245      2         1\n",
       "2                        balance-scale       knn   0.8526509      3         1\n",
       "3                        balance-scale       knn   0.8858737      4         1\n",
       "4                        balance-scale       knn   0.8952055      5         1\n",
       "...                                ...       ...         ...    ...       ...\n",
       "2155  climate-model-simulation-crashes  logistic  0.92388344      1       900\n",
       "2156  climate-model-simulation-crashes  logistic  0.93218476      2       900\n",
       "2157  climate-model-simulation-crashes  logistic   0.9269986      3       900\n",
       "2158  climate-model-simulation-crashes  logistic  0.92445797      4       900\n",
       "2159  climate-model-simulation-crashes  logistic    0.953629      5       900\n",
       "\n",
       "[2160 rows x 5 columns]"
      ]
     },
     "execution_count": 67,
     "metadata": {},
     "output_type": "execute_result"
    }
   ],
   "source": [
    "results_df"
   ]
  },
  {
   "cell_type": "code",
   "execution_count": 68,
   "metadata": {},
   "outputs": [],
   "source": [
    "import pickle\n",
    "with open(\"results_validation_baseline_new_baseline_4.pickle\", \"wb\") as f:\n",
    "    pickle.dump(results, f)"
   ]
  },
  {
   "cell_type": "code",
   "execution_count": 69,
   "metadata": {},
   "outputs": [],
   "source": [
    "results_df.to_csv(\"results_validation_baseline_new_baseline_4.csv\")"
   ]
  },
  {
   "cell_type": "code",
   "execution_count": 70,
   "metadata": {},
   "outputs": [],
   "source": [
    "results_mine = pd.read_csv(\"results_validation_baseline_new_mine_2.csv\", index_col=0)"
   ]
  },
  {
   "cell_type": "code",
   "execution_count": 71,
   "metadata": {},
   "outputs": [
    {
     "data": {
      "text/html": [
       "<div>\n",
       "<style scoped>\n",
       "    .dataframe tbody tr th:only-of-type {\n",
       "        vertical-align: middle;\n",
       "    }\n",
       "\n",
       "    .dataframe tbody tr th {\n",
       "        vertical-align: top;\n",
       "    }\n",
       "\n",
       "    .dataframe thead th {\n",
       "        text-align: right;\n",
       "    }\n",
       "</style>\n",
       "<table border=\"1\" class=\"dataframe\">\n",
       "  <thead>\n",
       "    <tr style=\"text-align: right;\">\n",
       "      <th></th>\n",
       "      <th>dataset</th>\n",
       "      <th>model</th>\n",
       "      <th>mean_metric</th>\n",
       "      <th>split</th>\n",
       "      <th>max_time</th>\n",
       "    </tr>\n",
       "  </thead>\n",
       "  <tbody>\n",
       "    <tr>\n",
       "      <th>0</th>\n",
       "      <td>balance-scale</td>\n",
       "      <td>knn</td>\n",
       "      <td>0.8984509</td>\n",
       "      <td>1</td>\n",
       "      <td>1</td>\n",
       "    </tr>\n",
       "    <tr>\n",
       "      <th>1</th>\n",
       "      <td>balance-scale</td>\n",
       "      <td>knn</td>\n",
       "      <td>0.8489245</td>\n",
       "      <td>2</td>\n",
       "      <td>1</td>\n",
       "    </tr>\n",
       "    <tr>\n",
       "      <th>2</th>\n",
       "      <td>balance-scale</td>\n",
       "      <td>knn</td>\n",
       "      <td>0.8526509</td>\n",
       "      <td>3</td>\n",
       "      <td>1</td>\n",
       "    </tr>\n",
       "    <tr>\n",
       "      <th>3</th>\n",
       "      <td>balance-scale</td>\n",
       "      <td>knn</td>\n",
       "      <td>0.8858737</td>\n",
       "      <td>4</td>\n",
       "      <td>1</td>\n",
       "    </tr>\n",
       "    <tr>\n",
       "      <th>4</th>\n",
       "      <td>balance-scale</td>\n",
       "      <td>knn</td>\n",
       "      <td>0.8952055</td>\n",
       "      <td>5</td>\n",
       "      <td>1</td>\n",
       "    </tr>\n",
       "    <tr>\n",
       "      <th>...</th>\n",
       "      <td>...</td>\n",
       "      <td>...</td>\n",
       "      <td>...</td>\n",
       "      <td>...</td>\n",
       "      <td>...</td>\n",
       "    </tr>\n",
       "    <tr>\n",
       "      <th>355</th>\n",
       "      <td>blood-transfusion-service-center</td>\n",
       "      <td>mother_net</td>\n",
       "      <td>0.750906</td>\n",
       "      <td>5</td>\n",
       "      <td>1</td>\n",
       "    </tr>\n",
       "    <tr>\n",
       "      <th>356</th>\n",
       "      <td>qsar-biodeg</td>\n",
       "      <td>mother_net</td>\n",
       "      <td>0.922732</td>\n",
       "      <td>5</td>\n",
       "      <td>1</td>\n",
       "    </tr>\n",
       "    <tr>\n",
       "      <th>357</th>\n",
       "      <td>wdbc</td>\n",
       "      <td>mother_net</td>\n",
       "      <td>0.997519</td>\n",
       "      <td>5</td>\n",
       "      <td>1</td>\n",
       "    </tr>\n",
       "    <tr>\n",
       "      <th>358</th>\n",
       "      <td>steel-plates-fault</td>\n",
       "      <td>mother_net</td>\n",
       "      <td>0.896943</td>\n",
       "      <td>5</td>\n",
       "      <td>1</td>\n",
       "    </tr>\n",
       "    <tr>\n",
       "      <th>359</th>\n",
       "      <td>climate-model-simulation-crashes</td>\n",
       "      <td>mother_net</td>\n",
       "      <td>0.96316</td>\n",
       "      <td>5</td>\n",
       "      <td>1</td>\n",
       "    </tr>\n",
       "  </tbody>\n",
       "</table>\n",
       "<p>2520 rows × 5 columns</p>\n",
       "</div>"
      ],
      "text/plain": [
       "                              dataset       model mean_metric  split  max_time\n",
       "0                       balance-scale         knn   0.8984509      1         1\n",
       "1                       balance-scale         knn   0.8489245      2         1\n",
       "2                       balance-scale         knn   0.8526509      3         1\n",
       "3                       balance-scale         knn   0.8858737      4         1\n",
       "4                       balance-scale         knn   0.8952055      5         1\n",
       "..                                ...         ...         ...    ...       ...\n",
       "355  blood-transfusion-service-center  mother_net    0.750906      5         1\n",
       "356                       qsar-biodeg  mother_net    0.922732      5         1\n",
       "357                              wdbc  mother_net    0.997519      5         1\n",
       "358                steel-plates-fault  mother_net    0.896943      5         1\n",
       "359  climate-model-simulation-crashes  mother_net     0.96316      5         1\n",
       "\n",
       "[2520 rows x 5 columns]"
      ]
     },
     "execution_count": 71,
     "metadata": {},
     "output_type": "execute_result"
    }
   ],
   "source": [
    "results_combined = pd.concat([results_df, results_mine])\n",
    "results_combined"
   ]
  },
  {
   "cell_type": "code",
   "execution_count": 74,
   "metadata": {},
   "outputs": [
    {
     "data": {
      "image/png": "[encoded data removed]",
      "text/plain": [
       "<Figure size 640x480 with 1 Axes>"
      ]
     },
     "metadata": {},
     "output_type": "display_data"
    }
   ],
   "source": [
    "compare_splits = results_combined.groupby([\"model\", \"split\", \"max_time\"])['mean_metric'].mean().reset_index()\n",
    "\n",
    "import seaborn as sns\n",
    "varies_over_time = ['logistic', 'xgb', 'rf']\n",
    "compare_splits_varies = compare_splits[compare_splits.model.isin(varies_over_time)]\n",
    "compare_splits_fixed = compare_splits[~compare_splits.model.isin(varies_over_time)]\n",
    "\n",
    "color_palette = sns.color_palette()\n",
    "ax = sns.lineplot(compare_splits_varies, x=\"max_time\", y=\"mean_metric\", hue=\"model\", errorbar=\"sd\", marker=\"o\", palette=color_palette[:len(varies_over_time)])\n",
    "\n",
    "compare_splits_fixed_dummy = compare_splits_fixed.copy()\n",
    "compare_splits_fixed_dummy['max_time'] = compare_splits_varies.max_time.max()\n",
    "sns.lineplot(pd.concat([compare_splits_fixed, compare_splits_fixed_dummy]),\n",
    "             x=\"max_time\", y=\"mean_metric\", hue=\"model\", errorbar=\"sd\", ax=ax, palette=color_palette[len(varies_over_time):compare_splits.model.nunique()])\n",
    "sns.move_legend(ax, (1.01, 0))\n",
    "#ax.set_ylim(0.9, 0.95)"
   ]
  },
  {
   "cell_type": "code",
   "execution_count": 78,
   "metadata": {},
   "outputs": [],
   "source": [
    "average_over_splits = results_combined.groupby([\"dataset\", \"model\", \"max_time\"]).mean_metric.mean().reset_index()"
   ]
  },
  {
   "cell_type": "code",
   "execution_count": 83,
   "metadata": {},
   "outputs": [
    {
     "data": {
      "text/html": [
       "<div>\n",
       "<style scoped>\n",
       "    .dataframe tbody tr th:only-of-type {\n",
       "        vertical-align: middle;\n",
       "    }\n",
       "\n",
       "    .dataframe tbody tr th {\n",
       "        vertical-align: top;\n",
       "    }\n",
       "\n",
       "    .dataframe thead th {\n",
       "        text-align: right;\n",
       "    }\n",
       "</style>\n",
       "<table border=\"1\" class=\"dataframe\">\n",
       "  <thead>\n",
       "    <tr style=\"text-align: right;\">\n",
       "      <th></th>\n",
       "      <th>dataset</th>\n",
       "      <th>model</th>\n",
       "      <th>mean_metric</th>\n",
       "    </tr>\n",
       "  </thead>\n",
       "  <tbody>\n",
       "    <tr>\n",
       "      <th>0</th>\n",
       "      <td>analcatdata_authorship</td>\n",
       "      <td>distill_tabpfn</td>\n",
       "      <td>0.999934</td>\n",
       "    </tr>\n",
       "    <tr>\n",
       "      <th>1</th>\n",
       "      <td>analcatdata_authorship</td>\n",
       "      <td>knn</td>\n",
       "      <td>0.999763</td>\n",
       "    </tr>\n",
       "    <tr>\n",
       "      <th>2</th>\n",
       "      <td>analcatdata_authorship</td>\n",
       "      <td>logistic</td>\n",
       "      <td>0.999965</td>\n",
       "    </tr>\n",
       "    <tr>\n",
       "      <th>3</th>\n",
       "      <td>analcatdata_authorship</td>\n",
       "      <td>mother_net</td>\n",
       "      <td>0.999966</td>\n",
       "    </tr>\n",
       "    <tr>\n",
       "      <th>4</th>\n",
       "      <td>analcatdata_authorship</td>\n",
       "      <td>rf</td>\n",
       "      <td>0.999710</td>\n",
       "    </tr>\n",
       "    <tr>\n",
       "      <th>...</th>\n",
       "      <td>...</td>\n",
       "      <td>...</td>\n",
       "      <td>...</td>\n",
       "    </tr>\n",
       "    <tr>\n",
       "      <th>139</th>\n",
       "      <td>wdbc</td>\n",
       "      <td>mother_net</td>\n",
       "      <td>0.995587</td>\n",
       "    </tr>\n",
       "    <tr>\n",
       "      <th>140</th>\n",
       "      <td>wdbc</td>\n",
       "      <td>rf</td>\n",
       "      <td>0.992486</td>\n",
       "    </tr>\n",
       "    <tr>\n",
       "      <th>141</th>\n",
       "      <td>wdbc</td>\n",
       "      <td>transformer</td>\n",
       "      <td>0.996465</td>\n",
       "    </tr>\n",
       "    <tr>\n",
       "      <th>142</th>\n",
       "      <td>wdbc</td>\n",
       "      <td>transformer_mine</td>\n",
       "      <td>0.996354</td>\n",
       "    </tr>\n",
       "    <tr>\n",
       "      <th>143</th>\n",
       "      <td>wdbc</td>\n",
       "      <td>xgb</td>\n",
       "      <td>0.993768</td>\n",
       "    </tr>\n",
       "  </tbody>\n",
       "</table>\n",
       "<p>144 rows × 3 columns</p>\n",
       "</div>"
      ],
      "text/plain": [
       "                    dataset             model  mean_metric\n",
       "0    analcatdata_authorship    distill_tabpfn     0.999934\n",
       "1    analcatdata_authorship               knn     0.999763\n",
       "2    analcatdata_authorship          logistic     0.999965\n",
       "3    analcatdata_authorship        mother_net     0.999966\n",
       "4    analcatdata_authorship                rf     0.999710\n",
       "..                      ...               ...          ...\n",
       "139                    wdbc        mother_net     0.995587\n",
       "140                    wdbc                rf     0.992486\n",
       "141                    wdbc       transformer     0.996465\n",
       "142                    wdbc  transformer_mine     0.996354\n",
       "143                    wdbc               xgb     0.993768\n",
       "\n",
       "[144 rows x 3 columns]"
      ]
     },
     "execution_count": 83,
     "metadata": {},
     "output_type": "execute_result"
    }
   ],
   "source": [
    "best_over_time = average_over_splits.groupby([\"dataset\", \"model\"]).mean_metric.max().reset_index()\n",
    "best_over_time"
   ]
  },
  {
   "cell_type": "code",
   "execution_count": 14,
   "metadata": {},
   "outputs": [
    {
     "ename": "NameError",
     "evalue": "name 'best_over_time' is not defined",
     "output_type": "error",
     "traceback": [
      "\u001b[0;31m---------------------------------------------------------------------------\u001b[0m",
      "\u001b[0;31mNameError\u001b[0m                                 Traceback (most recent call last)",
      "Cell \u001b[0;32mIn[14], line 3\u001b[0m\n\u001b[1;32m      1\u001b[0m \u001b[38;5;28;01mfrom\u001b[39;00m \u001b[38;5;21;01mtabpfn\u001b[39;00m\u001b[38;5;21;01m.\u001b[39;00m\u001b[38;5;21;01mscripts\u001b[39;00m\u001b[38;5;21;01m.\u001b[39;00m\u001b[38;5;21;01mcritical_differences\u001b[39;00m \u001b[38;5;28;01mimport\u001b[39;00m draw_cd_diagram\n\u001b[0;32m----> 3\u001b[0m best_over_time\u001b[38;5;241m.\u001b[39mcolumns \u001b[38;5;241m=\u001b[39m [\u001b[38;5;124m'\u001b[39m\u001b[38;5;124mdataset_name\u001b[39m\u001b[38;5;124m'\u001b[39m, \u001b[38;5;124m'\u001b[39m\u001b[38;5;124mclassifier_name\u001b[39m\u001b[38;5;124m'\u001b[39m, \u001b[38;5;124m'\u001b[39m\u001b[38;5;124maccuracy\u001b[39m\u001b[38;5;124m'\u001b[39m]\n\u001b[1;32m      4\u001b[0m res \u001b[38;5;241m=\u001b[39m draw_cd_diagram(best_over_time, title\u001b[38;5;241m=\u001b[39m\u001b[38;5;124m\"\u001b[39m\u001b[38;5;124mOVO ROC AUC\u001b[39m\u001b[38;5;124m\"\u001b[39m)\n",
      "\u001b[0;31mNameError\u001b[0m: name 'best_over_time' is not defined"
     ]
    }
   ],
   "source": [
    "from tabpfn.scripts.critical_differences import draw_cd_diagram\n",
    "\n",
    "best_over_time.columns = ['dataset_name', 'classifier_name', 'accuracy']\n",
    "res = draw_cd_diagram(best_over_time, title=\"OVO ROC AUC\");"
   ]
  },
  {
   "cell_type": "code",
   "execution_count": null,
   "metadata": {},
   "outputs": [],
   "source": []
  }
 ],
 "metadata": {
  "kernelspec": {
   "display_name": "Python [conda env:fresh311]",
   "language": "python",
   "name": "conda-env-fresh311-py"
  },
  "language_info": {
   "codemirror_mode": {
    "name": "ipython",
    "version": 3
   },
   "file_extension": ".py",
   "mimetype": "text/x-python",
   "name": "python",
   "nbconvert_exporter": "python",
   "pygments_lexer": "ipython3",
   "version": "3.11.0"
  }
 },
 "nbformat": 4,
 "nbformat_minor": 4
}
