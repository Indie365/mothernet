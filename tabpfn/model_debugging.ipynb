{
 "cells": [
  {
   "cell_type": "code",
   "execution_count": 1,
   "id": "81d0accb-bd27-446a-9f54-03023c3bf855",
   "metadata": {},
   "outputs": [
    {
     "ename": "NameError",
     "evalue": "name 'models_diff' is not defined",
     "output_type": "error",
     "traceback": [
      "\u001b[0;31m---------------------------------------------------------------------------\u001b[0m",
      "\u001b[0;31mNameError\u001b[0m                                 Traceback (most recent call last)",
      "\u001b[0;32m/tmp/ipykernel_3012578/3399893443.py\u001b[0m in \u001b[0;36m<module>\u001b[0;34m\u001b[0m\n\u001b[0;32m----> 1\u001b[0;31m \u001b[0mmodels_diff\u001b[0m\u001b[0;34m/\u001b[0m\u001b[0mprior_diff_real_checkpoint_defaults_k_aggregate_2_batch_128_onehot_classes_multiclass_02_10_2023_23_55_16_n_0_epoch_2\u001b[0m\u001b[0;34m.\u001b[0m\u001b[0mcpkt\u001b[0m\u001b[0;34m\u001b[0m\u001b[0;34m\u001b[0m\u001b[0m\n\u001b[0m",
      "\u001b[0;31mNameError\u001b[0m: name 'models_diff' is not defined"
     ]
    }
   ],
   "source": []
  },
  {
   "cell_type": "code",
   "execution_count": 1,
   "id": "0dbfe82c-d579-4dfb-b600-46a99df616d3",
   "metadata": {},
   "outputs": [
    {
     "name": "stderr",
     "output_type": "stream",
     "text": [
      "/anaconda/envs/tabpfn/lib/python3.7/site-packages/tqdm/auto.py:22: TqdmWarning: IProgress not found. Please update jupyter and ipywidgets. See https://ipywidgets.readthedocs.io/en/stable/user_install.html\n",
      "  from .autonotebook import tqdm as notebook_tqdm\n"
     ]
    },
    {
     "name": "stdout",
     "output_type": "stream",
     "text": [
      "loading model from file models_diff/prior_diff_real_checkpoint_defaults_k_aggregate_2_batch_128_onehot_classes_multiclass_02_10_2023_23_55_16_n_0_epoch_2.cpkt\n",
      "Loading model that can be used for inference only\n",
      "Using a Transformer with 25.83 M parameters\n"
     ]
    }
   ],
   "source": [
    "from tabpfn import TabPFNClassifier\n",
    "clf = TabPFNClassifier(device='cuda', model_string=\"defaults_k_aggregate_2_batch_128_onehot_classes_multiclass_02_10_2023_23_55_16\", epoch=2)"
   ]
  },
  {
   "cell_type": "code",
   "execution_count": 6,
   "id": "b8ef9c41-bd04-4c54-a61c-05903145b6dd",
   "metadata": {},
   "outputs": [
    {
     "data": {
      "text/plain": [
       "OneHotAndLinear(in_features=10, out_features=512, bias=True)"
      ]
     },
     "execution_count": 6,
     "metadata": {},
     "output_type": "execute_result"
    }
   ],
   "source": [
    "clf.model[2].y_encoder"
   ]
  },
  {
   "cell_type": "code",
   "execution_count": 14,
   "id": "e5599a6b-bcc9-42b5-a5ad-bc2cdf475a37",
   "metadata": {},
   "outputs": [
    {
     "data": {
      "text/plain": [
       "torch.Size([512, 10])"
      ]
     },
     "execution_count": 14,
     "metadata": {},
     "output_type": "execute_result"
    }
   ],
   "source": [
    "import numpy as np\n",
    "list(clf.model[2].y_encoder.parameters())[0].shape"
   ]
  },
  {
   "cell_type": "code",
   "execution_count": 15,
   "id": "b271b4e5-b0c0-407d-9666-95b65835d1c3",
   "metadata": {},
   "outputs": [
    {
     "data": {
      "text/plain": [
       "torch.Size([512])"
      ]
     },
     "execution_count": 15,
     "metadata": {},
     "output_type": "execute_result"
    }
   ],
   "source": [
    "list(clf.model[2].y_encoder.parameters())[1].shape"
   ]
  },
  {
   "cell_type": "code",
   "execution_count": null,
   "id": "b971bb19-d5f6-4b2a-bcaf-b0ec418ec76c",
   "metadata": {},
   "outputs": [],
   "source": []
  }
 ],
 "metadata": {
  "kernelspec": {
   "display_name": "Python 3 (ipykernel)",
   "language": "python",
   "name": "python3"
  },
  "language_info": {
   "codemirror_mode": {
    "name": "ipython",
    "version": 3
   },
   "file_extension": ".py",
   "mimetype": "text/x-python",
   "name": "python",
   "nbconvert_exporter": "python",
   "pygments_lexer": "ipython3",
   "version": "3.7.16"
  }
 },
 "nbformat": 4,
 "nbformat_minor": 5
}
