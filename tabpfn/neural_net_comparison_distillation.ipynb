{
 "cells": [
  {
   "cell_type": "code",
   "execution_count": null,
   "id": "bd35cb69-a8d3-4125-b27a-21f60415aeb9",
   "metadata": {},
   "outputs": [],
   "source": [
    "from torch.utils.data import TensorDataset\n",
    "from sklearn.model_selection import train_test_split\n",
    "from sklearn.datasets import load_iris\n",
    "import numpy as np\n",
    "iris = load_iris()\n",
    "X_train, X_test, y_train, y_test = train_test_split(iris.data, iris.target)"
   ]
  },
  {
   "cell_type": "code",
   "execution_count": null,
   "id": "9182b3ce-cd53-4237-83bb-894bd4ed7a80",
   "metadata": {},
   "outputs": [],
   "source": [
    "from sklearn.preprocessing import StandardScaler\n",
    "scaler = StandardScaler()\n",
    "X_train_s = scaler.fit_transform(X_train)\n",
    "X_test_s = scaler.transform(X_test)"
   ]
  },
  {
   "cell_type": "code",
   "execution_count": null,
   "id": "401fdd35-5908-48c4-8e15-eb3a4b48ad9c",
   "metadata": {},
   "outputs": [],
   "source": [
    "from tabpfn.scripts.distill_mlp import TorchMLP, DistilledTabPFNMLP\n",
    "from tabpfn.scripts.transformer_prediction_interface import TabPFNClassifier"
   ]
  },
  {
   "cell_type": "code",
   "execution_count": null,
   "id": "f3c39630-be38-4681-b545-e860f9481653",
   "metadata": {
    "tags": []
   },
   "outputs": [],
   "source": [
    "TorchMLP(n_epochs=100).fit(X_train, y_train).score(X_test, y_test)"
   ]
  },
  {
   "cell_type": "code",
   "execution_count": null,
   "id": "411a4ab3-1165-4957-9d72-e55ba18716a7",
   "metadata": {},
   "outputs": [],
   "source": [
    "TorchMLP(n_epochs=100).fit(X_train_s, y_train).score(X_test_s, y_test)"
   ]
  },
  {
   "cell_type": "code",
   "execution_count": null,
   "id": "e8aaf3ae-f3be-4a77-ae5f-1f13a343e672",
   "metadata": {},
   "outputs": [],
   "source": [
    "DistilledTabPFNMLP(n_epochs=100).fit(X_train, y_train).score(X_test, y_test)"
   ]
  },
  {
   "cell_type": "code",
   "execution_count": null,
   "id": "c7795b24-94f5-4b3f-91c5-a004ca84bc14",
   "metadata": {
    "tags": []
   },
   "outputs": [],
   "source": [
    "DistilledTabPFNMLP(n_epochs=100).fit(X_train_s, y_train).score(X_test_s, y_test)"
   ]
  },
  {
   "cell_type": "code",
   "execution_count": null,
   "id": "86ed5297-ffe1-4662-9fb2-0b1a3e9b14be",
   "metadata": {},
   "outputs": [],
   "source": [
    "TabPFNClassifier().fit(X_train_s, y_train).score(X_test_s, y_test)"
   ]
  },
  {
   "cell_type": "code",
   "execution_count": null,
   "id": "16753e0b-1a77-49f0-a3f6-1399a21ceaa8",
   "metadata": {},
   "outputs": [],
   "source": [
    "DistilledTabPFNMLP(n_epochs=100, temperature=10).fit(X_train_s, y_train).score(X_test_s, y_test)"
   ]
  },
  {
   "cell_type": "code",
   "execution_count": null,
   "id": "e6c7a963-21ba-426f-af33-481410fc4fc5",
   "metadata": {},
   "outputs": [],
   "source": [
    "from tabpfn.datasets import load_openml_list, open_cc_dids, open_cc_valid_dids, test_dids_classification\n",
    "\n",
    "cc_valid_datasets_multiclass, cc_valid_datasets_multiclass_df = load_openml_list(open_cc_valid_dids, multiclass=True, shuffled=True, filter_for_nan=False, max_samples = 10000, num_feats=100, return_capped=True)"
   ]
  },
  {
   "cell_type": "code",
   "execution_count": null,
   "id": "4e82f2db-a1b4-4b26-9a9d-20a1044614d4",
   "metadata": {},
   "outputs": [],
   "source": [
    "from sklearn.linear_model import LogisticRegression\n",
    "from sklearn.pipeline import make_pipeline\n",
    "from sklearn.preprocessing import StandardScaler, OneHotEncoder, OrdinalEncoder\n",
    "from sklearn.impute import SimpleImputer\n",
    "from sklearn.compose import make_column_transformer\n",
    "from sklearn.model_selection import cross_validate\n",
    "from sklearn.neighbors import KNeighborsClassifier\n",
    "from sklearn.ensemble import HistGradientBoostingClassifier, RandomForestClassifier\n",
    "\n",
    "\n",
    "def make_mlp(categorical_features):\n",
    "    cont_pipe = make_pipeline(StandardScaler(), SimpleImputer())\n",
    "    preprocess = make_column_transformer((OneHotEncoder(handle_unknown='ignore', sparse_output=False), categorical_features), remainder=cont_pipe)\n",
    "    return make_pipeline(preprocess, TorchMLP(n_epochs=100))\n",
    "\n",
    "def make_distilled_tabpfn(categorical_features):\n",
    "    cont_pipe = make_pipeline(StandardScaler(), SimpleImputer())\n",
    "    preprocess = make_column_transformer((OneHotEncoder(handle_unknown='ignore', sparse_output=False, max_categories=10), categorical_features), remainder=cont_pipe)\n",
    "    return make_pipeline(preprocess, DistilledTabPFNMLP(n_epochs=100))\n",
    "\n",
    "def make_distilled_tabpfn_ht(categorical_features):\n",
    "    cont_pipe = make_pipeline(StandardScaler(), SimpleImputer())\n",
    "    preprocess = make_column_transformer((OneHotEncoder(handle_unknown='ignore', sparse_output=False, max_categories=10), categorical_features), remainder=cont_pipe)\n",
    "    return make_pipeline(preprocess, DistilledTabPFNMLP(n_epochs=100, temperature=10))\n",
    "\n",
    "def make_distilled_tabpfn_temp_4(categorical_features):\n",
    "    cont_pipe = make_pipeline(StandardScaler(), SimpleImputer())\n",
    "    preprocess = make_column_transformer((OneHotEncoder(handle_unknown='ignore', sparse_output=False, max_categories=10), categorical_features), remainder=cont_pipe)\n",
    "    return make_pipeline(preprocess, DistilledTabPFNMLP(n_epochs=100, temperature=4))"
   ]
  },
  {
   "cell_type": "code",
   "execution_count": null,
   "id": "b2afa776-957f-4a77-91bc-b943169a5ab6",
   "metadata": {},
   "outputs": [],
   "source": [
    "models = {'mlp': make_mlp,\n",
    "          'distilled_tabpfn': make_distilled_tabpfn,\n",
    "         'distilled_tabpfn_ht': make_distilled_tabpfn_ht,\n",
    "\n",
    "          'logreg': make_logreg,\n",
    "            'knn': make_knn,\n",
    "            'hgb': make_hgb,\n",
    "            'rf': make_rf,\n",
    "            'tabpfn': make_tabpfn}"
   ]
  },
  {
   "cell_type": "code",
   "execution_count": null,
   "id": "4e7bc371-5658-4306-be96-286cb92fdf7a",
   "metadata": {},
   "outputs": [],
   "source": [
    "\n",
    "from collections import defaultdict\n",
    "all_scores = defaultdict(dict)\n",
    "for ds_name, X, y, categorical_features, _, _ in cc_valid_datasets_multiclass:\n",
    "    print(ds_name)\n",
    "    for model_name, model_creator in models.items():\n",
    "        clf = model_creator(categorical_features)\n",
    "        if X.shape[1] > 100:\n",
    "            X = X[:, :100]\n",
    "        try:\n",
    "            scores = cross_validate(clf, X, y, scoring=\"roc_auc_ovo\")\n",
    "            score = scores['test_score'].mean()\n",
    "        except:\n",
    "            score = np.NaN\n",
    "        all_scores[ds_name][model_name] = score"
   ]
  },
  {
   "cell_type": "code",
   "execution_count": null,
   "id": "c88a13b4-b764-42a2-9217-801ea3fe3a48",
   "metadata": {},
   "outputs": [],
   "source": [
    "import pandas as pd\n",
    "results = pd.DataFrame.from_dict(all_scores).T"
   ]
  },
  {
   "cell_type": "code",
   "execution_count": null,
   "id": "05b3e604-5938-4271-916d-e5bb44e513f4",
   "metadata": {
    "tags": []
   },
   "outputs": [],
   "source": [
    "results.isna().sum()"
   ]
  },
  {
   "cell_type": "code",
   "execution_count": null,
   "id": "fcd712d4-f6f2-47ce-8139-df8922f6d727",
   "metadata": {},
   "outputs": [],
   "source": [
    "results.to_csv(\"sklearn_implementation_baselines_auc.cvs\")"
   ]
  },
  {
   "cell_type": "code",
   "execution_count": null,
   "id": "4c1cc13c-944f-4a1a-9b5e-8cb510da0baf",
   "metadata": {},
   "outputs": [],
   "source": [
    "results.dropna()"
   ]
  },
  {
   "cell_type": "code",
   "execution_count": null,
   "id": "efc2554e-9881-4d82-97fa-37987f92f75e",
   "metadata": {},
   "outputs": [],
   "source": [
    "bla  = results.dropna().stack().reset_index()\n",
    "bla.columns = ['dataset_name', 'classifier_name', 'accuracy']\n",
    "bla"
   ]
  },
  {
   "cell_type": "code",
   "execution_count": null,
   "id": "2492b8c1-7136-4a2b-b1da-a7595a97ece3",
   "metadata": {},
   "outputs": [],
   "source": []
  },
  {
   "cell_type": "code",
   "execution_count": null,
   "id": "958b3ca2-841a-4cdd-995f-ec964301ecb8",
   "metadata": {},
   "outputs": [],
   "source": [
    "from critical_differences import draw_cd_diagram\n",
    "res = draw_cd_diagram(bla, title=\"OVO ROC AUC\")"
   ]
  },
  {
   "cell_type": "code",
   "execution_count": null,
   "id": "212868da-91e4-405d-b552-0d7cf147ac9c",
   "metadata": {
    "tags": []
   },
   "outputs": [],
   "source": [
    "from collections import defaultdict\n",
    "all_scores = defaultdict(dict)\n",
    "\n",
    "from collections import defaultdict\n",
    "for ds_name, X, y, categorical_features, _, _ in cc_valid_datasets_multiclass:\n",
    "    print(ds_name)\n",
    "    for model_name, model_creator in models.items():\n",
    "        clf = model_creator(categorical_features)\n",
    "        if X.shape[1] > 100:\n",
    "            X = X[:, :100]\n",
    "        try:\n",
    "            scores = cross_validate(clf, X, y, scoring=\"roc_auc_ovo\", error_score=\"raise\")\n",
    "            score = scores['test_score'].mean()\n",
    "        except Exception as e:\n",
    "            print(e)\n",
    "            score = np.NaN\n",
    "        all_scores[ds_name][model_name] = score"
   ]
  },
  {
   "cell_type": "code",
   "execution_count": null,
   "id": "66cf5426-a3bc-4a05-8666-fbe4994bf117",
   "metadata": {
    "tags": []
   },
   "outputs": [],
   "source": [
    "all_scores"
   ]
  },
  {
   "cell_type": "code",
   "execution_count": null,
   "id": "64d0f120-78e5-435c-98bb-fbf4c0469708",
   "metadata": {},
   "outputs": [],
   "source": [
    "import pandas as pd\n",
    "results = pd.read_csv(\"sklearn_implementation_baselines_auc.cvs\", index_col=0)"
   ]
  },
  {
   "cell_type": "code",
   "execution_count": null,
   "id": "8a3c3848-59fb-4656-8e0d-73ef4b347b2f",
   "metadata": {},
   "outputs": [],
   "source": [
    "results_new = pd.DataFrame.from_dict(all_scores).T"
   ]
  },
  {
   "cell_type": "code",
   "execution_count": null,
   "id": "56b25bce-9eb0-48d1-9c00-c40f02f725f3",
   "metadata": {},
   "outputs": [],
   "source": [
    "results_new"
   ]
  },
  {
   "cell_type": "code",
   "execution_count": null,
   "id": "8121f0f2-4e59-497a-9e25-c2d7841e1448",
   "metadata": {},
   "outputs": [],
   "source": [
    "results_new.isna().sum()"
   ]
  },
  {
   "cell_type": "code",
   "execution_count": null,
   "id": "09f46626-1d77-4a1b-8417-6edc2b52bfbd",
   "metadata": {},
   "outputs": [],
   "source": [
    "results"
   ]
  },
  {
   "cell_type": "code",
   "execution_count": null,
   "id": "3db49fc9-8796-4205-bfbd-7301f423098e",
   "metadata": {},
   "outputs": [],
   "source": [
    "res = pd.concat([results, results_new], axis=1)"
   ]
  },
  {
   "cell_type": "code",
   "execution_count": null,
   "id": "4892cc57-e3a8-409d-b595-51d4b1e929e6",
   "metadata": {},
   "outputs": [],
   "source": [
    "res"
   ]
  },
  {
   "cell_type": "code",
   "execution_count": null,
   "id": "7274f307-a8b4-44ee-88fb-a45f8c8533ec",
   "metadata": {},
   "outputs": [],
   "source": [
    "res.to_csv(\"distillation_comparison_lgbm.csv\")"
   ]
  },
  {
   "cell_type": "code",
   "execution_count": null,
   "id": "b5bcd80f-166c-4236-a295-f980e67ed171",
   "metadata": {},
   "outputs": [],
   "source": [
    "import pandas as pd\n",
    "res = pd.read_csv(\"distillation_comparison.csv\", index_col=0)"
   ]
  },
  {
   "cell_type": "code",
   "execution_count": null,
   "id": "3613a1c0-aaed-4639-b02a-d402085d3b24",
   "metadata": {},
   "outputs": [],
   "source": [
    "res.isna().sum()"
   ]
  },
  {
   "cell_type": "code",
   "execution_count": null,
   "id": "4ff6a6e0-38c9-4a5f-a0c9-4bddfc0cb50c",
   "metadata": {},
   "outputs": [],
   "source": [
    "grr = res.isna().sum(axis=1)\n",
    "grr[grr>0]"
   ]
  },
  {
   "cell_type": "code",
   "execution_count": null,
   "id": "4c3cc3b8-c191-430c-91ab-d5fc72bfbf2d",
   "metadata": {},
   "outputs": [],
   "source": [
    "res.dropna()"
   ]
  },
  {
   "cell_type": "code",
   "execution_count": null,
   "id": "1505e62e-fa7a-4892-8667-482d7e06c3b0",
   "metadata": {},
   "outputs": [],
   "source": [
    "bla  = res.drop(columns=\"hgb\").dropna().stack().reset_index()\n",
    "bla.columns = ['dataset_name', 'classifier_name', 'accuracy']\n",
    "bla"
   ]
  },
  {
   "cell_type": "code",
   "execution_count": null,
   "id": "0c75ffc5-2844-4da8-8e47-9ed069c9d1a0",
   "metadata": {},
   "outputs": [],
   "source": [
    "from critical_differences import draw_cd_diagram\n",
    "draw_cd_diagram(bla, title=\"OVO ROC AUC\")"
   ]
  },
  {
   "cell_type": "code",
   "execution_count": null,
   "id": "2aca98ae-7ed9-4dda-997f-70ae043b8e54",
   "metadata": {},
   "outputs": [],
   "source": [
    "models"
   ]
  },
  {
   "cell_type": "code",
   "execution_count": null,
   "id": "14c55aa4-47fc-49e4-8428-fc0964806c31",
   "metadata": {
    "tags": []
   },
   "outputs": [],
   "source": [
    "all_scores"
   ]
  },
  {
   "cell_type": "code",
   "execution_count": null,
   "id": "06d92da8-943c-4fab-bfe0-b9f1cf493588",
   "metadata": {},
   "outputs": [],
   "source": [
    "np.isnan(np.nan)"
   ]
  },
  {
   "cell_type": "code",
   "execution_count": null,
   "id": "c7f53675-f116-4925-8092-34f4e6e27414",
   "metadata": {},
   "outputs": [],
   "source": [
    "from tabpfn.scripts.evaluate_baselines_sklearn import make_logreg, make_knn, make_hgb, make_rf, make_tabpfn, make_mlp, make_distilled_tabpfn"
   ]
  },
  {
   "cell_type": "code",
   "execution_count": null,
   "id": "6770c933-a098-40da-a477-63b1410dede9",
   "metadata": {},
   "outputs": [],
   "source": [
    "%pip install lightgbm"
   ]
  },
  {
   "cell_type": "code",
   "execution_count": null,
   "id": "f1c08a5a-df86-455a-b3f9-a6db385df6dc",
   "metadata": {},
   "outputs": [],
   "source": [
    "from lightgbm import LGBMClassifier"
   ]
  },
  {
   "cell_type": "code",
   "execution_count": null,
   "id": "2cc3ae28-ac75-4789-adef-def8b503aa66",
   "metadata": {},
   "outputs": [],
   "source": [
    "def make_lgbm(categorical_features):\n",
    "    return LGBMClassifier(categorical_features=categorical_features)"
   ]
  },
  {
   "cell_type": "code",
   "execution_count": null,
   "id": "4963243d-1df7-4621-8dfe-bfd185a7a404",
   "metadata": {},
   "outputs": [],
   "source": [
    "models = {'mlp': make_mlp,\n",
    "          'distilled_tabpfn': make_distilled_tabpfn,\n",
    "         'distilled_tabpfn_ht': make_distilled_tabpfn_ht,\n",
    "         'distilled_tabpfn_temp4': make_distilled_tabpfn_temp_4,\n",
    "\n",
    "          'logreg': make_logreg,\n",
    "            'knn': make_knn,\n",
    "            'hgb': make_hgb,\n",
    "            'rf': make_rf,\n",
    "            'tabpfn': make_tabpfn}"
   ]
  },
  {
   "cell_type": "code",
   "execution_count": null,
   "id": "806ba503-2b05-49d4-bd22-81aab2df83b1",
   "metadata": {},
   "outputs": [],
   "source": [
    "res['distilled_tabpfn_temp4'] = np.NaN"
   ]
  },
  {
   "cell_type": "code",
   "execution_count": null,
   "id": "96d2a700-46f4-45c7-aa5c-5641f7b72ed2",
   "metadata": {},
   "outputs": [],
   "source": [
    "res"
   ]
  },
  {
   "cell_type": "code",
   "execution_count": null,
   "id": "44670d50-84b0-4495-bb98-06e02714138a",
   "metadata": {
    "tags": []
   },
   "outputs": [],
   "source": [
    "from sklearn.model_selection import cross_validate\n",
    "\n",
    "for ds_name, X, y, categorical_features, _, _ in cc_valid_datasets_multiclass:\n",
    "    print(ds_name)\n",
    "    for model_name, model_creator in models.items():\n",
    "        if not np.isnan(res.loc[ds_name, model_name]):\n",
    "            continue\n",
    "        clf = model_creator(categorical_features)\n",
    "        if X.shape[1] > 100:\n",
    "            X = X[:, :100]\n",
    "        try:\n",
    "            scores = cross_validate(clf, X, y, scoring=\"roc_auc_ovo\", error_score=\"raise\")\n",
    "            score = scores['test_score'].mean()\n",
    "        except Exception as e:\n",
    "            print(str(e))\n",
    "            score = np.NaN\n",
    "        res.loc[ds_name, model_name] = score"
   ]
  },
  {
   "cell_type": "code",
   "execution_count": null,
   "id": "09b51ba4-1075-4512-bb7d-4ea1d0d07df8",
   "metadata": {},
   "outputs": [],
   "source": [
    "res.isna().sum()"
   ]
  },
  {
   "cell_type": "code",
   "execution_count": null,
   "id": "a1e7901a-639e-4cb7-bf75-68f2abf62a8b",
   "metadata": {},
   "outputs": [],
   "source": []
  }
 ],
 "metadata": {
  "kernelspec": {
   "display_name": "Python [conda env:tabpfn]",
   "language": "python",
   "name": "conda-env-tabpfn-py"
  },
  "language_info": {
   "codemirror_mode": {
    "name": "ipython",
    "version": 3
   },
   "file_extension": ".py",
   "mimetype": "text/x-python",
   "name": "python",
   "nbconvert_exporter": "python",
   "pygments_lexer": "ipython3",
   "version": "3.11.0"
  }
 },
 "nbformat": 4,
 "nbformat_minor": 5
}
