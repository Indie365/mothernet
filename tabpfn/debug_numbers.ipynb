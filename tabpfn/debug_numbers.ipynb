{
 "cells": [
  {
   "cell_type": "code",
   "execution_count": 24,
   "id": "e39632da-7a5c-4a36-8234-66c455028ad4",
   "metadata": {},
   "outputs": [],
   "source": [
    "import matplotlib.pyplot as plt\n",
    "\n",
    "from scripts import tabular_baselines\n",
    "\n",
    "import seaborn as sns\n",
    "import numpy as np\n",
    "\n",
    "from datasets import load_openml_list, valid_dids_classification, test_dids_classification, open_cc_dids\n",
    "from scripts.tabular_baselines import *\n",
    "from scripts.tabular_evaluation import evaluate\n",
    "from scripts.tabular_metrics import calculate_score, make_ranks_and_wins_table, make_metric_matrix\n",
    "from scripts import tabular_metrics\n",
    "from scripts.transformer_prediction_interface import TabPFNClassifier\n",
    "import matplotlib.pyplot as plt\n",
    "\n",
    "from scripts import tabular_baselines\n",
    "\n",
    "import seaborn as sns\n",
    "import numpy as np\n",
    "\n",
    "from datasets import load_openml_list, valid_dids_classification, test_dids_classification, open_cc_dids\n",
    "from scripts.tabular_baselines import *\n",
    "from scripts.tabular_evaluation import evaluate\n",
    "from scripts.tabular_metrics import calculate_score, make_ranks_and_wins_table, make_metric_matrix\n",
    "from scripts import tabular_metrics\n",
    "from scripts.transformer_prediction_interface import TabPFNClassifier\n",
    "from scripts.tabular_baselines import knn_metric, catboost_metric, transformer_metric, logistic_metric, xgb_metric, random_forest_metric, mlp_metric\n"
   ]
  },
  {
   "cell_type": "code",
   "execution_count": 5,
   "id": "c84cb837-346c-4b4f-91c3-52d73505f958",
   "metadata": {},
   "outputs": [
    {
     "name": "stdout",
     "output_type": "stream",
     "text": [
      "Number of datasets: 30\n"
     ]
    }
   ],
   "source": [
    "from datasets import load_openml_list, open_cc_dids, open_cc_valid_dids, test_dids_classification\n",
    "\n",
    "cc_test_datasets_multiclass, cc_test_datasets_multiclass_df = load_openml_list(open_cc_dids, multiclass=True, shuffled=True, filter_for_nan=False, max_samples = 10000, num_feats=100, return_capped=True)\n"
   ]
  },
  {
   "cell_type": "code",
   "execution_count": 17,
   "id": "9bd21840-2d0c-4c02-982a-70b2afb930d4",
   "metadata": {},
   "outputs": [
    {
     "data": {
      "text/plain": [
       "30"
      ]
     },
     "execution_count": 17,
     "metadata": {},
     "output_type": "execute_result"
    }
   ],
   "source": [
    "cc_test_datasets_multiclass_df['isNumeric'] = (cc_test_datasets_multiclass_df.NumberOfSymbolicFeatures == 1) & (cc_test_datasets_multiclass_df.NumberOfInstancesWithMissingValues == 0)\n",
    "name_indexed_dataset = cc_test_datasets_multiclass_df.reset_index().reset_index().set_index(\"name\")\n",
    "\n",
    "#numeric_test_datasets = [ds for ds in cc_test_datasets_multiclass if name_indexed_dataset.loc[ds[0]].isNumeric]\n",
    "len(name_indexed_dataset)"
   ]
  },
  {
   "cell_type": "code",
   "execution_count": 18,
   "id": "4b68d799-4509-4891-af0a-31905342d726",
   "metadata": {},
   "outputs": [
    {
     "data": {
      "text/plain": [
       "30"
      ]
     },
     "execution_count": 18,
     "metadata": {},
     "output_type": "execute_result"
    }
   ],
   "source": [
    "len(cc_test_datasets_multiclass)"
   ]
  },
  {
   "cell_type": "code",
   "execution_count": 20,
   "id": "fcbbfb16-b9ee-45f5-be14-ce0ebd07f139",
   "metadata": {},
   "outputs": [
    {
     "data": {
      "text/plain": [
       "level_0                                   12\n",
       "index                                    188\n",
       "did                                      188\n",
       "version                                    1\n",
       "uploader                                   1\n",
       "status                                active\n",
       "format                                  ARFF\n",
       "MajorityClassSize                      214.0\n",
       "MaxNominalAttDistinctValues             27.0\n",
       "MinorityClassSize                      105.0\n",
       "NumberOfClasses                          5.0\n",
       "NumberOfFeatures                        20.0\n",
       "NumberOfInstances                      736.0\n",
       "NumberOfInstancesWithMissingValues      95.0\n",
       "NumberOfMissingValues                  448.0\n",
       "NumberOfNumericFeatures                 14.0\n",
       "NumberOfSymbolicFeatures                 6.0\n",
       "isNumeric                              False\n",
       "Name: eucalyptus, dtype: object"
      ]
     },
     "execution_count": 20,
     "metadata": {},
     "output_type": "execute_result"
    }
   ],
   "source": [
    "name_indexed_dataset.loc['eucalyptus']"
   ]
  },
  {
   "cell_type": "code",
   "execution_count": null,
   "id": "f287d0b6-a9af-4c52-a14f-966a81e4be50",
   "metadata": {},
   "outputs": [],
   "source": [
    "# eucalyptus  188 "
   ]
  },
  {
   "cell_type": "code",
   "execution_count": null,
   "id": "c4971bb2-a6a7-4c3b-b941-c7ae8d2785ff",
   "metadata": {},
   "outputs": [],
   "source": []
  },
  {
   "cell_type": "code",
   "execution_count": 22,
   "id": "55f14d9f-cded-43d1-919d-f5be4cbd062b",
   "metadata": {},
   "outputs": [],
   "source": [
    "eucalyptus = [cc_test_datasets_multiclass[12]]"
   ]
  },
  {
   "cell_type": "code",
   "execution_count": 38,
   "id": "7b609b67-b14a-4598-a92f-5f74991985a2",
   "metadata": {},
   "outputs": [
    {
     "name": "stdout",
     "output_type": "stream",
     "text": [
      "evaluating transformer on cpu\n"
     ]
    }
   ],
   "source": [
    "from tabpfn.scripts.tabular_evaluation import eval_on_datasets\n",
    "\n",
    "eval_positions = [1000]\n",
    "max_times = [1]\n",
    "metric_used = tabular_metrics.auc_metric\n",
    "bptt = 2000\n",
    "base_path = os.path.join('.')\n",
    "\n",
    "\n",
    "results_transformers = eval_on_datasets('multiclass', transformer_metric, 'transformer', eucalyptus, eval_positions=eval_positions, max_times=max_times,\n",
    "                     metric_used=metric_used, split_numbers=[1, 2, 3, 4, 5],\n",
    "                     bptt=bptt, base_path=base_path, overwrite=False, n_jobs=1)\n"
   ]
  },
  {
   "cell_type": "code",
   "execution_count": 42,
   "id": "80d61fec-180c-4829-a7da-a80aff296134",
   "metadata": {},
   "outputs": [
    {
     "data": {
      "text/plain": [
       "0    tensor(0.7157)\n",
       "1    tensor(0.8332)\n",
       "2    tensor(0.8175)\n",
       "3    tensor(0.7167)\n",
       "4    tensor(0.8377)\n",
       "Name: mean_metric, dtype: object"
      ]
     },
     "execution_count": 42,
     "metadata": {},
     "output_type": "execute_result"
    }
   ],
   "source": [
    "pd.DataFrame(results_transformers).mean_metric"
   ]
  },
  {
   "cell_type": "code",
   "execution_count": 47,
   "id": "e3f99d7e-e473-4121-82af-5306627f4cc0",
   "metadata": {},
   "outputs": [
    {
     "name": "stdout",
     "output_type": "stream",
     "text": [
      "evaluating transformer_bla_32 on cpu\n"
     ]
    },
    {
     "name": "stderr",
     "output_type": "stream",
     "text": [
      "[Parallel(n_jobs=-1)]: Using backend LokyBackend with 96 concurrent workers.\n",
      "[Parallel(n_jobs=-1)]: Done   3 out of   5 | elapsed:   23.2s remaining:   15.5s\n",
      "[Parallel(n_jobs=-1)]: Done   5 out of   5 | elapsed:   23.7s finished\n"
     ]
    }
   ],
   "source": [
    "from functools import partial\n",
    "results_32 = eval_on_datasets('multiclass', partial(transformer_metric, N_ensemble_configurations=32), 'transformer_bla_32', eucalyptus, eval_positions=eval_positions, max_times=max_times,\n",
    "                     metric_used=metric_used, split_numbers=[1, 2, 3, 4, 5],\n",
    "                     bptt=bptt, base_path=base_path, overwrite=False, n_jobs=-1)"
   ]
  },
  {
   "cell_type": "code",
   "execution_count": 48,
   "id": "ea0f46ff-a6b6-4b31-8944-bb50aac0695e",
   "metadata": {},
   "outputs": [
    {
     "data": {
      "text/plain": [
       "0    tensor(0.7126)\n",
       "1    tensor(0.8384)\n",
       "2    tensor(0.8241)\n",
       "3    tensor(0.7194)\n",
       "4    tensor(0.8375)\n",
       "Name: mean_metric, dtype: object"
      ]
     },
     "execution_count": 48,
     "metadata": {},
     "output_type": "execute_result"
    }
   ],
   "source": [
    "pd.DataFrame(results_32).mean_metric"
   ]
  },
  {
   "cell_type": "code",
   "execution_count": 51,
   "id": "bfcf3a9e-220b-498d-ad4e-32fba791cc10",
   "metadata": {},
   "outputs": [
    {
     "name": "stdout",
     "output_type": "stream",
     "text": [
      "evaluating transformer_bla_3 on cpu\n"
     ]
    },
    {
     "name": "stderr",
     "output_type": "stream",
     "text": [
      "[Parallel(n_jobs=-1)]: Using backend LokyBackend with 96 concurrent workers.\n",
      "[Parallel(n_jobs=-1)]: Done   3 out of   5 | elapsed:    5.3s remaining:    3.5s\n",
      "[Parallel(n_jobs=-1)]: Done   5 out of   5 | elapsed:    5.4s finished\n"
     ]
    }
   ],
   "source": [
    "results_3 = eval_on_datasets('multiclass', partial(transformer_metric, N_ensemble_configurations=3), 'transformer_bla_3', eucalyptus, eval_positions=eval_positions, max_times=max_times,\n",
    "                     metric_used=metric_used, split_numbers=[1, 2, 3, 4, 5],\n",
    "                     bptt=bptt, base_path=base_path, overwrite=False, n_jobs=-1)"
   ]
  },
  {
   "cell_type": "code",
   "execution_count": 53,
   "id": "fe15910e-0acc-4937-bcbb-032a352e5f3c",
   "metadata": {},
   "outputs": [
    {
     "data": {
      "text/plain": [
       "0    tensor(0.7157)\n",
       "1    tensor(0.8332)\n",
       "2    tensor(0.8175)\n",
       "3    tensor(0.7167)\n",
       "4    tensor(0.8377)\n",
       "Name: mean_metric, dtype: object"
      ]
     },
     "execution_count": 53,
     "metadata": {},
     "output_type": "execute_result"
    }
   ],
   "source": [
    "pd.DataFrame(results_3).mean_metric"
   ]
  },
  {
   "cell_type": "code",
   "execution_count": 54,
   "id": "ae1b9aba-e25f-47f6-93c5-38d73816aa3f",
   "metadata": {},
   "outputs": [
    {
     "data": {
      "text/plain": [
       "[['eucalyptus',\n",
       "  tensor([[ 3.0000,  2.0000,  3.0000,  ...,  4.0000,  4.5000,  4.0000],\n",
       "          [13.0000,  3.0000,  0.0000,  ...,     nan,     nan,     nan],\n",
       "          [ 6.0000,  2.0000,  4.0000,  ...,  3.3000,  3.3000,  3.3000],\n",
       "          ...,\n",
       "          [ 2.0000,  3.0000,  2.0000,  ...,  4.0000,  4.0000,  3.0000],\n",
       "          [ 4.0000,  2.0000,  4.0000,  ...,  3.5000,  4.5000,  4.0000],\n",
       "          [ 7.0000,  1.0000,  2.0000,  ...,  2.5000,  2.5000,  2.0000]]),\n",
       "  tensor([0, 0, 1, 1, 0, 3, 0, 3, 0, 3, 0, 3, 3, 3, 4, 0, 0, 3, 4, 2, 2, 4, 2, 2,\n",
       "          3, 1, 4, 0, 0, 2, 1, 0, 0, 0, 3, 1, 3, 3, 3, 0, 4, 2, 3, 3, 1, 2, 0, 1,\n",
       "          3, 2, 4, 3, 4, 4, 1, 0, 4, 1, 2, 3, 2, 1, 2, 1, 4, 2, 0, 3, 0, 4, 0, 3,\n",
       "          1, 3, 4, 3, 0, 4, 4, 0, 1, 3, 2, 3, 0, 3, 0, 1, 1, 0, 1, 0, 3, 0, 1, 0,\n",
       "          3, 2, 0, 2, 1, 3, 4, 3, 1, 0, 2, 1, 3, 2, 3, 3, 2, 3, 1, 3, 0, 3, 2, 3,\n",
       "          1, 0, 0, 0, 3, 3, 3, 2, 0, 4, 0, 4, 3, 3, 4, 2, 0, 4, 0, 1, 1, 3, 3, 2,\n",
       "          0, 2, 3, 3, 3, 3, 3, 4, 4, 1, 3, 4, 3, 3, 0, 0, 3, 0, 0, 4, 3, 1, 1, 3,\n",
       "          3, 3, 4, 0, 3, 4, 3, 0, 4, 2, 1, 2, 4, 3, 3, 1, 4, 2, 2, 3, 3, 2, 3, 3,\n",
       "          3, 2, 2, 0, 1, 1, 0, 2, 3, 1, 4, 4, 3, 0, 1, 3, 4, 1, 3, 3, 0, 2, 3, 2,\n",
       "          3, 4, 2, 3, 0, 0, 1, 4, 0, 2, 0, 2, 3, 1, 3, 1, 3, 2, 3, 0, 2, 2, 3, 1,\n",
       "          1, 2, 3, 3, 2, 4, 2, 0, 4, 1, 1, 4, 1, 3, 3, 1, 0, 3, 4, 0, 3, 0, 0, 0,\n",
       "          3, 2, 3, 0, 3, 3, 0, 0, 2, 0, 0, 4, 2, 2, 1, 2, 0, 3, 1, 2, 1, 1, 1, 3,\n",
       "          0, 0, 1, 2, 0, 2, 3, 0, 3, 3, 1, 0, 0, 0, 0, 1, 4, 2, 1, 1, 3, 4, 3, 3,\n",
       "          4, 2, 4, 4, 3, 0, 0, 0, 4, 0, 2, 3, 0, 2, 0, 0, 2, 0, 3, 0, 1, 0, 3, 0,\n",
       "          0, 3, 3, 4, 2, 4, 1, 1, 3, 0, 3, 1, 0, 4, 3, 3, 0, 0, 3, 1, 3, 4, 2, 0,\n",
       "          3, 4, 3, 1, 1, 1, 0, 1, 4, 0, 0, 4, 0, 3, 3, 0, 1, 2, 0, 1, 3, 0, 3, 0,\n",
       "          0, 2, 2, 0, 2, 4, 4, 2, 1, 3, 2, 2, 3, 2, 4, 3, 1, 1, 3, 2, 3, 4, 0, 1,\n",
       "          4, 4, 1, 0, 3, 0, 2, 3, 0, 3, 4, 4, 0, 0, 2, 4, 2, 2, 0, 3, 2, 0, 3, 2,\n",
       "          4, 3, 3, 2, 4, 4, 3, 3, 3, 2, 2, 2, 3, 1, 0, 0, 0, 4, 0, 0, 4, 0, 4, 3,\n",
       "          3, 0, 0, 3, 0, 0, 3, 1, 1, 4, 3, 0, 0, 3, 0, 1, 1, 4, 2, 3, 3, 3, 0, 0,\n",
       "          3, 3, 1, 2, 2, 4, 2, 2, 1, 2, 2, 2, 3, 0, 2, 3, 2, 3, 3, 3, 2, 4, 3, 2,\n",
       "          2, 1, 3, 3, 2, 4, 3, 3, 4, 3, 3, 4, 2, 0, 0, 3, 0, 2, 3, 3, 3, 0, 0, 4,\n",
       "          3, 1, 4, 3, 0, 4, 0, 3, 2, 0, 4, 3, 2, 3, 0, 0, 1, 4, 3, 0, 2, 2, 4, 3,\n",
       "          0, 0, 3, 3, 1, 4, 0, 3, 0, 1, 0, 4, 3, 1, 2, 4, 3, 3, 3, 1, 3, 1, 3, 3,\n",
       "          0, 4, 0, 0, 3, 3, 4, 3, 2, 3, 2, 2, 3, 1, 0, 0, 2, 1, 0, 1, 3, 0, 4, 0,\n",
       "          2, 0, 1, 2, 3, 2, 0, 4, 3, 3, 0, 4, 3, 1, 0, 2, 3, 0, 1, 0, 2, 2, 3, 3,\n",
       "          4, 3, 3, 2, 0, 4, 4, 2, 0, 0, 2, 1, 0, 3, 2, 2, 3, 1, 2, 4, 3, 0, 2, 2,\n",
       "          2, 1, 4, 0, 2, 3, 2, 4, 3, 1, 0, 2, 4, 1, 3, 3, 2, 4, 3, 0, 0, 0, 4, 1,\n",
       "          0, 0, 4, 3, 0, 4, 3, 0, 3, 0, 3, 2, 4, 3, 2, 2, 3, 0, 2, 1, 0, 0, 0, 1,\n",
       "          1, 1, 1, 4, 0, 2, 1, 2, 0, 0, 4, 2, 2, 2, 3, 0, 1, 0, 1, 3, 3, 1, 3, 4,\n",
       "          0, 3, 4, 2, 1, 3, 3, 3, 4, 1, 0, 4, 3, 3, 3, 3]),\n",
       "  [0, 2, 3, 4, 9],\n",
       "  ['Abbrev',\n",
       "   'Rep',\n",
       "   'Locality',\n",
       "   'Map_Ref',\n",
       "   'Latitude',\n",
       "   'Altitude',\n",
       "   'Rainfall',\n",
       "   'Frosts',\n",
       "   'Year',\n",
       "   'Sp',\n",
       "   'PMCno',\n",
       "   'DBH',\n",
       "   'Ht',\n",
       "   'Surv',\n",
       "   'Vig',\n",
       "   'Ins_res',\n",
       "   'Stem_Fm',\n",
       "   'Crown_Fm',\n",
       "   'Brnch_Fm'],\n",
       "  {'samples_capped': False, 'classes_capped': False, 'feats_capped': False}]]"
      ]
     },
     "execution_count": 54,
     "metadata": {},
     "output_type": "execute_result"
    }
   ],
   "source": [
    "eucalyptus"
   ]
  },
  {
   "cell_type": "code",
   "execution_count": null,
   "id": "7276f577-c026-4150-9fc7-52c2b03bfd68",
   "metadata": {},
   "outputs": [],
   "source": [
    "results_32_try_again = eval_on_datasets('multiclass', partial(transformer_metric, N_ensemble_configurations=3), 'transformer_bla_32', eucalyptus, eval_positions=eval_positions, max_times=max_times,\n",
    "                     metric_used=metric_used, split_numbers=[1, 2, 3, 4, 5],\n",
    "                     bptt=bptt, base_path=base_path, overwrite=False, n_jobs=-1)"
   ]
  }
 ],
 "metadata": {
  "kernelspec": {
   "display_name": "Python [conda env:tabpfn_testing_environment]",
   "language": "python",
   "name": "conda-env-tabpfn_testing_environment-py"
  },
  "language_info": {
   "codemirror_mode": {
    "name": "ipython",
    "version": 3
   },
   "file_extension": ".py",
   "mimetype": "text/x-python",
   "name": "python",
   "nbconvert_exporter": "python",
   "pygments_lexer": "ipython3",
   "version": "3.11.6"
  }
 },
 "nbformat": 4,
 "nbformat_minor": 5
}
