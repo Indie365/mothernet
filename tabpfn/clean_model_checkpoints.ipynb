{
 "cells": [
  {
   "cell_type": "code",
   "execution_count": 3,
   "id": "8e12e488-fedd-4189-85d7-04e624436463",
   "metadata": {},
   "outputs": [
    {
     "name": "stderr",
     "output_type": "stream",
     "text": [
      "Bad pipe message: %s [b'\\xc2\\xf1R\\xf0F\\r_\\x91L\\x18{\\xfe\\x07\\xd5\\xe0\\x8eI\\xb7 K\\xbb\\xbb>\\t\\xe1(\\x9eJ\\x81[Q\\x15FW\\x08S\\xc2\\xa7\\xda\\xc3=\\xa2+\\x0b\\xfa\\x10!\\xf2\\x11\\xf1J\\x00\\x08\\x13\\x02\\x13\\x03\\x13\\x01\\x00\\xff\\x01\\x00\\x00\\x8f\\x00\\x00\\x00\\x0e\\x00\\x0c\\x00\\x00\\t127.0.0.1\\x00\\x0b\\x00\\x04\\x03\\x00\\x01\\x02\\x00\\n\\x00\\x0c\\x00\\n\\x00\\x1d\\x00\\x17\\x00\\x1e\\x00\\x19\\x00\\x18\\x00#\\x00\\x00\\x00\\x16\\x00\\x00\\x00\\x17\\x00\\x00\\x00\\r\\x00\\x1e\\x00\\x1c\\x04\\x03\\x05\\x03\\x06\\x03\\x08\\x07\\x08\\x08\\x08\\t\\x08\\n\\x08\\x0b\\x08\\x04\\x08\\x05\\x08\\x06\\x04\\x01\\x05\\x01\\x06\\x01\\x00+\\x00\\x03\\x02\\x03\\x04\\x00-\\x00\\x02\\x01\\x01\\x003\\x00&\\x00$\\x00', b' \\xbd\\xd1\\x9f*\\xe5\\x97\\xdd\\x0b|\\xf2b\\xcb5\\xd4\\x92\\xb7G\\xb7?\\xa9\\xb2:\\x03\\x81\\x07\\xe8\\xa9']\n",
      "Bad pipe message: %s [b'\\xcf\\xd4q\\x9c\\xfa\\xe7\"1\\xe4\\xd5\\x8d\\xeay\\xe7\\xc8\\x07\\x94\\xcd MZ\\xb51\\xe9G\\x01\\xbc\\x18\\xa7\\x10(\\xc69\\xe1\\xcd%\\xd7\\xe1X\\xdf!\\x944\\xc4\\xf1ff\\xa6\\xdd\\xc8\\xc8\\x00\\x08\\x13\\x02\\x13\\x03\\x13\\x01\\x00\\xff\\x01\\x00\\x00\\x8f\\x00\\x00\\x00\\x0e\\x00\\x0c\\x00\\x00\\t127.0.0.1\\x00\\x0b\\x00\\x04']\n",
      "Bad pipe message: %s [b'\\x01\\x02']\n",
      "Bad pipe message: %s [b'7\\xdd\\xd0E\\xeazW\\x8c\\x03\\x8e\\x8c\\x06dM8\\xd5O\\xcf\\x00\\x00|\\xc0,\\xc00\\x00\\xa3\\x00\\x9f\\xcc\\xa9\\xcc\\xa8\\xcc\\xaa\\xc0\\xaf\\xc0\\xad\\xc0']\n",
      "Bad pipe message: %s [b\"\\x9f\\xc0]\\xc0a\\xc0W\\xc0S\\xc0+\\xc0/\\x00\\xa2\\x00\\x9e\\xc0\\xae\\xc0\\xac\\xc0\\xa2\\xc0\\x9e\\xc0\\\\\\xc0`\\xc0V\\xc0R\\xc0$\\xc0(\\x00k\\x00j\\xc0#\\xc0'\\x00g\\x00@\\xc0\\n\\xc0\\x14\\x009\\x008\\xc0\\t\\xc0\\x13\\x003\\x002\\x00\\x9d\\xc0\\xa1\\xc0\\x9d\\xc0Q\\x00\\x9c\\xc0\\xa0\\xc0\\x9c\\xc0P\\x00=\\x00<\\x005\\x00/\\x00\\x9a\\x00\\x99\\xc0\\x07\\xc0\\x11\\x00\\x96\\x00\\x05\\x00\\xff\\x01\\x00\\x00j\\x00\\x00\\x00\\x0e\\x00\\x0c\\x00\\x00\\t127.0.0.1\\x00\\x0b\\x00\\x04\\x03\\x00\\x01\\x02\\x00\\n\\x00\\x0c\\x00\\n\\x00\\x1d\\x00\\x17\\x00\\x1e\\x00\\x19\\x00\\x18\\x00#\\x00\\x00\\x00\\x16\\x00\\x00\\x00\\x17\\x00\\x00\\x00\"]\n",
      "Bad pipe message: %s [b'0\\x00.\\x04\\x03\\x05\\x03\\x06\\x03\\x08\\x07\\x08']\n",
      "Bad pipe message: %s [b'\\t\\x08\\n\\x08\\x0b\\x08\\x04']\n",
      "Bad pipe message: %s [b'`\\xbeR\\xb1s]#V\\xf1I\\xef,jv\\xdc}\\x0b\\x96\\x00\\x00\\xa6\\xc0,\\xc00\\x00\\xa3\\x00\\x9f\\xcc\\xa9\\xcc\\xa8\\xcc\\xaa\\xc0\\xaf\\xc0\\xad', b\"\\xc0\\x9f\\xc0]\\xc0a\\xc0W\\xc0S\\xc0+\\xc0/\\x00\\xa2\\x00\\x9e\\xc0\\xae\\xc0\\xac\\xc0\\xa2\\xc0\\x9e\\xc0\\\\\\xc0`\\xc0V\\xc0R\\xc0$\\xc0(\\x00k\\x00j\\xc0s\\xc0w\\x00\\xc4\\x00\\xc3\\xc0#\\xc0'\\x00g\\x00@\\xc0r\\xc0v\\x00\\xbe\\x00\\xbd\\xc0\\n\\xc0\\x14\\x009\\x008\\x00\\x88\\x00\\x87\\xc0\\t\\xc0\\x13\\x003\\x002\\x00\\x9a\\x00\\x99\\x00E\\x00D\\xc0\\x07\\xc0\\x11\\xc0\\x08\\xc0\\x12\\x00\\x16\\x00\\x13\\x00\\x9d\\xc0\\xa1\\xc0\\x9d\\xc0Q\\x00\\x9c\\xc0\\xa0\\xc0\\x9c\\xc0P\\x00=\\x00\\xc0\\x00<\\x00\\xba\\x005\\x00\\x84\\x00/\\x00\\x96\\x00A\\x00\\x05\\x00\\n\\x00\\xff\\x01\\x00\\x00j\\x00\\x00\\x00\\x0e\\x00\\x0c\\x00\\x00\\t127.0.0.1\\x00\\x0b\\x00\\x04\\x03\\x00\\x01\\x02\\x00\\n\\x00\\x0c\\x00\\n\\x00\\x1d\\x00\\x17\\x00\\x1e\\x00\\x19\\x00\", b'#\\x00\\x00\\x00\\x16\\x00\\x00\\x00\\x17\\x00\\x00\\x00\\r\\x000\\x00.\\x04\\x03\\x05\\x03\\x06\\x03']\n",
      "Bad pipe message: %s [b'\\x08\\x06\\x04\\x01\\x05\\x01\\x06', b'', b'\\x03\\x03']\n",
      "Bad pipe message: %s [b'\\x08\\x08\\x08\\t\\x08\\n\\x08', b'\\x04\\x08\\x05\\x08\\x06\\x04\\x01\\x05\\x01\\x06']\n",
      "Bad pipe message: %s [b'']\n",
      "Bad pipe message: %s [b'', b'\\x03\\x03']\n",
      "Bad pipe message: %s [b'', b'\\x02']\n",
      "Bad pipe message: %s [b'']\n",
      "Bad pipe message: %s [b'\\xc7\\xdcR\\x7f\\x1e;^t\\xa4r\\xc2\\x06\\xdf\\xe7\\x1b\\x89\\xbe\\xdf\\x00\\x00>\\xc0\\x14\\xc0\\n\\x009\\x008\\x007\\x006\\xc0\\x0f\\xc0\\x05\\x005\\xc0\\x13\\xc0\\t\\x003\\x002\\x001\\x000\\xc0\\x0e\\xc0\\x04\\x00/\\x00\\x9a\\x00\\x99\\x00\\x98\\x00\\x97\\x00\\x96\\x00\\x07\\xc0\\x11\\xc0\\x07\\xc0\\x0c\\xc0\\x02\\x00\\x05\\x00\\x04\\x00\\xff\\x02\\x01\\x00\\x00C\\x00\\x00\\x00\\x0e\\x00\\x0c\\x00\\x00\\t127.0.0.1\\x00']\n",
      "Bad pipe message: %s [b'\\x05\\x02\\x06']\n",
      "Bad pipe message: %s [b'', b'\\x02']\n",
      "Bad pipe message: %s [b'\\x04\\x03\\x00\\x01\\x02\\x00\\n\\x00\\x1c\\x00']\n",
      "Bad pipe message: %s [b'\\x17\\x00\\x19\\x00\\x1c\\x00\\x1b\\x00\\x18\\x00\\x1a\\x00\\x16\\x00\\x0e\\x00\\r\\x00\\x0b\\x00\\x0c\\x00\\t\\x00\\n']\n",
      "Bad pipe message: %s [b'\\x05\\x02\\x06']\n",
      "Bad pipe message: %s [b'K\"[\\xbd\\xd7n\\x0b\\x99\\x0b^N?J\\xfa\\xd7U\\x06\\x85']\n",
      "Bad pipe message: %s [b'\\x11Djc\\xfe\\xb6\\xf4vu3f\\x08\\xe9\\x9b\\xb3\\xf9;[\\x00\\x00\\xa2\\xc0\\x14\\xc0\\n\\x009\\x008\\x007\\x006\\x00\\x88\\x00\\x87\\x00\\x86\\x00\\x85\\xc0\\x19\\x00:\\x00\\x89\\xc0\\x0f\\xc0\\x05\\x005\\x00\\x84\\xc0\\x13\\xc0\\t\\x003\\x002\\x001\\x000\\x00\\x9a\\x00\\x99\\x00\\x98\\x00\\x97\\x00E\\x00D\\x00C\\x00B\\xc0\\x18\\x004\\x00\\x9b\\x00F\\xc0\\x0e\\xc0\\x04\\x00/\\x00\\x96\\x00A\\x00\\x07\\xc0\\x11\\xc0\\x07\\xc0\\x16\\x00\\x18\\xc0\\x0c\\xc0\\x02\\x00\\x05\\x00\\x04\\xc0\\x12\\xc0\\x08\\x00\\x16\\x00\\x13\\x00\\x10\\x00\\r\\xc0\\x17\\x00\\x1b\\xc0\\r\\xc0\\x03\\x00\\n\\x00\\x15\\x00\\x12\\x00\\x0f\\x00\\x0c\\x00\\x1a\\x00\\t\\x00\\x14\\x00\\x11\\x00\\x19\\x00\\x08\\x00\\x06\\x00\\x17\\x00\\x03\\xc0\\x10\\xc0\\x06\\xc0\\x15\\xc0\\x0b\\xc0\\x01\\x00\\x02\\x00\\x01\\x00\\xff\\x02\\x01\\x00\\x00C\\x00\\x00\\x00\\x0e\\x00\\x0c\\x00\\x00\\t127.0.0.1\\x00\\x0b\\x00\\x04\\x03\\x00\\x01\\x02\\x00\\n\\x00\\x1c\\x00\\x1a\\x00\\x17\\x00\\x19\\x00\\x1c\\x00\\x1b\\x00\\x18\\x00\\x1a\\x00\\x16\\x00\\x0e\\x00\\r\\x00\\x0b\\x00\\x0c\\x00\\t\\x00\\n\\x00#']\n",
      "Bad pipe message: %s [b\"Z\\xbb\\x070\\x0bQ\\x94\\xdd^H\\xe2~\\x82[|6\\x88\\x9b\\x00\\x00\\x86\\xc00\\xc0,\\xc0(\\xc0$\\xc0\\x14\\xc0\\n\\x00\\xa5\\x00\\xa3\\x00\\xa1\\x00\\x9f\\x00k\\x00j\\x00i\\x00h\\x009\\x008\\x007\\x006\\xc02\\xc0.\\xc0*\\xc0&\\xc0\\x0f\\xc0\\x05\\x00\\x9d\\x00=\\x005\\xc0/\\xc0+\\xc0'\\xc0#\\xc0\\x13\\xc0\\t\\x00\\xa4\\x00\\xa2\\x00\\xa0\\x00\\x9e\\x00g\\x00@\\x00?\\x00>\\x003\\x002\\x001\\x000\\xc01\\xc0-\\xc0)\\xc0%\\xc0\\x0e\\xc0\\x04\\x00\\x9c\\x00<\\x00/\\x00\\x9a\\x00\\x99\\x00\\x98\\x00\\x97\\x00\\x96\\x00\\x07\\xc0\\x11\\xc0\\x07\\xc0\\x0c\\xc0\\x02\\x00\\x05\\x00\\x04\\x00\\xff\\x02\\x01\\x00\\x00g\\x00\\x00\\x00\\x0e\\x00\\x0c\\x00\\x00\\t127.0.0.1\\x00\\x0b\\x00\\x04\\x03\\x00\\x01\\x02\"]\n",
      "Bad pipe message: %s [b'\\x13m\\xe0\\xb91*\\xf9\\x9a\\xc96\\xb2F\\x9c\\x9a\\x08\\x172d \\xf7\\x10tG\\xb9\\xfd\\x9c\\xda\\x9f\\xdbZ\\xdas\\xc6;\\xf7\\xffS\\xec\\x8b\\x8a;gXlm\\x00V\\xd5\\x943\\xb4\\x00\\x08', b'\\x13\\x03\\x13\\x01\\x00\\xff\\x01\\x00\\x00\\x8f\\x00\\x00\\x00\\x0e\\x00\\x0c\\x00\\x00']\n",
      "Bad pipe message: %s [b'\\xc7u\\xa9\\xa2&VKg\\xfe\\'\\x16\\xdd\\xa4\\x13\\xa6,\\xbf\\x8a \\x93\\xf7\\xce,\\xce\\x91k\\xe34X\\xed\\xa0\\xb2\\'\\x87\\xa6\\xc6\\xa1\"\\xa1\\xfeW\"_-\\xdd`\\xf6\\xd7\\xd6Il\\x00\\x08\\x13\\x02\\x13\\x03\\x13\\x01\\x00\\xff\\x01\\x00\\x00\\x8f\\x00\\x00\\x00\\x0e\\x00\\x0c\\x00\\x00\\t', b'7.0.0.1\\x00\\x0b\\x00\\x04\\x03\\x00\\x01\\x02\\x00\\n\\x00\\x0c\\x00\\n\\x00\\x1d\\x00\\x17\\x00\\x1e\\x00\\x19\\x00\\x18\\x00#\\x00\\x00\\x00\\x16\\x00\\x00\\x00\\x17\\x00\\x00\\x00\\r\\x00\\x1e\\x00']\n",
      "Bad pipe message: %s [b'\\x03\\x05\\x03\\x06\\x03\\x08\\x07\\x08\\x08\\x08\\t\\x08\\n\\x08\\x0b\\x08\\x04\\x08\\x05\\x08\\x06\\x04\\x01\\x05\\x01\\x06\\x01']\n",
      "Bad pipe message: %s [b\"t\\x88_l\\x87\\xb9\\x178N\\xe86\\x90\\xd5\\xc9V\\x91:\\x1b\\x00\\x00|\\xc0,\\xc00\\x00\\xa3\\x00\\x9f\\xcc\\xa9\\xcc\\xa8\\xcc\\xaa\\xc0\\xaf\\xc0\\xad\\xc0\\xa3\\xc0\\x9f\\xc0]\\xc0a\\xc0W\\xc0S\\xc0+\\xc0/\\x00\\xa2\\x00\\x9e\\xc0\\xae\\xc0\\xac\\xc0\\xa2\\xc0\\x9e\\xc0\\\\\\xc0`\\xc0V\\xc0R\\xc0$\\xc0(\\x00k\\x00j\\xc0#\\xc0'\\x00g\\x00@\\xc0\\n\\xc0\\x14\\x009\\x008\\xc0\\t\\xc0\\x13\\x003\\x002\\x00\\x9d\\xc0\\xa1\\xc0\\x9d\\xc0Q\\x00\\x9c\\xc0\\xa0\\xc0\\x9c\\xc0P\\x00=\\x00<\\x005\\x00/\\x00\\x9a\\x00\\x99\\xc0\\x07\\xc0\\x11\\x00\\x96\\x00\\x05\\x00\\xff\\x01\\x00\\x00j\\x00\\x00\\x00\\x0e\\x00\\x0c\\x00\\x00\\t127.0.0.1\\x00\\x0b\\x00\\x04\\x03\\x00\\x01\\x02\\x00\\n\\x00\\x0c\\x00\\n\\x00\\x1d\\x00\\x17\\x00\\x1e\\x00\\x19\\x00\\x18\\x00#\\x00\\x00\"]\n",
      "Bad pipe message: %s [b'\\xdah5\\xbd\\xb8\\x0b\\xd3\\x8a\\x08d0a^\\xb6kp`,\\x00\\x00\\xa2\\xc0\\x14\\xc0\\n\\x009\\x008\\x007\\x006\\x00\\x88\\x00\\x87\\x00\\x86\\x00\\x85\\xc0\\x19\\x00:\\x00\\x89\\xc0\\x0f\\xc0\\x05\\x005\\x00\\x84\\xc0\\x13\\xc0\\t\\x003\\x002\\x001\\x000\\x00\\x9a\\x00\\x99\\x00\\x98\\x00\\x97\\x00E\\x00D\\x00C\\x00B\\xc0\\x18\\x004\\x00\\x9b\\x00F\\xc0\\x0e\\xc0\\x04\\x00/\\x00\\x96\\x00A\\x00\\x07\\xc0\\x11\\xc0\\x07\\xc0\\x16\\x00\\x18\\xc0\\x0c\\xc0\\x02\\x00\\x05\\x00\\x04\\xc0\\x12\\xc0\\x08\\x00\\x16\\x00\\x13\\x00\\x10\\x00\\r\\xc0\\x17\\x00\\x1b\\xc0\\r\\xc0\\x03\\x00\\n\\x00\\x15\\x00\\x12\\x00\\x0f\\x00\\x0c\\x00\\x1a\\x00\\t\\x00\\x14\\x00\\x11\\x00\\x19\\x00\\x08\\x00\\x06\\x00\\x17\\x00\\x03\\xc0\\x10\\xc0\\x06\\xc0\\x15\\xc0\\x0b\\xc0\\x01\\x00\\x02\\x00\\x01\\x00\\xff\\x02\\x01\\x00\\x00C\\x00\\x00\\x00\\x0e\\x00\\x0c\\x00\\x00\\t127.0.0.1\\x00\\x0b\\x00\\x04\\x03\\x00\\x01\\x02\\x00\\n\\x00\\x1c\\x00\\x1a\\x00\\x17\\x00\\x19\\x00\\x1c\\x00\\x1b\\x00\\x18\\x00\\x1a\\x00\\x16\\x00\\x0e\\x00\\r\\x00\\x0b\\x00\\x0c\\x00\\t\\x00', b'#\\x00\\x00\\x00\\x0f\\x00\\x01\\x01\\x15']\n",
      "Bad pipe message: %s [b'\\x00\\x02']\n",
      "Bad pipe message: %s [b'3a\\xac\\x1b\\xf2V\\xdaG\\xad\\xe1s\\xf0\\x8a\\x17Sx\\x1af\\x00\\x00>\\xc0\\x14\\xc0\\n\\x009\\x008\\x007\\x006\\xc0\\x0f\\xc0\\x05\\x005\\xc0\\x13\\xc0\\t\\x003\\x002\\x001\\x000\\xc0\\x0e\\xc0\\x04\\x00/\\x00\\x9a\\x00\\x99\\x00\\x98\\x00\\x97\\x00\\x96\\x00\\x07\\xc0\\x11\\xc0\\x07\\xc0\\x0c\\xc0\\x02\\x00\\x05\\x00\\x04\\x00\\xff\\x02\\x01\\x00\\x00C\\x00\\x00\\x00\\x0e\\x00\\x0c\\x00\\x00\\t127.0.0.1\\x00\\x0b\\x00\\x04\\x03\\x00']\n",
      "Bad pipe message: %s [b'']\n",
      "Bad pipe message: %s [b'2T6\\x8a}\\xb4\\x89\\xf4g\\xf2\\x8e\\xf3\\x10\\x00\\x1b\\x9a9\\xdf\\x00\\x00\\xa2\\xc0\\x14\\xc0\\n\\x009\\x008\\x007\\x006\\x00\\x88\\x00\\x87\\x00\\x86\\x00\\x85\\xc0\\x19\\x00:\\x00\\x89\\xc0\\x0f\\xc0\\x05\\x005\\x00\\x84\\xc0\\x13\\xc0\\t\\x003\\x002\\x001\\x000\\x00\\x9a\\x00\\x99\\x00\\x98\\x00\\x97']\n",
      "Bad pipe message: %s [b'%1N\\xa2\\x1f\\xda\\xc1V3p\\xe0-\\x17\\xe6\\xf3\\xd1\\x8f\\xdc\\x00\\x00\\xa2\\xc0\\x14\\xc0\\n\\x009\\x008\\x007\\x006\\x00\\x88\\x00\\x87\\x00\\x86\\x00\\x85\\xc0\\x19\\x00:\\x00\\x89\\xc0\\x0f\\xc0\\x05\\x005\\x00\\x84\\xc0\\x13\\xc0\\t\\x003\\x002\\x001\\x000\\x00\\x9a\\x00\\x99\\x00\\x98\\x00\\x97\\x00']\n",
      "Bad pipe message: %s [b'D\\x00C\\x00B\\xc0\\x18\\x004\\x00\\x9b\\x00F\\xc0\\x0e\\xc0\\x04\\x00/\\x00\\x96\\x00A\\x00\\x07\\xc0\\x11\\xc0\\x07\\xc0\\x16\\x00\\x18\\xc0\\x0c\\xc0\\x02\\x00\\x05\\x00\\x04\\xc0\\x12\\xc0\\x08\\x00\\x16\\x00\\x13\\x00\\x10\\x00\\r\\xc0\\x17\\x00\\x1b\\xc0\\r\\xc0\\x03\\x00\\n\\x00\\x15\\x00\\x12\\x00']\n",
      "Bad pipe message: %s [b'\\x0c\\x00\\x1a\\x00\\t\\x00\\x14\\x00\\x11\\x00\\x19\\x00\\x08\\x00']\n",
      "Bad pipe message: %s [b'\\x17\\x00\\x03\\xc0\\x10']\n",
      "Bad pipe message: %s [b\"]\\xa4\\xe8\\r+~(\\xcd\\x97/\\xf6\\xf0\\xd2\\xa1\\x81\\xb4\\xa8\\x85\\x00\\x00\\x86\\xc00\\xc0,\\xc0(\\xc0$\\xc0\\x14\\xc0\\n\\x00\\xa5\\x00\\xa3\\x00\\xa1\\x00\\x9f\\x00k\\x00j\\x00i\\x00h\\x009\\x008\\x007\\x006\\xc02\\xc0.\\xc0*\\xc0&\\xc0\\x0f\\xc0\\x05\\x00\\x9d\\x00=\\x005\\xc0/\\xc0+\\xc0'\\xc0#\\xc0\\x13\\xc0\\t\\x00\\xa4\\x00\\xa2\\x00\\xa0\\x00\"]\n",
      "Bad pipe message: %s [b'g\\x00@\\x00?\\x00>\\x003\\x002\\x001\\x000\\xc01\\xc0-\\xc0)\\xc0%\\xc0\\x0e\\xc0\\x04\\x00\\x9c\\x00<\\x00/\\x00\\x9a\\x00\\x99\\x00\\x98\\x00\\x97\\x00\\x96\\x00\\x07\\xc0\\x11\\xc0\\x07\\xc0\\x0c\\xc0\\x02\\x00\\x05\\x00\\x04\\x00\\xff\\x02\\x01\\x00\\x00g\\x00\\x00\\x00\\x0e\\x00\\x0c\\x00\\x00\\t127.0.0.1\\x00\\x0b\\x00\\x04\\x03\\x00\\x01\\x02\\x00\\n\\x00\\x1c\\x00\\x1a\\x00\\x17\\x00\\x19\\x00\\x1c\\x00\\x1b\\x00\\x18\\x00\\x1a\\x00\\x16\\x00\\x0e\\x00\\r\\x00\\x0b\\x00\\x0c\\x00\\t\\x00\\n\\x00#\\x00\\x00\\x00\\r\\x00 \\x00\\x1e\\x06\\x01\\x06\\x02\\x06\\x03\\x05\\x01\\x05\\x02\\x05\\x03\\x04\\x01\\x04\\x02\\x04\\x03\\x03\\x01\\x03\\x02\\x03\\x03\\x02']\n",
      "Bad pipe message: %s [b'']\n",
      "Bad pipe message: %s [b'\\x03']\n",
      "Bad pipe message: %s [b\"P\\x06\\x90ze\\x96\\xb7w\\xb6\\x17\\x94\\xc0\\x0f\\xe9\\x88\\xb2\\xe1{\\x00\\x00\\xf4\\xc00\\xc0,\\xc0(\\xc0$\\xc0\\x14\\xc0\\n\\x00\\xa5\\x00\\xa3\\x00\\xa1\\x00\\x9f\\x00k\\x00j\\x00i\\x00h\\x009\\x008\\x007\\x006\\x00\\x88\\x00\\x87\\x00\\x86\\x00\\x85\\xc0\\x19\\x00\\xa7\\x00m\\x00:\\x00\\x89\\xc02\\xc0.\\xc0*\\xc0&\\xc0\\x0f\\xc0\\x05\\x00\\x9d\\x00=\\x005\\x00\\x84\\xc0/\\xc0+\\xc0'\\xc0#\\xc0\\x13\\xc0\\t\\x00\\xa4\\x00\\xa2\\x00\\xa0\\x00\\x9e\\x00g\\x00@\\x00?\\x00>\\x003\\x002\\x001\\x000\\x00\\x9a\\x00\\x99\\x00\\x98\\x00\\x97\\x00E\\x00D\\x00C\\x00B\\xc0\\x18\\x00\\xa6\\x00l\\x004\\x00\\x9b\\x00F\\xc01\\xc0-\\xc0\"]\n",
      "Bad pipe message: %s [b'%\\xc0\\x0e\\xc0\\x04\\x00\\x9c\\x00<\\x00/\\x00\\x96\\x00A\\x00\\x07\\xc0\\x11\\xc0\\x07\\xc0\\x16\\x00\\x18\\xc0\\x0c\\xc0\\x02\\x00\\x05\\x00\\x04\\xc0\\x12\\xc0\\x08\\x00\\x16\\x00']\n",
      "Bad pipe message: %s [b'\\x10\\x00\\r\\xc0\\x17\\x00\\x1b\\xc0\\r\\xc0\\x03\\x00\\n\\x00\\x15\\x00\\x12\\x00']\n",
      "Bad pipe message: %s [b'\\x0c\\x00\\x1a\\x00\\t\\x00\\x14\\x00\\x11\\x00\\x19\\x00\\x08\\x00']\n",
      "Bad pipe message: %s [b'\\x17\\x00\\x03\\xc0\\x10']\n"
     ]
    }
   ],
   "source": [
    "import glob\n",
    "import re\n",
    "import os\n",
    "from collections import defaultdict\n",
    "\n",
    "file_dict = defaultdict(list)\n",
    "for name in glob.glob(\"models_diff/*.cpkt\"):\n",
    "    shortname = name.split(\"/\")[1][len(\"prior_diff_real_checkpoint_\"):-5]\n",
    "    canonical_name = shortname.split(\"epoch\")[0][:-5]\n",
    "    file_dict[canonical_name].append(name)\n",
    "\n",
    "\n",
    "canonical_file = dict()\n",
    "for canonical_name, files in file_dict.items():\n",
    "    last_epoch = -1\n",
    "    for f in files:\n",
    "        if \"on_exit\" in f:\n",
    "            canonical_file[canonical_name] = f\n",
    "            break\n",
    "        epoch = int(re.findall(\"(\\d+)\", f.split(\"epoch\")[1])[0])\n",
    "        if epoch > last_epoch:\n",
    "            last_epoch = epoch\n",
    "            canonical_file[canonical_name] = f\n",
    "            \n",
    "for canonical_name, files in file_dict.items():\n",
    "    for file in files:\n",
    "        if file != canonical_file[canonical_name]:\n",
    "            os.remove(file)"
   ]
  },
  {
   "cell_type": "code",
   "execution_count": 14,
   "id": "7536ff01-5474-4cd0-bdb1-5971cc6447d7",
   "metadata": {},
   "outputs": [],
   "source": [
    "\n",
    "        "
   ]
  },
  {
   "cell_type": "code",
   "execution_count": 15,
   "id": "6340d886-1361-44dd-80af-d1ed3f6a37af",
   "metadata": {},
   "outputs": [
    {
     "data": {
      "text/plain": [
       "{'defaults_multiclass_02_07_2023_19_16_52': 'models_diff/prior_diff_real_checkpoint_defaults_multiclass_02_07_2023_19_16_52_n_0_epoch_21.cpkt',\n",
       " 'batch_64_aggregate_8_multiclass_02_01_2023_18_16_16': 'models_diff/prior_diff_real_checkpoint_batch_64_aggregate_8_multiclass_02_01_2023_18_16_16_n_0_epoch_on_exit.cpkt',\n",
       " 'batch_64_aggregate_16_multiclass_02_01_2023_19_16_01': 'models_diff/prior_diff_real_checkpoint_batch_64_aggregate_16_multiclass_02_01_2023_19_16_01_n_0_epoch_55.cpkt',\n",
       " 'batch_512_onehot_classes_multiclass_02_13_2023_17_36_07': 'models_diff/prior_diff_real_checkpoint_batch_512_onehot_classes_multiclass_02_13_2023_17_36_07_n_0_epoch_25.cpkt',\n",
       " 'defaults_k_aggregate_2_batch_128_lr00001_multiclass_02_08_2023_21_15_52': 'models_diff/prior_diff_real_checkpoint_defaults_k_aggregate_2_batch_128_lr00001_multiclass_02_08_2023_21_15_52_n_0_epoch_59.cpkt',\n",
       " 'defaults_k_aggregate_2_batch_128_onehot_classes_multiclass_02_10_2023_23_55_16': 'models_diff/prior_diff_real_checkpoint_defaults_k_aggregate_2_batch_128_onehot_classes_multiclass_02_10_2023_23_55_16_n_0_epoch_59.cpkt',\n",
       " 'batch_128_long_multiclass_01_31_2023_01_08_24': 'models_diff/prior_diff_real_checkpoint_batch_128_long_multiclass_01_31_2023_01_08_24_n_0_epoch_25.cpkt',\n",
       " 'download': 'models_diff/prior_diff_real_checkpoint_download_n_0_epoch_100.cpkt',\n",
       " 'defaults_k_aggregate_8_multiclass_02_08_2023_01_37_06': 'models_diff/prior_diff_real_checkpoint_defaults_k_aggregate_8_multiclass_02_08_2023_01_37_06_n_0_epoch_0.cpkt',\n",
       " 'defaults_k_aggregate_8_batch_128_multiclass_02_08_2023_01_43_47': 'models_diff/prior_diff_real_checkpoint_defaults_k_aggregate_8_batch_128_multiclass_02_08_2023_01_43_47_n_0_epoch_0.cpkt',\n",
       " 'defaults_k_aggregate_2_batch_128_multiclass_02_08_2023_01_53_27': 'models_diff/prior_diff_real_checkpoint_defaults_k_aggregate_2_batch_128_multiclass_02_08_2023_01_53_27_n_0_epoch_26.cpkt',\n",
       " 'defaults_k_aggregate_2_batch_128_lr001_multiclass_02_08_2023_17_56_46': 'models_diff/prior_diff_real_checkpoint_defaults_k_aggregate_2_batch_128_lr001_multiclass_02_08_2023_17_56_46_n_0_epoch_12.cpkt',\n",
       " 'batch_64_large_model_multiclass_02_03_2023_02_31_18': 'models_diff/prior_diff_real_checkpoint_batch_64_large_model_multiclass_02_03_2023_02_31_18_n_0_epoch_on_exit.cpkt',\n",
       " 'batch_64_large_model_multiclass_02_03_2023_21_10_17': 'models_diff/prior_diff_real_checkpoint_batch_64_large_model_multiclass_02_03_2023_21_10_17_n_0_epoch_25.cpkt',\n",
       " 'msize_1024_multiclass_02_06_2023_17_32_53': 'models_diff/prior_diff_real_checkpointemsize_1024_multiclass_02_06_2023_17_32_53_n_0_epoch_25.cpkt',\n",
       " 'efaults_multiclass_02_07_2023_17_44_38': 'models_diff/prior_diff_real_checkpointdefaults_multiclass_02_07_2023_17_44_38_n_0_epoch_18.cpkt',\n",
       " 'efaults_multiclass_02_07_2023_19_02_46': 'models_diff/prior_diff_real_checkpointdefaults_multiclass_02_07_2023_19_02_46_n_0_epoch_0.cpkt',\n",
       " 'nlayers_6_multiclass_02_13_2023_17_37_55': 'models_diff/prior_diff_real_checkpoint_nlayers_6_multiclass_02_13_2023_17_37_55_n_0_epoch_100.cpkt',\n",
       " 'ry_retraining_batch_512_onehot': 'models_diff/prior_diff_real_checkpointtry_retraining_batch_512_onehot_n_0_epoch_on_exit.cpkt',\n",
       " 'bs_128_onehot_nhead_16_multiclass_02_16_2023_01_56_32': 'models_diff/prior_diff_real_checkpoint_bs_128_onehot_nhead_16_multiclass_02_16_2023_01_56_32_n_0_epoch_29.cpkt',\n",
       " 'featurewise_mlp_multiclass_02_16_2023_18_45_24': 'models_diff/prior_diff_real_checkpoint_featurewise_mlp_multiclass_02_16_2023_18_45_24_n_0_epoch_5.cpkt',\n",
       " 'featurewise_mlp_multiclass_02_16_2023_19_43_47': 'models_diff/prior_diff_real_checkpoint_featurewise_mlp_multiclass_02_16_2023_19_43_47_n_0_epoch_5.cpkt',\n",
       " 'featurewise_mlp_hidden_512_multiclass_02_16_2023_20_33_11': 'models_diff/prior_diff_real_checkpoint_featurewise_mlp_hidden_512_multiclass_02_16_2023_20_33_11_n_0_epoch_29.cpkt',\n",
       " 'num_features_1000_multiclass_02_18_2023_05_40_39': 'models_diff/prior_diff_real_checkpoint_num_features_1000_multiclass_02_18_2023_05_40_39_n_0_epoch_100.cpkt',\n",
       " 'retraining_batch_2048_lr0001': 'models_diff/prior_diff_real_checkpoint_retraining_batch_2048_lr0001_n_0_epoch_on_exit.cpkt',\n",
       " 'nlayers_6_emsize_256_onehot_multiclass_02_17_2023_02_32_28': 'models_diff/prior_diff_real_checkpoint_nlayers_6_emsize_256_onehot_multiclass_02_17_2023_02_32_28_n_0_epoch_100.cpkt',\n",
       " 'continue_no_combine_nlayers_6': 'models_diff/prior_diff_real_checkpoint_continue_no_combine_nlayers_6_n_0_epoch_on_exit.cpkt',\n",
       " 'predict_linear_coefficients_nlayer_6_multiclass_04_11_2023_00_56_30': 'models_diff/prior_diff_real_checkpoint_predict_linear_coefficients_nlayer_6_multiclass_04_11_2023_00_56_30_n_0_epoch_2.cpkt',\n",
       " 'predict_linear_coefficients_nlayer_6_multiclass_04_11_2023_01_26_19': 'models_diff/prior_diff_real_checkpoint_predict_linear_coefficients_nlayer_6_multiclass_04_11_2023_01_26_19_n_0_epoch_on_exit.cpkt',\n",
       " 'embed_dim_4096_decoder_nhid_4096_two_layers_multiclass_05_01_2023_22_17_53': 'models_diff/prior_diff_real_checkpoint_embed_dim_4096_decoder_nhid_4096_two_layers_multiclass_05_01_2023_22_17_53_n_0_epoch_12.cpkt',\n",
       " 'no_token_hidden_128_embed_dim_1024_decoder_nhid_4096_two_layers_multiclass_05_01_2023_19_40_09': 'models_diff/prior_diff_real_checkpoint_no_token_hidden_128_embed_dim_1024_decoder_nhid_4096_two_layers_multiclass_05_01_2023_19_40_09_n_0_epoch_14.cpkt',\n",
       " 'predict_linear_coefficients_nlayer_12_multiclass_04_11_2023_23_25_22': 'models_diff/prior_diff_real_checkpoint_predict_linear_coefficients_nlayer_12_multiclass_04_11_2023_23_25_22_n_0_epoch_on_exit.cpkt',\n",
       " 'no_token_hidden_64_embed_dim_1024_continue': 'models_diff/prior_diff_real_checkpoint_no_token_hidden_64_embed_dim_1024_continue_n_0_epoch_on_exit.cpkt',\n",
       " 'predict_linear_coefficients_nlayer_12_multiclass_04_12_2023_23_29_08': 'models_diff/prior_diff_real_checkpoint_predict_linear_coefficients_nlayer_12_multiclass_04_12_2023_23_29_08_n_0_epoch_on_exit.cpkt',\n",
       " 'no_token_hidden_64_embed_dim_1024_multiclass_04_21_2023_16_26_25': 'models_diff/prior_diff_real_checkpoint_no_token_hidden_64_embed_dim_1024_multiclass_04_21_2023_16_26_25_n_0_epoch_on_exit.cpkt',\n",
       " 'predict_mlp_nlayer6_multiclass_04_13_2023_06_30_36': 'models_diff/prior_diff_real_checkpoint_predict_mlp_nlayer6_multiclass_04_13_2023_06_30_36_n_0_epoch_on_exit.cpkt',\n",
       " 'predict_mlp_nlayer12_multiclass_04_13_2023_16_41_16': 'models_diff/prior_diff_real_checkpoint_predict_mlp_nlayer12_multiclass_04_13_2023_16_41_16_n_0_epoch_59.cpkt',\n",
       " 'predict_mlp_hidden_128_multiclass_04_20_2023_15_49_42': 'models_diff/prior_diff_real_checkpoint_predict_mlp_hidden_128_multiclass_04_20_2023_15_49_42_n_0_epoch_on_exit.cpkt',\n",
       " 'no_token_hidden_64_embed_dim_1024_multiclass_04_21_2023_15_59_34': 'models_diff/prior_diff_real_checkpoint_no_token_hidden_64_embed_dim_1024_multiclass_04_21_2023_15_59_34_n_0_epoch_8.cpkt',\n",
       " 'predict_linear_coefficients_nlayer_6_multiclass_04_14_2023_00_47_32': 'models_diff/prior_diff_real_checkpoint_predict_linear_coefficients_nlayer_6_multiclass_04_14_2023_00_47_32_n_0_epoch_on_exit.cpkt',\n",
       " 'output_attention_nlayer6_mlp_multiclass_04_14_2023_15_00_06': 'models_diff/prior_diff_real_checkpoint_output_attention_nlayer6_mlp_multiclass_04_14_2023_15_00_06_n_0_epoch_59.cpkt',\n",
       " 'predict_mlp_special_token_multiclass_04_19_2023_17_34_48': 'models_diff/prior_diff_real_checkpoint_predict_mlp_special_token_multiclass_04_19_2023_17_34_48_n_0_epoch_on_exit.cpkt',\n",
       " 'predict_mlp_attention_nlayer12_lr0001_multiclass_04_18_2023_21_31_58': 'models_diff/prior_diff_real_checkpoint_predict_mlp_attention_nlayer12_lr0001_multiclass_04_18_2023_21_31_58_n_0_epoch_77.cpkt',\n",
       " 'output_attention_nlayer6_mlp_lr0001_multiclass_04_14_2023_20_16_03': 'models_diff/prior_diff_real_checkpoint_output_attention_nlayer6_mlp_lr0001_multiclass_04_14_2023_20_16_03_n_0_epoch_on_exit.cpkt',\n",
       " 'output_attention_nlayer6_mlp_lr0001_two_layer_decoder_layer_norm_multiclass_04_17_2023_16_49_42': 'models_diff/prior_diff_real_checkpoint_output_attention_nlayer6_mlp_lr0001_two_layer_decoder_layer_norm_multiclass_04_17_2023_16_49_42_n_0_epoch_59.cpkt',\n",
       " 'predict_mlp_special_token_multiclass_04_19_2023_00_38_40': 'models_diff/prior_diff_real_checkpoint_predict_mlp_special_token_multiclass_04_19_2023_00_38_40_n_0_epoch_76.cpkt',\n",
       " 'output_attention_nlayer6_mlp_emsize_512_multiclass_04_17_2023_23_11_02': 'models_diff/prior_diff_real_checkpoint_output_attention_nlayer6_mlp_emsize_512_multiclass_04_17_2023_23_11_02_n_0_epoch_on_exit.cpkt',\n",
       " 'retraining_predict_mlp_empsize_512': 'models_diff/prior_diff_real_checkpoint_retraining_predict_mlp_empsize_512_n_0_epoch_29.cpkt'}"
      ]
     },
     "execution_count": 15,
     "metadata": {},
     "output_type": "execute_result"
    }
   ],
   "source": [
    "canonical_file"
   ]
  },
  {
   "cell_type": "code",
   "execution_count": 17,
   "id": "6693cdb7-957e-4503-88e0-85b92386a407",
   "metadata": {},
   "outputs": [],
   "source": []
  },
  {
   "cell_type": "code",
   "execution_count": null,
   "id": "d14117d4-e616-4532-a48d-f07b3d6fea52",
   "metadata": {},
   "outputs": [],
   "source": []
  }
 ],
 "metadata": {
  "kernelspec": {
   "display_name": "Python 3 (ipykernel)",
   "language": "python",
   "name": "python3"
  },
  "language_info": {
   "codemirror_mode": {
    "name": "ipython",
    "version": 3
   },
   "file_extension": ".py",
   "mimetype": "text/x-python",
   "name": "python",
   "nbconvert_exporter": "python",
   "pygments_lexer": "ipython3",
   "version": "3.8.15"
  }
 },
 "nbformat": 4,
 "nbformat_minor": 5
}
