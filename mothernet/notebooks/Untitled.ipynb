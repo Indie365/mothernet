{
 "cells": [
  {
   "cell_type": "code",
   "execution_count": 1,
   "id": "0a4a4edf-87bd-447f-8ec4-5e2c17c928c0",
   "metadata": {},
   "outputs": [
    {
     "name": "stderr",
     "output_type": "stream",
     "text": [
      "/home/amueller/miniconda3/envs/tabpfn_testing_environment/lib/python3.11/site-packages/tqdm/auto.py:22: TqdmWarning: IProgress not found. Please update jupyter and ipywidgets. See https://ipywidgets.readthedocs.io/en/stable/user_install.html\n",
      "  from .autonotebook import tqdm as notebook_tqdm\n"
     ]
    }
   ],
   "source": [
    "from mothernet.model_configs import get_base_config\n",
    "from mothernet.utils import init_device, get_model_string, synetune_handle_checkpoint, make_training_callback\n",
    "from mothernet.config_utils import compare_dicts, flatten_dict\n",
    "from mothernet.cli_parsing import argparser_from_config\n",
    "config = get_base_config()\n",
    "parser = argparser_from_config(config)"
   ]
  },
  {
   "cell_type": "code",
   "execution_count": 14,
   "id": "cc06509d-661a-419d-9e7c-78ba14b8a37e",
   "metadata": {},
   "outputs": [],
   "source": []
  },
  {
   "cell_type": "code",
   "execution_count": null,
   "id": "4d1000a8-ea9f-493d-a905-13a500c07e67",
   "metadata": {},
   "outputs": [],
   "source": []
  }
 ],
 "metadata": {
  "kernelspec": {
   "display_name": "Python [conda env:tabpfn_testing_environment]",
   "language": "python",
   "name": "conda-env-tabpfn_testing_environment-py"
  },
  "language_info": {
   "codemirror_mode": {
    "name": "ipython",
    "version": 3
   },
   "file_extension": ".py",
   "mimetype": "text/x-python",
   "name": "python",
   "nbconvert_exporter": "python",
   "pygments_lexer": "ipython3",
   "version": "3.11.6"
  }
 },
 "nbformat": 4,
 "nbformat_minor": 5
}
