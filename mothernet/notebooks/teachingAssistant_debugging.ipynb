{
 "cells": [
  {
   "cell_type": "code",
   "execution_count": 1,
   "id": "250fdc73-d4cb-4173-bd5e-98b512d97d29",
   "metadata": {},
   "outputs": [
    {
     "name": "stderr",
     "output_type": "stream",
     "text": [
      "/anaconda/envs/tabpfn_testing_environment/lib/python3.11/site-packages/sklearn/datasets/_openml.py:1022: FutureWarning: The default value of `parser` will change from `'liac-arff'` to `'auto'` in 1.4. You can set `parser='auto'` to silence this warning. Therefore, an `ImportError` will be raised from 1.4 if the dataset is dense and pandas is not installed. Note that the pandas parser may return different data types. See the Notes Section in fetch_openml's API doc for details.\n",
      "  warn(\n"
     ]
    }
   ],
   "source": [
    "from sklearn.datasets import fetch_openml\n",
    "data = fetch_openml(\"teachingAssistant\")\n",
    "df = data.frame"
   ]
  },
  {
   "cell_type": "code",
   "execution_count": 2,
   "id": "a710f729-6a47-4394-81e2-1edf28141030",
   "metadata": {},
   "outputs": [
    {
     "data": {
      "text/plain": [
       "{'id': '1115',\n",
       " 'name': 'teachingAssistant',\n",
       " 'version': '1',\n",
       " 'description_version': '1',\n",
       " 'format': 'ARFF',\n",
       " 'upload_date': '2014-10-07T00:41:51',\n",
       " 'licence': 'Public',\n",
       " 'url': 'https://api.openml.org/data/v1/download/53998/teachingAssistant.arff',\n",
       " 'parquet_url': 'http://openml1.win.tue.nl/dataset1115/dataset_1115.pq',\n",
       " 'file_id': '53998',\n",
       " 'default_target_attribute': 'class',\n",
       " 'tag': ['study_1',\n",
       "  'study_123',\n",
       "  'study_41',\n",
       "  'study_52',\n",
       "  'study_7',\n",
       "  'study_88'],\n",
       " 'visibility': 'public',\n",
       " 'minio_url': 'http://openml1.win.tue.nl/dataset1115/dataset_1115.pq',\n",
       " 'status': 'active',\n",
       " 'processing_date': '2020-11-20 20:42:47',\n",
       " 'md5_checksum': 'ccf0b5a5883fef328fbd373d35669bbb'}"
      ]
     },
     "execution_count": 2,
     "metadata": {},
     "output_type": "execute_result"
    }
   ],
   "source": [
    "data.details"
   ]
  },
  {
   "cell_type": "code",
   "execution_count": 3,
   "id": "2b63f348-4e7c-4129-a23e-85b5f3543a31",
   "metadata": {},
   "outputs": [
    {
     "data": {
      "text/html": [
       "<div>\n",
       "<style scoped>\n",
       "    .dataframe tbody tr th:only-of-type {\n",
       "        vertical-align: middle;\n",
       "    }\n",
       "\n",
       "    .dataframe tbody tr th {\n",
       "        vertical-align: top;\n",
       "    }\n",
       "\n",
       "    .dataframe thead th {\n",
       "        text-align: right;\n",
       "    }\n",
       "</style>\n",
       "<table border=\"1\" class=\"dataframe\">\n",
       "  <thead>\n",
       "    <tr style=\"text-align: right;\">\n",
       "      <th></th>\n",
       "      <th>ID</th>\n",
       "      <th>EnglishSepaker</th>\n",
       "      <th>courseInstructor</th>\n",
       "      <th>course</th>\n",
       "      <th>summer</th>\n",
       "      <th>classSize</th>\n",
       "      <th>class</th>\n",
       "    </tr>\n",
       "  </thead>\n",
       "  <tbody>\n",
       "    <tr>\n",
       "      <th>0</th>\n",
       "      <td>1.0</td>\n",
       "      <td>1</td>\n",
       "      <td>23</td>\n",
       "      <td>3</td>\n",
       "      <td>1</td>\n",
       "      <td>19.0</td>\n",
       "      <td>3</td>\n",
       "    </tr>\n",
       "    <tr>\n",
       "      <th>1</th>\n",
       "      <td>2.0</td>\n",
       "      <td>2</td>\n",
       "      <td>15</td>\n",
       "      <td>3</td>\n",
       "      <td>1</td>\n",
       "      <td>17.0</td>\n",
       "      <td>3</td>\n",
       "    </tr>\n",
       "    <tr>\n",
       "      <th>2</th>\n",
       "      <td>3.0</td>\n",
       "      <td>1</td>\n",
       "      <td>23</td>\n",
       "      <td>3</td>\n",
       "      <td>2</td>\n",
       "      <td>49.0</td>\n",
       "      <td>3</td>\n",
       "    </tr>\n",
       "    <tr>\n",
       "      <th>3</th>\n",
       "      <td>4.0</td>\n",
       "      <td>1</td>\n",
       "      <td>5</td>\n",
       "      <td>2</td>\n",
       "      <td>2</td>\n",
       "      <td>33.0</td>\n",
       "      <td>3</td>\n",
       "    </tr>\n",
       "    <tr>\n",
       "      <th>4</th>\n",
       "      <td>5.0</td>\n",
       "      <td>2</td>\n",
       "      <td>7</td>\n",
       "      <td>11</td>\n",
       "      <td>2</td>\n",
       "      <td>55.0</td>\n",
       "      <td>3</td>\n",
       "    </tr>\n",
       "    <tr>\n",
       "      <th>...</th>\n",
       "      <td>...</td>\n",
       "      <td>...</td>\n",
       "      <td>...</td>\n",
       "      <td>...</td>\n",
       "      <td>...</td>\n",
       "      <td>...</td>\n",
       "      <td>...</td>\n",
       "    </tr>\n",
       "    <tr>\n",
       "      <th>146</th>\n",
       "      <td>147.0</td>\n",
       "      <td>2</td>\n",
       "      <td>3</td>\n",
       "      <td>2</td>\n",
       "      <td>2</td>\n",
       "      <td>26.0</td>\n",
       "      <td>1</td>\n",
       "    </tr>\n",
       "    <tr>\n",
       "      <th>147</th>\n",
       "      <td>148.0</td>\n",
       "      <td>2</td>\n",
       "      <td>10</td>\n",
       "      <td>3</td>\n",
       "      <td>2</td>\n",
       "      <td>12.0</td>\n",
       "      <td>1</td>\n",
       "    </tr>\n",
       "    <tr>\n",
       "      <th>148</th>\n",
       "      <td>149.0</td>\n",
       "      <td>1</td>\n",
       "      <td>18</td>\n",
       "      <td>7</td>\n",
       "      <td>2</td>\n",
       "      <td>48.0</td>\n",
       "      <td>1</td>\n",
       "    </tr>\n",
       "    <tr>\n",
       "      <th>149</th>\n",
       "      <td>150.0</td>\n",
       "      <td>2</td>\n",
       "      <td>22</td>\n",
       "      <td>1</td>\n",
       "      <td>2</td>\n",
       "      <td>51.0</td>\n",
       "      <td>1</td>\n",
       "    </tr>\n",
       "    <tr>\n",
       "      <th>150</th>\n",
       "      <td>151.0</td>\n",
       "      <td>2</td>\n",
       "      <td>2</td>\n",
       "      <td>10</td>\n",
       "      <td>2</td>\n",
       "      <td>27.0</td>\n",
       "      <td>1</td>\n",
       "    </tr>\n",
       "  </tbody>\n",
       "</table>\n",
       "<p>151 rows × 7 columns</p>\n",
       "</div>"
      ],
      "text/plain": [
       "        ID EnglishSepaker courseInstructor course summer  classSize class\n",
       "0      1.0              1               23      3      1       19.0     3\n",
       "1      2.0              2               15      3      1       17.0     3\n",
       "2      3.0              1               23      3      2       49.0     3\n",
       "3      4.0              1                5      2      2       33.0     3\n",
       "4      5.0              2                7     11      2       55.0     3\n",
       "..     ...            ...              ...    ...    ...        ...   ...\n",
       "146  147.0              2                3      2      2       26.0     1\n",
       "147  148.0              2               10      3      2       12.0     1\n",
       "148  149.0              1               18      7      2       48.0     1\n",
       "149  150.0              2               22      1      2       51.0     1\n",
       "150  151.0              2                2     10      2       27.0     1\n",
       "\n",
       "[151 rows x 7 columns]"
      ]
     },
     "execution_count": 3,
     "metadata": {},
     "output_type": "execute_result"
    }
   ],
   "source": [
    "df"
   ]
  },
  {
   "cell_type": "code",
   "execution_count": 4,
   "id": "4f6371ca-3c73-414f-a191-493f07dfd0a8",
   "metadata": {},
   "outputs": [],
   "source": [
    "import tabpfn"
   ]
  },
  {
   "cell_type": "code",
   "execution_count": 5,
   "id": "969a6ebd-6bda-444c-a757-1c1d711ba912",
   "metadata": {},
   "outputs": [],
   "source": [
    "from sklearn.model_selection import cross_validate, StratifiedKFold\n",
    "from sklearn.ensemble import RandomForestClassifier\n",
    "cross_validate(RandomForestClassifier(), df[['ID']], df['class'], scoring=\"roc_auc_ovr\", cv=StratifiedKFold(shuffle=True))"
   ]
  },
  {
   "cell_type": "code",
   "execution_count": 6,
   "id": "121056d0-2a3b-44d2-9c34-44a7f668be5a",
   "metadata": {},
   "outputs": [
    {
     "data": {
      "text/plain": [
       "{'fit_time': array([0.08976436, 0.0832386 , 0.08267164, 0.08109927, 0.07740068]),\n",
       " 'score_time': array([0.00831389, 0.00687671, 0.0063324 , 0.00653529, 0.00669837]),\n",
       " 'test_score': array([1.        , 0.99673844, 0.99666667, 1.        , 0.98916667])}"
      ]
     },
     "execution_count": 6,
     "metadata": {},
     "output_type": "execute_result"
    }
   ],
   "source": [
    "\n"
   ]
  },
  {
   "cell_type": "code",
   "execution_count": 7,
   "id": "34b18fc2-1778-430c-b1ca-8c228efed3e4",
   "metadata": {},
   "outputs": [],
   "source": [
    "from sklearn.model_selection import train_test_split\n",
    "X_train, X_test, y_train, y_test = train_test_split(df[['ID']], df['class'])"
   ]
  },
  {
   "cell_type": "code",
   "execution_count": 33,
   "id": "e78ce09c-ce92-4d59-a919-de91381fcf7f",
   "metadata": {},
   "outputs": [
    {
     "data": {
      "image/png": "[encoded data removed]",
      "text/plain": [
       "<Figure size 1200x300 with 1 Axes>"
      ]
     },
     "metadata": {},
     "output_type": "display_data"
    }
   ],
   "source": [
    "import matplotlib.pyplot as plt\n",
    "import matplotlib\n",
    "\n",
    "plt.figure(figsize=(4, 1), dpi=300)\n",
    "plt.scatter(X_train['ID'], y_train.astype(int), s=20, marker='o', edgecolor='k', c=y_train.astype(int), cmap=plt.cm.tab10, norm=matplotlib.colors.Normalize(vmin=1, vmax=11, clip=False))\n",
    "plt.ylabel(\"class\")\n",
    "plt.xlabel(\"ID\")\n",
    "plt.ylim(0.8, 3.2)\n",
    "plt.savefig(\"figures/teaching_assistant_leakage.pdf\", bbox_inches=\"tight\")"
   ]
  },
  {
   "cell_type": "code",
   "execution_count": null,
   "id": "5188f6f8-2ec0-48ef-a3cf-f5afad6d7767",
   "metadata": {
    "tags": []
   },
   "outputs": [],
   "source": []
  },
  {
   "cell_type": "code",
   "execution_count": 10,
   "id": "a3a26b7e-4d84-4a96-95d2-cecbc6b9a166",
   "metadata": {},
   "outputs": [
    {
     "data": {
      "text/plain": [
       "0.9473684210526315"
      ]
     },
     "execution_count": 10,
     "metadata": {},
     "output_type": "execute_result"
    }
   ],
   "source": [
    "RandomForestClassifier().fit(X_train, y_train).score(X_test, y_test)"
   ]
  },
  {
   "cell_type": "code",
   "execution_count": 11,
   "id": "33d950c4-910c-4bde-b69f-fced637fe573",
   "metadata": {},
   "outputs": [],
   "source": [
    "from tabpfn.scripts.distill_mlp import TorchMLP\n",
    "import torch\n",
    "import numpy as np\n",
    "from sklearn.preprocessing import StandardScaler\n",
    "from sklearn.pipeline import make_pipeline\n",
    "\n",
    "ss = StandardScaler()\n",
    "torch.set_num_threads(1)\n",
    "\n",
    "mlp = TorchMLP(device=\"cpu\", verbose=10, n_epochs=500, learning_rate=0.0026, n_layers=3, dropout_rate=0, weight_decay=2e-5, hidden_size=256, )\n",
    "mlp = make_pipeline(ss, mlp)\n",
    "#mlp.fit(np.array(X_train)), np.array(y_train)"
   ]
  },
  {
   "cell_type": "code",
   "execution_count": 12,
   "id": "0c2fd3b4-dffd-4db0-ac95-796300314207",
   "metadata": {
    "collapsed": true,
    "jupyter": {
     "outputs_hidden": true
    },
    "tags": []
   },
   "outputs": [
    {
     "name": "stdout",
     "output_type": "stream",
     "text": [
      "epoch: 0  loss: 1.103437  [  120/  120]\n",
      "epoch: 10  loss: 0.970876  [  120/  120]\n",
      "epoch: 20  loss: 0.874193  [  120/  120]\n",
      "epoch: 30  loss: 0.742419  [  120/  120]\n",
      "epoch: 40  loss: 0.644905  [  120/  120]\n",
      "epoch: 50  loss: 0.488930  [  120/  120]\n",
      "epoch: 60  loss: 0.372187  [  120/  120]\n",
      "epoch: 70  loss: 0.279951  [  120/  120]\n",
      "epoch: 80  loss: 0.186486  [  120/  120]\n",
      "epoch: 90  loss: 0.150953  [  120/  120]\n",
      "epoch: 100  loss: 0.116095  [  120/  120]\n",
      "epoch: 110  loss: 0.090666  [  120/  120]\n",
      "epoch: 120  loss: 0.077387  [  120/  120]\n",
      "epoch: 130  loss: 0.066156  [  120/  120]\n",
      "epoch: 140  loss: 0.057564  [  120/  120]\n",
      "epoch: 150  loss: 0.052474  [  120/  120]\n",
      "epoch: 160  loss: 0.113631  [  120/  120]\n",
      "epoch: 170  loss: 0.059607  [  120/  120]\n",
      "epoch: 180  loss: 0.045393  [  120/  120]\n",
      "epoch: 190  loss: 0.039018  [  120/  120]\n",
      "epoch: 200  loss: 0.035464  [  120/  120]\n",
      "epoch: 210  loss: 0.033159  [  120/  120]\n",
      "epoch: 220  loss: 0.031015  [  120/  120]\n",
      "epoch: 230  loss: 0.029075  [  120/  120]\n",
      "epoch: 240  loss: 0.027307  [  120/  120]\n",
      "epoch: 250  loss: 0.025679  [  120/  120]\n",
      "epoch: 260  loss: 0.024196  [  120/  120]\n",
      "epoch: 270  loss: 0.022820  [  120/  120]\n",
      "epoch: 280  loss: 0.021543  [  120/  120]\n",
      "epoch: 290  loss: 0.020353  [  120/  120]\n",
      "epoch: 300  loss: 0.019242  [  120/  120]\n",
      "epoch: 310  loss: 0.018192  [  120/  120]\n",
      "epoch: 320  loss: 0.017220  [  120/  120]\n",
      "epoch: 330  loss: 0.016311  [  120/  120]\n",
      "epoch: 340  loss: 0.015448  [  120/  120]\n",
      "epoch: 350  loss: 0.014649  [  120/  120]\n",
      "epoch: 360  loss: 0.013898  [  120/  120]\n",
      "epoch: 370  loss: 0.013192  [  120/  120]\n",
      "epoch: 380  loss: 0.012529  [  120/  120]\n",
      "epoch: 390  loss: 0.011902  [  120/  120]\n",
      "epoch: 400  loss: 0.011316  [  120/  120]\n",
      "epoch: 410  loss: 0.010764  [  120/  120]\n",
      "epoch: 420  loss: 0.010244  [  120/  120]\n",
      "epoch: 430  loss: 0.009754  [  120/  120]\n",
      "epoch: 440  loss: 0.009293  [  120/  120]\n",
      "epoch: 450  loss: 0.008857  [  120/  120]\n",
      "epoch: 460  loss: 0.008447  [  120/  120]\n",
      "epoch: 470  loss: 0.008059  [  120/  120]\n",
      "epoch: 480  loss: 0.007687  [  120/  120]\n",
      "epoch: 490  loss: 0.007340  [  120/  120]\n",
      "epoch: 0  loss: 1.105595  [  121/  121]\n",
      "epoch: 10  loss: 1.009312  [  121/  121]\n",
      "epoch: 20  loss: 0.924243  [  121/  121]\n",
      "epoch: 30  loss: 0.800191  [  121/  121]\n",
      "epoch: 40  loss: 0.641730  [  121/  121]\n",
      "epoch: 50  loss: 0.476359  [  121/  121]\n",
      "epoch: 60  loss: 0.376249  [  121/  121]\n",
      "epoch: 70  loss: 0.289275  [  121/  121]\n",
      "epoch: 80  loss: 0.318728  [  121/  121]\n",
      "epoch: 90  loss: 0.221832  [  121/  121]\n",
      "epoch: 100  loss: 0.168138  [  121/  121]\n",
      "epoch: 110  loss: 0.142822  [  121/  121]\n",
      "epoch: 120  loss: 0.120089  [  121/  121]\n",
      "epoch: 130  loss: 0.104866  [  121/  121]\n",
      "epoch: 140  loss: 0.091943  [  121/  121]\n",
      "epoch: 150  loss: 0.081120  [  121/  121]\n",
      "epoch: 160  loss: 0.073584  [  121/  121]\n",
      "epoch: 170  loss: 0.099806  [  121/  121]\n",
      "epoch: 180  loss: 0.066398  [  121/  121]\n",
      "epoch: 190  loss: 0.056061  [  121/  121]\n",
      "epoch: 200  loss: 0.052221  [  121/  121]\n",
      "epoch: 210  loss: 0.048464  [  121/  121]\n",
      "epoch: 220  loss: 0.045567  [  121/  121]\n",
      "epoch: 230  loss: 0.042470  [  121/  121]\n",
      "epoch: 240  loss: 0.039979  [  121/  121]\n",
      "epoch: 250  loss: 0.043564  [  121/  121]\n",
      "epoch: 260  loss: 0.244164  [  121/  121]\n",
      "epoch: 270  loss: 0.182787  [  121/  121]\n",
      "epoch: 280  loss: 0.071135  [  121/  121]\n",
      "epoch: 290  loss: 0.067825  [  121/  121]\n",
      "epoch: 300  loss: 0.048521  [  121/  121]\n",
      "epoch: 310  loss: 0.043051  [  121/  121]\n",
      "epoch: 320  loss: 0.041442  [  121/  121]\n",
      "epoch: 330  loss: 0.039111  [  121/  121]\n",
      "epoch: 340  loss: 0.037572  [  121/  121]\n",
      "epoch: 350  loss: 0.036233  [  121/  121]\n",
      "epoch: 360  loss: 0.034928  [  121/  121]\n",
      "epoch: 370  loss: 0.033752  [  121/  121]\n",
      "epoch: 380  loss: 0.032660  [  121/  121]\n",
      "epoch: 390  loss: 0.031613  [  121/  121]\n",
      "epoch: 400  loss: 0.030464  [  121/  121]\n",
      "epoch: 410  loss: 0.028894  [  121/  121]\n",
      "epoch: 420  loss: 0.027935  [  121/  121]\n",
      "epoch: 430  loss: 0.027063  [  121/  121]\n",
      "epoch: 440  loss: 0.026243  [  121/  121]\n",
      "epoch: 450  loss: 0.025457  [  121/  121]\n",
      "epoch: 460  loss: 0.024701  [  121/  121]\n",
      "epoch: 470  loss: 0.023975  [  121/  121]\n",
      "epoch: 480  loss: 0.023275  [  121/  121]\n",
      "epoch: 490  loss: 0.022603  [  121/  121]\n",
      "epoch: 0  loss: 1.100084  [  121/  121]\n",
      "epoch: 10  loss: 0.977189  [  121/  121]\n",
      "epoch: 20  loss: 0.874398  [  121/  121]\n",
      "epoch: 30  loss: 0.764770  [  121/  121]\n",
      "epoch: 40  loss: 0.643516  [  121/  121]\n",
      "epoch: 50  loss: 0.499298  [  121/  121]\n",
      "epoch: 60  loss: 0.343896  [  121/  121]\n",
      "epoch: 70  loss: 0.229457  [  121/  121]\n",
      "epoch: 80  loss: 0.157098  [  121/  121]\n",
      "epoch: 90  loss: 0.120436  [  121/  121]\n",
      "epoch: 100  loss: 0.103236  [  121/  121]\n",
      "epoch: 110  loss: 0.096069  [  121/  121]\n",
      "epoch: 120  loss: 0.087666  [  121/  121]\n",
      "epoch: 130  loss: 0.070967  [  121/  121]\n",
      "epoch: 140  loss: 0.066087  [  121/  121]\n",
      "epoch: 150  loss: 0.060721  [  121/  121]\n",
      "epoch: 160  loss: 0.056299  [  121/  121]\n",
      "epoch: 170  loss: 0.053102  [  121/  121]\n",
      "epoch: 180  loss: 0.082276  [  121/  121]\n",
      "epoch: 190  loss: 0.069885  [  121/  121]\n",
      "epoch: 200  loss: 0.054170  [  121/  121]\n",
      "epoch: 210  loss: 0.044906  [  121/  121]\n",
      "epoch: 220  loss: 0.041313  [  121/  121]\n",
      "epoch: 230  loss: 0.039140  [  121/  121]\n",
      "epoch: 240  loss: 0.037231  [  121/  121]\n",
      "epoch: 250  loss: 0.035429  [  121/  121]\n",
      "epoch: 260  loss: 0.033746  [  121/  121]\n",
      "epoch: 270  loss: 0.032145  [  121/  121]\n",
      "epoch: 280  loss: 0.030622  [  121/  121]\n",
      "epoch: 290  loss: 0.029195  [  121/  121]\n",
      "epoch: 300  loss: 0.027836  [  121/  121]\n",
      "epoch: 310  loss: 0.026552  [  121/  121]\n",
      "epoch: 320  loss: 0.025333  [  121/  121]\n",
      "epoch: 330  loss: 0.024174  [  121/  121]\n",
      "epoch: 340  loss: 0.023074  [  121/  121]\n",
      "epoch: 350  loss: 0.022026  [  121/  121]\n",
      "epoch: 360  loss: 0.021033  [  121/  121]\n",
      "epoch: 370  loss: 0.020090  [  121/  121]\n",
      "epoch: 380  loss: 0.019189  [  121/  121]\n",
      "epoch: 390  loss: 0.018332  [  121/  121]\n",
      "epoch: 400  loss: 0.017517  [  121/  121]\n",
      "epoch: 410  loss: 0.016741  [  121/  121]\n",
      "epoch: 420  loss: 0.016001  [  121/  121]\n",
      "epoch: 430  loss: 0.015317  [  121/  121]\n",
      "epoch: 440  loss: 0.014778  [  121/  121]\n",
      "epoch: 450  loss: 0.051655  [  121/  121]\n",
      "epoch: 460  loss: 0.323923  [  121/  121]\n",
      "epoch: 470  loss: 0.120216  [  121/  121]\n",
      "epoch: 480  loss: 0.069306  [  121/  121]\n",
      "epoch: 490  loss: 0.040161  [  121/  121]\n",
      "epoch: 0  loss: 1.091947  [  121/  121]\n",
      "epoch: 10  loss: 0.971886  [  121/  121]\n",
      "epoch: 20  loss: 0.888528  [  121/  121]\n",
      "epoch: 30  loss: 0.783501  [  121/  121]\n",
      "epoch: 40  loss: 0.683807  [  121/  121]\n",
      "epoch: 50  loss: 0.479926  [  121/  121]\n",
      "epoch: 60  loss: 0.324914  [  121/  121]\n",
      "epoch: 70  loss: 0.212313  [  121/  121]\n",
      "epoch: 80  loss: 0.147929  [  121/  121]\n",
      "epoch: 90  loss: 0.115587  [  121/  121]\n",
      "epoch: 100  loss: 0.094205  [  121/  121]\n",
      "epoch: 110  loss: 0.078812  [  121/  121]\n",
      "epoch: 120  loss: 0.068840  [  121/  121]\n",
      "epoch: 130  loss: 0.077526  [  121/  121]\n",
      "epoch: 140  loss: 0.055770  [  121/  121]\n",
      "epoch: 150  loss: 0.053017  [  121/  121]\n",
      "epoch: 160  loss: 0.048471  [  121/  121]\n",
      "epoch: 170  loss: 0.045223  [  121/  121]\n",
      "epoch: 180  loss: 0.053117  [  121/  121]\n",
      "epoch: 190  loss: 0.043234  [  121/  121]\n",
      "epoch: 200  loss: 0.038773  [  121/  121]\n",
      "epoch: 210  loss: 0.036805  [  121/  121]\n",
      "epoch: 220  loss: 0.031703  [  121/  121]\n",
      "epoch: 230  loss: 0.030024  [  121/  121]\n",
      "epoch: 240  loss: 0.805569  [  121/  121]\n",
      "epoch: 250  loss: 0.157544  [  121/  121]\n",
      "epoch: 260  loss: 0.061806  [  121/  121]\n",
      "epoch: 270  loss: 0.038835  [  121/  121]\n",
      "epoch: 280  loss: 0.034423  [  121/  121]\n",
      "epoch: 290  loss: 0.029727  [  121/  121]\n",
      "epoch: 300  loss: 0.026960  [  121/  121]\n",
      "epoch: 310  loss: 0.025629  [  121/  121]\n",
      "epoch: 320  loss: 0.024697  [  121/  121]\n",
      "epoch: 330  loss: 0.023815  [  121/  121]\n",
      "epoch: 340  loss: 0.023018  [  121/  121]\n",
      "epoch: 350  loss: 0.022251  [  121/  121]\n",
      "epoch: 360  loss: 0.021519  [  121/  121]\n",
      "epoch: 370  loss: 0.020813  [  121/  121]\n",
      "epoch: 380  loss: 0.020136  [  121/  121]\n",
      "epoch: 390  loss: 0.019485  [  121/  121]\n",
      "epoch: 400  loss: 0.018857  [  121/  121]\n",
      "epoch: 410  loss: 0.018251  [  121/  121]\n",
      "epoch: 420  loss: 0.017667  [  121/  121]\n",
      "epoch: 430  loss: 0.017105  [  121/  121]\n",
      "epoch: 440  loss: 0.016563  [  121/  121]\n",
      "epoch: 450  loss: 0.016041  [  121/  121]\n",
      "epoch: 460  loss: 0.015537  [  121/  121]\n",
      "epoch: 470  loss: 0.015050  [  121/  121]\n",
      "epoch: 480  loss: 0.014580  [  121/  121]\n",
      "epoch: 490  loss: 0.014127  [  121/  121]\n",
      "epoch: 0  loss: 1.101103  [  121/  121]\n",
      "epoch: 10  loss: 0.981867  [  121/  121]\n",
      "epoch: 20  loss: 0.885855  [  121/  121]\n",
      "epoch: 30  loss: 0.781352  [  121/  121]\n",
      "epoch: 40  loss: 0.652315  [  121/  121]\n",
      "epoch: 50  loss: 0.494612  [  121/  121]\n",
      "epoch: 60  loss: 0.392873  [  121/  121]\n",
      "epoch: 70  loss: 0.265814  [  121/  121]\n",
      "epoch: 80  loss: 0.199440  [  121/  121]\n",
      "epoch: 90  loss: 0.152059  [  121/  121]\n",
      "epoch: 100  loss: 0.122176  [  121/  121]\n",
      "epoch: 110  loss: 0.103314  [  121/  121]\n",
      "epoch: 120  loss: 0.089902  [  121/  121]\n",
      "epoch: 130  loss: 0.109632  [  121/  121]\n",
      "epoch: 140  loss: 0.078932  [  121/  121]\n",
      "epoch: 150  loss: 0.067214  [  121/  121]\n",
      "epoch: 160  loss: 0.059710  [  121/  121]\n",
      "epoch: 170  loss: 0.055072  [  121/  121]\n",
      "epoch: 180  loss: 0.056675  [  121/  121]\n",
      "epoch: 190  loss: 0.049333  [  121/  121]\n",
      "epoch: 200  loss: 0.045198  [  121/  121]\n",
      "epoch: 210  loss: 0.043144  [  121/  121]\n",
      "epoch: 220  loss: 0.040176  [  121/  121]\n",
      "epoch: 230  loss: 0.037473  [  121/  121]\n",
      "epoch: 240  loss: 0.035374  [  121/  121]\n",
      "epoch: 250  loss: 0.047745  [  121/  121]\n",
      "epoch: 260  loss: 0.122486  [  121/  121]\n",
      "epoch: 270  loss: 0.076069  [  121/  121]\n",
      "epoch: 280  loss: 0.051862  [  121/  121]\n",
      "epoch: 290  loss: 0.036644  [  121/  121]\n",
      "epoch: 300  loss: 0.029684  [  121/  121]\n",
      "epoch: 310  loss: 0.027736  [  121/  121]\n",
      "epoch: 320  loss: 0.026249  [  121/  121]\n",
      "epoch: 330  loss: 0.025122  [  121/  121]\n",
      "epoch: 340  loss: 0.024053  [  121/  121]\n",
      "epoch: 350  loss: 0.023140  [  121/  121]\n",
      "epoch: 360  loss: 0.022186  [  121/  121]\n",
      "epoch: 370  loss: 0.021366  [  121/  121]\n",
      "epoch: 380  loss: 0.020585  [  121/  121]\n",
      "epoch: 390  loss: 0.019841  [  121/  121]\n",
      "epoch: 400  loss: 0.019130  [  121/  121]\n",
      "epoch: 410  loss: 0.018450  [  121/  121]\n",
      "epoch: 420  loss: 0.017798  [  121/  121]\n",
      "epoch: 430  loss: 0.017173  [  121/  121]\n",
      "epoch: 440  loss: 0.016574  [  121/  121]\n",
      "epoch: 450  loss: 0.015999  [  121/  121]\n",
      "epoch: 460  loss: 0.015446  [  121/  121]\n",
      "epoch: 470  loss: 0.014893  [  121/  121]\n",
      "epoch: 480  loss: 0.014384  [  121/  121]\n",
      "epoch: 490  loss: 0.013891  [  121/  121]\n"
     ]
    },
    {
     "data": {
      "text/plain": [
       "{'fit_time': array([1.55418301, 1.56656456, 1.58683157, 1.5886507 , 1.58911562]),\n",
       " 'score_time': array([0.00511551, 0.00471425, 0.0049262 , 0.00490665, 0.00365758]),\n",
       " 'test_score': array([0.98434343, 0.99154443, 0.99833333, 0.995     , 1.        ])}"
      ]
     },
     "execution_count": 12,
     "metadata": {},
     "output_type": "execute_result"
    },
    {
     "name": "stderr",
     "output_type": "stream",
     "text": [
      "Bad pipe message: %s [b'\\xf7\\x02gkT_\\xaeo`\\x06\\x9c\\x13\\x91c\\x81K;\\xc2 \\x1d\\x96\\xedZ\\xf1\\x1e?\\xa41\\x06\\x817\\xefX\\x86@c(\\xf4\\xf2\\xc3\\xbb5FI*7\\xd2v\\xc0#*\\x00\\x08\\x13\\x02\\x13\\x03\\x13\\x01\\x00\\xff\\x01\\x00\\x00\\x8f\\x00\\x00\\x00\\x0e\\x00\\x0c\\x00\\x00\\t127.0.0.1\\x00\\x0b\\x00\\x04\\x03\\x00']\n",
      "Bad pipe message: %s [b'']\n",
      "Bad pipe message: %s [b\"\\xf5\\x13g:\\xf3\\x9b;g\\x9e\\x1a\\xaaS\\xc6X\\x8fk~\\xf3\\x00\\x00|\\xc0,\\xc00\\x00\\xa3\\x00\\x9f\\xcc\\xa9\\xcc\\xa8\\xcc\\xaa\\xc0\\xaf\\xc0\\xad\\xc0\\xa3\\xc0\\x9f\\xc0]\\xc0a\\xc0W\\xc0S\\xc0+\\xc0/\\x00\\xa2\\x00\\x9e\\xc0\\xae\\xc0\\xac\\xc0\\xa2\\xc0\\x9e\\xc0\\\\\\xc0`\\xc0V\\xc0R\\xc0$\\xc0(\\x00k\\x00j\\xc0#\\xc0'\\x00g\\x00@\\xc0\\n\\xc0\\x14\\x009\\x008\\xc0\\t\\xc0\\x13\\x003\\x002\\x00\\x9d\\xc0\\xa1\\xc0\\x9d\\xc0Q\\x00\\x9c\\xc0\\xa0\\xc0\\x9c\\xc0P\\x00=\\x00<\\x005\\x00/\\x00\\x9a\\x00\\x99\\xc0\\x07\\xc0\\x11\\x00\\x96\\x00\\x05\\x00\\xff\\x01\\x00\\x00j\\x00\\x00\\x00\\x0e\\x00\\x0c\\x00\\x00\"]\n",
      "Bad pipe message: %s [b'\\xce\\xa8%o\\xdfCH\\xef\"-\\x0b\\x828\\x81\\xe4A\\x00\\r\\x00\\x00\\xa6\\xc0,\\xc00\\x00\\xa3\\x00\\x9f\\xcc\\xa9\\xcc\\xa8\\xcc\\xaa\\xc0\\xaf\\xc0\\xad\\xc0\\xa3\\xc0\\x9f\\xc0]\\xc0a\\xc0W\\xc0S\\xc0+\\xc0/\\x00\\xa2\\x00\\x9e\\xc0\\xae', b\"\\xc0\\xa2\\xc0\\x9e\\xc0\\\\\\xc0`\\xc0V\\xc0R\\xc0$\\xc0(\\x00k\\x00j\\xc0s\\xc0w\\x00\\xc4\\x00\\xc3\\xc0#\\xc0'\\x00g\\x00@\\xc0r\\xc0v\\x00\\xbe\\x00\\xbd\\xc0\\n\\xc0\\x14\\x009\\x008\\x00\\x88\\x00\\x87\\xc0\\t\\xc0\\x13\\x003\\x002\\x00\\x9a\\x00\\x99\\x00E\\x00D\\xc0\\x07\\xc0\\x11\\xc0\\x08\\xc0\\x12\\x00\\x16\\x00\\x13\\x00\\x9d\\xc0\\xa1\\xc0\\x9d\\xc0Q\\x00\\x9c\\xc0\\xa0\\xc0\\x9c\\xc0P\\x00=\\x00\\xc0\\x00<\\x00\\xba\\x005\\x00\\x84\\x00/\\x00\\x96\\x00A\\x00\\x05\\x00\\n\\x00\\xff\\x01\\x00\\x00j\\x00\\x00\\x00\\x0e\\x00\\x0c\\x00\\x00\\t127.0.0.1\\x00\\x0b\\x00\\x04\\x03\\x00\\x01\\x02\\x00\\n\\x00\\x0c\\x00\\n\\x00\\x1d\\x00\\x17\\x00\\x1e\\x00\\x19\\x00\\x18\\x00#\\x00\\x00\\x00\\x16\\x00\\x00\\x00\\x17\\x00\\x00\\x00\\r\\x000\\x00.\\x04\\x03\\x05\"]\n",
      "Bad pipe message: %s [b'\\x03\\x08']\n",
      "Bad pipe message: %s [b'\\x08\\x08\\t\\x08\\n\\x08']\n",
      "Bad pipe message: %s [b'\\xa3\\x1au\\xeb\\xcf\\xcfhV\\xe03f\\xbd`\\x9e\\xde\\xcf*\\x14\\x00\\x00>\\xc0\\x14\\xc0\\n\\x009\\x008\\x007\\x006\\xc0\\x0f\\xc0\\x05\\x005\\xc0\\x13\\xc0\\t\\x003\\x002\\x001\\x000\\xc0\\x0e\\xc0\\x04\\x00/\\x00\\x9a\\x00\\x99\\x00\\x98\\x00\\x97\\x00\\x96\\x00\\x07\\xc0\\x11\\xc0\\x07\\xc0\\x0c\\xc0\\x02\\x00\\x05\\x00\\x04\\x00\\xff\\x02\\x01\\x00\\x00C\\x00\\x00\\x00']\n",
      "Bad pipe message: %s [b'-J2\\xbd']\n",
      "Bad pipe message: %s [b'\\x04\\x08\\x05\\x08\\x06\\x04\\x01\\x05\\x01\\x06']\n",
      "Bad pipe message: %s [b'\\x0c\\x00\\x00\\t127.0.0.1']\n",
      "Bad pipe message: %s [b'', b'\\x03\\x03']\n",
      "Bad pipe message: %s [b'\\xa006\\xb3qt~\\xd7\\xc2)\\xc1\\xa1\\xfa#\\x10S\\xce0\\x00\\x00\\xa2\\xc0\\x14\\xc0\\n\\x009\\x008\\x007\\x006\\x00\\x88\\x00\\x87\\x00\\x86\\x00\\x85\\xc0\\x19\\x00:\\x00\\x89\\xc0\\x0f\\xc0\\x05\\x005\\x00\\x84\\xc0\\x13\\xc0\\t\\x003\\x002\\x001\\x000\\x00\\x9a\\x00\\x99\\x00\\x98\\x00\\x97\\x00E\\x00D\\x00C\\x00B\\xc0\\x18\\x004\\x00\\x9b\\x00F\\xc0\\x0e\\xc0\\x04\\x00/\\x00\\x96\\x00A\\x00\\x07\\xc0\\x11\\xc0\\x07\\xc0\\x16\\x00\\x18\\xc0\\x0c\\xc0\\x02\\x00\\x05\\x00\\x04\\xc0\\x12\\xc0\\x08\\x00\\x16\\x00\\x13\\x00\\x10\\x00\\r\\xc0\\x17\\x00\\x1b\\xc0\\r\\xc0\\x03\\x00\\n\\x00\\x15\\x00\\x12\\x00\\x0f\\x00\\x0c\\x00\\x1a\\x00\\t\\x00\\x14\\x00\\x11\\x00\\x19\\x00\\x08\\x00\\x06\\x00\\x17\\x00\\x03\\xc0\\x10\\xc0\\x06\\xc0\\x15\\xc0\\x0b\\xc0\\x01\\x00\\x02\\x00\\x01\\x00\\xff\\x02\\x01\\x00\\x00C\\x00\\x00\\x00\\x0e\\x00\\x0c\\x00\\x00\\t127.0.0.1\\x00\\x0b\\x00\\x04\\x03\\x00\\x01\\x02\\x00\\n\\x00\\x1c\\x00\\x1a\\x00\\x17\\x00\\x19\\x00\\x1c\\x00\\x1b\\x00\\x18\\x00\\x1a\\x00\\x16\\x00\\x0e\\x00\\r\\x00\\x0b\\x00\\x0c\\x00\\t\\x00', b'#\\x00\\x00\\x00\\x0f\\x00\\x01\\x01\\x15']\n",
      "Bad pipe message: %s [b'']\n",
      "Bad pipe message: %s [b'', b'\\x02']\n",
      "Bad pipe message: %s [b'\\x05\\x02\\x06']\n",
      "Bad pipe message: %s [b\"T/\\x0bq*\\x9d\\xb0\\x84L\\xae`\\xc1\\x12\\xb2r\\xae\\x8c\\x90\\x00\\x00\\x86\\xc00\\xc0,\\xc0(\\xc0$\\xc0\\x14\\xc0\\n\\x00\\xa5\\x00\\xa3\\x00\\xa1\\x00\\x9f\\x00k\\x00j\\x00i\\x00h\\x009\\x008\\x007\\x006\\xc02\\xc0.\\xc0*\\xc0&\\xc0\\x0f\\xc0\\x05\\x00\\x9d\\x00=\\x005\\xc0/\\xc0+\\xc0'\\xc0#\\xc0\\x13\\xc0\\t\\x00\\xa4\\x00\\xa2\\x00\\xa0\\x00\\x9e\\x00g\\x00@\\x00?\\x00>\\x003\\x002\\x001\\x000\\xc01\\xc0-\\xc0)\\xc0%\\xc0\\x0e\\xc0\\x04\\x00\\x9c\\x00<\\x00/\\x00\\x9a\\x00\\x99\\x00\\x98\\x00\\x97\\x00\\x96\\x00\\x07\\xc0\\x11\\xc0\\x07\\xc0\\x0c\\xc0\\x02\\x00\\x05\\x00\\x04\\x00\\xff\\x02\\x01\\x00\\x00g\\x00\\x00\\x00\\x0e\\x00\\x0c\\x00\\x00\\t127.0.\", b'1\\x00\\x0b\\x00\\x04\\x03\\x00\\x01\\x02\\x00\\n\\x00\\x1c\\x00\\x1a\\x00\\x17\\x00\\x19\\x00\\x1c\\x00\\x1b\\x00\\x18\\x00\\x1a\\x00\\x16\\x00\\x0e\\x00\\r\\x00\\x0b\\x00\\x0c\\x00\\t\\x00\\n\\x00#\\x00\\x00\\x00\\r']\n",
      "Bad pipe message: %s [b\"\\n~\\xa0\\x0b\\x02{\\xb0@\\xbb\\x9f4\\xad\\xed\\n\\x9e5\\x9c\\x03\\x00\\x00\\xf4\\xc00\\xc0,\\xc0(\\xc0$\\xc0\\x14\\xc0\\n\\x00\\xa5\\x00\\xa3\\x00\\xa1\\x00\\x9f\\x00k\\x00j\\x00i\\x00h\\x009\\x008\\x007\\x006\\x00\\x88\\x00\\x87\\x00\\x86\\x00\\x85\\xc0\\x19\\x00\\xa7\\x00m\\x00:\\x00\\x89\\xc02\\xc0.\\xc0*\\xc0&\\xc0\\x0f\\xc0\\x05\\x00\\x9d\\x00=\\x005\\x00\\x84\\xc0/\\xc0+\\xc0'\\xc0#\\xc0\\x13\\xc0\\t\\x00\\xa4\\x00\\xa2\\x00\\xa0\\x00\\x9e\\x00g\\x00@\\x00?\\x00>\\x003\\x002\\x001\\x000\\x00\\x9a\\x00\\x99\\x00\\x98\\x00\\x97\\x00E\\x00D\\x00C\\x00B\\xc0\\x18\\x00\\xa6\\x00l\\x004\\x00\\x9b\\x00F\\xc01\\xc0-\\xc0)\\xc0%\\xc0\\x0e\\xc0\"]\n",
      "Bad pipe message: %s [b'\\x9c\\x00<']\n"
     ]
    }
   ],
   "source": [
    "cross_validate(mlp, df[['ID']], df['class'], scoring=\"roc_auc_ovr\", cv=StratifiedKFold(shuffle=True))"
   ]
  },
  {
   "cell_type": "code",
   "execution_count": 67,
   "id": "4d1b242d-1551-44be-bd80-1c36bbc7a852",
   "metadata": {},
   "outputs": [],
   "source": [
    "y_pred = mlp.predict(ss.transform(np.arange(1, 150).reshape(-1, 1)))"
   ]
  },
  {
   "cell_type": "code",
   "execution_count": 68,
   "id": "372bbdcc-7a85-40a5-b8f3-e08fd421f195",
   "metadata": {},
   "outputs": [
    {
     "data": {
      "text/plain": [
       "[<matplotlib.lines.Line2D at 0x7f5f1727d0d0>]"
      ]
     },
     "execution_count": 68,
     "metadata": {},
     "output_type": "execute_result"
    },
    {
     "data": {
      "image/png": "[encoded data removed]",
      "text/plain": [
       "<Figure size 640x480 with 1 Axes>"
      ]
     },
     "metadata": {},
     "output_type": "display_data"
    }
   ],
   "source": [
    "plt.plot(np.arange(1, 150), y_pred, '.')"
   ]
  },
  {
   "cell_type": "code",
   "execution_count": 69,
   "id": "37e33c10-e328-40f5-9fb1-7de84eaebc6b",
   "metadata": {},
   "outputs": [
    {
     "data": {
      "text/plain": [
       "0.8947368421052632"
      ]
     },
     "execution_count": 69,
     "metadata": {},
     "output_type": "execute_result"
    }
   ],
   "source": [
    "mlp.score(ss.transform(np.array(X_test)), np.array(y_test))"
   ]
  },
  {
   "cell_type": "code",
   "execution_count": 80,
   "id": "e40977f9-d889-4579-883b-70cfb7cb9ddb",
   "metadata": {},
   "outputs": [
    {
     "data": {
      "text/plain": [
       "{'fit_time': array([ 2.17620206, 49.82601023, 28.03628302,  1.09983492, 26.61671162]),\n",
       " 'score_time': array([0.00947595, 0.05743575, 0.02425075, 0.05313778, 0.02742648]),\n",
       " 'test_score': array([0.52662338, 0.82574998, 0.53666667, 0.56      , 0.59333333])}"
      ]
     },
     "execution_count": 80,
     "metadata": {},
     "output_type": "execute_result"
    }
   ],
   "source": [
    "\n",
    "from sklearn.neural_network import MLPClassifier\n",
    "cross_validate(MLPClassifier(max_iter=1000), df[['ID']], df['class'], scoring=\"roc_auc_ovr\", cv=StratifiedKFold(shuffle=True))"
   ]
  },
  {
   "cell_type": "code",
   "execution_count": 11,
   "id": "07d5cee4-9cf0-46c0-bd40-07918ef71e56",
   "metadata": {},
   "outputs": [],
   "source": [
    "rf = RandomForestClassifier().fit(df.drop(columns=['class']), df['class'])"
   ]
  },
  {
   "cell_type": "code",
   "execution_count": 13,
   "id": "9954a5e7-136c-4a1e-85a3-102f858668b6",
   "metadata": {},
   "outputs": [
    {
     "data": {
      "text/plain": [
       "array([0.38945766, 0.05512015, 0.14804687, 0.17688677, 0.03810861,\n",
       "       0.19237994])"
      ]
     },
     "execution_count": 13,
     "metadata": {},
     "output_type": "execute_result"
    }
   ],
   "source": [
    "rf.feature_importances_"
   ]
  },
  {
   "cell_type": "code",
   "execution_count": null,
   "id": "a24410b2-d88d-4bb3-b252-7f8e829e85f6",
   "metadata": {},
   "outputs": [],
   "source": [
    "cross_validate((), df.drop(columns=['class']), df['class'], scoring=\"roc_auc_ovr\", cv=StratifiedKFold(shuffle=True))"
   ]
  },
  {
   "cell_type": "code",
   "execution_count": 16,
   "id": "a9f8ab7f-0200-4214-89a8-8bebb8dc391a",
   "metadata": {},
   "outputs": [],
   "source": [
    "import openml\n",
    "did = 1115\n",
    "dataset = openml.datasets.get_dataset(did)\n",
    "X, y, categorical_indicator, attribute_names = dataset.get_data(target=dataset.default_target_attribute\n",
    "    )"
   ]
  },
  {
   "cell_type": "code",
   "execution_count": 17,
   "id": "2cab32a5-b1b4-4f73-83fb-e9ba4146033d",
   "metadata": {},
   "outputs": [],
   "source": [
    "dataset.ignore_attribute"
   ]
  },
  {
   "cell_type": "code",
   "execution_count": 21,
   "id": "bfe41d1e-8cb8-46f8-9df2-0c7b0ff2a635",
   "metadata": {},
   "outputs": [
    {
     "data": {
      "text/plain": [
       "<AxesSubplot:xlabel='ID'>"
      ]
     },
     "execution_count": 21,
     "metadata": {},
     "output_type": "execute_result"
    },
    {
     "data": {
      "image/png": "[encoded data removed]",
      "text/plain": [
       "<Figure size 640x480 with 1 Axes>"
      ]
     },
     "metadata": {},
     "output_type": "display_data"
    }
   ],
   "source": [
    "df.astype(int).plot(x=\"ID\", y=\"class\")"
   ]
  },
  {
   "cell_type": "code",
   "execution_count": 68,
   "id": "c774fad1-3ee1-45aa-b958-6652516641cb",
   "metadata": {},
   "outputs": [],
   "source": [
    "from sklearn.preprocessing import OneHotEncoder\n",
    "ohe = OneHotEncoder(sparse=False).fit(X[['ID']])"
   ]
  },
  {
   "cell_type": "code",
   "execution_count": 64,
   "id": "410ef0f1-7cfc-474e-9880-24a3cf0e58c8",
   "metadata": {},
   "outputs": [
    {
     "data": {
      "text/html": [
       "<div>\n",
       "<style scoped>\n",
       "    .dataframe tbody tr th:only-of-type {\n",
       "        vertical-align: middle;\n",
       "    }\n",
       "\n",
       "    .dataframe tbody tr th {\n",
       "        vertical-align: top;\n",
       "    }\n",
       "\n",
       "    .dataframe thead th {\n",
       "        text-align: right;\n",
       "    }\n",
       "</style>\n",
       "<table border=\"1\" class=\"dataframe\">\n",
       "  <thead>\n",
       "    <tr style=\"text-align: right;\">\n",
       "      <th></th>\n",
       "      <th>ID</th>\n",
       "      <th>EnglishSepaker</th>\n",
       "      <th>courseInstructor</th>\n",
       "      <th>course</th>\n",
       "      <th>summer</th>\n",
       "      <th>classSize</th>\n",
       "    </tr>\n",
       "  </thead>\n",
       "  <tbody>\n",
       "    <tr>\n",
       "      <th>0</th>\n",
       "      <td>1</td>\n",
       "      <td>1</td>\n",
       "      <td>23</td>\n",
       "      <td>3</td>\n",
       "      <td>1</td>\n",
       "      <td>19</td>\n",
       "    </tr>\n",
       "    <tr>\n",
       "      <th>1</th>\n",
       "      <td>2</td>\n",
       "      <td>2</td>\n",
       "      <td>15</td>\n",
       "      <td>3</td>\n",
       "      <td>1</td>\n",
       "      <td>17</td>\n",
       "    </tr>\n",
       "    <tr>\n",
       "      <th>2</th>\n",
       "      <td>3</td>\n",
       "      <td>1</td>\n",
       "      <td>23</td>\n",
       "      <td>3</td>\n",
       "      <td>2</td>\n",
       "      <td>49</td>\n",
       "    </tr>\n",
       "    <tr>\n",
       "      <th>3</th>\n",
       "      <td>4</td>\n",
       "      <td>1</td>\n",
       "      <td>5</td>\n",
       "      <td>2</td>\n",
       "      <td>2</td>\n",
       "      <td>33</td>\n",
       "    </tr>\n",
       "    <tr>\n",
       "      <th>4</th>\n",
       "      <td>5</td>\n",
       "      <td>2</td>\n",
       "      <td>7</td>\n",
       "      <td>11</td>\n",
       "      <td>2</td>\n",
       "      <td>55</td>\n",
       "    </tr>\n",
       "    <tr>\n",
       "      <th>...</th>\n",
       "      <td>...</td>\n",
       "      <td>...</td>\n",
       "      <td>...</td>\n",
       "      <td>...</td>\n",
       "      <td>...</td>\n",
       "      <td>...</td>\n",
       "    </tr>\n",
       "    <tr>\n",
       "      <th>146</th>\n",
       "      <td>147</td>\n",
       "      <td>2</td>\n",
       "      <td>3</td>\n",
       "      <td>2</td>\n",
       "      <td>2</td>\n",
       "      <td>26</td>\n",
       "    </tr>\n",
       "    <tr>\n",
       "      <th>147</th>\n",
       "      <td>148</td>\n",
       "      <td>2</td>\n",
       "      <td>10</td>\n",
       "      <td>3</td>\n",
       "      <td>2</td>\n",
       "      <td>12</td>\n",
       "    </tr>\n",
       "    <tr>\n",
       "      <th>148</th>\n",
       "      <td>149</td>\n",
       "      <td>1</td>\n",
       "      <td>18</td>\n",
       "      <td>7</td>\n",
       "      <td>2</td>\n",
       "      <td>48</td>\n",
       "    </tr>\n",
       "    <tr>\n",
       "      <th>149</th>\n",
       "      <td>150</td>\n",
       "      <td>2</td>\n",
       "      <td>22</td>\n",
       "      <td>1</td>\n",
       "      <td>2</td>\n",
       "      <td>51</td>\n",
       "    </tr>\n",
       "    <tr>\n",
       "      <th>150</th>\n",
       "      <td>151</td>\n",
       "      <td>2</td>\n",
       "      <td>2</td>\n",
       "      <td>10</td>\n",
       "      <td>2</td>\n",
       "      <td>27</td>\n",
       "    </tr>\n",
       "  </tbody>\n",
       "</table>\n",
       "<p>151 rows × 6 columns</p>\n",
       "</div>"
      ],
      "text/plain": [
       "      ID EnglishSepaker courseInstructor course summer  classSize\n",
       "0      1              1               23      3      1         19\n",
       "1      2              2               15      3      1         17\n",
       "2      3              1               23      3      2         49\n",
       "3      4              1                5      2      2         33\n",
       "4      5              2                7     11      2         55\n",
       "..   ...            ...              ...    ...    ...        ...\n",
       "146  147              2                3      2      2         26\n",
       "147  148              2               10      3      2         12\n",
       "148  149              1               18      7      2         48\n",
       "149  150              2               22      1      2         51\n",
       "150  151              2                2     10      2         27\n",
       "\n",
       "[151 rows x 6 columns]"
      ]
     },
     "execution_count": 64,
     "metadata": {},
     "output_type": "execute_result"
    }
   ],
   "source": []
  },
  {
   "cell_type": "code",
   "execution_count": null,
   "id": "c57f805d-bd15-400c-8bd0-030f88dad2ec",
   "metadata": {},
   "outputs": [],
   "source": []
  }
 ],
 "metadata": {
  "kernelspec": {
   "display_name": "Python [conda env:tabpfn_testing_environment]",
   "language": "python",
   "name": "conda-env-tabpfn_testing_environment-py"
  },
  "language_info": {
   "codemirror_mode": {
    "name": "ipython",
    "version": 3
   },
   "file_extension": ".py",
   "mimetype": "text/x-python",
   "name": "python",
   "nbconvert_exporter": "python",
   "pygments_lexer": "ipython3",
   "version": "3.11.6"
  }
 },
 "nbformat": 4,
 "nbformat_minor": 5
}
