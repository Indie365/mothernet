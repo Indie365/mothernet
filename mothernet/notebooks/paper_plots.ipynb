{
 "cells": [
  {
   "cell_type": "code",
   "execution_count": null,
   "id": "3870516e-ad1c-4dce-bfb3-d07d0e0bb54d",
   "metadata": {},
   "outputs": [],
   "source": [
    "import pandas as pd\n",
    "import numpy as np\n",
    "\n",
    "from mothernet.evaluation.cd_plot_new.cd_plot_code import cd_evaluation\n",
    "import matplotlib.pyplot as plt\n",
    "import seaborn as sns\n",
    "import warnings\n",
    "\n",
    "varies_over_time = ['XGBoost', 'RF', 'MLP', 'KNN', 'LogReg']\n",
    "\n",
    "warnings.simplefilter(\"ignore\", FutureWarning)\n",
    "validation_result_file = \"results_validation_2024-02-27.csv\"\n",
    "test_result_file = None\n",
    "\n",
    "valid_results = pd.read_csv(validation_result_file, index_col=0)\n",
    "valid_results.model.unique()"
   ]
  },
  {
   "cell_type": "code",
   "execution_count": null,
   "id": "497f12fc-a1c1-4d87-9e81-5a7d557dfb34",
   "metadata": {},
   "outputs": [],
   "source": [
    "if test_result_file:\n",
    "    test_results = pd.read_csv(\"results_test_1213.csv\", index_col=0)\n",
    "    print(test_results.model.unique())\n",
    "    assert set(test_results.model.unique()) == set(valid_results.model.unique())"
   ]
  },
  {
   "cell_type": "code",
   "execution_count": null,
   "id": "b4619002-722e-4d5f-9a81-f8fd5753197c",
   "metadata": {},
   "outputs": [],
   "source": [
    "all_models = valid_results.model.unique()\n",
    "color_palette = sns.color_palette(n_colors=len(all_models))\n",
    "color_mapping = dict(zip(all_models, color_palette))"
   ]
  },
  {
   "cell_type": "code",
   "execution_count": null,
   "id": "69df651d-bfb4-4f4c-bac2-6551e3a97e2d",
   "metadata": {},
   "outputs": [],
   "source": [
    "def get_best_over_time(results):\n",
    "    average_over_splits = results.groupby([\"dataset\", \"model\", \"max_time\"])[[\"mean_metric\", \"fit_time\", \"inference_time\"]].mean().reset_index()\n",
    "    best_tuned = average_over_splits[average_over_splits.max_time == average_over_splits.max_time.max()]\n",
    "    untuned = average_over_splits[~average_over_splits.model.isin(best_tuned.model.unique())]\n",
    "    return pd.concat([best_tuned, untuned])"
   ]
  },
  {
   "cell_type": "code",
   "execution_count": null,
   "id": "9616bc22-94fa-4327-8894-d524fd3e3ea8",
   "metadata": {
    "tags": []
   },
   "outputs": [],
   "source": [
    "plt.figure(figsize=(8, 3), dpi=300)\n",
    "combined_best_valid = get_best_over_time(valid_results)\n",
    "pivoted_for_cd = combined_best_valid.pivot(index=\"dataset\", columns=\"model\", values=\"mean_metric\")\n",
    "_ = cd_evaluation(pivoted_for_cd, maximize_metric=True, ax=plt.gca())\n",
    "plt.savefig(\"../figures/cd_diagram_validation.pdf\", bbox_inches=\"tight\")"
   ]
  },
  {
   "cell_type": "code",
   "execution_count": null,
   "id": "09d554e1-1f7a-4178-9008-b79f0ef5f8b3",
   "metadata": {},
   "outputs": [],
   "source": [
    "if test_result_file:\n",
    "    plt.figure(figsize=(8, 3), dpi=300)\n",
    "    combined_best_test = get_best_over_time(test_results)\n",
    "    pivoted_for_cd = combined_best_test.pivot(index=\"dataset\", columns=\"model\", values=\"mean_metric\")\n",
    "    _ = cd_evaluation(pivoted_for_cd, maximize_metric=True, ax=plt.gca())\n",
    "    plt.savefig(\"../figures/cd_diagram_test.pdf\", bbox_inches=\"tight\")"
   ]
  },
  {
   "cell_type": "code",
   "execution_count": null,
   "id": "c38b5e70-7764-4f58-bcb6-5791539bbea5",
   "metadata": {},
   "outputs": [],
   "source": [
    "def compare_splits(results):\n",
    "    compare_splits_over_time = results.groupby([\"model\", \"split\", \"max_time\"])['mean_metric'].mean().reset_index()\n",
    "    compare_splits_varies = compare_splits_over_time[compare_splits_over_time.model.isin(varies_over_time)]\n",
    "    compare_splits_fixed = compare_splits_over_time[~compare_splits_over_time.model.isin(varies_over_time)]\n",
    "    compare_splits_varies_last = compare_splits_varies[compare_splits_varies.max_time == compare_splits_varies.max_time.max()]\n",
    "    return compare_splits_over_time, pd.concat([compare_splits_fixed, compare_splits_varies_last])"
   ]
  },
  {
   "cell_type": "code",
   "execution_count": null,
   "id": "8ee3e15b-9dc5-4edb-80e1-847db704fc63",
   "metadata": {},
   "outputs": [],
   "source": [
    "compare_splits_over_time_valid, compare_splits_valid = compare_splits(valid_results)\n",
    "if test_result_file:\n",
    "    compare_splits_over_time_test, compare_splits_test = compare_splits(test_results)"
   ]
  },
  {
   "cell_type": "code",
   "execution_count": null,
   "id": "e0336c60-cd89-4b0e-aa7a-7b973a7b8a5a",
   "metadata": {},
   "outputs": [],
   "source": [
    "plt.figure(figsize=(4, 3))\n",
    "order = compare_splits_valid.groupby(\"model\").median(\"mean_metric\").sort_values(\"mean_metric\").index\n",
    "sns.boxplot(data=compare_splits_valid, y=\"model\", x=\"mean_metric\", order=order, ax=plt.gca(), palette=color_mapping)\n",
    "plt.xlabel(\"Average ROC AUC\")\n",
    "plt.savefig(\"../figures/mean_roc_auc_validation.pdf\", dpi=300, bbox_inches=\"tight\")"
   ]
  },
  {
   "cell_type": "code",
   "execution_count": null,
   "id": "d9874537-8079-4f4f-a4bf-92dde64320ee",
   "metadata": {},
   "outputs": [],
   "source": [
    "if test_result_file:\n",
    "    plt.figure(figsize=(4, 3))\n",
    "    order = compare_splits_test.groupby(\"model\").median(\"mean_metric\").sort_values(\"mean_metric\").index\n",
    "    sns.boxplot(data=compare_splits_test, y=\"model\", x=\"mean_metric\", order=order, ax=plt.gca(), palette=color_mapping)\n",
    "    plt.xlabel(\"Average ROC AUC\")\n",
    "    plt.savefig(\"../figures/mean_roc_auc_test.pdf\", dpi=300, bbox_inches=\"tight\")"
   ]
  },
  {
   "cell_type": "code",
   "execution_count": null,
   "id": "77e9e562-bbd0-4900-9d2c-0799bd5d1b6f",
   "metadata": {},
   "outputs": [],
   "source": [
    "def normalize_metric(results):\n",
    "    dataset_min_max = results.groupby(\"dataset\").mean_metric.agg([\"min\", \"max\"])\n",
    "    results_normalized = results.merge(dataset_min_max, on=\"dataset\")\n",
    "    results_normalized['mean_metric'] = (results_normalized['mean_metric'] - results_normalized['min']) / (results_normalized['max'] - results_normalized['min'])\n",
    "    return results_normalized"
   ]
  },
  {
   "cell_type": "code",
   "execution_count": null,
   "id": "4c9b16f4-fc89-42d5-8866-5dbf486f2f79",
   "metadata": {},
   "outputs": [],
   "source": [
    "compare_splits_over_time_valid_normalized, compare_splits_valid_normalized = compare_splits(normalize_metric(valid_results))\n",
    "if test_result_file:\n",
    "    compare_splits_over_time_test_normalized, compare_splits_test_normalized = compare_splits(normalize_metric(test_results))"
   ]
  },
  {
   "cell_type": "code",
   "execution_count": null,
   "id": "0cea35a2-77b1-40b9-af6d-77798e896714",
   "metadata": {},
   "outputs": [],
   "source": [
    "if test_result_file:\n",
    "    plt.figure(figsize=(4, 3))\n",
    "    order = compare_splits_test_normalized.groupby(\"model\").median(\"mean_metric\").sort_values(\"mean_metric\").index\n",
    "    sns.boxplot(data=compare_splits_test_normalized, y=\"model\", x=\"mean_metric\", order=order, ax=plt.gca(), palette=color_mapping)\n",
    "    plt.xlabel(\"Average ROC AUC (normalized)\", loc=\"right\")\n",
    "    plt.savefig(\"../figures/mean_roc_auc_test_normalized.pdf\", dpi=300, bbox_inches=\"tight\")"
   ]
  },
  {
   "cell_type": "code",
   "execution_count": null,
   "id": "cbd7195f-8a2d-4300-8f2c-85600b905e4c",
   "metadata": {},
   "outputs": [],
   "source": [
    "plt.figure(figsize=(4, 3))\n",
    "order = compare_splits_valid_normalized.groupby(\"model\").median(\"mean_metric\").sort_values(\"mean_metric\").index\n",
    "sns.boxplot(data=compare_splits_valid_normalized, y=\"model\", x=\"mean_metric\", order=order, ax=plt.gca(), palette=color_mapping)\n",
    "plt.xlabel(\"Average ROC AUC (normalized)\", loc=\"right\")\n",
    "plt.savefig(\"../figures/mean_roc_auc_valid_normalized.pdf\", dpi=300, bbox_inches=\"tight\")"
   ]
  },
  {
   "cell_type": "code",
   "execution_count": null,
   "id": "26a4a8df-a287-495b-831a-fc04afe339fe",
   "metadata": {},
   "outputs": [],
   "source": [
    "plt.figure(figsize=(4, 3), dpi=300)\n",
    "\n",
    "compare_splits_varies = compare_splits_over_time_valid_normalized[compare_splits_over_time_valid_normalized.model.isin(varies_over_time)]\n",
    "compare_splits_fixed = compare_splits_over_time_valid_normalized[~compare_splits_over_time_valid_normalized.model.isin(varies_over_time)]\n",
    "\n",
    "\n",
    "ax = sns.lineplot(data=compare_splits_varies, x=\"max_time\", y=\"mean_metric\", hue=\"model\",  marker=\"o\", palette=color_mapping)\n",
    "\n",
    "compare_splits_fixed_dummy = compare_splits_over_time_valid_normalized.copy()\n",
    "compare_splits_fixed_dummy['max_time'] = compare_splits_varies.max_time.max()\n",
    "sns.lineplot(data=pd.concat([compare_splits_fixed, compare_splits_fixed_dummy]),\n",
    "              x=\"max_time\", y=\"mean_metric\", hue=\"model\", ax=ax, palette=color_mapping)\n",
    "plt.xscale(\"log\")\n",
    "#legend = plt.legend(loc=(1.1 , .3))\n",
    "legend = ax.get_legend()\n",
    "legend.remove()\n",
    "#ax.set_ylim(0.85, 0.90)\n",
    "ax.set_ylabel(\"mean ROC AUC\")\n",
    "ax.set_xlabel(\"max time (s)\")\n",
    "plt.savefig(\"../figures/mean_auc_over_time_valid_normalized.pdf\", bbox_inches=\"tight\")"
   ]
  },
  {
   "cell_type": "code",
   "execution_count": null,
   "id": "5783e2bb-875f-4ca9-875f-b455924b94a4",
   "metadata": {},
   "outputs": [],
   "source": []
  }
 ],
 "metadata": {
  "kernelspec": {
   "display_name": "Python [conda env:tabpfn_testing_environment]",
   "language": "python",
   "name": "conda-env-tabpfn_testing_environment-py"
  },
  "language_info": {
   "codemirror_mode": {
    "name": "ipython",
    "version": 3
   },
   "file_extension": ".py",
   "mimetype": "text/x-python",
   "name": "python",
   "nbconvert_exporter": "python",
   "pygments_lexer": "ipython3",
   "version": "3.11.6"
  }
 },
 "nbformat": 4,
 "nbformat_minor": 5
}
